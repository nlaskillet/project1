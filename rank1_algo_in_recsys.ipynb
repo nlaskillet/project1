{
  "cells": [
    {
      "cell_type": "markdown",
      "id": "c7af04bc",
      "metadata": {
        "id": "c7af04bc"
      },
      "source": [
        "# SVD в рекомендательных системах\n",
        "\n",
        "# Rank One алгоритм при добавлении нового пользователя/айтема"
      ]
    },
    {
      "cell_type": "code",
      "execution_count": 1,
      "id": "_7UJzb7JY0OG",
      "metadata": {
        "ExecuteTime": {
          "end_time": "2023-04-19T12:28:39.153730Z",
          "start_time": "2023-04-19T12:28:39.057747Z"
        },
        "colab": {
          "base_uri": "https://localhost:8080/"
        },
        "id": "_7UJzb7JY0OG",
        "outputId": "c5d5e294-9803-41de-d3fc-f1da74340bbc"
      },
      "outputs": [
        {
          "output_type": "stream",
          "name": "stdout",
          "text": [
            "Collecting animus\n",
            "  Downloading animus-0.0.2-py2.py3-none-any.whl (14 kB)\n",
            "Installing collected packages: animus\n",
            "Successfully installed animus-0.0.2\n"
          ]
        }
      ],
      "source": [
        "!pip install animus"
      ]
    },
    {
      "cell_type": "code",
      "execution_count": 2,
      "id": "f17f03f3-e355-46cf-84c0-13af9796d297",
      "metadata": {
        "ExecuteTime": {
          "end_time": "2023-04-19T13:28:36.394744Z",
          "start_time": "2023-04-19T13:28:35.905330Z"
        },
        "id": "f17f03f3-e355-46cf-84c0-13af9796d297"
      },
      "outputs": [],
      "source": [
        "from abc import ABC, abstractmethod\n",
        "from collections import defaultdict\n",
        "from dataclasses import dataclass, field\n",
        "from pprint import pprint\n",
        "from typing import Any, Callable, Iterable, NamedTuple, Set, Tuple, Union\n",
        "\n",
        "import matplotlib.pyplot as plt\n",
        "import numpy as np\n",
        "import pandas as pd\n",
        "import scipy.sparse as sps\n",
        "import seaborn as sns\n",
        "import torch\n",
        "from animus import ICallback, IExperiment\n",
        "from torch.utils.data import DataLoader, Dataset\n",
        "from tqdm import tqdm\n",
        "\n",
        "sns.set(rc={\"figure.figsize\": (15, 5)})"
      ]
    },
    {
      "cell_type": "code",
      "execution_count": 3,
      "id": "85559d91",
      "metadata": {
        "ExecuteTime": {
          "end_time": "2023-04-19T13:28:37.239109Z",
          "start_time": "2023-04-19T13:28:37.221403Z"
        },
        "id": "85559d91"
      },
      "outputs": [],
      "source": [
        "import multiprocessing\n",
        "import os\n",
        "\n",
        "os.environ[\"OMP_NUM_THREADS\"] = \"1\"\n",
        "multiprocessing.set_start_method(\"fork\")"
      ]
    },
    {
      "cell_type": "markdown",
      "id": "a77a14e7-4c22-4073-84cb-06607e73e413",
      "metadata": {
        "id": "a77a14e7-4c22-4073-84cb-06607e73e413"
      },
      "source": [
        "## 1. Скачиваем данные\n",
        "\n",
        "Взяли датасет MovieLens 10M. Это один из самых известных датасетов для исследования рекомендательных моделей. Достаточно много данных и в открытом доступе. Идеально для экспериментов\n",
        "\n",
        "Признаки:\n",
        "- `user` - пользователь сервиса\n",
        "- `item` - id фильмов на сервисе\n",
        "- рейтинг `user` для `item`. Рейтинг — explicit величина, которая принимает значения от 0 до 5\n",
        "- метадата для фильмов"
      ]
    },
    {
      "cell_type": "code",
      "execution_count": 4,
      "id": "4ee473ef-a62f-41a9-9b5d-fcb38de953f0",
      "metadata": {
        "ExecuteTime": {
          "end_time": "2023-04-19T13:28:39.411888Z",
          "start_time": "2023-04-19T13:28:39.401091Z"
        },
        "colab": {
          "base_uri": "https://localhost:8080/"
        },
        "id": "4ee473ef-a62f-41a9-9b5d-fcb38de953f0",
        "outputId": "a3f6dc01-fc04-4ea2-b604-ba5f3b57c873"
      },
      "outputs": [
        {
          "output_type": "stream",
          "name": "stdout",
          "text": [
            "--2023-10-29 09:12:01--  https://files.grouplens.org/datasets/movielens/ml-10m.zip\n",
            "Resolving files.grouplens.org (files.grouplens.org)... 128.101.65.152\n",
            "Connecting to files.grouplens.org (files.grouplens.org)|128.101.65.152|:443... connected.\n",
            "HTTP request sent, awaiting response... 200 OK\n",
            "Length: 65566137 (63M) [application/zip]\n",
            "Saving to: ‘ml-10m.zip’\n",
            "\n",
            "ml-10m.zip          100%[===================>]  62.53M  14.5MB/s    in 5.1s    \n",
            "\n",
            "2023-10-29 09:12:08 (12.2 MB/s) - ‘ml-10m.zip’ saved [65566137/65566137]\n",
            "\n",
            "Archive:  ml-10m.zip\n",
            "   creating: data/ml-10M100K/\n",
            "  inflating: data/ml-10M100K/allbut.pl  \n",
            "  inflating: data/ml-10M100K/movies.dat  \n",
            "  inflating: data/ml-10M100K/ratings.dat  \n",
            "  inflating: data/ml-10M100K/README.html  \n",
            "  inflating: data/ml-10M100K/split_ratings.sh  \n",
            "  inflating: data/ml-10M100K/tags.dat  \n"
          ]
        }
      ],
      "source": [
        "!wget https://files.grouplens.org/datasets/movielens/ml-10m.zip\n",
        "!unzip -uo ml-10m.zip -d data\n",
        "# Приведем к формату csv ratings\n",
        "!awk 'BEGIN { print \"user,item,values,timestamp\" } { gsub(/::/, \",\", $0); print $0 }' data/ml-10M100K/ratings.dat > data/ml-10M100K/ratings.csv\n",
        "# Приведем к формату csv movies\n",
        "!awk 'BEGIN { print \"item,title,genres\" } { gsub(/::/, \",\", $0); print $0 }' data/ml-10M100K/movies.dat > data/ml-10M100K/movies.csv"
      ]
    },
    {
      "cell_type": "markdown",
      "id": "8155de5c-b223-426b-9c45-23559363a949",
      "metadata": {
        "id": "8155de5c-b223-426b-9c45-23559363a949"
      },
      "source": [
        "## 2. Смотрим на данные"
      ]
    },
    {
      "cell_type": "code",
      "execution_count": 5,
      "id": "740b68db-9281-4aca-be02-4cd2c107f302",
      "metadata": {
        "ExecuteTime": {
          "end_time": "2023-04-19T13:28:43.647570Z",
          "start_time": "2023-04-19T13:28:42.002304Z"
        },
        "colab": {
          "base_uri": "https://localhost:8080/",
          "height": 175
        },
        "id": "740b68db-9281-4aca-be02-4cd2c107f302",
        "outputId": "ccef7462-40f5-4602-b38f-88cc04747b56"
      },
      "outputs": [
        {
          "output_type": "execute_result",
          "data": {
            "text/plain": [
              "                             0                    1                    2  \\\n",
              "user                         1                    1                    1   \n",
              "item                       122                  185                  231   \n",
              "values                     5.0                  5.0                  5.0   \n",
              "timestamp  1996-08-02 11:24:06  1996-08-02 10:58:45  1996-08-02 10:56:32   \n",
              "\n",
              "                             3                    4  \n",
              "user                         1                    1  \n",
              "item                       292                  316  \n",
              "values                     5.0                  5.0  \n",
              "timestamp  1996-08-02 10:57:01  1996-08-02 10:56:32  "
            ],
            "text/html": [
              "\n",
              "  <div id=\"df-a8f26e4d-cea7-4b2c-b9a5-491407daaf17\" class=\"colab-df-container\">\n",
              "    <div>\n",
              "<style scoped>\n",
              "    .dataframe tbody tr th:only-of-type {\n",
              "        vertical-align: middle;\n",
              "    }\n",
              "\n",
              "    .dataframe tbody tr th {\n",
              "        vertical-align: top;\n",
              "    }\n",
              "\n",
              "    .dataframe thead th {\n",
              "        text-align: right;\n",
              "    }\n",
              "</style>\n",
              "<table border=\"1\" class=\"dataframe\">\n",
              "  <thead>\n",
              "    <tr style=\"text-align: right;\">\n",
              "      <th></th>\n",
              "      <th>0</th>\n",
              "      <th>1</th>\n",
              "      <th>2</th>\n",
              "      <th>3</th>\n",
              "      <th>4</th>\n",
              "    </tr>\n",
              "  </thead>\n",
              "  <tbody>\n",
              "    <tr>\n",
              "      <th>user</th>\n",
              "      <td>1</td>\n",
              "      <td>1</td>\n",
              "      <td>1</td>\n",
              "      <td>1</td>\n",
              "      <td>1</td>\n",
              "    </tr>\n",
              "    <tr>\n",
              "      <th>item</th>\n",
              "      <td>122</td>\n",
              "      <td>185</td>\n",
              "      <td>231</td>\n",
              "      <td>292</td>\n",
              "      <td>316</td>\n",
              "    </tr>\n",
              "    <tr>\n",
              "      <th>values</th>\n",
              "      <td>5.0</td>\n",
              "      <td>5.0</td>\n",
              "      <td>5.0</td>\n",
              "      <td>5.0</td>\n",
              "      <td>5.0</td>\n",
              "    </tr>\n",
              "    <tr>\n",
              "      <th>timestamp</th>\n",
              "      <td>1996-08-02 11:24:06</td>\n",
              "      <td>1996-08-02 10:58:45</td>\n",
              "      <td>1996-08-02 10:56:32</td>\n",
              "      <td>1996-08-02 10:57:01</td>\n",
              "      <td>1996-08-02 10:56:32</td>\n",
              "    </tr>\n",
              "  </tbody>\n",
              "</table>\n",
              "</div>\n",
              "    <div class=\"colab-df-buttons\">\n",
              "\n",
              "  <div class=\"colab-df-container\">\n",
              "    <button class=\"colab-df-convert\" onclick=\"convertToInteractive('df-a8f26e4d-cea7-4b2c-b9a5-491407daaf17')\"\n",
              "            title=\"Convert this dataframe to an interactive table.\"\n",
              "            style=\"display:none;\">\n",
              "\n",
              "  <svg xmlns=\"http://www.w3.org/2000/svg\" height=\"24px\" viewBox=\"0 -960 960 960\">\n",
              "    <path d=\"M120-120v-720h720v720H120Zm60-500h600v-160H180v160Zm220 220h160v-160H400v160Zm0 220h160v-160H400v160ZM180-400h160v-160H180v160Zm440 0h160v-160H620v160ZM180-180h160v-160H180v160Zm440 0h160v-160H620v160Z\"/>\n",
              "  </svg>\n",
              "    </button>\n",
              "\n",
              "  <style>\n",
              "    .colab-df-container {\n",
              "      display:flex;\n",
              "      gap: 12px;\n",
              "    }\n",
              "\n",
              "    .colab-df-convert {\n",
              "      background-color: #E8F0FE;\n",
              "      border: none;\n",
              "      border-radius: 50%;\n",
              "      cursor: pointer;\n",
              "      display: none;\n",
              "      fill: #1967D2;\n",
              "      height: 32px;\n",
              "      padding: 0 0 0 0;\n",
              "      width: 32px;\n",
              "    }\n",
              "\n",
              "    .colab-df-convert:hover {\n",
              "      background-color: #E2EBFA;\n",
              "      box-shadow: 0px 1px 2px rgba(60, 64, 67, 0.3), 0px 1px 3px 1px rgba(60, 64, 67, 0.15);\n",
              "      fill: #174EA6;\n",
              "    }\n",
              "\n",
              "    .colab-df-buttons div {\n",
              "      margin-bottom: 4px;\n",
              "    }\n",
              "\n",
              "    [theme=dark] .colab-df-convert {\n",
              "      background-color: #3B4455;\n",
              "      fill: #D2E3FC;\n",
              "    }\n",
              "\n",
              "    [theme=dark] .colab-df-convert:hover {\n",
              "      background-color: #434B5C;\n",
              "      box-shadow: 0px 1px 3px 1px rgba(0, 0, 0, 0.15);\n",
              "      filter: drop-shadow(0px 1px 2px rgba(0, 0, 0, 0.3));\n",
              "      fill: #FFFFFF;\n",
              "    }\n",
              "  </style>\n",
              "\n",
              "    <script>\n",
              "      const buttonEl =\n",
              "        document.querySelector('#df-a8f26e4d-cea7-4b2c-b9a5-491407daaf17 button.colab-df-convert');\n",
              "      buttonEl.style.display =\n",
              "        google.colab.kernel.accessAllowed ? 'block' : 'none';\n",
              "\n",
              "      async function convertToInteractive(key) {\n",
              "        const element = document.querySelector('#df-a8f26e4d-cea7-4b2c-b9a5-491407daaf17');\n",
              "        const dataTable =\n",
              "          await google.colab.kernel.invokeFunction('convertToInteractive',\n",
              "                                                    [key], {});\n",
              "        if (!dataTable) return;\n",
              "\n",
              "        const docLinkHtml = 'Like what you see? Visit the ' +\n",
              "          '<a target=\"_blank\" href=https://colab.research.google.com/notebooks/data_table.ipynb>data table notebook</a>'\n",
              "          + ' to learn more about interactive tables.';\n",
              "        element.innerHTML = '';\n",
              "        dataTable['output_type'] = 'display_data';\n",
              "        await google.colab.output.renderOutput(dataTable, element);\n",
              "        const docLink = document.createElement('div');\n",
              "        docLink.innerHTML = docLinkHtml;\n",
              "        element.appendChild(docLink);\n",
              "      }\n",
              "    </script>\n",
              "  </div>\n",
              "\n",
              "\n",
              "<div id=\"df-c9ad3d55-8209-40e6-a4cc-cf7417cf7867\">\n",
              "  <button class=\"colab-df-quickchart\" onclick=\"quickchart('df-c9ad3d55-8209-40e6-a4cc-cf7417cf7867')\"\n",
              "            title=\"Suggest charts.\"\n",
              "            style=\"display:none;\">\n",
              "\n",
              "<svg xmlns=\"http://www.w3.org/2000/svg\" height=\"24px\"viewBox=\"0 0 24 24\"\n",
              "     width=\"24px\">\n",
              "    <g>\n",
              "        <path d=\"M19 3H5c-1.1 0-2 .9-2 2v14c0 1.1.9 2 2 2h14c1.1 0 2-.9 2-2V5c0-1.1-.9-2-2-2zM9 17H7v-7h2v7zm4 0h-2V7h2v10zm4 0h-2v-4h2v4z\"/>\n",
              "    </g>\n",
              "</svg>\n",
              "  </button>\n",
              "\n",
              "<style>\n",
              "  .colab-df-quickchart {\n",
              "      --bg-color: #E8F0FE;\n",
              "      --fill-color: #1967D2;\n",
              "      --hover-bg-color: #E2EBFA;\n",
              "      --hover-fill-color: #174EA6;\n",
              "      --disabled-fill-color: #AAA;\n",
              "      --disabled-bg-color: #DDD;\n",
              "  }\n",
              "\n",
              "  [theme=dark] .colab-df-quickchart {\n",
              "      --bg-color: #3B4455;\n",
              "      --fill-color: #D2E3FC;\n",
              "      --hover-bg-color: #434B5C;\n",
              "      --hover-fill-color: #FFFFFF;\n",
              "      --disabled-bg-color: #3B4455;\n",
              "      --disabled-fill-color: #666;\n",
              "  }\n",
              "\n",
              "  .colab-df-quickchart {\n",
              "    background-color: var(--bg-color);\n",
              "    border: none;\n",
              "    border-radius: 50%;\n",
              "    cursor: pointer;\n",
              "    display: none;\n",
              "    fill: var(--fill-color);\n",
              "    height: 32px;\n",
              "    padding: 0;\n",
              "    width: 32px;\n",
              "  }\n",
              "\n",
              "  .colab-df-quickchart:hover {\n",
              "    background-color: var(--hover-bg-color);\n",
              "    box-shadow: 0 1px 2px rgba(60, 64, 67, 0.3), 0 1px 3px 1px rgba(60, 64, 67, 0.15);\n",
              "    fill: var(--button-hover-fill-color);\n",
              "  }\n",
              "\n",
              "  .colab-df-quickchart-complete:disabled,\n",
              "  .colab-df-quickchart-complete:disabled:hover {\n",
              "    background-color: var(--disabled-bg-color);\n",
              "    fill: var(--disabled-fill-color);\n",
              "    box-shadow: none;\n",
              "  }\n",
              "\n",
              "  .colab-df-spinner {\n",
              "    border: 2px solid var(--fill-color);\n",
              "    border-color: transparent;\n",
              "    border-bottom-color: var(--fill-color);\n",
              "    animation:\n",
              "      spin 1s steps(1) infinite;\n",
              "  }\n",
              "\n",
              "  @keyframes spin {\n",
              "    0% {\n",
              "      border-color: transparent;\n",
              "      border-bottom-color: var(--fill-color);\n",
              "      border-left-color: var(--fill-color);\n",
              "    }\n",
              "    20% {\n",
              "      border-color: transparent;\n",
              "      border-left-color: var(--fill-color);\n",
              "      border-top-color: var(--fill-color);\n",
              "    }\n",
              "    30% {\n",
              "      border-color: transparent;\n",
              "      border-left-color: var(--fill-color);\n",
              "      border-top-color: var(--fill-color);\n",
              "      border-right-color: var(--fill-color);\n",
              "    }\n",
              "    40% {\n",
              "      border-color: transparent;\n",
              "      border-right-color: var(--fill-color);\n",
              "      border-top-color: var(--fill-color);\n",
              "    }\n",
              "    60% {\n",
              "      border-color: transparent;\n",
              "      border-right-color: var(--fill-color);\n",
              "    }\n",
              "    80% {\n",
              "      border-color: transparent;\n",
              "      border-right-color: var(--fill-color);\n",
              "      border-bottom-color: var(--fill-color);\n",
              "    }\n",
              "    90% {\n",
              "      border-color: transparent;\n",
              "      border-bottom-color: var(--fill-color);\n",
              "    }\n",
              "  }\n",
              "</style>\n",
              "\n",
              "  <script>\n",
              "    async function quickchart(key) {\n",
              "      const quickchartButtonEl =\n",
              "        document.querySelector('#' + key + ' button');\n",
              "      quickchartButtonEl.disabled = true;  // To prevent multiple clicks.\n",
              "      quickchartButtonEl.classList.add('colab-df-spinner');\n",
              "      try {\n",
              "        const charts = await google.colab.kernel.invokeFunction(\n",
              "            'suggestCharts', [key], {});\n",
              "      } catch (error) {\n",
              "        console.error('Error during call to suggestCharts:', error);\n",
              "      }\n",
              "      quickchartButtonEl.classList.remove('colab-df-spinner');\n",
              "      quickchartButtonEl.classList.add('colab-df-quickchart-complete');\n",
              "    }\n",
              "    (() => {\n",
              "      let quickchartButtonEl =\n",
              "        document.querySelector('#df-c9ad3d55-8209-40e6-a4cc-cf7417cf7867 button');\n",
              "      quickchartButtonEl.style.display =\n",
              "        google.colab.kernel.accessAllowed ? 'block' : 'none';\n",
              "    })();\n",
              "  </script>\n",
              "</div>\n",
              "    </div>\n",
              "  </div>\n"
            ]
          },
          "metadata": {},
          "execution_count": 5
        }
      ],
      "source": [
        "ratings = pd.read_csv(\"data/ml-10M100K/ratings.csv\")\n",
        "ratings[\"timestamp\"] = pd.to_datetime(ratings[\"timestamp\"], unit=\"s\")\n",
        "ratings.head().T"
      ]
    },
    {
      "cell_type": "code",
      "execution_count": null,
      "id": "4e54139d-e01f-431d-aba1-cff584d6eec5",
      "metadata": {
        "ExecuteTime": {
          "end_time": "2023-04-19T13:28:43.713222Z",
          "start_time": "2023-04-19T13:28:43.627500Z"
        },
        "colab": {
          "base_uri": "https://localhost:8080/"
        },
        "id": "4e54139d-e01f-431d-aba1-cff584d6eec5",
        "outputId": "8a6c6811-28ab-41e5-fcf1-a5f7b4460bcf"
      },
      "outputs": [
        {
          "output_type": "execute_result",
          "data": {
            "text/plain": [
              "((10000054, 4), (69878,), (10677,))"
            ]
          },
          "metadata": {},
          "execution_count": 6
        }
      ],
      "source": [
        "ratings.shape, ratings.user.unique().shape, ratings.item.unique().shape"
      ]
    },
    {
      "cell_type": "markdown",
      "id": "bd865448-14a1-4329-a363-3c26b64ba23e",
      "metadata": {
        "id": "bd865448-14a1-4329-a363-3c26b64ba23e"
      },
      "source": [
        "### 2.1 Посмотрим на распределение рейтингов в данных"
      ]
    },
    {
      "cell_type": "code",
      "execution_count": null,
      "id": "48a3402c-30f4-41a1-a9c7-7dbd21372a83",
      "metadata": {
        "ExecuteTime": {
          "end_time": "2023-04-19T13:28:46.791765Z",
          "start_time": "2023-04-19T13:28:43.687043Z"
        },
        "colab": {
          "base_uri": "https://localhost:8080/",
          "height": 436
        },
        "id": "48a3402c-30f4-41a1-a9c7-7dbd21372a83",
        "outputId": "651e4d2b-d87e-43eb-bc45-2387028f2d19"
      },
      "outputs": [
        {
          "output_type": "display_data",
          "data": {
            "text/plain": [
              "<Figure size 1500x500 with 1 Axes>"
            ],
            "image/png": "[encoded data removed]"
          },
          "metadata": {}
        }
      ],
      "source": [
        "sns.histplot(data=ratings[\"values\"], binwidth=1)\n",
        "plt.show()"
      ]
    },
    {
      "cell_type": "markdown",
      "id": "6e36ee08-7fe8-409c-a7ca-942b27da24ae",
      "metadata": {
        "id": "6e36ee08-7fe8-409c-a7ca-942b27da24ae"
      },
      "source": [
        "### 2.2 Построим Rating Distribution\n",
        "\n",
        "Rating Distribution -- график, который показывает отношение количества рейтингов к количеству юзеров. Он отлично подходит, чтобы визуализировать popularity-skew в данных. По оси y располагаем количество рейтингов, выраженное в процентах от общего количества. По оси x — айтемы сортированные в порядке убывания по количеству рейтингов на них. Ну и также ставим для них в качестве id — процент."
      ]
    },
    {
      "cell_type": "code",
      "execution_count": 6,
      "id": "908cf3a2-01ab-47e3-9751-042289a1bf73",
      "metadata": {
        "ExecuteTime": {
          "end_time": "2023-04-19T13:28:46.795702Z",
          "start_time": "2023-04-19T13:28:46.793889Z"
        },
        "id": "908cf3a2-01ab-47e3-9751-042289a1bf73"
      },
      "outputs": [],
      "source": [
        "def rating_distribution(column: str) -> None:\n",
        "    # Compute\n",
        "    ratings_dist = ratings[column].value_counts(normalize=True).reset_index()\n",
        "    ratings_dist.columns = [column, \"num_ratings_percent\"]\n",
        "    step = 1 / (ratings_dist.shape[0] - 1)\n",
        "    ratings_dist[f\"{column}_percent\"] = np.arange(0, 1 + step, step) * 100\n",
        "    ratings_dist[\"num_ratings_percent\"] = (\n",
        "        np.cumsum(ratings_dist[\"num_ratings_percent\"]) * 100\n",
        "    )\n",
        "    # Plot\n",
        "    fig, ax = plt.subplots()\n",
        "    sns.lineplot(\n",
        "        data=ratings_dist, x=f\"{column}_percent\", y=\"num_ratings_percent\", ax=ax\n",
        "    )\n",
        "    ax.set_xlim(0, 100)\n",
        "    ax.set_xticks(range(0, 101, 2))\n",
        "    ax.set_title(\"Rating Distribution\")\n",
        "    plt.show()"
      ]
    },
    {
      "cell_type": "markdown",
      "id": "2104808b-8e24-4911-9ce0-2be5db53133e",
      "metadata": {
        "id": "2104808b-8e24-4911-9ce0-2be5db53133e"
      },
      "source": [
        "Для `item`:"
      ]
    },
    {
      "cell_type": "code",
      "execution_count": null,
      "id": "8ed144cb-9750-467d-bdda-5f1570671737",
      "metadata": {
        "ExecuteTime": {
          "end_time": "2023-04-19T13:28:47.078388Z",
          "start_time": "2023-04-19T13:28:46.795464Z"
        },
        "colab": {
          "base_uri": "https://localhost:8080/",
          "height": 436
        },
        "id": "8ed144cb-9750-467d-bdda-5f1570671737",
        "outputId": "939b18eb-4988-4ebd-bb5d-9ef615e884d4"
      },
      "outputs": [
        {
          "output_type": "display_data",
          "data": {
            "text/plain": [
              "<Figure size 1500x500 with 1 Axes>"
            ],
            "image/png": "[encoded data removed]"
          },
          "metadata": {}
        }
      ],
      "source": [
        "rating_distribution(column=\"item\")"
      ]
    },
    {
      "cell_type": "markdown",
      "source": [
        "То есть, например, 80% рейтингов было выставлено всего 16-ти процентам фильмов"
      ],
      "metadata": {
        "id": "6xEIurHFkOIo"
      },
      "id": "6xEIurHFkOIo"
    },
    {
      "cell_type": "markdown",
      "id": "931dd198-7134-4921-ae8b-91f924cc250c",
      "metadata": {
        "id": "931dd198-7134-4921-ae8b-91f924cc250c"
      },
      "source": [
        "Для `user`:"
      ]
    },
    {
      "cell_type": "code",
      "execution_count": null,
      "id": "38695887-6fc6-446f-a462-4dda862192f4",
      "metadata": {
        "ExecuteTime": {
          "end_time": "2023-04-19T13:28:47.417795Z",
          "start_time": "2023-04-19T13:28:47.123370Z"
        },
        "colab": {
          "base_uri": "https://localhost:8080/",
          "height": 436
        },
        "id": "38695887-6fc6-446f-a462-4dda862192f4",
        "outputId": "bb5146dd-7464-42a8-95b6-e40a7781d15f"
      },
      "outputs": [
        {
          "output_type": "display_data",
          "data": {
            "text/plain": [
              "<Figure size 1500x500 with 1 Axes>"
            ],
            "image/png": "[encoded data removed]"
          },
          "metadata": {}
        }
      ],
      "source": [
        "rating_distribution(column=\"user\")"
      ]
    },
    {
      "cell_type": "markdown",
      "source": [
        "60% рейтингов высталено 18-ю процентами пользователей (просто объяснения что значит, что точка принадлежит графику)"
      ],
      "metadata": {
        "id": "aUcSxe32kZDb"
      },
      "id": "aUcSxe32kZDb"
    },
    {
      "cell_type": "markdown",
      "id": "ce74c09d-09aa-47d0-9e1c-e3cbe0d8a7cf",
      "metadata": {
        "id": "ce74c09d-09aa-47d0-9e1c-e3cbe0d8a7cf"
      },
      "source": [
        "## 3. Preprocessing\n",
        "\n",
        "- **valid_items**\n",
        "    - получим элементы, которые встречаются реже чем threshold. Полезно, чтобы исключить супер популярные айтемы и активных юзеров.\n",
        "- **filter_ratings**\n",
        "    - оставим только рейтинги выше `min_rating` (полезно если хотим сделать implicit датасет)\n",
        "    - оставим users и items, которые встречаются не реже `min_user_count`, `min_item_count` соответственно."
      ]
    },
    {
      "cell_type": "code",
      "execution_count": 7,
      "id": "5f8aaa41-d1e3-4e63-b556-fef272af0bc6",
      "metadata": {
        "ExecuteTime": {
          "end_time": "2023-04-19T13:28:47.422230Z",
          "start_time": "2023-04-19T13:28:47.420359Z"
        },
        "id": "5f8aaa41-d1e3-4e63-b556-fef272af0bc6"
      },
      "outputs": [],
      "source": [
        "from typing import Union\n",
        "\n",
        "\n",
        "class CleanData:\n",
        "  def __init__(self,\n",
        "               data: pd.DataFrame):\n",
        "    self.data = data\n",
        "\n",
        "\n",
        "  def valid_elements(self,\n",
        "                     column: str,\n",
        "                     threshold: float = 0.2\n",
        "                    ) -> Set[int]:\n",
        "      \"\"\"\n",
        "      Method remover top unique values of input column\n",
        "        column: column which we want to clean from unvalid data\n",
        "        treshold: which percent of top walues we wanna remove\n",
        "      \"\"\"\n",
        "      rating_dist = self.data[column].value_counts().reset_index()\n",
        "      cut_off = round(threshold * rating_dist.shape[0]) + 1\n",
        "      return set(rating_dist.index[cut_off:])\n",
        "\n",
        "\n",
        "  def get_count(self,\n",
        "                column: str\n",
        "              ) -> pd.DataFrame:\n",
        "      \"\"\"\n",
        "        column: which column to gruoup by\n",
        "      \"\"\"\n",
        "      grouped_by_column = self.data.groupby(column, as_index=False)\n",
        "      return grouped_by_column.size()\n",
        "\n",
        "\n",
        "  def _filter_ratings(self,\n",
        "                     data: pd.DataFrame,\n",
        "                     min_rating: float = 3.0,\n",
        "                     min_user_count: int = 3,\n",
        "                     min_item_count: int = 3,\n",
        "                   ) -> pd.DataFrame:\n",
        "      \"\"\"\n",
        "      Method cut unnecessary (outbreak) data, like low marks and inactive users\n",
        "        min_rating: all marks with lower rating would not be taken in accout\n",
        "        min_user_count: min number of users that had marked an element\n",
        "        min_item_count: min number of elements marked by user\n",
        "      \"\"\"\n",
        "      if min_rating is not None:\n",
        "          data = data.loc[data[\"values\"] > min_rating]\n",
        "\n",
        "      if min_item_count > 0:\n",
        "          itemcount = self.get_count(column=\"item\")\n",
        "          data = data.loc[\n",
        "              data[\"item\"].isin(itemcount.item[itemcount[\"size\"] >= min_item_count])\n",
        "        ]\n",
        "      if min_user_count > 0:\n",
        "          usercount = self.get_count(column=\"user\")\n",
        "          data = data.loc[\n",
        "              data[\"user\"].isin(usercount.user[usercount[\"size\"] >= min_user_count])\n",
        "          ]\n",
        "      return data\n",
        "\n",
        "\n",
        "  def filter_ratings(self,\n",
        "                     min_rating: float = 3.0,\n",
        "                     min_user_count: int = 3,\n",
        "                     min_item_count: int = 3,\n",
        "                     remove_top_items: Union[bool, float] = True,\n",
        "                  ) -> pd.DataFrame:\n",
        "      \"\"\"\n",
        "        min_rating: all marks with lower rating would not be taken in accout\n",
        "        min_user_count: min number of users that had marked an element\n",
        "        min_item_count: min number of elements marked by user\n",
        "        remove_top_items: percent of top items which we wanna to remove\n",
        "      \"\"\"\n",
        "      data = self.data.copy()\n",
        "\n",
        "      if float(remove_top_items) > 0:\n",
        "          if type(remove_top_items) == float:\n",
        "            valid_items = self.valid_elements(column=\"item\", threshold=remove_top_items)\n",
        "            print('tops')\n",
        "          else:\n",
        "            valid_items = self.valid_elements(column=\"item\")\n",
        "          data = data.loc[data[\"item\"].isin(valid_items)]\n",
        "\n",
        "      while True:\n",
        "          cur_num_rows = data.shape[0]\n",
        "          data = self._filter_ratings(data, min_rating, min_user_count, min_item_count)\n",
        "          new_num_rows = data.shape[0]\n",
        "          if cur_num_rows == new_num_rows:\n",
        "              break\n",
        "      return data"
      ]
    },
    {
      "cell_type": "code",
      "execution_count": 8,
      "id": "c931d330-c3f4-4814-8989-6559122eaa2b",
      "metadata": {
        "ExecuteTime": {
          "end_time": "2023-04-19T13:28:48.394654Z",
          "start_time": "2023-04-19T13:28:47.472872Z"
        },
        "colab": {
          "base_uri": "https://localhost:8080/"
        },
        "id": "c931d330-c3f4-4814-8989-6559122eaa2b",
        "outputId": "4943d395-7c57-4c5a-b578-ca4707efb569",
        "tags": []
      },
      "outputs": [
        {
          "output_type": "stream",
          "name": "stdout",
          "text": [
            "Before: (10000054, 4); After: (2338552, 4)\n",
            "Before: (10000054, 4); After: (3998461, 4)\n"
          ]
        }
      ],
      "source": [
        "cleaner = CleanData(ratings)\n",
        "\n",
        "\n",
        "implicit_filtered_ratings = cleaner.filter_ratings().reset_index(drop=True)\n",
        "print(f\"Before: {ratings.shape}; After: {implicit_filtered_ratings.shape}\")\n",
        "\n",
        "explicit_filtered_ratings = cleaner.filter_ratings(min_rating=None).reset_index(drop=True)\n",
        "print(f\"Before: {ratings.shape}; After: {explicit_filtered_ratings.shape}\")"
      ]
    },
    {
      "cell_type": "markdown",
      "id": "6a0119c0-d35e-46ac-a5e4-0b202a317e45",
      "metadata": {
        "id": "6a0119c0-d35e-46ac-a5e4-0b202a317e45"
      },
      "source": [
        "### Encoder для данных\n",
        "\n",
        "Мы, когда чистили датасет удалили часть юзеров и часть айтемов, теперь хотим опять сделать нормальную нумерацию (была же сквозная, а мы из нее часть элементов выбили)"
      ]
    },
    {
      "cell_type": "code",
      "execution_count": 9,
      "id": "f68b368a-7630-4c71-9dea-627aedb08109",
      "metadata": {
        "ExecuteTime": {
          "end_time": "2023-04-19T13:28:51.219218Z",
          "start_time": "2023-04-19T13:28:48.400437Z"
        },
        "id": "f68b368a-7630-4c71-9dea-627aedb08109"
      },
      "outputs": [],
      "source": [
        "from sklearn.preprocessing import LabelEncoder\n",
        "\n",
        "for col in ['user', 'item']:\n",
        "  encoder = LabelEncoder()\n",
        "\n",
        "  explicit_filtered_ratings[col] = encoder.fit_transform(explicit_filtered_ratings[col])\n",
        "  implicit_filtered_ratings[col] = encoder.transform(implicit_filtered_ratings[col])"
      ]
    },
    {
      "cell_type": "code",
      "source": [
        "implicit_filtered_ratings"
      ],
      "metadata": {
        "colab": {
          "base_uri": "https://localhost:8080/",
          "height": 424
        },
        "id": "Do_Xl4btEar6",
        "outputId": "97809dbd-f812-4d6c-a7c6-18598c4b1b87"
      },
      "id": "Do_Xl4btEar6",
      "execution_count": null,
      "outputs": [
        {
          "output_type": "execute_result",
          "data": {
            "text/plain": [
              "          user  item  values           timestamp\n",
              "0            0  1260     4.0 2006-11-30 11:19:50\n",
              "1            0  1529     4.5 2006-01-01 00:38:35\n",
              "2            0  2373     4.0 2006-11-30 11:18:46\n",
              "3            0  2515     4.0 2006-01-01 00:38:44\n",
              "4            0  2829     4.5 2005-12-03 00:53:20\n",
              "...        ...   ...     ...                 ...\n",
              "2338547  47536  1652     4.0 2000-11-15 13:37:47\n",
              "2338548  47536  1655     4.0 2000-11-15 13:33:54\n",
              "2338549  47536  1656     4.0 2000-11-15 13:26:26\n",
              "2338550  47536  2894     4.0 2000-11-15 13:24:52\n",
              "2338551  47537   158     5.0 1998-12-02 05:52:48\n",
              "\n",
              "[2338552 rows x 4 columns]"
            ],
            "text/html": [
              "\n",
              "  <div id=\"df-ab2b5568-5825-488d-8b97-8e01d6393c4c\" class=\"colab-df-container\">\n",
              "    <div>\n",
              "<style scoped>\n",
              "    .dataframe tbody tr th:only-of-type {\n",
              "        vertical-align: middle;\n",
              "    }\n",
              "\n",
              "    .dataframe tbody tr th {\n",
              "        vertical-align: top;\n",
              "    }\n",
              "\n",
              "    .dataframe thead th {\n",
              "        text-align: right;\n",
              "    }\n",
              "</style>\n",
              "<table border=\"1\" class=\"dataframe\">\n",
              "  <thead>\n",
              "    <tr style=\"text-align: right;\">\n",
              "      <th></th>\n",
              "      <th>user</th>\n",
              "      <th>item</th>\n",
              "      <th>values</th>\n",
              "      <th>timestamp</th>\n",
              "    </tr>\n",
              "  </thead>\n",
              "  <tbody>\n",
              "    <tr>\n",
              "      <th>0</th>\n",
              "      <td>0</td>\n",
              "      <td>1260</td>\n",
              "      <td>4.0</td>\n",
              "      <td>2006-11-30 11:19:50</td>\n",
              "    </tr>\n",
              "    <tr>\n",
              "      <th>1</th>\n",
              "      <td>0</td>\n",
              "      <td>1529</td>\n",
              "      <td>4.5</td>\n",
              "      <td>2006-01-01 00:38:35</td>\n",
              "    </tr>\n",
              "    <tr>\n",
              "      <th>2</th>\n",
              "      <td>0</td>\n",
              "      <td>2373</td>\n",
              "      <td>4.0</td>\n",
              "      <td>2006-11-30 11:18:46</td>\n",
              "    </tr>\n",
              "    <tr>\n",
              "      <th>3</th>\n",
              "      <td>0</td>\n",
              "      <td>2515</td>\n",
              "      <td>4.0</td>\n",
              "      <td>2006-01-01 00:38:44</td>\n",
              "    </tr>\n",
              "    <tr>\n",
              "      <th>4</th>\n",
              "      <td>0</td>\n",
              "      <td>2829</td>\n",
              "      <td>4.5</td>\n",
              "      <td>2005-12-03 00:53:20</td>\n",
              "    </tr>\n",
              "    <tr>\n",
              "      <th>...</th>\n",
              "      <td>...</td>\n",
              "      <td>...</td>\n",
              "      <td>...</td>\n",
              "      <td>...</td>\n",
              "    </tr>\n",
              "    <tr>\n",
              "      <th>2338547</th>\n",
              "      <td>47536</td>\n",
              "      <td>1652</td>\n",
              "      <td>4.0</td>\n",
              "      <td>2000-11-15 13:37:47</td>\n",
              "    </tr>\n",
              "    <tr>\n",
              "      <th>2338548</th>\n",
              "      <td>47536</td>\n",
              "      <td>1655</td>\n",
              "      <td>4.0</td>\n",
              "      <td>2000-11-15 13:33:54</td>\n",
              "    </tr>\n",
              "    <tr>\n",
              "      <th>2338549</th>\n",
              "      <td>47536</td>\n",
              "      <td>1656</td>\n",
              "      <td>4.0</td>\n",
              "      <td>2000-11-15 13:26:26</td>\n",
              "    </tr>\n",
              "    <tr>\n",
              "      <th>2338550</th>\n",
              "      <td>47536</td>\n",
              "      <td>2894</td>\n",
              "      <td>4.0</td>\n",
              "      <td>2000-11-15 13:24:52</td>\n",
              "    </tr>\n",
              "    <tr>\n",
              "      <th>2338551</th>\n",
              "      <td>47537</td>\n",
              "      <td>158</td>\n",
              "      <td>5.0</td>\n",
              "      <td>1998-12-02 05:52:48</td>\n",
              "    </tr>\n",
              "  </tbody>\n",
              "</table>\n",
              "<p>2338552 rows × 4 columns</p>\n",
              "</div>\n",
              "    <div class=\"colab-df-buttons\">\n",
              "\n",
              "  <div class=\"colab-df-container\">\n",
              "    <button class=\"colab-df-convert\" onclick=\"convertToInteractive('df-ab2b5568-5825-488d-8b97-8e01d6393c4c')\"\n",
              "            title=\"Convert this dataframe to an interactive table.\"\n",
              "            style=\"display:none;\">\n",
              "\n",
              "  <svg xmlns=\"http://www.w3.org/2000/svg\" height=\"24px\" viewBox=\"0 -960 960 960\">\n",
              "    <path d=\"M120-120v-720h720v720H120Zm60-500h600v-160H180v160Zm220 220h160v-160H400v160Zm0 220h160v-160H400v160ZM180-400h160v-160H180v160Zm440 0h160v-160H620v160ZM180-180h160v-160H180v160Zm440 0h160v-160H620v160Z\"/>\n",
              "  </svg>\n",
              "    </button>\n",
              "\n",
              "  <style>\n",
              "    .colab-df-container {\n",
              "      display:flex;\n",
              "      gap: 12px;\n",
              "    }\n",
              "\n",
              "    .colab-df-convert {\n",
              "      background-color: #E8F0FE;\n",
              "      border: none;\n",
              "      border-radius: 50%;\n",
              "      cursor: pointer;\n",
              "      display: none;\n",
              "      fill: #1967D2;\n",
              "      height: 32px;\n",
              "      padding: 0 0 0 0;\n",
              "      width: 32px;\n",
              "    }\n",
              "\n",
              "    .colab-df-convert:hover {\n",
              "      background-color: #E2EBFA;\n",
              "      box-shadow: 0px 1px 2px rgba(60, 64, 67, 0.3), 0px 1px 3px 1px rgba(60, 64, 67, 0.15);\n",
              "      fill: #174EA6;\n",
              "    }\n",
              "\n",
              "    .colab-df-buttons div {\n",
              "      margin-bottom: 4px;\n",
              "    }\n",
              "\n",
              "    [theme=dark] .colab-df-convert {\n",
              "      background-color: #3B4455;\n",
              "      fill: #D2E3FC;\n",
              "    }\n",
              "\n",
              "    [theme=dark] .colab-df-convert:hover {\n",
              "      background-color: #434B5C;\n",
              "      box-shadow: 0px 1px 3px 1px rgba(0, 0, 0, 0.15);\n",
              "      filter: drop-shadow(0px 1px 2px rgba(0, 0, 0, 0.3));\n",
              "      fill: #FFFFFF;\n",
              "    }\n",
              "  </style>\n",
              "\n",
              "    <script>\n",
              "      const buttonEl =\n",
              "        document.querySelector('#df-ab2b5568-5825-488d-8b97-8e01d6393c4c button.colab-df-convert');\n",
              "      buttonEl.style.display =\n",
              "        google.colab.kernel.accessAllowed ? 'block' : 'none';\n",
              "\n",
              "      async function convertToInteractive(key) {\n",
              "        const element = document.querySelector('#df-ab2b5568-5825-488d-8b97-8e01d6393c4c');\n",
              "        const dataTable =\n",
              "          await google.colab.kernel.invokeFunction('convertToInteractive',\n",
              "                                                    [key], {});\n",
              "        if (!dataTable) return;\n",
              "\n",
              "        const docLinkHtml = 'Like what you see? Visit the ' +\n",
              "          '<a target=\"_blank\" href=https://colab.research.google.com/notebooks/data_table.ipynb>data table notebook</a>'\n",
              "          + ' to learn more about interactive tables.';\n",
              "        element.innerHTML = '';\n",
              "        dataTable['output_type'] = 'display_data';\n",
              "        await google.colab.output.renderOutput(dataTable, element);\n",
              "        const docLink = document.createElement('div');\n",
              "        docLink.innerHTML = docLinkHtml;\n",
              "        element.appendChild(docLink);\n",
              "      }\n",
              "    </script>\n",
              "  </div>\n",
              "\n",
              "\n",
              "<div id=\"df-8a7e06a1-3bd7-4b3a-b9d1-0d539556a55b\">\n",
              "  <button class=\"colab-df-quickchart\" onclick=\"quickchart('df-8a7e06a1-3bd7-4b3a-b9d1-0d539556a55b')\"\n",
              "            title=\"Suggest charts.\"\n",
              "            style=\"display:none;\">\n",
              "\n",
              "<svg xmlns=\"http://www.w3.org/2000/svg\" height=\"24px\"viewBox=\"0 0 24 24\"\n",
              "     width=\"24px\">\n",
              "    <g>\n",
              "        <path d=\"M19 3H5c-1.1 0-2 .9-2 2v14c0 1.1.9 2 2 2h14c1.1 0 2-.9 2-2V5c0-1.1-.9-2-2-2zM9 17H7v-7h2v7zm4 0h-2V7h2v10zm4 0h-2v-4h2v4z\"/>\n",
              "    </g>\n",
              "</svg>\n",
              "  </button>\n",
              "\n",
              "<style>\n",
              "  .colab-df-quickchart {\n",
              "      --bg-color: #E8F0FE;\n",
              "      --fill-color: #1967D2;\n",
              "      --hover-bg-color: #E2EBFA;\n",
              "      --hover-fill-color: #174EA6;\n",
              "      --disabled-fill-color: #AAA;\n",
              "      --disabled-bg-color: #DDD;\n",
              "  }\n",
              "\n",
              "  [theme=dark] .colab-df-quickchart {\n",
              "      --bg-color: #3B4455;\n",
              "      --fill-color: #D2E3FC;\n",
              "      --hover-bg-color: #434B5C;\n",
              "      --hover-fill-color: #FFFFFF;\n",
              "      --disabled-bg-color: #3B4455;\n",
              "      --disabled-fill-color: #666;\n",
              "  }\n",
              "\n",
              "  .colab-df-quickchart {\n",
              "    background-color: var(--bg-color);\n",
              "    border: none;\n",
              "    border-radius: 50%;\n",
              "    cursor: pointer;\n",
              "    display: none;\n",
              "    fill: var(--fill-color);\n",
              "    height: 32px;\n",
              "    padding: 0;\n",
              "    width: 32px;\n",
              "  }\n",
              "\n",
              "  .colab-df-quickchart:hover {\n",
              "    background-color: var(--hover-bg-color);\n",
              "    box-shadow: 0 1px 2px rgba(60, 64, 67, 0.3), 0 1px 3px 1px rgba(60, 64, 67, 0.15);\n",
              "    fill: var(--button-hover-fill-color);\n",
              "  }\n",
              "\n",
              "  .colab-df-quickchart-complete:disabled,\n",
              "  .colab-df-quickchart-complete:disabled:hover {\n",
              "    background-color: var(--disabled-bg-color);\n",
              "    fill: var(--disabled-fill-color);\n",
              "    box-shadow: none;\n",
              "  }\n",
              "\n",
              "  .colab-df-spinner {\n",
              "    border: 2px solid var(--fill-color);\n",
              "    border-color: transparent;\n",
              "    border-bottom-color: var(--fill-color);\n",
              "    animation:\n",
              "      spin 1s steps(1) infinite;\n",
              "  }\n",
              "\n",
              "  @keyframes spin {\n",
              "    0% {\n",
              "      border-color: transparent;\n",
              "      border-bottom-color: var(--fill-color);\n",
              "      border-left-color: var(--fill-color);\n",
              "    }\n",
              "    20% {\n",
              "      border-color: transparent;\n",
              "      border-left-color: var(--fill-color);\n",
              "      border-top-color: var(--fill-color);\n",
              "    }\n",
              "    30% {\n",
              "      border-color: transparent;\n",
              "      border-left-color: var(--fill-color);\n",
              "      border-top-color: var(--fill-color);\n",
              "      border-right-color: var(--fill-color);\n",
              "    }\n",
              "    40% {\n",
              "      border-color: transparent;\n",
              "      border-right-color: var(--fill-color);\n",
              "      border-top-color: var(--fill-color);\n",
              "    }\n",
              "    60% {\n",
              "      border-color: transparent;\n",
              "      border-right-color: var(--fill-color);\n",
              "    }\n",
              "    80% {\n",
              "      border-color: transparent;\n",
              "      border-right-color: var(--fill-color);\n",
              "      border-bottom-color: var(--fill-color);\n",
              "    }\n",
              "    90% {\n",
              "      border-color: transparent;\n",
              "      border-bottom-color: var(--fill-color);\n",
              "    }\n",
              "  }\n",
              "</style>\n",
              "\n",
              "  <script>\n",
              "    async function quickchart(key) {\n",
              "      const quickchartButtonEl =\n",
              "        document.querySelector('#' + key + ' button');\n",
              "      quickchartButtonEl.disabled = true;  // To prevent multiple clicks.\n",
              "      quickchartButtonEl.classList.add('colab-df-spinner');\n",
              "      try {\n",
              "        const charts = await google.colab.kernel.invokeFunction(\n",
              "            'suggestCharts', [key], {});\n",
              "      } catch (error) {\n",
              "        console.error('Error during call to suggestCharts:', error);\n",
              "      }\n",
              "      quickchartButtonEl.classList.remove('colab-df-spinner');\n",
              "      quickchartButtonEl.classList.add('colab-df-quickchart-complete');\n",
              "    }\n",
              "    (() => {\n",
              "      let quickchartButtonEl =\n",
              "        document.querySelector('#df-8a7e06a1-3bd7-4b3a-b9d1-0d539556a55b button');\n",
              "      quickchartButtonEl.style.display =\n",
              "        google.colab.kernel.accessAllowed ? 'block' : 'none';\n",
              "    })();\n",
              "  </script>\n",
              "</div>\n",
              "    </div>\n",
              "  </div>\n"
            ]
          },
          "metadata": {},
          "execution_count": 11
        }
      ]
    },
    {
      "cell_type": "markdown",
      "id": "b844841f-52a8-4064-a452-4f1f21a3f0ac",
      "metadata": {
        "id": "b844841f-52a8-4064-a452-4f1f21a3f0ac"
      },
      "source": [
        "### 3.3 Split\n",
        "\n",
        "Тестовая выборка - out of time, иначе говоря, берем последний год из базы как тестовую выборку, а на остальном будем обучаться. Обычно такая же ситуация и в реальности: у нас есть какая-то история, а мы хотим предсказать что в будущем пользователь захочет посмотреть и порекомендовать ему это"
      ]
    },
    {
      "cell_type": "markdown",
      "source": [
        "Также для нашей задачи выкинем одного и двух пользователей из исходного датасета. То есть у нас будет три датасета: со всеми пользователями, без одного и без двух. Это нужно для проверки скорости работы прямого пересчета SVD при добавление одного-двух пользователей и скорости работы алгоритма, который пересчитывает SVD по-умному, основываясь на разложении, которое было для $(n-1)$-ого пользователя. Выкидывать будем последних пользователей, что encoding не поехал"
      ],
      "metadata": {
        "id": "DN-scmFklMnm"
      },
      "id": "DN-scmFklMnm"
    },
    {
      "cell_type": "code",
      "source": [
        "def remove_users(dataset: pd.DataFrame,\n",
        "                 n: int = 2\n",
        "                ) -> pd.DataFrame:\n",
        "  \"\"\"\n",
        "  Method to remove users from dataset to test adding them to existing svd\n",
        "    dataset: out dataset from which we wanna remove users\n",
        "    n: number of users we wanna remove\n",
        "  \"\"\"\n",
        "  to_remove = dataset['user'].sort_values().unique()[-n:]\n",
        "  main_dataset = dataset[~dataset['user'].isin(to_remove)]\n",
        "  removed_users = dataset[dataset['user'].isin(to_remove)]\n",
        "\n",
        "  return [main_dataset, removed_users]\n"
      ],
      "metadata": {
        "id": "O7bgf4gLElXy"
      },
      "id": "O7bgf4gLElXy",
      "execution_count": 10,
      "outputs": []
    },
    {
      "cell_type": "code",
      "source": [
        "explicit_filtered_remove2, explicit_removed2_dataset = remove_users(explicit_filtered_ratings)\n",
        "implicit_filtered_remove2, implicit_removed2_dataset = remove_users(implicit_filtered_ratings)"
      ],
      "metadata": {
        "id": "xqBQkL9aXsu2"
      },
      "id": "xqBQkL9aXsu2",
      "execution_count": 11,
      "outputs": []
    },
    {
      "cell_type": "code",
      "source": [
        "explicit_filtered_remove2"
      ],
      "metadata": {
        "colab": {
          "base_uri": "https://localhost:8080/",
          "height": 424
        },
        "id": "0H0OS3mZmQhs",
        "outputId": "bd079bc4-d671-4e8b-93e4-c3d4a2c674e6"
      },
      "id": "0H0OS3mZmQhs",
      "execution_count": null,
      "outputs": [
        {
          "output_type": "execute_result",
          "data": {
            "text/plain": [
              "          user  item  values           timestamp\n",
              "0            0  1260     4.0 2006-11-30 11:19:50\n",
              "1            0  1529     4.5 2006-01-01 00:38:35\n",
              "2            0  2373     4.0 2006-11-30 11:18:46\n",
              "3            0  2515     4.0 2006-01-01 00:38:44\n",
              "4            0  2829     4.5 2005-12-03 00:53:20\n",
              "...        ...   ...     ...                 ...\n",
              "3998392  47535  5112     3.5 2005-03-23 02:37:08\n",
              "3998393  47535  5741     2.5 2005-03-23 02:36:05\n",
              "3998394  47535  5780     3.0 2005-03-23 02:40:01\n",
              "3998395  47535  5806     4.5 2005-03-23 02:33:02\n",
              "3998396  47535  5819     3.0 2005-03-23 02:46:51\n",
              "\n",
              "[3998397 rows x 4 columns]"
            ],
            "text/html": [
              "\n",
              "  <div id=\"df-2d71be60-47d8-4146-8794-5c4c888b6a17\" class=\"colab-df-container\">\n",
              "    <div>\n",
              "<style scoped>\n",
              "    .dataframe tbody tr th:only-of-type {\n",
              "        vertical-align: middle;\n",
              "    }\n",
              "\n",
              "    .dataframe tbody tr th {\n",
              "        vertical-align: top;\n",
              "    }\n",
              "\n",
              "    .dataframe thead th {\n",
              "        text-align: right;\n",
              "    }\n",
              "</style>\n",
              "<table border=\"1\" class=\"dataframe\">\n",
              "  <thead>\n",
              "    <tr style=\"text-align: right;\">\n",
              "      <th></th>\n",
              "      <th>user</th>\n",
              "      <th>item</th>\n",
              "      <th>values</th>\n",
              "      <th>timestamp</th>\n",
              "    </tr>\n",
              "  </thead>\n",
              "  <tbody>\n",
              "    <tr>\n",
              "      <th>0</th>\n",
              "      <td>0</td>\n",
              "      <td>1260</td>\n",
              "      <td>4.0</td>\n",
              "      <td>2006-11-30 11:19:50</td>\n",
              "    </tr>\n",
              "    <tr>\n",
              "      <th>1</th>\n",
              "      <td>0</td>\n",
              "      <td>1529</td>\n",
              "      <td>4.5</td>\n",
              "      <td>2006-01-01 00:38:35</td>\n",
              "    </tr>\n",
              "    <tr>\n",
              "      <th>2</th>\n",
              "      <td>0</td>\n",
              "      <td>2373</td>\n",
              "      <td>4.0</td>\n",
              "      <td>2006-11-30 11:18:46</td>\n",
              "    </tr>\n",
              "    <tr>\n",
              "      <th>3</th>\n",
              "      <td>0</td>\n",
              "      <td>2515</td>\n",
              "      <td>4.0</td>\n",
              "      <td>2006-01-01 00:38:44</td>\n",
              "    </tr>\n",
              "    <tr>\n",
              "      <th>4</th>\n",
              "      <td>0</td>\n",
              "      <td>2829</td>\n",
              "      <td>4.5</td>\n",
              "      <td>2005-12-03 00:53:20</td>\n",
              "    </tr>\n",
              "    <tr>\n",
              "      <th>...</th>\n",
              "      <td>...</td>\n",
              "      <td>...</td>\n",
              "      <td>...</td>\n",
              "      <td>...</td>\n",
              "    </tr>\n",
              "    <tr>\n",
              "      <th>3998392</th>\n",
              "      <td>47535</td>\n",
              "      <td>5112</td>\n",
              "      <td>3.5</td>\n",
              "      <td>2005-03-23 02:37:08</td>\n",
              "    </tr>\n",
              "    <tr>\n",
              "      <th>3998393</th>\n",
              "      <td>47535</td>\n",
              "      <td>5741</td>\n",
              "      <td>2.5</td>\n",
              "      <td>2005-03-23 02:36:05</td>\n",
              "    </tr>\n",
              "    <tr>\n",
              "      <th>3998394</th>\n",
              "      <td>47535</td>\n",
              "      <td>5780</td>\n",
              "      <td>3.0</td>\n",
              "      <td>2005-03-23 02:40:01</td>\n",
              "    </tr>\n",
              "    <tr>\n",
              "      <th>3998395</th>\n",
              "      <td>47535</td>\n",
              "      <td>5806</td>\n",
              "      <td>4.5</td>\n",
              "      <td>2005-03-23 02:33:02</td>\n",
              "    </tr>\n",
              "    <tr>\n",
              "      <th>3998396</th>\n",
              "      <td>47535</td>\n",
              "      <td>5819</td>\n",
              "      <td>3.0</td>\n",
              "      <td>2005-03-23 02:46:51</td>\n",
              "    </tr>\n",
              "  </tbody>\n",
              "</table>\n",
              "<p>3998397 rows × 4 columns</p>\n",
              "</div>\n",
              "    <div class=\"colab-df-buttons\">\n",
              "\n",
              "  <div class=\"colab-df-container\">\n",
              "    <button class=\"colab-df-convert\" onclick=\"convertToInteractive('df-2d71be60-47d8-4146-8794-5c4c888b6a17')\"\n",
              "            title=\"Convert this dataframe to an interactive table.\"\n",
              "            style=\"display:none;\">\n",
              "\n",
              "  <svg xmlns=\"http://www.w3.org/2000/svg\" height=\"24px\" viewBox=\"0 -960 960 960\">\n",
              "    <path d=\"M120-120v-720h720v720H120Zm60-500h600v-160H180v160Zm220 220h160v-160H400v160Zm0 220h160v-160H400v160ZM180-400h160v-160H180v160Zm440 0h160v-160H620v160ZM180-180h160v-160H180v160Zm440 0h160v-160H620v160Z\"/>\n",
              "  </svg>\n",
              "    </button>\n",
              "\n",
              "  <style>\n",
              "    .colab-df-container {\n",
              "      display:flex;\n",
              "      gap: 12px;\n",
              "    }\n",
              "\n",
              "    .colab-df-convert {\n",
              "      background-color: #E8F0FE;\n",
              "      border: none;\n",
              "      border-radius: 50%;\n",
              "      cursor: pointer;\n",
              "      display: none;\n",
              "      fill: #1967D2;\n",
              "      height: 32px;\n",
              "      padding: 0 0 0 0;\n",
              "      width: 32px;\n",
              "    }\n",
              "\n",
              "    .colab-df-convert:hover {\n",
              "      background-color: #E2EBFA;\n",
              "      box-shadow: 0px 1px 2px rgba(60, 64, 67, 0.3), 0px 1px 3px 1px rgba(60, 64, 67, 0.15);\n",
              "      fill: #174EA6;\n",
              "    }\n",
              "\n",
              "    .colab-df-buttons div {\n",
              "      margin-bottom: 4px;\n",
              "    }\n",
              "\n",
              "    [theme=dark] .colab-df-convert {\n",
              "      background-color: #3B4455;\n",
              "      fill: #D2E3FC;\n",
              "    }\n",
              "\n",
              "    [theme=dark] .colab-df-convert:hover {\n",
              "      background-color: #434B5C;\n",
              "      box-shadow: 0px 1px 3px 1px rgba(0, 0, 0, 0.15);\n",
              "      filter: drop-shadow(0px 1px 2px rgba(0, 0, 0, 0.3));\n",
              "      fill: #FFFFFF;\n",
              "    }\n",
              "  </style>\n",
              "\n",
              "    <script>\n",
              "      const buttonEl =\n",
              "        document.querySelector('#df-2d71be60-47d8-4146-8794-5c4c888b6a17 button.colab-df-convert');\n",
              "      buttonEl.style.display =\n",
              "        google.colab.kernel.accessAllowed ? 'block' : 'none';\n",
              "\n",
              "      async function convertToInteractive(key) {\n",
              "        const element = document.querySelector('#df-2d71be60-47d8-4146-8794-5c4c888b6a17');\n",
              "        const dataTable =\n",
              "          await google.colab.kernel.invokeFunction('convertToInteractive',\n",
              "                                                    [key], {});\n",
              "        if (!dataTable) return;\n",
              "\n",
              "        const docLinkHtml = 'Like what you see? Visit the ' +\n",
              "          '<a target=\"_blank\" href=https://colab.research.google.com/notebooks/data_table.ipynb>data table notebook</a>'\n",
              "          + ' to learn more about interactive tables.';\n",
              "        element.innerHTML = '';\n",
              "        dataTable['output_type'] = 'display_data';\n",
              "        await google.colab.output.renderOutput(dataTable, element);\n",
              "        const docLink = document.createElement('div');\n",
              "        docLink.innerHTML = docLinkHtml;\n",
              "        element.appendChild(docLink);\n",
              "      }\n",
              "    </script>\n",
              "  </div>\n",
              "\n",
              "\n",
              "<div id=\"df-60a6a248-7931-48e5-ba22-50ebcb34690f\">\n",
              "  <button class=\"colab-df-quickchart\" onclick=\"quickchart('df-60a6a248-7931-48e5-ba22-50ebcb34690f')\"\n",
              "            title=\"Suggest charts.\"\n",
              "            style=\"display:none;\">\n",
              "\n",
              "<svg xmlns=\"http://www.w3.org/2000/svg\" height=\"24px\"viewBox=\"0 0 24 24\"\n",
              "     width=\"24px\">\n",
              "    <g>\n",
              "        <path d=\"M19 3H5c-1.1 0-2 .9-2 2v14c0 1.1.9 2 2 2h14c1.1 0 2-.9 2-2V5c0-1.1-.9-2-2-2zM9 17H7v-7h2v7zm4 0h-2V7h2v10zm4 0h-2v-4h2v4z\"/>\n",
              "    </g>\n",
              "</svg>\n",
              "  </button>\n",
              "\n",
              "<style>\n",
              "  .colab-df-quickchart {\n",
              "      --bg-color: #E8F0FE;\n",
              "      --fill-color: #1967D2;\n",
              "      --hover-bg-color: #E2EBFA;\n",
              "      --hover-fill-color: #174EA6;\n",
              "      --disabled-fill-color: #AAA;\n",
              "      --disabled-bg-color: #DDD;\n",
              "  }\n",
              "\n",
              "  [theme=dark] .colab-df-quickchart {\n",
              "      --bg-color: #3B4455;\n",
              "      --fill-color: #D2E3FC;\n",
              "      --hover-bg-color: #434B5C;\n",
              "      --hover-fill-color: #FFFFFF;\n",
              "      --disabled-bg-color: #3B4455;\n",
              "      --disabled-fill-color: #666;\n",
              "  }\n",
              "\n",
              "  .colab-df-quickchart {\n",
              "    background-color: var(--bg-color);\n",
              "    border: none;\n",
              "    border-radius: 50%;\n",
              "    cursor: pointer;\n",
              "    display: none;\n",
              "    fill: var(--fill-color);\n",
              "    height: 32px;\n",
              "    padding: 0;\n",
              "    width: 32px;\n",
              "  }\n",
              "\n",
              "  .colab-df-quickchart:hover {\n",
              "    background-color: var(--hover-bg-color);\n",
              "    box-shadow: 0 1px 2px rgba(60, 64, 67, 0.3), 0 1px 3px 1px rgba(60, 64, 67, 0.15);\n",
              "    fill: var(--button-hover-fill-color);\n",
              "  }\n",
              "\n",
              "  .colab-df-quickchart-complete:disabled,\n",
              "  .colab-df-quickchart-complete:disabled:hover {\n",
              "    background-color: var(--disabled-bg-color);\n",
              "    fill: var(--disabled-fill-color);\n",
              "    box-shadow: none;\n",
              "  }\n",
              "\n",
              "  .colab-df-spinner {\n",
              "    border: 2px solid var(--fill-color);\n",
              "    border-color: transparent;\n",
              "    border-bottom-color: var(--fill-color);\n",
              "    animation:\n",
              "      spin 1s steps(1) infinite;\n",
              "  }\n",
              "\n",
              "  @keyframes spin {\n",
              "    0% {\n",
              "      border-color: transparent;\n",
              "      border-bottom-color: var(--fill-color);\n",
              "      border-left-color: var(--fill-color);\n",
              "    }\n",
              "    20% {\n",
              "      border-color: transparent;\n",
              "      border-left-color: var(--fill-color);\n",
              "      border-top-color: var(--fill-color);\n",
              "    }\n",
              "    30% {\n",
              "      border-color: transparent;\n",
              "      border-left-color: var(--fill-color);\n",
              "      border-top-color: var(--fill-color);\n",
              "      border-right-color: var(--fill-color);\n",
              "    }\n",
              "    40% {\n",
              "      border-color: transparent;\n",
              "      border-right-color: var(--fill-color);\n",
              "      border-top-color: var(--fill-color);\n",
              "    }\n",
              "    60% {\n",
              "      border-color: transparent;\n",
              "      border-right-color: var(--fill-color);\n",
              "    }\n",
              "    80% {\n",
              "      border-color: transparent;\n",
              "      border-right-color: var(--fill-color);\n",
              "      border-bottom-color: var(--fill-color);\n",
              "    }\n",
              "    90% {\n",
              "      border-color: transparent;\n",
              "      border-bottom-color: var(--fill-color);\n",
              "    }\n",
              "  }\n",
              "</style>\n",
              "\n",
              "  <script>\n",
              "    async function quickchart(key) {\n",
              "      const quickchartButtonEl =\n",
              "        document.querySelector('#' + key + ' button');\n",
              "      quickchartButtonEl.disabled = true;  // To prevent multiple clicks.\n",
              "      quickchartButtonEl.classList.add('colab-df-spinner');\n",
              "      try {\n",
              "        const charts = await google.colab.kernel.invokeFunction(\n",
              "            'suggestCharts', [key], {});\n",
              "      } catch (error) {\n",
              "        console.error('Error during call to suggestCharts:', error);\n",
              "      }\n",
              "      quickchartButtonEl.classList.remove('colab-df-spinner');\n",
              "      quickchartButtonEl.classList.add('colab-df-quickchart-complete');\n",
              "    }\n",
              "    (() => {\n",
              "      let quickchartButtonEl =\n",
              "        document.querySelector('#df-60a6a248-7931-48e5-ba22-50ebcb34690f button');\n",
              "      quickchartButtonEl.style.display =\n",
              "        google.colab.kernel.accessAllowed ? 'block' : 'none';\n",
              "    })();\n",
              "  </script>\n",
              "</div>\n",
              "    </div>\n",
              "  </div>\n"
            ]
          },
          "metadata": {},
          "execution_count": 14
        }
      ]
    },
    {
      "cell_type": "code",
      "source": [
        "explicit_removed2_dataset"
      ],
      "metadata": {
        "colab": {
          "base_uri": "https://localhost:8080/",
          "height": 424
        },
        "id": "FpzRhnPRmS_x",
        "outputId": "76443bb5-cb80-4f3d-ac83-31d2830e0c98"
      },
      "id": "FpzRhnPRmS_x",
      "execution_count": null,
      "outputs": [
        {
          "output_type": "execute_result",
          "data": {
            "text/plain": [
              "          user  item  values           timestamp\n",
              "3998397  47536    11     3.0 2000-11-15 13:20:35\n",
              "3998398  47536    31     1.0 2000-11-16 13:53:37\n",
              "3998399  47536   200     4.0 2000-11-15 13:20:50\n",
              "3998400  47536   210     3.0 2000-11-15 13:28:54\n",
              "3998401  47536   233     4.0 2000-11-15 13:20:35\n",
              "...        ...   ...     ...                 ...\n",
              "3998456  47536  1656     4.0 2000-11-15 13:26:26\n",
              "3998457  47536  2894     4.0 2000-11-15 13:24:52\n",
              "3998458  47537   158     5.0 1998-12-02 05:52:48\n",
              "3998459  47537   202     2.0 1998-12-02 05:53:36\n",
              "3998460  47537   248     2.0 1998-12-02 05:56:13\n",
              "\n",
              "[64 rows x 4 columns]"
            ],
            "text/html": [
              "\n",
              "  <div id=\"df-d289dff6-3ad1-4c0b-ab54-56cccd997c8d\" class=\"colab-df-container\">\n",
              "    <div>\n",
              "<style scoped>\n",
              "    .dataframe tbody tr th:only-of-type {\n",
              "        vertical-align: middle;\n",
              "    }\n",
              "\n",
              "    .dataframe tbody tr th {\n",
              "        vertical-align: top;\n",
              "    }\n",
              "\n",
              "    .dataframe thead th {\n",
              "        text-align: right;\n",
              "    }\n",
              "</style>\n",
              "<table border=\"1\" class=\"dataframe\">\n",
              "  <thead>\n",
              "    <tr style=\"text-align: right;\">\n",
              "      <th></th>\n",
              "      <th>user</th>\n",
              "      <th>item</th>\n",
              "      <th>values</th>\n",
              "      <th>timestamp</th>\n",
              "    </tr>\n",
              "  </thead>\n",
              "  <tbody>\n",
              "    <tr>\n",
              "      <th>3998397</th>\n",
              "      <td>47536</td>\n",
              "      <td>11</td>\n",
              "      <td>3.0</td>\n",
              "      <td>2000-11-15 13:20:35</td>\n",
              "    </tr>\n",
              "    <tr>\n",
              "      <th>3998398</th>\n",
              "      <td>47536</td>\n",
              "      <td>31</td>\n",
              "      <td>1.0</td>\n",
              "      <td>2000-11-16 13:53:37</td>\n",
              "    </tr>\n",
              "    <tr>\n",
              "      <th>3998399</th>\n",
              "      <td>47536</td>\n",
              "      <td>200</td>\n",
              "      <td>4.0</td>\n",
              "      <td>2000-11-15 13:20:50</td>\n",
              "    </tr>\n",
              "    <tr>\n",
              "      <th>3998400</th>\n",
              "      <td>47536</td>\n",
              "      <td>210</td>\n",
              "      <td>3.0</td>\n",
              "      <td>2000-11-15 13:28:54</td>\n",
              "    </tr>\n",
              "    <tr>\n",
              "      <th>3998401</th>\n",
              "      <td>47536</td>\n",
              "      <td>233</td>\n",
              "      <td>4.0</td>\n",
              "      <td>2000-11-15 13:20:35</td>\n",
              "    </tr>\n",
              "    <tr>\n",
              "      <th>...</th>\n",
              "      <td>...</td>\n",
              "      <td>...</td>\n",
              "      <td>...</td>\n",
              "      <td>...</td>\n",
              "    </tr>\n",
              "    <tr>\n",
              "      <th>3998456</th>\n",
              "      <td>47536</td>\n",
              "      <td>1656</td>\n",
              "      <td>4.0</td>\n",
              "      <td>2000-11-15 13:26:26</td>\n",
              "    </tr>\n",
              "    <tr>\n",
              "      <th>3998457</th>\n",
              "      <td>47536</td>\n",
              "      <td>2894</td>\n",
              "      <td>4.0</td>\n",
              "      <td>2000-11-15 13:24:52</td>\n",
              "    </tr>\n",
              "    <tr>\n",
              "      <th>3998458</th>\n",
              "      <td>47537</td>\n",
              "      <td>158</td>\n",
              "      <td>5.0</td>\n",
              "      <td>1998-12-02 05:52:48</td>\n",
              "    </tr>\n",
              "    <tr>\n",
              "      <th>3998459</th>\n",
              "      <td>47537</td>\n",
              "      <td>202</td>\n",
              "      <td>2.0</td>\n",
              "      <td>1998-12-02 05:53:36</td>\n",
              "    </tr>\n",
              "    <tr>\n",
              "      <th>3998460</th>\n",
              "      <td>47537</td>\n",
              "      <td>248</td>\n",
              "      <td>2.0</td>\n",
              "      <td>1998-12-02 05:56:13</td>\n",
              "    </tr>\n",
              "  </tbody>\n",
              "</table>\n",
              "<p>64 rows × 4 columns</p>\n",
              "</div>\n",
              "    <div class=\"colab-df-buttons\">\n",
              "\n",
              "  <div class=\"colab-df-container\">\n",
              "    <button class=\"colab-df-convert\" onclick=\"convertToInteractive('df-d289dff6-3ad1-4c0b-ab54-56cccd997c8d')\"\n",
              "            title=\"Convert this dataframe to an interactive table.\"\n",
              "            style=\"display:none;\">\n",
              "\n",
              "  <svg xmlns=\"http://www.w3.org/2000/svg\" height=\"24px\" viewBox=\"0 -960 960 960\">\n",
              "    <path d=\"M120-120v-720h720v720H120Zm60-500h600v-160H180v160Zm220 220h160v-160H400v160Zm0 220h160v-160H400v160ZM180-400h160v-160H180v160Zm440 0h160v-160H620v160ZM180-180h160v-160H180v160Zm440 0h160v-160H620v160Z\"/>\n",
              "  </svg>\n",
              "    </button>\n",
              "\n",
              "  <style>\n",
              "    .colab-df-container {\n",
              "      display:flex;\n",
              "      gap: 12px;\n",
              "    }\n",
              "\n",
              "    .colab-df-convert {\n",
              "      background-color: #E8F0FE;\n",
              "      border: none;\n",
              "      border-radius: 50%;\n",
              "      cursor: pointer;\n",
              "      display: none;\n",
              "      fill: #1967D2;\n",
              "      height: 32px;\n",
              "      padding: 0 0 0 0;\n",
              "      width: 32px;\n",
              "    }\n",
              "\n",
              "    .colab-df-convert:hover {\n",
              "      background-color: #E2EBFA;\n",
              "      box-shadow: 0px 1px 2px rgba(60, 64, 67, 0.3), 0px 1px 3px 1px rgba(60, 64, 67, 0.15);\n",
              "      fill: #174EA6;\n",
              "    }\n",
              "\n",
              "    .colab-df-buttons div {\n",
              "      margin-bottom: 4px;\n",
              "    }\n",
              "\n",
              "    [theme=dark] .colab-df-convert {\n",
              "      background-color: #3B4455;\n",
              "      fill: #D2E3FC;\n",
              "    }\n",
              "\n",
              "    [theme=dark] .colab-df-convert:hover {\n",
              "      background-color: #434B5C;\n",
              "      box-shadow: 0px 1px 3px 1px rgba(0, 0, 0, 0.15);\n",
              "      filter: drop-shadow(0px 1px 2px rgba(0, 0, 0, 0.3));\n",
              "      fill: #FFFFFF;\n",
              "    }\n",
              "  </style>\n",
              "\n",
              "    <script>\n",
              "      const buttonEl =\n",
              "        document.querySelector('#df-d289dff6-3ad1-4c0b-ab54-56cccd997c8d button.colab-df-convert');\n",
              "      buttonEl.style.display =\n",
              "        google.colab.kernel.accessAllowed ? 'block' : 'none';\n",
              "\n",
              "      async function convertToInteractive(key) {\n",
              "        const element = document.querySelector('#df-d289dff6-3ad1-4c0b-ab54-56cccd997c8d');\n",
              "        const dataTable =\n",
              "          await google.colab.kernel.invokeFunction('convertToInteractive',\n",
              "                                                    [key], {});\n",
              "        if (!dataTable) return;\n",
              "\n",
              "        const docLinkHtml = 'Like what you see? Visit the ' +\n",
              "          '<a target=\"_blank\" href=https://colab.research.google.com/notebooks/data_table.ipynb>data table notebook</a>'\n",
              "          + ' to learn more about interactive tables.';\n",
              "        element.innerHTML = '';\n",
              "        dataTable['output_type'] = 'display_data';\n",
              "        await google.colab.output.renderOutput(dataTable, element);\n",
              "        const docLink = document.createElement('div');\n",
              "        docLink.innerHTML = docLinkHtml;\n",
              "        element.appendChild(docLink);\n",
              "      }\n",
              "    </script>\n",
              "  </div>\n",
              "\n",
              "\n",
              "<div id=\"df-882a0315-30aa-44af-ab6b-b531fdc6d362\">\n",
              "  <button class=\"colab-df-quickchart\" onclick=\"quickchart('df-882a0315-30aa-44af-ab6b-b531fdc6d362')\"\n",
              "            title=\"Suggest charts.\"\n",
              "            style=\"display:none;\">\n",
              "\n",
              "<svg xmlns=\"http://www.w3.org/2000/svg\" height=\"24px\"viewBox=\"0 0 24 24\"\n",
              "     width=\"24px\">\n",
              "    <g>\n",
              "        <path d=\"M19 3H5c-1.1 0-2 .9-2 2v14c0 1.1.9 2 2 2h14c1.1 0 2-.9 2-2V5c0-1.1-.9-2-2-2zM9 17H7v-7h2v7zm4 0h-2V7h2v10zm4 0h-2v-4h2v4z\"/>\n",
              "    </g>\n",
              "</svg>\n",
              "  </button>\n",
              "\n",
              "<style>\n",
              "  .colab-df-quickchart {\n",
              "      --bg-color: #E8F0FE;\n",
              "      --fill-color: #1967D2;\n",
              "      --hover-bg-color: #E2EBFA;\n",
              "      --hover-fill-color: #174EA6;\n",
              "      --disabled-fill-color: #AAA;\n",
              "      --disabled-bg-color: #DDD;\n",
              "  }\n",
              "\n",
              "  [theme=dark] .colab-df-quickchart {\n",
              "      --bg-color: #3B4455;\n",
              "      --fill-color: #D2E3FC;\n",
              "      --hover-bg-color: #434B5C;\n",
              "      --hover-fill-color: #FFFFFF;\n",
              "      --disabled-bg-color: #3B4455;\n",
              "      --disabled-fill-color: #666;\n",
              "  }\n",
              "\n",
              "  .colab-df-quickchart {\n",
              "    background-color: var(--bg-color);\n",
              "    border: none;\n",
              "    border-radius: 50%;\n",
              "    cursor: pointer;\n",
              "    display: none;\n",
              "    fill: var(--fill-color);\n",
              "    height: 32px;\n",
              "    padding: 0;\n",
              "    width: 32px;\n",
              "  }\n",
              "\n",
              "  .colab-df-quickchart:hover {\n",
              "    background-color: var(--hover-bg-color);\n",
              "    box-shadow: 0 1px 2px rgba(60, 64, 67, 0.3), 0 1px 3px 1px rgba(60, 64, 67, 0.15);\n",
              "    fill: var(--button-hover-fill-color);\n",
              "  }\n",
              "\n",
              "  .colab-df-quickchart-complete:disabled,\n",
              "  .colab-df-quickchart-complete:disabled:hover {\n",
              "    background-color: var(--disabled-bg-color);\n",
              "    fill: var(--disabled-fill-color);\n",
              "    box-shadow: none;\n",
              "  }\n",
              "\n",
              "  .colab-df-spinner {\n",
              "    border: 2px solid var(--fill-color);\n",
              "    border-color: transparent;\n",
              "    border-bottom-color: var(--fill-color);\n",
              "    animation:\n",
              "      spin 1s steps(1) infinite;\n",
              "  }\n",
              "\n",
              "  @keyframes spin {\n",
              "    0% {\n",
              "      border-color: transparent;\n",
              "      border-bottom-color: var(--fill-color);\n",
              "      border-left-color: var(--fill-color);\n",
              "    }\n",
              "    20% {\n",
              "      border-color: transparent;\n",
              "      border-left-color: var(--fill-color);\n",
              "      border-top-color: var(--fill-color);\n",
              "    }\n",
              "    30% {\n",
              "      border-color: transparent;\n",
              "      border-left-color: var(--fill-color);\n",
              "      border-top-color: var(--fill-color);\n",
              "      border-right-color: var(--fill-color);\n",
              "    }\n",
              "    40% {\n",
              "      border-color: transparent;\n",
              "      border-right-color: var(--fill-color);\n",
              "      border-top-color: var(--fill-color);\n",
              "    }\n",
              "    60% {\n",
              "      border-color: transparent;\n",
              "      border-right-color: var(--fill-color);\n",
              "    }\n",
              "    80% {\n",
              "      border-color: transparent;\n",
              "      border-right-color: var(--fill-color);\n",
              "      border-bottom-color: var(--fill-color);\n",
              "    }\n",
              "    90% {\n",
              "      border-color: transparent;\n",
              "      border-bottom-color: var(--fill-color);\n",
              "    }\n",
              "  }\n",
              "</style>\n",
              "\n",
              "  <script>\n",
              "    async function quickchart(key) {\n",
              "      const quickchartButtonEl =\n",
              "        document.querySelector('#' + key + ' button');\n",
              "      quickchartButtonEl.disabled = true;  // To prevent multiple clicks.\n",
              "      quickchartButtonEl.classList.add('colab-df-spinner');\n",
              "      try {\n",
              "        const charts = await google.colab.kernel.invokeFunction(\n",
              "            'suggestCharts', [key], {});\n",
              "      } catch (error) {\n",
              "        console.error('Error during call to suggestCharts:', error);\n",
              "      }\n",
              "      quickchartButtonEl.classList.remove('colab-df-spinner');\n",
              "      quickchartButtonEl.classList.add('colab-df-quickchart-complete');\n",
              "    }\n",
              "    (() => {\n",
              "      let quickchartButtonEl =\n",
              "        document.querySelector('#df-882a0315-30aa-44af-ab6b-b531fdc6d362 button');\n",
              "      quickchartButtonEl.style.display =\n",
              "        google.colab.kernel.accessAllowed ? 'block' : 'none';\n",
              "    })();\n",
              "  </script>\n",
              "</div>\n",
              "    </div>\n",
              "  </div>\n"
            ]
          },
          "metadata": {},
          "execution_count": 14
        }
      ]
    },
    {
      "cell_type": "code",
      "source": [
        "explicit_filtered_ratings"
      ],
      "metadata": {
        "colab": {
          "base_uri": "https://localhost:8080/",
          "height": 424
        },
        "id": "XZ51hQGHmVp8",
        "outputId": "69194528-6332-46c4-f4c3-b22e71b4b53d"
      },
      "id": "XZ51hQGHmVp8",
      "execution_count": null,
      "outputs": [
        {
          "output_type": "execute_result",
          "data": {
            "text/plain": [
              "          user  item  values           timestamp\n",
              "0            0  1260     4.0 2006-11-30 11:19:50\n",
              "1            0  1529     4.5 2006-01-01 00:38:35\n",
              "2            0  2373     4.0 2006-11-30 11:18:46\n",
              "3            0  2515     4.0 2006-01-01 00:38:44\n",
              "4            0  2829     4.5 2005-12-03 00:53:20\n",
              "...        ...   ...     ...                 ...\n",
              "3998456  47536  1656     4.0 2000-11-15 13:26:26\n",
              "3998457  47536  2894     4.0 2000-11-15 13:24:52\n",
              "3998458  47537   158     5.0 1998-12-02 05:52:48\n",
              "3998459  47537   202     2.0 1998-12-02 05:53:36\n",
              "3998460  47537   248     2.0 1998-12-02 05:56:13\n",
              "\n",
              "[3998461 rows x 4 columns]"
            ],
            "text/html": [
              "\n",
              "  <div id=\"df-bfb968c2-e5d9-49c6-88d4-a23cf783e651\" class=\"colab-df-container\">\n",
              "    <div>\n",
              "<style scoped>\n",
              "    .dataframe tbody tr th:only-of-type {\n",
              "        vertical-align: middle;\n",
              "    }\n",
              "\n",
              "    .dataframe tbody tr th {\n",
              "        vertical-align: top;\n",
              "    }\n",
              "\n",
              "    .dataframe thead th {\n",
              "        text-align: right;\n",
              "    }\n",
              "</style>\n",
              "<table border=\"1\" class=\"dataframe\">\n",
              "  <thead>\n",
              "    <tr style=\"text-align: right;\">\n",
              "      <th></th>\n",
              "      <th>user</th>\n",
              "      <th>item</th>\n",
              "      <th>values</th>\n",
              "      <th>timestamp</th>\n",
              "    </tr>\n",
              "  </thead>\n",
              "  <tbody>\n",
              "    <tr>\n",
              "      <th>0</th>\n",
              "      <td>0</td>\n",
              "      <td>1260</td>\n",
              "      <td>4.0</td>\n",
              "      <td>2006-11-30 11:19:50</td>\n",
              "    </tr>\n",
              "    <tr>\n",
              "      <th>1</th>\n",
              "      <td>0</td>\n",
              "      <td>1529</td>\n",
              "      <td>4.5</td>\n",
              "      <td>2006-01-01 00:38:35</td>\n",
              "    </tr>\n",
              "    <tr>\n",
              "      <th>2</th>\n",
              "      <td>0</td>\n",
              "      <td>2373</td>\n",
              "      <td>4.0</td>\n",
              "      <td>2006-11-30 11:18:46</td>\n",
              "    </tr>\n",
              "    <tr>\n",
              "      <th>3</th>\n",
              "      <td>0</td>\n",
              "      <td>2515</td>\n",
              "      <td>4.0</td>\n",
              "      <td>2006-01-01 00:38:44</td>\n",
              "    </tr>\n",
              "    <tr>\n",
              "      <th>4</th>\n",
              "      <td>0</td>\n",
              "      <td>2829</td>\n",
              "      <td>4.5</td>\n",
              "      <td>2005-12-03 00:53:20</td>\n",
              "    </tr>\n",
              "    <tr>\n",
              "      <th>...</th>\n",
              "      <td>...</td>\n",
              "      <td>...</td>\n",
              "      <td>...</td>\n",
              "      <td>...</td>\n",
              "    </tr>\n",
              "    <tr>\n",
              "      <th>3998456</th>\n",
              "      <td>47536</td>\n",
              "      <td>1656</td>\n",
              "      <td>4.0</td>\n",
              "      <td>2000-11-15 13:26:26</td>\n",
              "    </tr>\n",
              "    <tr>\n",
              "      <th>3998457</th>\n",
              "      <td>47536</td>\n",
              "      <td>2894</td>\n",
              "      <td>4.0</td>\n",
              "      <td>2000-11-15 13:24:52</td>\n",
              "    </tr>\n",
              "    <tr>\n",
              "      <th>3998458</th>\n",
              "      <td>47537</td>\n",
              "      <td>158</td>\n",
              "      <td>5.0</td>\n",
              "      <td>1998-12-02 05:52:48</td>\n",
              "    </tr>\n",
              "    <tr>\n",
              "      <th>3998459</th>\n",
              "      <td>47537</td>\n",
              "      <td>202</td>\n",
              "      <td>2.0</td>\n",
              "      <td>1998-12-02 05:53:36</td>\n",
              "    </tr>\n",
              "    <tr>\n",
              "      <th>3998460</th>\n",
              "      <td>47537</td>\n",
              "      <td>248</td>\n",
              "      <td>2.0</td>\n",
              "      <td>1998-12-02 05:56:13</td>\n",
              "    </tr>\n",
              "  </tbody>\n",
              "</table>\n",
              "<p>3998461 rows × 4 columns</p>\n",
              "</div>\n",
              "    <div class=\"colab-df-buttons\">\n",
              "\n",
              "  <div class=\"colab-df-container\">\n",
              "    <button class=\"colab-df-convert\" onclick=\"convertToInteractive('df-bfb968c2-e5d9-49c6-88d4-a23cf783e651')\"\n",
              "            title=\"Convert this dataframe to an interactive table.\"\n",
              "            style=\"display:none;\">\n",
              "\n",
              "  <svg xmlns=\"http://www.w3.org/2000/svg\" height=\"24px\" viewBox=\"0 -960 960 960\">\n",
              "    <path d=\"M120-120v-720h720v720H120Zm60-500h600v-160H180v160Zm220 220h160v-160H400v160Zm0 220h160v-160H400v160ZM180-400h160v-160H180v160Zm440 0h160v-160H620v160ZM180-180h160v-160H180v160Zm440 0h160v-160H620v160Z\"/>\n",
              "  </svg>\n",
              "    </button>\n",
              "\n",
              "  <style>\n",
              "    .colab-df-container {\n",
              "      display:flex;\n",
              "      gap: 12px;\n",
              "    }\n",
              "\n",
              "    .colab-df-convert {\n",
              "      background-color: #E8F0FE;\n",
              "      border: none;\n",
              "      border-radius: 50%;\n",
              "      cursor: pointer;\n",
              "      display: none;\n",
              "      fill: #1967D2;\n",
              "      height: 32px;\n",
              "      padding: 0 0 0 0;\n",
              "      width: 32px;\n",
              "    }\n",
              "\n",
              "    .colab-df-convert:hover {\n",
              "      background-color: #E2EBFA;\n",
              "      box-shadow: 0px 1px 2px rgba(60, 64, 67, 0.3), 0px 1px 3px 1px rgba(60, 64, 67, 0.15);\n",
              "      fill: #174EA6;\n",
              "    }\n",
              "\n",
              "    .colab-df-buttons div {\n",
              "      margin-bottom: 4px;\n",
              "    }\n",
              "\n",
              "    [theme=dark] .colab-df-convert {\n",
              "      background-color: #3B4455;\n",
              "      fill: #D2E3FC;\n",
              "    }\n",
              "\n",
              "    [theme=dark] .colab-df-convert:hover {\n",
              "      background-color: #434B5C;\n",
              "      box-shadow: 0px 1px 3px 1px rgba(0, 0, 0, 0.15);\n",
              "      filter: drop-shadow(0px 1px 2px rgba(0, 0, 0, 0.3));\n",
              "      fill: #FFFFFF;\n",
              "    }\n",
              "  </style>\n",
              "\n",
              "    <script>\n",
              "      const buttonEl =\n",
              "        document.querySelector('#df-bfb968c2-e5d9-49c6-88d4-a23cf783e651 button.colab-df-convert');\n",
              "      buttonEl.style.display =\n",
              "        google.colab.kernel.accessAllowed ? 'block' : 'none';\n",
              "\n",
              "      async function convertToInteractive(key) {\n",
              "        const element = document.querySelector('#df-bfb968c2-e5d9-49c6-88d4-a23cf783e651');\n",
              "        const dataTable =\n",
              "          await google.colab.kernel.invokeFunction('convertToInteractive',\n",
              "                                                    [key], {});\n",
              "        if (!dataTable) return;\n",
              "\n",
              "        const docLinkHtml = 'Like what you see? Visit the ' +\n",
              "          '<a target=\"_blank\" href=https://colab.research.google.com/notebooks/data_table.ipynb>data table notebook</a>'\n",
              "          + ' to learn more about interactive tables.';\n",
              "        element.innerHTML = '';\n",
              "        dataTable['output_type'] = 'display_data';\n",
              "        await google.colab.output.renderOutput(dataTable, element);\n",
              "        const docLink = document.createElement('div');\n",
              "        docLink.innerHTML = docLinkHtml;\n",
              "        element.appendChild(docLink);\n",
              "      }\n",
              "    </script>\n",
              "  </div>\n",
              "\n",
              "\n",
              "<div id=\"df-c604477a-67a0-49f4-818d-ce396c9224e9\">\n",
              "  <button class=\"colab-df-quickchart\" onclick=\"quickchart('df-c604477a-67a0-49f4-818d-ce396c9224e9')\"\n",
              "            title=\"Suggest charts.\"\n",
              "            style=\"display:none;\">\n",
              "\n",
              "<svg xmlns=\"http://www.w3.org/2000/svg\" height=\"24px\"viewBox=\"0 0 24 24\"\n",
              "     width=\"24px\">\n",
              "    <g>\n",
              "        <path d=\"M19 3H5c-1.1 0-2 .9-2 2v14c0 1.1.9 2 2 2h14c1.1 0 2-.9 2-2V5c0-1.1-.9-2-2-2zM9 17H7v-7h2v7zm4 0h-2V7h2v10zm4 0h-2v-4h2v4z\"/>\n",
              "    </g>\n",
              "</svg>\n",
              "  </button>\n",
              "\n",
              "<style>\n",
              "  .colab-df-quickchart {\n",
              "      --bg-color: #E8F0FE;\n",
              "      --fill-color: #1967D2;\n",
              "      --hover-bg-color: #E2EBFA;\n",
              "      --hover-fill-color: #174EA6;\n",
              "      --disabled-fill-color: #AAA;\n",
              "      --disabled-bg-color: #DDD;\n",
              "  }\n",
              "\n",
              "  [theme=dark] .colab-df-quickchart {\n",
              "      --bg-color: #3B4455;\n",
              "      --fill-color: #D2E3FC;\n",
              "      --hover-bg-color: #434B5C;\n",
              "      --hover-fill-color: #FFFFFF;\n",
              "      --disabled-bg-color: #3B4455;\n",
              "      --disabled-fill-color: #666;\n",
              "  }\n",
              "\n",
              "  .colab-df-quickchart {\n",
              "    background-color: var(--bg-color);\n",
              "    border: none;\n",
              "    border-radius: 50%;\n",
              "    cursor: pointer;\n",
              "    display: none;\n",
              "    fill: var(--fill-color);\n",
              "    height: 32px;\n",
              "    padding: 0;\n",
              "    width: 32px;\n",
              "  }\n",
              "\n",
              "  .colab-df-quickchart:hover {\n",
              "    background-color: var(--hover-bg-color);\n",
              "    box-shadow: 0 1px 2px rgba(60, 64, 67, 0.3), 0 1px 3px 1px rgba(60, 64, 67, 0.15);\n",
              "    fill: var(--button-hover-fill-color);\n",
              "  }\n",
              "\n",
              "  .colab-df-quickchart-complete:disabled,\n",
              "  .colab-df-quickchart-complete:disabled:hover {\n",
              "    background-color: var(--disabled-bg-color);\n",
              "    fill: var(--disabled-fill-color);\n",
              "    box-shadow: none;\n",
              "  }\n",
              "\n",
              "  .colab-df-spinner {\n",
              "    border: 2px solid var(--fill-color);\n",
              "    border-color: transparent;\n",
              "    border-bottom-color: var(--fill-color);\n",
              "    animation:\n",
              "      spin 1s steps(1) infinite;\n",
              "  }\n",
              "\n",
              "  @keyframes spin {\n",
              "    0% {\n",
              "      border-color: transparent;\n",
              "      border-bottom-color: var(--fill-color);\n",
              "      border-left-color: var(--fill-color);\n",
              "    }\n",
              "    20% {\n",
              "      border-color: transparent;\n",
              "      border-left-color: var(--fill-color);\n",
              "      border-top-color: var(--fill-color);\n",
              "    }\n",
              "    30% {\n",
              "      border-color: transparent;\n",
              "      border-left-color: var(--fill-color);\n",
              "      border-top-color: var(--fill-color);\n",
              "      border-right-color: var(--fill-color);\n",
              "    }\n",
              "    40% {\n",
              "      border-color: transparent;\n",
              "      border-right-color: var(--fill-color);\n",
              "      border-top-color: var(--fill-color);\n",
              "    }\n",
              "    60% {\n",
              "      border-color: transparent;\n",
              "      border-right-color: var(--fill-color);\n",
              "    }\n",
              "    80% {\n",
              "      border-color: transparent;\n",
              "      border-right-color: var(--fill-color);\n",
              "      border-bottom-color: var(--fill-color);\n",
              "    }\n",
              "    90% {\n",
              "      border-color: transparent;\n",
              "      border-bottom-color: var(--fill-color);\n",
              "    }\n",
              "  }\n",
              "</style>\n",
              "\n",
              "  <script>\n",
              "    async function quickchart(key) {\n",
              "      const quickchartButtonEl =\n",
              "        document.querySelector('#' + key + ' button');\n",
              "      quickchartButtonEl.disabled = true;  // To prevent multiple clicks.\n",
              "      quickchartButtonEl.classList.add('colab-df-spinner');\n",
              "      try {\n",
              "        const charts = await google.colab.kernel.invokeFunction(\n",
              "            'suggestCharts', [key], {});\n",
              "      } catch (error) {\n",
              "        console.error('Error during call to suggestCharts:', error);\n",
              "      }\n",
              "      quickchartButtonEl.classList.remove('colab-df-spinner');\n",
              "      quickchartButtonEl.classList.add('colab-df-quickchart-complete');\n",
              "    }\n",
              "    (() => {\n",
              "      let quickchartButtonEl =\n",
              "        document.querySelector('#df-c604477a-67a0-49f4-818d-ce396c9224e9 button');\n",
              "      quickchartButtonEl.style.display =\n",
              "        google.colab.kernel.accessAllowed ? 'block' : 'none';\n",
              "    })();\n",
              "  </script>\n",
              "</div>\n",
              "    </div>\n",
              "  </div>\n"
            ]
          },
          "metadata": {},
          "execution_count": 15
        }
      ]
    },
    {
      "cell_type": "code",
      "source": [
        "explicit_filtered_remove1, explicit_removed1_dataset = remove_users(explicit_filtered_ratings, n=1)\n",
        "implicit_filtered_remove1, implicit_removed1_dataset = remove_users(implicit_filtered_ratings, n=1)"
      ],
      "metadata": {
        "id": "Q0e_Fb_smfyo"
      },
      "id": "Q0e_Fb_smfyo",
      "execution_count": 12,
      "outputs": []
    },
    {
      "cell_type": "code",
      "execution_count": 13,
      "id": "ccbcc599-a063-425f-9070-017e3bb298b4",
      "metadata": {
        "ExecuteTime": {
          "end_time": "2023-04-19T13:28:51.376849Z",
          "start_time": "2023-04-19T13:28:51.220964Z"
        },
        "id": "ccbcc599-a063-425f-9070-017e3bb298b4",
        "tags": []
      },
      "outputs": [],
      "source": [
        "ts_split = {\n",
        "    \"implicit\": implicit_filtered_ratings[\"timestamp\"].max()\n",
        "    - pd.Timedelta(365, \"days\"),\n",
        "    \"explicit\": explicit_filtered_ratings[\"timestamp\"].max()\n",
        "    - pd.Timedelta(365, \"days\"),\n",
        "}\n",
        "datasets_full = {}\n",
        "for key, dataset in (\n",
        "    (\"implicit\", implicit_filtered_ratings),\n",
        "    (\"explicit\", explicit_filtered_ratings),\n",
        "):\n",
        "    datasets_full[key] = {\n",
        "        \"train\": dataset.loc[dataset[\"timestamp\"] <= ts_split[key]],\n",
        "        \"valid\": dataset.loc[dataset[\"timestamp\"] > ts_split[key]],\n",
        "    }\n",
        "    datasets_full[key][\"valid\"] = datasets_full[key][\"valid\"].loc[\n",
        "        datasets_full[key][\"valid\"].user.isin(datasets_full[key][\"train\"].user.unique())\n",
        "    ]"
      ]
    },
    {
      "cell_type": "code",
      "source": [
        "ts_split = {\n",
        "    \"implicit\": implicit_filtered_remove1[\"timestamp\"].max()\n",
        "    - pd.Timedelta(365, \"days\"),\n",
        "    \"explicit\": explicit_filtered_remove1[\"timestamp\"].max()\n",
        "    - pd.Timedelta(365, \"days\"),\n",
        "}\n",
        "datasets_minus1 = {}\n",
        "for key, dataset in (\n",
        "    (\"implicit\", implicit_filtered_remove1),\n",
        "    (\"explicit\", explicit_filtered_remove1),\n",
        "):\n",
        "    datasets_minus1[key] = {\n",
        "        \"train\": dataset.loc[dataset[\"timestamp\"] <= ts_split[key]],\n",
        "        \"valid\": dataset.loc[dataset[\"timestamp\"] > ts_split[key]],\n",
        "    }\n",
        "    datasets_minus1[key][\"valid\"] = datasets_minus1[key][\"valid\"].loc[\n",
        "        datasets_minus1[key][\"valid\"].user.isin(datasets_minus1[key][\"train\"].user.unique())\n",
        "    ]"
      ],
      "metadata": {
        "id": "i87d1tu2FTXO"
      },
      "id": "i87d1tu2FTXO",
      "execution_count": 14,
      "outputs": []
    },
    {
      "cell_type": "code",
      "source": [
        "ts_split = {\n",
        "    \"implicit\": implicit_filtered_remove2[\"timestamp\"].max()\n",
        "    - pd.Timedelta(365, \"days\"),\n",
        "    \"explicit\": explicit_filtered_remove2[\"timestamp\"].max()\n",
        "    - pd.Timedelta(365, \"days\"),\n",
        "}\n",
        "datasets_minus2 = {}\n",
        "for key, dataset in (\n",
        "    (\"implicit\", implicit_filtered_remove2),\n",
        "    (\"explicit\", explicit_filtered_remove2),\n",
        "):\n",
        "    datasets_minus2[key] = {\n",
        "        \"train\": dataset.loc[dataset[\"timestamp\"] <= ts_split[key]],\n",
        "        \"valid\": dataset.loc[dataset[\"timestamp\"] > ts_split[key]],\n",
        "    }\n",
        "    datasets_minus2[key][\"valid\"] = datasets_minus2[key][\"valid\"].loc[\n",
        "        datasets_minus2[key][\"valid\"].user.isin(datasets_minus2[key][\"train\"].user.unique())\n",
        "    ]"
      ],
      "metadata": {
        "id": "r7xNLC_9nE48"
      },
      "id": "r7xNLC_9nE48",
      "execution_count": 15,
      "outputs": []
    },
    {
      "cell_type": "code",
      "source": [
        "datasets_minus1"
      ],
      "metadata": {
        "colab": {
          "base_uri": "https://localhost:8080/"
        },
        "id": "bA32S3yNnqnb",
        "outputId": "0c399bec-7b34-4285-c104-3bec2222c77a"
      },
      "id": "bA32S3yNnqnb",
      "execution_count": null,
      "outputs": [
        {
          "output_type": "execute_result",
          "data": {
            "text/plain": [
              "{'implicit': {'train':           user  item  values           timestamp\n",
              "  0            0  1260     4.0 2006-11-30 11:19:50\n",
              "  1            0  1529     4.5 2006-01-01 00:38:35\n",
              "  2            0  2373     4.0 2006-11-30 11:18:46\n",
              "  3            0  2515     4.0 2006-01-01 00:38:44\n",
              "  4            0  2829     4.5 2005-12-03 00:53:20\n",
              "  ...        ...   ...     ...                 ...\n",
              "  2338546  47536  1633     4.0 2000-11-15 13:41:22\n",
              "  2338547  47536  1652     4.0 2000-11-15 13:37:47\n",
              "  2338548  47536  1655     4.0 2000-11-15 13:33:54\n",
              "  2338549  47536  1656     4.0 2000-11-15 13:26:26\n",
              "  2338550  47536  2894     4.0 2000-11-15 13:24:52\n",
              "  \n",
              "  [2128722 rows x 4 columns],\n",
              "  'valid':           user  item  values           timestamp\n",
              "  889         20  1412     4.5 2008-04-20 05:35:35\n",
              "  925         20  3178     4.0 2008-04-20 05:33:46\n",
              "  1714        42  1286     4.0 2008-06-19 23:47:17\n",
              "  1715        42  1528     5.0 2008-06-19 23:57:50\n",
              "  1718        42  2807     5.0 2008-06-19 23:48:56\n",
              "  ...        ...   ...     ...                 ...\n",
              "  2336639  47500  6091     4.5 2008-06-06 19:33:58\n",
              "  2336640  47500  6096     3.5 2008-11-18 14:43:01\n",
              "  2336645  47500  6142     4.0 2008-11-18 14:43:14\n",
              "  2337453  47517  2197     5.0 2008-10-10 07:56:25\n",
              "  2337464  47517  5025     4.0 2008-10-10 07:56:42\n",
              "  \n",
              "  [34365 rows x 4 columns]},\n",
              " 'explicit': {'train':           user  item  values           timestamp\n",
              "  0            0  1260     4.0 2006-11-30 11:19:50\n",
              "  1            0  1529     4.5 2006-01-01 00:38:35\n",
              "  2            0  2373     4.0 2006-11-30 11:18:46\n",
              "  3            0  2515     4.0 2006-01-01 00:38:44\n",
              "  4            0  2829     4.5 2005-12-03 00:53:20\n",
              "  ...        ...   ...     ...                 ...\n",
              "  3998453  47536  1633     4.0 2000-11-15 13:41:22\n",
              "  3998454  47536  1652     4.0 2000-11-15 13:37:47\n",
              "  3998455  47536  1655     4.0 2000-11-15 13:33:54\n",
              "  3998456  47536  1656     4.0 2000-11-15 13:26:26\n",
              "  3998457  47536  2894     4.0 2000-11-15 13:24:52\n",
              "  \n",
              "  [3679912 rows x 4 columns],\n",
              "  'valid':           user  item  values           timestamp\n",
              "  1742        20  1412     4.5 2008-04-20 05:35:35\n",
              "  1784        20  3178     4.0 2008-04-20 05:33:46\n",
              "  1798        20  4080     3.0 2008-04-20 05:43:01\n",
              "  2944        42   266     0.5 2008-06-20 07:50:36\n",
              "  2945        42   267     0.5 2008-06-20 07:50:39\n",
              "  ...        ...   ...     ...                 ...\n",
              "  3995216  47500  6091     4.5 2008-06-06 19:33:58\n",
              "  3995218  47500  6096     3.5 2008-11-18 14:43:01\n",
              "  3995225  47500  6142     4.0 2008-11-18 14:43:14\n",
              "  3996556  47517  2197     5.0 2008-10-10 07:56:25\n",
              "  3996567  47517  5025     4.0 2008-10-10 07:56:42\n",
              "  \n",
              "  [56288 rows x 4 columns]}}"
            ]
          },
          "metadata": {},
          "execution_count": 22
        }
      ]
    },
    {
      "cell_type": "code",
      "execution_count": 16,
      "id": "eacef218-c4b3-43cc-9963-39f0190da68c",
      "metadata": {
        "ExecuteTime": {
          "end_time": "2023-04-19T13:28:51.379519Z",
          "start_time": "2023-04-19T13:28:51.377670Z"
        },
        "id": "eacef218-c4b3-43cc-9963-39f0190da68c"
      },
      "outputs": [],
      "source": [
        "def make_sparse(dataset: pd.DataFrame,\n",
        "                binary: bool = False,\n",
        "              ) -> sps.csr_matrix:\n",
        "    \"\"\"\n",
        "    Method for creating matrix, that will have item and user unique labels as axises and will be filled by scores (that user gived to item)\n",
        "      dataset: our dataset\n",
        "      binary: flag if we want to put just 1 instead of scores\n",
        "    \"\"\"\n",
        "    shape = (explicit_filtered_ratings['user'].nunique(), explicit_filtered_ratings['item'].nunique())\n",
        "    values = dataset[\"values\"].to_numpy()\n",
        "    values = np.ones_like(values) if binary else values\n",
        "    row = np.array(dataset[\"user\"].to_numpy())\n",
        "    column = np.array(dataset[\"item\"].to_numpy())\n",
        "    return sps.csr_matrix(\n",
        "                          (values, (row, column)),\n",
        "                          shape=shape\n",
        "                          )\n",
        "\n",
        "\n",
        "def build_sparse_datasets(train: pd.DataFrame,\n",
        "                          valid: pd.DataFrame,\n",
        "                          binary: bool = True,\n",
        "                        ) -> dict[str, dict[str, sps.csr_matrix]]:\n",
        "    \"\"\"\n",
        "    Wrapper for make_sparse method\n",
        "    \"\"\"\n",
        "    train_sparse = make_sparse(train, binary=binary)\n",
        "    valid_sparse = make_sparse(valid, binary=binary)\n",
        "    train_mask, valid_mask = (\n",
        "        train_sparse.getnnz(axis=-1) > 0,\n",
        "        valid_sparse.getnnz(axis=-1) > 0,\n",
        "    )\n",
        "    return {\n",
        "        \"train\": {\n",
        "            \"source\": train_sparse[train_mask],\n",
        "            \"target\": train_sparse[train_mask],\n",
        "        },\n",
        "        \"valid\": {\n",
        "            \"source\": valid_sparse[valid_mask],\n",
        "            \"target\": valid_sparse[valid_mask],\n",
        "        },\n",
        "    }"
      ]
    },
    {
      "cell_type": "code",
      "execution_count": 17,
      "id": "dc7fafd3-485a-4c21-9c49-6b9c3694c102",
      "metadata": {
        "ExecuteTime": {
          "end_time": "2023-04-19T13:28:51.985570Z",
          "start_time": "2023-04-19T13:28:51.755488Z"
        },
        "colab": {
          "base_uri": "https://localhost:8080/"
        },
        "id": "dc7fafd3-485a-4c21-9c49-6b9c3694c102",
        "outputId": "098eeec8-8ab3-47a8-dd01-4c4e53a714a2"
      },
      "outputs": [
        {
          "output_type": "stream",
          "name": "stdout",
          "text": [
            "Explicit\n",
            "{'train': {'source': <43239x6196 sparse matrix of type '<class 'numpy.float64'>'\n",
            "\twith 3679915 stored elements in Compressed Sparse Row format>,\n",
            "           'target': <43239x6196 sparse matrix of type '<class 'numpy.float64'>'\n",
            "\twith 3679915 stored elements in Compressed Sparse Row format>},\n",
            " 'valid': {'source': <2369x6196 sparse matrix of type '<class 'numpy.float64'>'\n",
            "\twith 56288 stored elements in Compressed Sparse Row format>,\n",
            "           'target': <2369x6196 sparse matrix of type '<class 'numpy.float64'>'\n",
            "\twith 56288 stored elements in Compressed Sparse Row format>}}\n",
            "Implicit\n",
            "{'train': {'source': <42583x6196 sparse matrix of type '<class 'numpy.float64'>'\n",
            "\twith 2128723 stored elements in Compressed Sparse Row format>,\n",
            "           'target': <42583x6196 sparse matrix of type '<class 'numpy.float64'>'\n",
            "\twith 2128723 stored elements in Compressed Sparse Row format>},\n",
            " 'valid': {'source': <2261x6196 sparse matrix of type '<class 'numpy.float64'>'\n",
            "\twith 34365 stored elements in Compressed Sparse Row format>,\n",
            "           'target': <2261x6196 sparse matrix of type '<class 'numpy.float64'>'\n",
            "\twith 34365 stored elements in Compressed Sparse Row format>}}\n"
          ]
        }
      ],
      "source": [
        "explicit_full_datasets = build_sparse_datasets(\n",
        "    **datasets_full[\"explicit\"], binary=False\n",
        ")\n",
        "implicit_full_datasets = build_sparse_datasets(\n",
        "    **datasets_full[\"implicit\"], binary=True\n",
        ")\n",
        "print(\"Explicit\")\n",
        "pprint(explicit_full_datasets)\n",
        "print(\"Implicit\")\n",
        "pprint(implicit_full_datasets)"
      ]
    },
    {
      "cell_type": "code",
      "source": [
        "explicit_minus1_datasets = build_sparse_datasets(\n",
        "    **datasets_minus1[\"explicit\"], binary=False\n",
        ")\n",
        "implicit_minus1_datasets = build_sparse_datasets(\n",
        "    **datasets_minus1[\"implicit\"], binary=True\n",
        ")\n",
        "print(\"Explicit\")\n",
        "pprint(explicit_minus1_datasets)\n",
        "print(\"Implicit\")\n",
        "pprint(implicit_minus1_datasets)"
      ],
      "metadata": {
        "colab": {
          "base_uri": "https://localhost:8080/"
        },
        "id": "HFonxPW0n_vm",
        "outputId": "24afe08c-7fab-40b4-a654-4c979c782360"
      },
      "id": "HFonxPW0n_vm",
      "execution_count": 18,
      "outputs": [
        {
          "output_type": "stream",
          "name": "stdout",
          "text": [
            "Explicit\n",
            "{'train': {'source': <43238x6196 sparse matrix of type '<class 'numpy.float64'>'\n",
            "\twith 3679912 stored elements in Compressed Sparse Row format>,\n",
            "           'target': <43238x6196 sparse matrix of type '<class 'numpy.float64'>'\n",
            "\twith 3679912 stored elements in Compressed Sparse Row format>},\n",
            " 'valid': {'source': <2369x6196 sparse matrix of type '<class 'numpy.float64'>'\n",
            "\twith 56288 stored elements in Compressed Sparse Row format>,\n",
            "           'target': <2369x6196 sparse matrix of type '<class 'numpy.float64'>'\n",
            "\twith 56288 stored elements in Compressed Sparse Row format>}}\n",
            "Implicit\n",
            "{'train': {'source': <42582x6196 sparse matrix of type '<class 'numpy.float64'>'\n",
            "\twith 2128722 stored elements in Compressed Sparse Row format>,\n",
            "           'target': <42582x6196 sparse matrix of type '<class 'numpy.float64'>'\n",
            "\twith 2128722 stored elements in Compressed Sparse Row format>},\n",
            " 'valid': {'source': <2261x6196 sparse matrix of type '<class 'numpy.float64'>'\n",
            "\twith 34365 stored elements in Compressed Sparse Row format>,\n",
            "           'target': <2261x6196 sparse matrix of type '<class 'numpy.float64'>'\n",
            "\twith 34365 stored elements in Compressed Sparse Row format>}}\n"
          ]
        }
      ]
    },
    {
      "cell_type": "code",
      "source": [
        "explicit_minus2_datasets = build_sparse_datasets(\n",
        "    **datasets_minus2[\"explicit\"], binary=False\n",
        ")\n",
        "implicit_minus2_datasets = build_sparse_datasets(\n",
        "    **datasets_minus2[\"implicit\"], binary=True\n",
        ")\n",
        "print(\"Explicit\")\n",
        "pprint(explicit_minus2_datasets)\n",
        "print(\"Implicit\")\n",
        "pprint(implicit_minus2_datasets)"
      ],
      "metadata": {
        "colab": {
          "base_uri": "https://localhost:8080/"
        },
        "id": "Sn2dpPPNn_yy",
        "outputId": "1012a007-ac1d-422c-b5bc-39fbe9cc83a8"
      },
      "id": "Sn2dpPPNn_yy",
      "execution_count": 19,
      "outputs": [
        {
          "output_type": "stream",
          "name": "stdout",
          "text": [
            "Explicit\n",
            "{'train': {'source': <43237x6196 sparse matrix of type '<class 'numpy.float64'>'\n",
            "\twith 3679851 stored elements in Compressed Sparse Row format>,\n",
            "           'target': <43237x6196 sparse matrix of type '<class 'numpy.float64'>'\n",
            "\twith 3679851 stored elements in Compressed Sparse Row format>},\n",
            " 'valid': {'source': <2369x6196 sparse matrix of type '<class 'numpy.float64'>'\n",
            "\twith 56288 stored elements in Compressed Sparse Row format>,\n",
            "           'target': <2369x6196 sparse matrix of type '<class 'numpy.float64'>'\n",
            "\twith 56288 stored elements in Compressed Sparse Row format>}}\n",
            "Implicit\n",
            "{'train': {'source': <42581x6196 sparse matrix of type '<class 'numpy.float64'>'\n",
            "\twith 2128685 stored elements in Compressed Sparse Row format>,\n",
            "           'target': <42581x6196 sparse matrix of type '<class 'numpy.float64'>'\n",
            "\twith 2128685 stored elements in Compressed Sparse Row format>},\n",
            " 'valid': {'source': <2261x6196 sparse matrix of type '<class 'numpy.float64'>'\n",
            "\twith 34365 stored elements in Compressed Sparse Row format>,\n",
            "           'target': <2261x6196 sparse matrix of type '<class 'numpy.float64'>'\n",
            "\twith 34365 stored elements in Compressed Sparse Row format>}}\n"
          ]
        }
      ]
    },
    {
      "cell_type": "markdown",
      "id": "156ec922-f440-4c87-95de-414ac9d7b205",
      "metadata": {
        "id": "156ec922-f440-4c87-95de-414ac9d7b205"
      },
      "source": [
        "### 3.4 Готовим лоадеры для данных\n",
        "\n",
        "Сложим все аккуратно по батчам для удобства дальнейшего обучения"
      ]
    },
    {
      "cell_type": "code",
      "execution_count": 20,
      "id": "1f349885-bd34-46f8-b0d9-3d628b20f3eb",
      "metadata": {
        "ExecuteTime": {
          "end_time": "2023-04-19T13:28:53.140085Z",
          "start_time": "2023-04-19T13:28:53.127008Z"
        },
        "id": "1f349885-bd34-46f8-b0d9-3d628b20f3eb"
      },
      "outputs": [],
      "source": [
        "class MovieLensDataset(Dataset):\n",
        "    def __init__(self, source: sps.csc_matrix, target: sps.csr_matrix = None) -> None:\n",
        "        self._source = source\n",
        "        self._target = target\n",
        "\n",
        "    def __len__(self):\n",
        "        return self._source.shape[0]\n",
        "\n",
        "    def __getitem__(self, idx: int) -> dict[str, np.ndarray]:\n",
        "        item = {\"source\": self._source[idx]}\n",
        "        if self._target is not None:\n",
        "            item[\"target\"] = self._target[idx]\n",
        "        return item"
      ]
    },
    {
      "cell_type": "code",
      "execution_count": 21,
      "id": "dc506a39-3880-4080-b2b8-3fdfb47d6b13",
      "metadata": {
        "ExecuteTime": {
          "end_time": "2023-04-19T13:28:53.387822Z",
          "start_time": "2023-04-19T13:28:53.371999Z"
        },
        "id": "dc506a39-3880-4080-b2b8-3fdfb47d6b13"
      },
      "outputs": [],
      "source": [
        "class MovieLensCollator:\n",
        "    def __call__(\n",
        "        self, instances: Iterable[dict[str, sps.csr_matrix]]\n",
        "    ) -> dict[str, torch.Tensor]:\n",
        "        batch = self._make_batch(instances)\n",
        "        for key, tensor in batch.items():\n",
        "            batch[key] = (\n",
        "                self._to_sparse(tensor).to_dense().float()\n",
        "                if isinstance(tensor[0], sps.csr_matrix)\n",
        "                else torch.Tensor(tensor)\n",
        "            )\n",
        "        return dict(batch)\n",
        "\n",
        "    @staticmethod\n",
        "    def _make_batch(\n",
        "        instances: Iterable[dict[str, sps.csr_matrix]]\n",
        "    ) -> dict[str, list[sps.csr_matrix]]:\n",
        "        tensor_dict = defaultdict(list)\n",
        "        for instance in instances:\n",
        "            for field, tensor in instance.items():\n",
        "                tensor_dict[field].append(tensor)\n",
        "        return tensor_dict\n",
        "\n",
        "    @staticmethod\n",
        "    def _to_sparse(tensor: list[sps.csr_matrix]) -> torch.sparse.Tensor:\n",
        "        tensor = sps.vstack(tensor)\n",
        "        values = torch.from_numpy(tensor.data)\n",
        "        indices = torch.from_numpy(np.vstack(tensor.nonzero())).long()\n",
        "        sparse_tensor = torch.sparse.FloatTensor(indices, values, tensor.shape)\n",
        "        return sparse_tensor"
      ]
    },
    {
      "cell_type": "markdown",
      "id": "64c5bcc0-56b1-4f30-b949-5c63e14928f4",
      "metadata": {
        "id": "64c5bcc0-56b1-4f30-b949-5c63e14928f4"
      },
      "source": [
        "## 4. Наши методы\n",
        "\n",
        "###  Sparse Model и Runner\n",
        "\n",
        "#### Sparse Model\n",
        "\n",
        "Сделаем базовый класс, он зафиксирует тот факт, что модель состоит из 2 функций:\n",
        "- Обучение — `.fit()`. Каждая модель обучается только на `train.source` части из датасетов.\n",
        "- Инфер — `.predict_proba()`. Делаем инфер на батче данных из `(train|valid).source` и сравниваем с ответами в `(train|valid).target`, если добавили callback с метриками. Ответ каждой модели — словарь. Мы решили остановиться на dict только с одним ключом **logits**.\n",
        "\n",
        "И еще тот факт, что у нас данные на cpu храниться будут\n",
        "\n",
        "И да ещё один важный момент. У каждой модели есть параметр `remove_seen`. С помощью него из предсказний модели, можно убрать айтемы, которые юзер видел во время обучения. В итоге мы всегда будем рекомендовать только что-то новое для клиентов.\n",
        "\n",
        "#### Runner\n",
        "\n",
        "Runner решает только одну задачу — прогон модели на данных. `fit` делаем на всех данных, а `predict_proba` батчевым образом, чтобы сэкономить на памяти."
      ]
    },
    {
      "cell_type": "code",
      "execution_count": 22,
      "id": "7d7a0d14",
      "metadata": {
        "ExecuteTime": {
          "end_time": "2023-04-19T13:28:54.523715Z",
          "start_time": "2023-04-19T13:28:54.503102Z"
        },
        "id": "7d7a0d14"
      },
      "outputs": [],
      "source": [
        "device = torch.device(\"cuda:0\") if torch.cuda.is_available() else torch.device(\"cpu\")"
      ]
    },
    {
      "cell_type": "code",
      "execution_count": 23,
      "id": "3eb7070c-b9ac-40e9-830a-0b5b1864d39e",
      "metadata": {
        "ExecuteTime": {
          "end_time": "2023-04-19T13:28:54.806711Z",
          "start_time": "2023-04-19T13:28:54.798990Z"
        },
        "id": "3eb7070c-b9ac-40e9-830a-0b5b1864d39e"
      },
      "outputs": [],
      "source": [
        "class SparseModel(ABC):\n",
        "    def __init__(self, remove_seen: bool = True) -> None:\n",
        "        self.remove_seen = remove_seen\n",
        "        self.device = torch.device(\"cpu\")\n",
        "\n",
        "    @abstractmethod\n",
        "    def fit(self, data: sps.csr_matrix) -> None:\n",
        "        pass\n",
        "\n",
        "    @abstractmethod\n",
        "    def predict_proba(self, batch: dict[str, Any]) -> dict[str, torch.Tensor]:\n",
        "        pass\n",
        "\n",
        "    def to(self, device: torch.device) -> \"SparseModel\":\n",
        "        self.device = device\n",
        "        return self"
      ]
    },
    {
      "cell_type": "code",
      "execution_count": 24,
      "id": "5de63b45-44cf-4e9c-920d-7dadf4429e7e",
      "metadata": {
        "ExecuteTime": {
          "end_time": "2023-04-19T13:28:54.996756Z",
          "start_time": "2023-04-19T13:28:54.991823Z"
        },
        "id": "5de63b45-44cf-4e9c-920d-7dadf4429e7e"
      },
      "outputs": [],
      "source": [
        "class SparseRunner(IExperiment):\n",
        "    def __init__(\n",
        "                self,\n",
        "                model: SparseModel,\n",
        "                seed: int = 13,\n",
        "                batch_size: int = 32,\n",
        "                device: torch.device = torch.device(\"cpu\"),\n",
        "                callbacks: dict[str, ICallback] = None,\n",
        "                target_threshold: float = 0.0,\n",
        "              ) -> None:\n",
        "        super().__init__()\n",
        "        self.seed = seed\n",
        "        self.model = model.to(device)\n",
        "        self.device = device\n",
        "        self.callbacks = callbacks or defaultdict(None)\n",
        "        self._batch_size = batch_size\n",
        "        self._target_threshold = target_threshold\n",
        "        # Extra variables\n",
        "        self.batch_output: dict[str, torch.Tensor] = None\n",
        "        self.batch_target: torch.Tensor = None\n",
        "\n",
        "    def run_dataset(self) -> None:\n",
        "        if self.is_train_dataset:\n",
        "            self.model.fit(self.dataset[\"source\"])\n",
        "        self.dataset = tqdm(\n",
        "            DataLoader(\n",
        "                MovieLensDataset(**self.dataset),\n",
        "                collate_fn=MovieLensCollator(),\n",
        "                batch_size=self._batch_size,\n",
        "                shuffle=True,\n",
        "                num_workers=1,\n",
        "                pin_memory=True,\n",
        "            ),\n",
        "            desc=f\"Iterating {self.dataset_key}\",\n",
        "        )\n",
        "        # Remove seen items only for validation\n",
        "        self.model.remove_seen = not self.is_train_dataset\n",
        "        super().run_dataset()\n",
        "\n",
        "    def run_batch(self) -> None:\n",
        "        self.batch = {k: v.to(self.device) for k, v in self.batch.items()}\n",
        "        self.batch_target = self.batch[\"target\"].gt(self._target_threshold).float()\n",
        "        self.batch_output = self.model.predict_proba(self.batch)\n",
        "\n",
        "    def run(self, datasets: dict[str, dict[str, sps.csr_matrix]]) -> None:\n",
        "        self.datasets = datasets\n",
        "        super().run()"
      ]
    },
    {
      "cell_type": "code",
      "execution_count": null,
      "id": "jHIVi_z3eAqH",
      "metadata": {
        "ExecuteTime": {
          "end_time": "2023-04-19T13:28:55.403516Z",
          "start_time": "2023-04-19T13:28:55.397718Z"
        },
        "id": "jHIVi_z3eAqH"
      },
      "outputs": [],
      "source": [
        "dataset_example_train = MovieLensDataset(**implicit_full_datasets[\"train\"])"
      ]
    },
    {
      "cell_type": "code",
      "execution_count": null,
      "id": "HaUzLvjgdRnU",
      "metadata": {
        "ExecuteTime": {
          "end_time": "2023-04-19T13:28:55.844282Z",
          "start_time": "2023-04-19T13:28:55.838277Z"
        },
        "id": "HaUzLvjgdRnU"
      },
      "outputs": [],
      "source": [
        "loader_example = DataLoader(\n",
        "    dataset_example_train,\n",
        "    collate_fn=MovieLensCollator(),\n",
        "    batch_size=32,\n",
        "    shuffle=True,\n",
        "    num_workers=1,\n",
        "    pin_memory=True,\n",
        ")"
      ]
    },
    {
      "cell_type": "markdown",
      "id": "cb83ee00-4865-439e-8ed6-be358e82f1d1",
      "metadata": {
        "id": "cb83ee00-4865-439e-8ed6-be358e82f1d1"
      },
      "source": [
        "### 4.1 Baseline\n",
        "\n",
        "Модель TopPopular. Получаем список самых популярных айтемов по суммированию рейтингов и рекомендуем всем эти вот самые популярные айтемы (тут не будет никакой разницы между explicit и implicit)"
      ]
    },
    {
      "cell_type": "code",
      "execution_count": 25,
      "id": "c02456c9-1e80-469f-8d8c-4825395497b9",
      "metadata": {
        "ExecuteTime": {
          "end_time": "2023-04-19T13:29:03.095092Z",
          "start_time": "2023-04-19T13:29:03.073466Z"
        },
        "id": "c02456c9-1e80-469f-8d8c-4825395497b9"
      },
      "outputs": [],
      "source": [
        "class TopPopularModel(SparseModel):\n",
        "    def __init__(self,\n",
        "                 remove_seen: bool = True\n",
        "                ) -> None:\n",
        "        super().__init__(remove_seen=remove_seen)\n",
        "        self._stats = {}\n",
        "\n",
        "    def fit(self,\n",
        "            data: sps.csr_matrix\n",
        "          ) -> None:\n",
        "        self._logits = (\n",
        "          torch.from_numpy(np.array(data.sum(axis=0), dtype=np.float32))\n",
        "          .view(-1)\n",
        "          .to(self.device)\n",
        "        )\n",
        "        self._stats[\"item_freq\"] = self._logits\n",
        "\n",
        "    def predict_proba(self,\n",
        "                      batch: dict[str, Any]\n",
        "                    ) -> dict[str, torch.Tensor]:\n",
        "        scores = self._logits.repeat(batch[\"source\"].size(0), 1)\n",
        "        if self.remove_seen:\n",
        "            scores[batch[\"source\"].gt(0)] = -1e13\n",
        "        return {\"logits\": scores}"
      ]
    },
    {
      "cell_type": "code",
      "execution_count": null,
      "id": "5260ab5d-1b24-4ce1-a136-6b2b2b7e328e",
      "metadata": {
        "ExecuteTime": {
          "start_time": "2023-04-19T13:29:03.359154Z"
        },
        "colab": {
          "base_uri": "https://localhost:8080/"
        },
        "id": "5260ab5d-1b24-4ce1-a136-6b2b2b7e328e",
        "is_executing": true,
        "outputId": "70cf9770-2ed8-4d18-8b0c-948945c83c5c"
      },
      "outputs": [
        {
          "output_type": "stream",
          "name": "stdout",
          "text": [
            "Implicit\n"
          ]
        },
        {
          "output_type": "stream",
          "name": "stderr",
          "text": [
            "\rIterating train:   0%|          | 0/1331 [00:00<?, ?it/s]<ipython-input-31-5dbb9ea315af>:29: UserWarning: torch.sparse.SparseTensor(indices, values, shape, *, device=) is deprecated.  Please use torch.sparse_coo_tensor(indices, values, shape, dtype=, device=). (Triggered internally at ../torch/csrc/utils/tensor_new.cpp:605.)\n",
            "  sparse_tensor = torch.sparse.FloatTensor(indices, values, tensor.shape)\n",
            "Iterating train: 100%|██████████| 1331/1331 [00:21<00:00, 63.04it/s]\n",
            "Iterating valid:   0%|          | 0/71 [00:00<?, ?it/s]<ipython-input-31-5dbb9ea315af>:29: UserWarning: torch.sparse.SparseTensor(indices, values, shape, *, device=) is deprecated.  Please use torch.sparse_coo_tensor(indices, values, shape, dtype=, device=). (Triggered internally at ../torch/csrc/utils/tensor_new.cpp:605.)\n",
            "  sparse_tensor = torch.sparse.FloatTensor(indices, values, tensor.shape)\n",
            "Iterating valid: 100%|██████████| 71/71 [00:01<00:00, 66.92it/s]\n"
          ]
        },
        {
          "output_type": "stream",
          "name": "stdout",
          "text": [
            "Explicit\n"
          ]
        },
        {
          "output_type": "stream",
          "name": "stderr",
          "text": [
            "\rIterating train:   0%|          | 0/1352 [00:00<?, ?it/s]<ipython-input-31-5dbb9ea315af>:29: UserWarning: torch.sparse.SparseTensor(indices, values, shape, *, device=) is deprecated.  Please use torch.sparse_coo_tensor(indices, values, shape, dtype=, device=). (Triggered internally at ../torch/csrc/utils/tensor_new.cpp:605.)\n",
            "  sparse_tensor = torch.sparse.FloatTensor(indices, values, tensor.shape)\n",
            "Iterating train: 100%|██████████| 1352/1352 [00:22<00:00, 59.27it/s]\n",
            "Iterating valid:   0%|          | 0/75 [00:00<?, ?it/s]<ipython-input-31-5dbb9ea315af>:29: UserWarning: torch.sparse.SparseTensor(indices, values, shape, *, device=) is deprecated.  Please use torch.sparse_coo_tensor(indices, values, shape, dtype=, device=). (Triggered internally at ../torch/csrc/utils/tensor_new.cpp:605.)\n",
            "  sparse_tensor = torch.sparse.FloatTensor(indices, values, tensor.shape)\n",
            "Iterating valid: 100%|██████████| 75/75 [00:01<00:00, 49.33it/s]\n"
          ]
        }
      ],
      "source": [
        "top_popular_full = SparseRunner(model=TopPopularModel(), device=device)\n",
        "\n",
        "print(\"Implicit\")\n",
        "top_popular_full.run(implicit_full_datasets)\n",
        "print(\"Explicit\")\n",
        "top_popular_full.run(explicit_full_datasets)"
      ]
    },
    {
      "cell_type": "code",
      "source": [
        "top_popular_minus1 = SparseRunner(model=TopPopularModel(), device=device)\n",
        "\n",
        "print(\"Implicit\")\n",
        "top_popular_minus1.run(implicit_minus1_datasets)\n",
        "print(\"Explicit\")\n",
        "top_popular_minus1.run(explicit_minus1_datasets)"
      ],
      "metadata": {
        "colab": {
          "base_uri": "https://localhost:8080/"
        },
        "id": "-Dc98goDqIM4",
        "outputId": "afaa1d35-88bd-44c1-bee5-c17e684b4119"
      },
      "id": "-Dc98goDqIM4",
      "execution_count": null,
      "outputs": [
        {
          "output_type": "stream",
          "name": "stdout",
          "text": [
            "Implicit\n"
          ]
        },
        {
          "output_type": "stream",
          "name": "stderr",
          "text": [
            "\rIterating train:   0%|          | 0/1331 [00:00<?, ?it/s]<ipython-input-31-5dbb9ea315af>:29: UserWarning: torch.sparse.SparseTensor(indices, values, shape, *, device=) is deprecated.  Please use torch.sparse_coo_tensor(indices, values, shape, dtype=, device=). (Triggered internally at ../torch/csrc/utils/tensor_new.cpp:605.)\n",
            "  sparse_tensor = torch.sparse.FloatTensor(indices, values, tensor.shape)\n",
            "Iterating train: 100%|██████████| 1331/1331 [00:18<00:00, 71.58it/s]\n",
            "Iterating valid:   0%|          | 0/71 [00:00<?, ?it/s]<ipython-input-31-5dbb9ea315af>:29: UserWarning: torch.sparse.SparseTensor(indices, values, shape, *, device=) is deprecated.  Please use torch.sparse_coo_tensor(indices, values, shape, dtype=, device=). (Triggered internally at ../torch/csrc/utils/tensor_new.cpp:605.)\n",
            "  sparse_tensor = torch.sparse.FloatTensor(indices, values, tensor.shape)\n",
            "Iterating valid: 100%|██████████| 71/71 [00:01<00:00, 61.85it/s]\n"
          ]
        },
        {
          "output_type": "stream",
          "name": "stdout",
          "text": [
            "Explicit\n"
          ]
        },
        {
          "output_type": "stream",
          "name": "stderr",
          "text": [
            "\rIterating train:   0%|          | 0/1352 [00:00<?, ?it/s]<ipython-input-31-5dbb9ea315af>:29: UserWarning: torch.sparse.SparseTensor(indices, values, shape, *, device=) is deprecated.  Please use torch.sparse_coo_tensor(indices, values, shape, dtype=, device=). (Triggered internally at ../torch/csrc/utils/tensor_new.cpp:605.)\n",
            "  sparse_tensor = torch.sparse.FloatTensor(indices, values, tensor.shape)\n",
            "Iterating train: 100%|██████████| 1352/1352 [00:18<00:00, 73.16it/s]\n",
            "Iterating valid:   0%|          | 0/75 [00:00<?, ?it/s]<ipython-input-31-5dbb9ea315af>:29: UserWarning: torch.sparse.SparseTensor(indices, values, shape, *, device=) is deprecated.  Please use torch.sparse_coo_tensor(indices, values, shape, dtype=, device=). (Triggered internally at ../torch/csrc/utils/tensor_new.cpp:605.)\n",
            "  sparse_tensor = torch.sparse.FloatTensor(indices, values, tensor.shape)\n",
            "Iterating valid: 100%|██████████| 75/75 [00:01<00:00, 63.76it/s]\n"
          ]
        }
      ]
    },
    {
      "cell_type": "code",
      "source": [
        "top_popular_minus2 = SparseRunner(model=TopPopularModel(), device=device)\n",
        "\n",
        "print(\"Implicit\")\n",
        "top_popular_minus2.run(implicit_minus2_datasets)\n",
        "print(\"Explicit\")\n",
        "top_popular_minus2.run(explicit_minus2_datasets)"
      ],
      "metadata": {
        "colab": {
          "base_uri": "https://localhost:8080/"
        },
        "id": "_rVFl4_0qJdV",
        "outputId": "d4647170-c9e1-4b0f-df89-124d4443a954"
      },
      "id": "_rVFl4_0qJdV",
      "execution_count": null,
      "outputs": [
        {
          "output_type": "stream",
          "name": "stdout",
          "text": [
            "Implicit\n"
          ]
        },
        {
          "output_type": "stream",
          "name": "stderr",
          "text": [
            "\rIterating train:   0%|          | 0/1331 [00:00<?, ?it/s]<ipython-input-31-5dbb9ea315af>:29: UserWarning: torch.sparse.SparseTensor(indices, values, shape, *, device=) is deprecated.  Please use torch.sparse_coo_tensor(indices, values, shape, dtype=, device=). (Triggered internally at ../torch/csrc/utils/tensor_new.cpp:605.)\n",
            "  sparse_tensor = torch.sparse.FloatTensor(indices, values, tensor.shape)\n",
            "Iterating train: 100%|██████████| 1331/1331 [00:21<00:00, 62.23it/s]\n",
            "Iterating valid:   0%|          | 0/71 [00:00<?, ?it/s]<ipython-input-31-5dbb9ea315af>:29: UserWarning: torch.sparse.SparseTensor(indices, values, shape, *, device=) is deprecated.  Please use torch.sparse_coo_tensor(indices, values, shape, dtype=, device=). (Triggered internally at ../torch/csrc/utils/tensor_new.cpp:605.)\n",
            "  sparse_tensor = torch.sparse.FloatTensor(indices, values, tensor.shape)\n",
            "Iterating valid: 100%|██████████| 71/71 [00:00<00:00, 73.39it/s]\n"
          ]
        },
        {
          "output_type": "stream",
          "name": "stdout",
          "text": [
            "Explicit\n"
          ]
        },
        {
          "output_type": "stream",
          "name": "stderr",
          "text": [
            "\rIterating train:   0%|          | 0/1352 [00:00<?, ?it/s]<ipython-input-31-5dbb9ea315af>:29: UserWarning: torch.sparse.SparseTensor(indices, values, shape, *, device=) is deprecated.  Please use torch.sparse_coo_tensor(indices, values, shape, dtype=, device=). (Triggered internally at ../torch/csrc/utils/tensor_new.cpp:605.)\n",
            "  sparse_tensor = torch.sparse.FloatTensor(indices, values, tensor.shape)\n",
            "Iterating train: 100%|██████████| 1352/1352 [00:17<00:00, 76.96it/s]\n",
            "Iterating valid:   0%|          | 0/75 [00:00<?, ?it/s]<ipython-input-31-5dbb9ea315af>:29: UserWarning: torch.sparse.SparseTensor(indices, values, shape, *, device=) is deprecated.  Please use torch.sparse_coo_tensor(indices, values, shape, dtype=, device=). (Triggered internally at ../torch/csrc/utils/tensor_new.cpp:605.)\n",
            "  sparse_tensor = torch.sparse.FloatTensor(indices, values, tensor.shape)\n",
            "Iterating valid: 100%|██████████| 75/75 [00:01<00:00, 68.29it/s]\n"
          ]
        }
      ]
    },
    {
      "cell_type": "markdown",
      "id": "e0713e69-8a9a-4ab8-9952-82db6a96db60",
      "metadata": {
        "id": "e0713e69-8a9a-4ab8-9952-82db6a96db60"
      },
      "source": [
        "### 4.2 Built-in SVD\n",
        "\n",
        "В `predict_proba` мы воспользуемся ортогональностью матриц $U \\sim R^{\\text{(num users) x (factors)}}$ и $V \\sim R^{\\text{(num items) x (factors)}}$. Благодаря этому инфер можно записать вот так: $\\hat{r}_u = r_u \\cdot V \\cdot V^T$\n",
        "\n",
        "Пользуемся встроенным методом разложения SVD, т.к. по скорости он значительно лучше, чем прописанный вручную. Если будет время, можно будет и вручную прописать. Тут полезно замерить время работы"
      ]
    },
    {
      "cell_type": "markdown",
      "source": [
        "На такой большой матрице SVD считается жутко долго, даже если передавать в scipy sparse матрицу, поэтому на всем датасете будем считать неполное SVD (128 главных компонент). Потом возьмем в трейн матрицу поменьше, чтобы посчитать полное SVD"
      ],
      "metadata": {
        "id": "1MrwnH_Iwl2m"
      },
      "id": "1MrwnH_Iwl2m"
    },
    {
      "cell_type": "code",
      "source": [
        "import time"
      ],
      "metadata": {
        "id": "5jjoHmtXq0W5"
      },
      "id": "5jjoHmtXq0W5",
      "execution_count": 26,
      "outputs": []
    },
    {
      "cell_type": "code",
      "execution_count": 27,
      "id": "bb5e411a-5fd3-466f-b4c9-b13ca992bf2a",
      "metadata": {
        "id": "bb5e411a-5fd3-466f-b4c9-b13ca992bf2a"
      },
      "outputs": [],
      "source": [
        "class Built_in_SvdModel(SparseModel):\n",
        "    \"\"\"\n",
        "    factors: ~number of singular values that we compute\n",
        "    remove_seen: flag if we want to remove items that user saw while training (make only new recommendations)\n",
        "    \"\"\"\n",
        "    def __init__(self,\n",
        "                 factors: int,\n",
        "                 remove_seen: bool = True\n",
        "                ) -> None:\n",
        "        super().__init__(remove_seen=remove_seen)\n",
        "        self._factors = factors\n",
        "        self.factors = {}\n",
        "        self.svd = None\n",
        "\n",
        "\n",
        "    def fit(self,\n",
        "            data: sps.csr_matrix\n",
        "          ) -> None:\n",
        "\n",
        "        start_time = time.time()\n",
        "        u, sigma, vt = sps.linalg.svds(data, k=self._factors)\n",
        "        end_time = time.time()\n",
        "        self.computation_time = end_time - start_time\n",
        "        print(\"--- %s seconds svd computation---\" % (end_time - start_time))\n",
        "\n",
        "        self.svd = [u, sigma, vt]\n",
        "\n",
        "        self.factors = {\n",
        "            \"user\": torch.from_numpy(u.copy()).float().to(self.device),\n",
        "            \"item\": torch.einsum(\n",
        "                \"fi->if\", torch.from_numpy(vt).float().to(self.device)\n",
        "            ),\n",
        "        }\n",
        "\n",
        "\n",
        "    def predict_proba(self,\n",
        "                      batch: dict[str, Any]\n",
        "                    ) -> dict[str, torch.Tensor]:\n",
        "        scores = torch.einsum(\n",
        "            \"ui,if,jf->uj\", batch[\"source\"], self.factors[\"item\"], self.factors[\"item\"]\n",
        "        )\n",
        "        if self.remove_seen:\n",
        "            scores[batch[\"source\"].gt(0)] = -1e13\n",
        "        return {\"logits\": scores}"
      ]
    },
    {
      "cell_type": "code",
      "execution_count": null,
      "id": "0283f8b5-9a47-4c77-8f58-a03d545fc650",
      "metadata": {
        "colab": {
          "base_uri": "https://localhost:8080/"
        },
        "id": "0283f8b5-9a47-4c77-8f58-a03d545fc650",
        "outputId": "176d732c-8e93-4b8f-b86e-777e03172f31"
      },
      "outputs": [
        {
          "output_type": "stream",
          "name": "stdout",
          "text": [
            "Implicit\n",
            "--- 7.01561427116394 seconds svd computation---\n"
          ]
        },
        {
          "output_type": "stream",
          "name": "stderr",
          "text": [
            "\rIterating train:   0%|          | 0/84 [00:00<?, ?it/s]<ipython-input-24-5dbb9ea315af>:29: UserWarning: torch.sparse.SparseTensor(indices, values, shape, *, device=) is deprecated.  Please use torch.sparse_coo_tensor(indices, values, shape, dtype=, device=). (Triggered internally at ../torch/csrc/utils/tensor_new.cpp:605.)\n",
            "  sparse_tensor = torch.sparse.FloatTensor(indices, values, tensor.shape)\n",
            "Iterating train: 100%|██████████| 84/84 [00:20<00:00,  4.16it/s]\n",
            "Iterating valid:   0%|          | 0/5 [00:00<?, ?it/s]<ipython-input-24-5dbb9ea315af>:29: UserWarning: torch.sparse.SparseTensor(indices, values, shape, *, device=) is deprecated.  Please use torch.sparse_coo_tensor(indices, values, shape, dtype=, device=). (Triggered internally at ../torch/csrc/utils/tensor_new.cpp:605.)\n",
            "  sparse_tensor = torch.sparse.FloatTensor(indices, values, tensor.shape)\n",
            "Iterating valid: 100%|██████████| 5/5 [00:01<00:00,  3.16it/s]\n"
          ]
        },
        {
          "output_type": "stream",
          "name": "stdout",
          "text": [
            "Explicit\n",
            "--- 11.876492261886597 seconds svd computation---\n"
          ]
        },
        {
          "output_type": "stream",
          "name": "stderr",
          "text": [
            "\rIterating train:   0%|          | 0/85 [00:00<?, ?it/s]<ipython-input-24-5dbb9ea315af>:29: UserWarning: torch.sparse.SparseTensor(indices, values, shape, *, device=) is deprecated.  Please use torch.sparse_coo_tensor(indices, values, shape, dtype=, device=). (Triggered internally at ../torch/csrc/utils/tensor_new.cpp:605.)\n",
            "  sparse_tensor = torch.sparse.FloatTensor(indices, values, tensor.shape)\n",
            "Iterating train: 100%|██████████| 85/85 [00:17<00:00,  4.75it/s]\n",
            "Iterating valid:   0%|          | 0/5 [00:00<?, ?it/s]<ipython-input-24-5dbb9ea315af>:29: UserWarning: torch.sparse.SparseTensor(indices, values, shape, *, device=) is deprecated.  Please use torch.sparse_coo_tensor(indices, values, shape, dtype=, device=). (Triggered internally at ../torch/csrc/utils/tensor_new.cpp:605.)\n",
            "  sparse_tensor = torch.sparse.FloatTensor(indices, values, tensor.shape)\n",
            "Iterating valid: 100%|██████████| 5/5 [00:00<00:00,  5.83it/s]\n"
          ]
        }
      ],
      "source": [
        "built_in_svd_runner_full = SparseRunner(model=Built_in_SvdModel(factors = 128), batch_size=512, device=device)\n",
        "\n",
        "print(\"Implicit\")\n",
        "built_in_svd_runner_full.run(implicit_full_datasets)\n",
        "print(\"Explicit\")\n",
        "built_in_svd_runner_full.run(explicit_full_datasets)"
      ]
    },
    {
      "cell_type": "code",
      "source": [
        "built_in_svd_runner_minus1 = SparseRunner(model=Built_in_SvdModel(factors = 128), batch_size=512, device=device)\n",
        "\n",
        "print(\"Implicit\")\n",
        "built_in_svd_runner_minus1.run(implicit_minus1_datasets)\n",
        "print(\"Explicit\")\n",
        "built_in_svd_runner_minus1.run(explicit_minus1_datasets)"
      ],
      "metadata": {
        "colab": {
          "base_uri": "https://localhost:8080/"
        },
        "id": "0txZZ8THxSaH",
        "outputId": "1f5f27d7-0613-4ca2-89a4-c16b2cc226cc"
      },
      "id": "0txZZ8THxSaH",
      "execution_count": null,
      "outputs": [
        {
          "output_type": "stream",
          "name": "stdout",
          "text": [
            "Implicit\n",
            "--- 7.0442352294921875 seconds svd computation---\n"
          ]
        },
        {
          "output_type": "stream",
          "name": "stderr",
          "text": [
            "\rIterating train:   0%|          | 0/84 [00:00<?, ?it/s]<ipython-input-24-5dbb9ea315af>:29: UserWarning: torch.sparse.SparseTensor(indices, values, shape, *, device=) is deprecated.  Please use torch.sparse_coo_tensor(indices, values, shape, dtype=, device=). (Triggered internally at ../torch/csrc/utils/tensor_new.cpp:605.)\n",
            "  sparse_tensor = torch.sparse.FloatTensor(indices, values, tensor.shape)\n",
            "Iterating train: 100%|██████████| 84/84 [00:13<00:00,  6.05it/s]\n",
            "Iterating valid:   0%|          | 0/5 [00:00<?, ?it/s]<ipython-input-24-5dbb9ea315af>:29: UserWarning: torch.sparse.SparseTensor(indices, values, shape, *, device=) is deprecated.  Please use torch.sparse_coo_tensor(indices, values, shape, dtype=, device=). (Triggered internally at ../torch/csrc/utils/tensor_new.cpp:605.)\n",
            "  sparse_tensor = torch.sparse.FloatTensor(indices, values, tensor.shape)\n",
            "Iterating valid: 100%|██████████| 5/5 [00:00<00:00,  5.90it/s]\n"
          ]
        },
        {
          "output_type": "stream",
          "name": "stdout",
          "text": [
            "Explicit\n",
            "--- 9.588705062866211 seconds svd computation---\n"
          ]
        },
        {
          "output_type": "stream",
          "name": "stderr",
          "text": [
            "\rIterating train:   0%|          | 0/85 [00:00<?, ?it/s]<ipython-input-24-5dbb9ea315af>:29: UserWarning: torch.sparse.SparseTensor(indices, values, shape, *, device=) is deprecated.  Please use torch.sparse_coo_tensor(indices, values, shape, dtype=, device=). (Triggered internally at ../torch/csrc/utils/tensor_new.cpp:605.)\n",
            "  sparse_tensor = torch.sparse.FloatTensor(indices, values, tensor.shape)\n",
            "Iterating train: 100%|██████████| 85/85 [00:14<00:00,  5.91it/s]\n",
            "Iterating valid:   0%|          | 0/5 [00:00<?, ?it/s]<ipython-input-24-5dbb9ea315af>:29: UserWarning: torch.sparse.SparseTensor(indices, values, shape, *, device=) is deprecated.  Please use torch.sparse_coo_tensor(indices, values, shape, dtype=, device=). (Triggered internally at ../torch/csrc/utils/tensor_new.cpp:605.)\n",
            "  sparse_tensor = torch.sparse.FloatTensor(indices, values, tensor.shape)\n",
            "Iterating valid: 100%|██████████| 5/5 [00:00<00:00,  5.51it/s]\n"
          ]
        }
      ]
    },
    {
      "cell_type": "code",
      "source": [
        "built_in_svd_runner_minus2 = SparseRunner(model=Built_in_SvdModel(factors = 128), batch_size=512, device=device)\n",
        "\n",
        "print(\"Implicit\")\n",
        "built_in_svd_runner_minus2.run(implicit_minus2_datasets)\n",
        "print(\"Explicit\")\n",
        "built_in_svd_runner_minus2.run(explicit_minus2_datasets)"
      ],
      "metadata": {
        "colab": {
          "base_uri": "https://localhost:8080/"
        },
        "id": "dZnlZSF-xScv",
        "outputId": "615d79f3-c7e6-4592-b005-fb6a673cf873"
      },
      "id": "dZnlZSF-xScv",
      "execution_count": null,
      "outputs": [
        {
          "output_type": "stream",
          "name": "stdout",
          "text": [
            "Implicit\n",
            "--- 6.718226671218872 seconds svd computation---\n"
          ]
        },
        {
          "output_type": "stream",
          "name": "stderr",
          "text": [
            "\rIterating train:   0%|          | 0/84 [00:00<?, ?it/s]<ipython-input-24-5dbb9ea315af>:29: UserWarning: torch.sparse.SparseTensor(indices, values, shape, *, device=) is deprecated.  Please use torch.sparse_coo_tensor(indices, values, shape, dtype=, device=). (Triggered internally at ../torch/csrc/utils/tensor_new.cpp:605.)\n",
            "  sparse_tensor = torch.sparse.FloatTensor(indices, values, tensor.shape)\n",
            "Iterating train: 100%|██████████| 84/84 [00:14<00:00,  5.94it/s]\n",
            "Iterating valid:   0%|          | 0/5 [00:00<?, ?it/s]<ipython-input-24-5dbb9ea315af>:29: UserWarning: torch.sparse.SparseTensor(indices, values, shape, *, device=) is deprecated.  Please use torch.sparse_coo_tensor(indices, values, shape, dtype=, device=). (Triggered internally at ../torch/csrc/utils/tensor_new.cpp:605.)\n",
            "  sparse_tensor = torch.sparse.FloatTensor(indices, values, tensor.shape)\n",
            "Iterating valid: 100%|██████████| 5/5 [00:00<00:00,  6.05it/s]\n"
          ]
        },
        {
          "output_type": "stream",
          "name": "stdout",
          "text": [
            "Explicit\n",
            "--- 8.577771663665771 seconds svd computation---\n"
          ]
        },
        {
          "output_type": "stream",
          "name": "stderr",
          "text": [
            "\rIterating train:   0%|          | 0/85 [00:00<?, ?it/s]<ipython-input-24-5dbb9ea315af>:29: UserWarning: torch.sparse.SparseTensor(indices, values, shape, *, device=) is deprecated.  Please use torch.sparse_coo_tensor(indices, values, shape, dtype=, device=). (Triggered internally at ../torch/csrc/utils/tensor_new.cpp:605.)\n",
            "  sparse_tensor = torch.sparse.FloatTensor(indices, values, tensor.shape)\n",
            "Iterating train: 100%|██████████| 85/85 [00:21<00:00,  4.01it/s]\n",
            "Iterating valid:   0%|          | 0/5 [00:00<?, ?it/s]<ipython-input-24-5dbb9ea315af>:29: UserWarning: torch.sparse.SparseTensor(indices, values, shape, *, device=) is deprecated.  Please use torch.sparse_coo_tensor(indices, values, shape, dtype=, device=). (Triggered internally at ../torch/csrc/utils/tensor_new.cpp:605.)\n",
            "  sparse_tensor = torch.sparse.FloatTensor(indices, values, tensor.shape)\n",
            "Iterating valid: 100%|██████████| 5/5 [00:00<00:00,  5.89it/s]\n"
          ]
        }
      ]
    },
    {
      "cell_type": "code",
      "source": [
        "built_in_svd_runner_minus2.model.svd[0].shape"
      ],
      "metadata": {
        "colab": {
          "base_uri": "https://localhost:8080/"
        },
        "id": "SXr8C5b3xznU",
        "outputId": "72f8b389-0f89-4aac-df27-1623fbe8720c"
      },
      "id": "SXr8C5b3xznU",
      "execution_count": null,
      "outputs": [
        {
          "output_type": "execute_result",
          "data": {
            "text/plain": [
              "(43237, 127)"
            ]
          },
          "metadata": {},
          "execution_count": 40
        }
      ]
    },
    {
      "cell_type": "markdown",
      "source": [
        "Берем датасет поменьше - оставим 5000 пользователей (чтобы полное SVD посчитать)"
      ],
      "metadata": {
        "id": "yTsJ69SRyRqh"
      },
      "id": "yTsJ69SRyRqh"
    },
    {
      "cell_type": "code",
      "source": [
        "explicit_small, explicit_small_removed = remove_users(explicit_filtered_ratings, n = 42537)\n",
        "implicit_small, implicit_small_removed = remove_users(implicit_filtered_ratings, n = 42537)"
      ],
      "metadata": {
        "id": "ZK4PjsRTyWtl"
      },
      "id": "ZK4PjsRTyWtl",
      "execution_count": 28,
      "outputs": []
    },
    {
      "cell_type": "code",
      "source": [
        "explicit_small"
      ],
      "metadata": {
        "colab": {
          "base_uri": "https://localhost:8080/",
          "height": 424
        },
        "id": "WAccDD-vyWvs",
        "outputId": "c8a5f1da-d250-43fb-9a4d-cee3269ee7af"
      },
      "id": "WAccDD-vyWvs",
      "execution_count": null,
      "outputs": [
        {
          "output_type": "execute_result",
          "data": {
            "text/plain": [
              "        user  item  values           timestamp\n",
              "0          0  1260     4.0 2006-11-30 11:19:50\n",
              "1          0  1529     4.5 2006-01-01 00:38:35\n",
              "2          0  2373     4.0 2006-11-30 11:18:46\n",
              "3          0  2515     4.0 2006-01-01 00:38:44\n",
              "4          0  2829     4.5 2005-12-03 00:53:20\n",
              "...      ...   ...     ...                 ...\n",
              "394692  5000  3614     4.5 2006-12-01 10:23:08\n",
              "394693  5000  4172     0.5 2006-12-01 11:02:05\n",
              "394694  5000  4724     0.5 2006-12-01 11:02:04\n",
              "394695  5000  4940     4.0 2006-12-01 11:01:03\n",
              "394696  5000  5540     3.0 2006-12-01 10:25:12\n",
              "\n",
              "[394697 rows x 4 columns]"
            ],
            "text/html": [
              "\n",
              "  <div id=\"df-115b9f78-838a-495d-b6c1-fff755b05cb0\" class=\"colab-df-container\">\n",
              "    <div>\n",
              "<style scoped>\n",
              "    .dataframe tbody tr th:only-of-type {\n",
              "        vertical-align: middle;\n",
              "    }\n",
              "\n",
              "    .dataframe tbody tr th {\n",
              "        vertical-align: top;\n",
              "    }\n",
              "\n",
              "    .dataframe thead th {\n",
              "        text-align: right;\n",
              "    }\n",
              "</style>\n",
              "<table border=\"1\" class=\"dataframe\">\n",
              "  <thead>\n",
              "    <tr style=\"text-align: right;\">\n",
              "      <th></th>\n",
              "      <th>user</th>\n",
              "      <th>item</th>\n",
              "      <th>values</th>\n",
              "      <th>timestamp</th>\n",
              "    </tr>\n",
              "  </thead>\n",
              "  <tbody>\n",
              "    <tr>\n",
              "      <th>0</th>\n",
              "      <td>0</td>\n",
              "      <td>1260</td>\n",
              "      <td>4.0</td>\n",
              "      <td>2006-11-30 11:19:50</td>\n",
              "    </tr>\n",
              "    <tr>\n",
              "      <th>1</th>\n",
              "      <td>0</td>\n",
              "      <td>1529</td>\n",
              "      <td>4.5</td>\n",
              "      <td>2006-01-01 00:38:35</td>\n",
              "    </tr>\n",
              "    <tr>\n",
              "      <th>2</th>\n",
              "      <td>0</td>\n",
              "      <td>2373</td>\n",
              "      <td>4.0</td>\n",
              "      <td>2006-11-30 11:18:46</td>\n",
              "    </tr>\n",
              "    <tr>\n",
              "      <th>3</th>\n",
              "      <td>0</td>\n",
              "      <td>2515</td>\n",
              "      <td>4.0</td>\n",
              "      <td>2006-01-01 00:38:44</td>\n",
              "    </tr>\n",
              "    <tr>\n",
              "      <th>4</th>\n",
              "      <td>0</td>\n",
              "      <td>2829</td>\n",
              "      <td>4.5</td>\n",
              "      <td>2005-12-03 00:53:20</td>\n",
              "    </tr>\n",
              "    <tr>\n",
              "      <th>...</th>\n",
              "      <td>...</td>\n",
              "      <td>...</td>\n",
              "      <td>...</td>\n",
              "      <td>...</td>\n",
              "    </tr>\n",
              "    <tr>\n",
              "      <th>394692</th>\n",
              "      <td>5000</td>\n",
              "      <td>3614</td>\n",
              "      <td>4.5</td>\n",
              "      <td>2006-12-01 10:23:08</td>\n",
              "    </tr>\n",
              "    <tr>\n",
              "      <th>394693</th>\n",
              "      <td>5000</td>\n",
              "      <td>4172</td>\n",
              "      <td>0.5</td>\n",
              "      <td>2006-12-01 11:02:05</td>\n",
              "    </tr>\n",
              "    <tr>\n",
              "      <th>394694</th>\n",
              "      <td>5000</td>\n",
              "      <td>4724</td>\n",
              "      <td>0.5</td>\n",
              "      <td>2006-12-01 11:02:04</td>\n",
              "    </tr>\n",
              "    <tr>\n",
              "      <th>394695</th>\n",
              "      <td>5000</td>\n",
              "      <td>4940</td>\n",
              "      <td>4.0</td>\n",
              "      <td>2006-12-01 11:01:03</td>\n",
              "    </tr>\n",
              "    <tr>\n",
              "      <th>394696</th>\n",
              "      <td>5000</td>\n",
              "      <td>5540</td>\n",
              "      <td>3.0</td>\n",
              "      <td>2006-12-01 10:25:12</td>\n",
              "    </tr>\n",
              "  </tbody>\n",
              "</table>\n",
              "<p>394697 rows × 4 columns</p>\n",
              "</div>\n",
              "    <div class=\"colab-df-buttons\">\n",
              "\n",
              "  <div class=\"colab-df-container\">\n",
              "    <button class=\"colab-df-convert\" onclick=\"convertToInteractive('df-115b9f78-838a-495d-b6c1-fff755b05cb0')\"\n",
              "            title=\"Convert this dataframe to an interactive table.\"\n",
              "            style=\"display:none;\">\n",
              "\n",
              "  <svg xmlns=\"http://www.w3.org/2000/svg\" height=\"24px\" viewBox=\"0 -960 960 960\">\n",
              "    <path d=\"M120-120v-720h720v720H120Zm60-500h600v-160H180v160Zm220 220h160v-160H400v160Zm0 220h160v-160H400v160ZM180-400h160v-160H180v160Zm440 0h160v-160H620v160ZM180-180h160v-160H180v160Zm440 0h160v-160H620v160Z\"/>\n",
              "  </svg>\n",
              "    </button>\n",
              "\n",
              "  <style>\n",
              "    .colab-df-container {\n",
              "      display:flex;\n",
              "      gap: 12px;\n",
              "    }\n",
              "\n",
              "    .colab-df-convert {\n",
              "      background-color: #E8F0FE;\n",
              "      border: none;\n",
              "      border-radius: 50%;\n",
              "      cursor: pointer;\n",
              "      display: none;\n",
              "      fill: #1967D2;\n",
              "      height: 32px;\n",
              "      padding: 0 0 0 0;\n",
              "      width: 32px;\n",
              "    }\n",
              "\n",
              "    .colab-df-convert:hover {\n",
              "      background-color: #E2EBFA;\n",
              "      box-shadow: 0px 1px 2px rgba(60, 64, 67, 0.3), 0px 1px 3px 1px rgba(60, 64, 67, 0.15);\n",
              "      fill: #174EA6;\n",
              "    }\n",
              "\n",
              "    .colab-df-buttons div {\n",
              "      margin-bottom: 4px;\n",
              "    }\n",
              "\n",
              "    [theme=dark] .colab-df-convert {\n",
              "      background-color: #3B4455;\n",
              "      fill: #D2E3FC;\n",
              "    }\n",
              "\n",
              "    [theme=dark] .colab-df-convert:hover {\n",
              "      background-color: #434B5C;\n",
              "      box-shadow: 0px 1px 3px 1px rgba(0, 0, 0, 0.15);\n",
              "      filter: drop-shadow(0px 1px 2px rgba(0, 0, 0, 0.3));\n",
              "      fill: #FFFFFF;\n",
              "    }\n",
              "  </style>\n",
              "\n",
              "    <script>\n",
              "      const buttonEl =\n",
              "        document.querySelector('#df-115b9f78-838a-495d-b6c1-fff755b05cb0 button.colab-df-convert');\n",
              "      buttonEl.style.display =\n",
              "        google.colab.kernel.accessAllowed ? 'block' : 'none';\n",
              "\n",
              "      async function convertToInteractive(key) {\n",
              "        const element = document.querySelector('#df-115b9f78-838a-495d-b6c1-fff755b05cb0');\n",
              "        const dataTable =\n",
              "          await google.colab.kernel.invokeFunction('convertToInteractive',\n",
              "                                                    [key], {});\n",
              "        if (!dataTable) return;\n",
              "\n",
              "        const docLinkHtml = 'Like what you see? Visit the ' +\n",
              "          '<a target=\"_blank\" href=https://colab.research.google.com/notebooks/data_table.ipynb>data table notebook</a>'\n",
              "          + ' to learn more about interactive tables.';\n",
              "        element.innerHTML = '';\n",
              "        dataTable['output_type'] = 'display_data';\n",
              "        await google.colab.output.renderOutput(dataTable, element);\n",
              "        const docLink = document.createElement('div');\n",
              "        docLink.innerHTML = docLinkHtml;\n",
              "        element.appendChild(docLink);\n",
              "      }\n",
              "    </script>\n",
              "  </div>\n",
              "\n",
              "\n",
              "<div id=\"df-17e5c937-6d44-4ad3-b18d-505fed89ba88\">\n",
              "  <button class=\"colab-df-quickchart\" onclick=\"quickchart('df-17e5c937-6d44-4ad3-b18d-505fed89ba88')\"\n",
              "            title=\"Suggest charts.\"\n",
              "            style=\"display:none;\">\n",
              "\n",
              "<svg xmlns=\"http://www.w3.org/2000/svg\" height=\"24px\"viewBox=\"0 0 24 24\"\n",
              "     width=\"24px\">\n",
              "    <g>\n",
              "        <path d=\"M19 3H5c-1.1 0-2 .9-2 2v14c0 1.1.9 2 2 2h14c1.1 0 2-.9 2-2V5c0-1.1-.9-2-2-2zM9 17H7v-7h2v7zm4 0h-2V7h2v10zm4 0h-2v-4h2v4z\"/>\n",
              "    </g>\n",
              "</svg>\n",
              "  </button>\n",
              "\n",
              "<style>\n",
              "  .colab-df-quickchart {\n",
              "      --bg-color: #E8F0FE;\n",
              "      --fill-color: #1967D2;\n",
              "      --hover-bg-color: #E2EBFA;\n",
              "      --hover-fill-color: #174EA6;\n",
              "      --disabled-fill-color: #AAA;\n",
              "      --disabled-bg-color: #DDD;\n",
              "  }\n",
              "\n",
              "  [theme=dark] .colab-df-quickchart {\n",
              "      --bg-color: #3B4455;\n",
              "      --fill-color: #D2E3FC;\n",
              "      --hover-bg-color: #434B5C;\n",
              "      --hover-fill-color: #FFFFFF;\n",
              "      --disabled-bg-color: #3B4455;\n",
              "      --disabled-fill-color: #666;\n",
              "  }\n",
              "\n",
              "  .colab-df-quickchart {\n",
              "    background-color: var(--bg-color);\n",
              "    border: none;\n",
              "    border-radius: 50%;\n",
              "    cursor: pointer;\n",
              "    display: none;\n",
              "    fill: var(--fill-color);\n",
              "    height: 32px;\n",
              "    padding: 0;\n",
              "    width: 32px;\n",
              "  }\n",
              "\n",
              "  .colab-df-quickchart:hover {\n",
              "    background-color: var(--hover-bg-color);\n",
              "    box-shadow: 0 1px 2px rgba(60, 64, 67, 0.3), 0 1px 3px 1px rgba(60, 64, 67, 0.15);\n",
              "    fill: var(--button-hover-fill-color);\n",
              "  }\n",
              "\n",
              "  .colab-df-quickchart-complete:disabled,\n",
              "  .colab-df-quickchart-complete:disabled:hover {\n",
              "    background-color: var(--disabled-bg-color);\n",
              "    fill: var(--disabled-fill-color);\n",
              "    box-shadow: none;\n",
              "  }\n",
              "\n",
              "  .colab-df-spinner {\n",
              "    border: 2px solid var(--fill-color);\n",
              "    border-color: transparent;\n",
              "    border-bottom-color: var(--fill-color);\n",
              "    animation:\n",
              "      spin 1s steps(1) infinite;\n",
              "  }\n",
              "\n",
              "  @keyframes spin {\n",
              "    0% {\n",
              "      border-color: transparent;\n",
              "      border-bottom-color: var(--fill-color);\n",
              "      border-left-color: var(--fill-color);\n",
              "    }\n",
              "    20% {\n",
              "      border-color: transparent;\n",
              "      border-left-color: var(--fill-color);\n",
              "      border-top-color: var(--fill-color);\n",
              "    }\n",
              "    30% {\n",
              "      border-color: transparent;\n",
              "      border-left-color: var(--fill-color);\n",
              "      border-top-color: var(--fill-color);\n",
              "      border-right-color: var(--fill-color);\n",
              "    }\n",
              "    40% {\n",
              "      border-color: transparent;\n",
              "      border-right-color: var(--fill-color);\n",
              "      border-top-color: var(--fill-color);\n",
              "    }\n",
              "    60% {\n",
              "      border-color: transparent;\n",
              "      border-right-color: var(--fill-color);\n",
              "    }\n",
              "    80% {\n",
              "      border-color: transparent;\n",
              "      border-right-color: var(--fill-color);\n",
              "      border-bottom-color: var(--fill-color);\n",
              "    }\n",
              "    90% {\n",
              "      border-color: transparent;\n",
              "      border-bottom-color: var(--fill-color);\n",
              "    }\n",
              "  }\n",
              "</style>\n",
              "\n",
              "  <script>\n",
              "    async function quickchart(key) {\n",
              "      const quickchartButtonEl =\n",
              "        document.querySelector('#' + key + ' button');\n",
              "      quickchartButtonEl.disabled = true;  // To prevent multiple clicks.\n",
              "      quickchartButtonEl.classList.add('colab-df-spinner');\n",
              "      try {\n",
              "        const charts = await google.colab.kernel.invokeFunction(\n",
              "            'suggestCharts', [key], {});\n",
              "      } catch (error) {\n",
              "        console.error('Error during call to suggestCharts:', error);\n",
              "      }\n",
              "      quickchartButtonEl.classList.remove('colab-df-spinner');\n",
              "      quickchartButtonEl.classList.add('colab-df-quickchart-complete');\n",
              "    }\n",
              "    (() => {\n",
              "      let quickchartButtonEl =\n",
              "        document.querySelector('#df-17e5c937-6d44-4ad3-b18d-505fed89ba88 button');\n",
              "      quickchartButtonEl.style.display =\n",
              "        google.colab.kernel.accessAllowed ? 'block' : 'none';\n",
              "    })();\n",
              "  </script>\n",
              "</div>\n",
              "    </div>\n",
              "  </div>\n"
            ]
          },
          "metadata": {},
          "execution_count": 58
        }
      ]
    },
    {
      "cell_type": "markdown",
      "source": [
        "С этим датасетом надо проделать то же, что мы делали выше. Только SVD полное посчитать через np.linalg.svd"
      ],
      "metadata": {
        "id": "mrtvQigM59XN"
      },
      "id": "mrtvQigM59XN"
    },
    {
      "cell_type": "code",
      "source": [
        "explicit_small_remove2, explicit_small_removed2 = remove_users(explicit_small)\n",
        "implicit_small_remove2, implicit_small_removed2 = remove_users(implicit_small)\n",
        "\n",
        "explicit_small_remove1, explicit_small_removed1= remove_users(explicit_small, n=1)\n",
        "implicit_small_remove1, implicit_small_removed1 = remove_users(implicit_small, n=1)"
      ],
      "metadata": {
        "id": "RsqraD78tlii"
      },
      "id": "RsqraD78tlii",
      "execution_count": 29,
      "outputs": []
    },
    {
      "cell_type": "code",
      "source": [
        "ts_split = {\n",
        "    \"implicit\": implicit_small[\"timestamp\"].max()\n",
        "    - pd.Timedelta(165, \"days\"),\n",
        "    \"explicit\": explicit_small[\"timestamp\"].max()\n",
        "    - pd.Timedelta(165, \"days\"),\n",
        "}\n",
        "datasets_small = {}\n",
        "for key, dataset in (\n",
        "    (\"implicit\", implicit_small),\n",
        "    (\"explicit\", explicit_small),\n",
        "):\n",
        "    datasets_small[key] = {\n",
        "        \"train\": dataset.loc[dataset[\"timestamp\"] <= ts_split[key]],\n",
        "        \"valid\": dataset.loc[dataset[\"timestamp\"] > ts_split[key]],\n",
        "    }\n",
        "    datasets_small[key][\"valid\"] = datasets_small[key][\"valid\"].loc[\n",
        "        datasets_small[key][\"valid\"].user.isin(datasets_small[key][\"train\"].user.unique())\n",
        "    ]\n",
        "\n",
        "ts_split = {\n",
        "    \"implicit\": implicit_small_remove2[\"timestamp\"].max()\n",
        "    - pd.Timedelta(165, \"days\"),\n",
        "    \"explicit\": explicit_small_remove2[\"timestamp\"].max()\n",
        "    - pd.Timedelta(165, \"days\"),\n",
        "}\n",
        "datasets_small_minus2 = {}\n",
        "for key, dataset in (\n",
        "    (\"implicit\", implicit_small_remove2),\n",
        "    (\"explicit\", explicit_small_remove2),\n",
        "):\n",
        "    datasets_small_minus2[key] = {\n",
        "        \"train\": dataset.loc[dataset[\"timestamp\"] <= ts_split[key]],\n",
        "        \"valid\": dataset.loc[dataset[\"timestamp\"] > ts_split[key]],\n",
        "    }\n",
        "    datasets_small_minus2[key][\"valid\"] = datasets_small_minus2[key][\"valid\"].loc[\n",
        "        datasets_small_minus2[key][\"valid\"].user.isin(datasets_small_minus2[key][\"train\"].user.unique())\n",
        "    ]\n",
        "\n",
        "ts_split = {\n",
        "    \"implicit\": implicit_small_remove1[\"timestamp\"].max()\n",
        "    - pd.Timedelta(165, \"days\"),\n",
        "    \"explicit\": explicit_small_remove1[\"timestamp\"].max()\n",
        "    - pd.Timedelta(165, \"days\"),\n",
        "}\n",
        "datasets_small_minus1 = {}\n",
        "for key, dataset in (\n",
        "    (\"implicit\", implicit_small_remove1),\n",
        "    (\"explicit\", explicit_small_remove1),\n",
        "):\n",
        "    datasets_small_minus1[key] = {\n",
        "        \"train\": dataset.loc[dataset[\"timestamp\"] <= ts_split[key]],\n",
        "        \"valid\": dataset.loc[dataset[\"timestamp\"] > ts_split[key]],\n",
        "    }\n",
        "    datasets_small_minus1[key][\"valid\"] = datasets_small_minus1[key][\"valid\"].loc[\n",
        "        datasets_small_minus1[key][\"valid\"].user.isin(datasets_small_minus1[key][\"train\"].user.unique())\n",
        "    ]"
      ],
      "metadata": {
        "id": "2Fy9bhLatlm9"
      },
      "id": "2Fy9bhLatlm9",
      "execution_count": 30,
      "outputs": []
    },
    {
      "cell_type": "code",
      "source": [
        "explicit_small_datasets = build_sparse_datasets(\n",
        "    **datasets_small[\"explicit\"], binary=False\n",
        ")\n",
        "implicit_small_datasets = build_sparse_datasets(\n",
        "    **datasets_small[\"implicit\"], binary=True\n",
        ")\n",
        "\n",
        "explicit_small_datasets_minus2 = build_sparse_datasets(\n",
        "    **datasets_small_minus2[\"explicit\"], binary=False\n",
        ")\n",
        "implicit_small_datasets_minus2 = build_sparse_datasets(\n",
        "    **datasets_small_minus2[\"implicit\"], binary=True\n",
        ")\n",
        "\n",
        "explicit_small_datasets_minus1 = build_sparse_datasets(\n",
        "    **datasets_small_minus1[\"explicit\"], binary=False\n",
        ")\n",
        "implicit_small_datasets_minus1 = build_sparse_datasets(\n",
        "    **datasets_small_minus1[\"implicit\"], binary=True\n",
        ")"
      ],
      "metadata": {
        "id": "dSPQ38zvtlsA"
      },
      "id": "dSPQ38zvtlsA",
      "execution_count": 40,
      "outputs": []
    },
    {
      "cell_type": "code",
      "source": [
        "import warnings\n",
        "warnings.filterwarnings('ignore')"
      ],
      "metadata": {
        "id": "3UjDFkdrtlwR"
      },
      "id": "3UjDFkdrtlwR",
      "execution_count": 32,
      "outputs": []
    },
    {
      "cell_type": "code",
      "source": [
        "class Built_in_SvdModel(SparseModel):\n",
        "    \"\"\"\n",
        "    remove_seen: flag if we want to remove items that user saw while training (make only new recommendations)\n",
        "    \"\"\"\n",
        "    def __init__(self,\n",
        "                 remove_seen: bool = True\n",
        "                ) -> None:\n",
        "        super().__init__(remove_seen=remove_seen)\n",
        "        self.factors = {}\n",
        "        self.svd = None\n",
        "\n",
        "\n",
        "    def fit(self,\n",
        "            data: sps.csr_matrix\n",
        "          ) -> None:\n",
        "\n",
        "        start_time = time.time()\n",
        "        u, sigma, vt = np.linalg.svd(data.todense())\n",
        "        end_time = time.time()\n",
        "        self.computation_time = end_time - start_time\n",
        "        print(\"--- %s seconds svd computation---\" % (end_time - start_time))\n",
        "\n",
        "        self.svd = [u, sigma, vt]\n",
        "\n",
        "        self.factors = {\n",
        "            \"user\": torch.from_numpy(u.copy()).float().to(self.device),\n",
        "            \"item\": torch.einsum(\n",
        "                \"fi->if\", torch.from_numpy(vt).float().to(self.device)\n",
        "            ),\n",
        "        }\n",
        "\n",
        "\n",
        "    def predict_proba(self,\n",
        "                      batch: dict[str, Any]\n",
        "                    ) -> dict[str, torch.Tensor]:\n",
        "        scores = torch.einsum(\n",
        "            \"ui,if,jf->uj\", batch[\"source\"], self.factors[\"item\"], self.factors[\"item\"]\n",
        "        )\n",
        "        if self.remove_seen:\n",
        "            scores[batch[\"source\"].gt(0)] = -1e13\n",
        "        return {\"logits\": scores}"
      ],
      "metadata": {
        "id": "Ki-Ls7bxtl12"
      },
      "id": "Ki-Ls7bxtl12",
      "execution_count": 37,
      "outputs": []
    },
    {
      "cell_type": "code",
      "source": [
        "built_in_svd_runner_small_impicit = SparseRunner(model=Built_in_SvdModel(), batch_size=512, device=device)\n",
        "built_in_svd_runner_small_explicit = SparseRunner(model=Built_in_SvdModel(), batch_size=512, device=device)\n",
        "\n",
        "print(\"Implicit\")\n",
        "built_in_svd_runner_small_impicit.run(implicit_small_datasets)\n",
        "print(\"Explicit\")\n",
        "built_in_svd_runner_small_explicit.run(explicit_small_datasets)"
      ],
      "metadata": {
        "colab": {
          "base_uri": "https://localhost:8080/"
        },
        "id": "0QkEGn8ctl5o",
        "outputId": "74dad98b-f1fc-480f-fe60-cacf66c73002"
      },
      "id": "0QkEGn8ctl5o",
      "execution_count": 39,
      "outputs": [
        {
          "output_type": "stream",
          "name": "stdout",
          "text": [
            "Implicit\n",
            "--- 129.62959623336792 seconds svd computation---\n"
          ]
        },
        {
          "output_type": "stream",
          "name": "stderr",
          "text": [
            "Iterating train: 100%|██████████| 9/9 [00:01<00:00,  6.30it/s]\n",
            "Iterating valid: 100%|██████████| 1/1 [00:00<00:00,  7.00it/s]\n"
          ]
        },
        {
          "output_type": "stream",
          "name": "stdout",
          "text": [
            "Explicit\n",
            "--- 120.89707922935486 seconds svd computation---\n"
          ]
        },
        {
          "output_type": "stream",
          "name": "stderr",
          "text": [
            "Iterating train: 100%|██████████| 10/10 [00:01<00:00,  6.09it/s]\n",
            "Iterating valid: 100%|██████████| 1/1 [00:00<00:00,  6.16it/s]\n"
          ]
        }
      ]
    },
    {
      "cell_type": "code",
      "source": [
        "built_in_svd_runner_small_minus2_impicit = SparseRunner(model=Built_in_SvdModel(), batch_size=512, device=device)\n",
        "built_in_svd_runner_small_minus2_explicit = SparseRunner(model=Built_in_SvdModel(), batch_size=512, device=device)\n",
        "\n",
        "print(\"Implicit\")\n",
        "built_in_svd_runner_small_minus2_impicit.run(implicit_small_datasets_minus2)\n",
        "print(\"Explicit\")\n",
        "built_in_svd_runner_small_minus2_explicit.run(explicit_small_datasets_minus2)"
      ],
      "metadata": {
        "colab": {
          "base_uri": "https://localhost:8080/"
        },
        "id": "WaR4e7ujtl9J",
        "outputId": "fb6bca5c-84fc-46b6-a09e-8460ecf4da4e"
      },
      "id": "WaR4e7ujtl9J",
      "execution_count": 41,
      "outputs": [
        {
          "output_type": "stream",
          "name": "stdout",
          "text": [
            "Implicit\n",
            "--- 94.07006359100342 seconds svd computation---\n"
          ]
        },
        {
          "output_type": "stream",
          "name": "stderr",
          "text": [
            "Iterating train: 100%|██████████| 9/9 [00:01<00:00,  6.21it/s]\n",
            "Iterating valid: 100%|██████████| 1/1 [00:00<00:00,  6.12it/s]\n"
          ]
        },
        {
          "output_type": "stream",
          "name": "stdout",
          "text": [
            "Explicit\n",
            "--- 116.63519835472107 seconds svd computation---\n"
          ]
        },
        {
          "output_type": "stream",
          "name": "stderr",
          "text": [
            "Iterating train: 100%|██████████| 10/10 [00:01<00:00,  5.59it/s]\n",
            "Iterating valid: 100%|██████████| 1/1 [00:00<00:00,  4.97it/s]\n"
          ]
        }
      ]
    },
    {
      "cell_type": "code",
      "source": [
        "built_in_svd_runner_small_minus1_impicit = SparseRunner(model=Built_in_SvdModel(), batch_size=512, device=device)\n",
        "built_in_svd_runner_small_minus1_explicit = SparseRunner(model=Built_in_SvdModel(), batch_size=512, device=device)\n",
        "\n",
        "print(\"Implicit\")\n",
        "built_in_svd_runner_small_minus1_impicit.run(implicit_small_datasets_minus1)\n",
        "print(\"Explicit\")\n",
        "built_in_svd_runner_small_minus1_explicit.run(explicit_small_datasets_minus1)"
      ],
      "metadata": {
        "colab": {
          "base_uri": "https://localhost:8080/"
        },
        "id": "Wi-KOqBV1oKa",
        "outputId": "45e64195-e832-45e2-bc90-ef212e837405"
      },
      "id": "Wi-KOqBV1oKa",
      "execution_count": 42,
      "outputs": [
        {
          "output_type": "stream",
          "name": "stdout",
          "text": [
            "Implicit\n",
            "--- 94.11385869979858 seconds svd computation---\n"
          ]
        },
        {
          "output_type": "stream",
          "name": "stderr",
          "text": [
            "Iterating train: 100%|██████████| 9/9 [00:01<00:00,  6.08it/s]\n",
            "Iterating valid: 100%|██████████| 1/1 [00:00<00:00,  4.69it/s]\n"
          ]
        },
        {
          "output_type": "stream",
          "name": "stdout",
          "text": [
            "Explicit\n",
            "--- 124.18339204788208 seconds svd computation---\n"
          ]
        },
        {
          "output_type": "stream",
          "name": "stderr",
          "text": [
            "Iterating train: 100%|██████████| 10/10 [00:01<00:00,  5.36it/s]\n",
            "Iterating valid: 100%|██████████| 1/1 [00:00<00:00,  3.39it/s]\n"
          ]
        }
      ]
    },
    {
      "cell_type": "markdown",
      "source": [
        "### 4.3 Rank-one SVD Model\n",
        "\n",
        "runner.model - тут будет лежать обученная базовая модель, где уже посчитался svd (runner.model.svd). Нужно вот весь runner.model взять, подать в свой класс, а затем уже реализовывать добавление пользователя\n",
        "\n"
      ],
      "metadata": {
        "id": "WWUDrTfKDPG_"
      },
      "id": "WWUDrTfKDPG_"
    },
    {
      "cell_type": "code",
      "source": [
        "class Rank_one_SvdModel(SparseModel):\n",
        "    \"\"\"\n",
        "    remove_seen: flag if we want to remove items that user saw while training (make only new recommendations)\n",
        "    \"\"\"\n",
        "    def __init__(self,\n",
        "                 trained_model,\n",
        "                 trained_model_on_minus1,\n",
        "                ) -> None:\n",
        "        super().__init__(remove_seen=trained_model.remove_seen)\n",
        "        self.trained_model = trained_model\n",
        "        self.trained_model_on_minus1 = trained_model_on_minus1\n",
        "        self.true_svd = trained_model.svd\n",
        "        self.svd_on_minus1_users = trained_model_on_minus1.svd\n",
        "\n",
        "\n",
        "    def fit(self,\n",
        "            data: sps.csr_matrix\n",
        "          ) -> None:\n",
        "        \"\"\"\n",
        "          data - обычная матрица, нужно подать в fit одного кандидата (new_user) и, собственно, прописать алгоритм метода.\n",
        "          Дальше, главное, вывести явно матрицы u vt и не удалять строку с self.factors, потому что эти матрицы туда грузятся,\n",
        "          и затем используются для предикта\n",
        "        \"\"\"\n",
        "\n",
        "        # тут должен быть тот самый rank one алгоритм подсчета svd не прямым методом, для этого есть self.svd_on_minus1_users -\n",
        "        # svd разложение для матрицы без одного пользователя. Также есть self.true_svd для оценки неточности восстановления\n",
        "\n",
        "        self.factors = {\n",
        "            \"user\": torch.from_numpy(u.copy()).float().to(self.device),\n",
        "            \"item\": torch.einsum(\n",
        "                \"fi->if\", torch.from_numpy(vt).float().to(self.device)\n",
        "            ),\n",
        "        }\n",
        "\n",
        "\n",
        "    def predict_proba(self,\n",
        "                      batch: dict[str, Any]\n",
        "                    ) -> dict[str, torch.Tensor]:\n",
        "        scores = torch.einsum(\n",
        "            \"ui,if,jf->uj\", batch[\"source\"], self.factors[\"item\"], self.factors[\"item\"]\n",
        "        )\n",
        "        if self.remove_seen:\n",
        "            scores[batch[\"source\"].gt(0)] = -1e13\n",
        "        return {\"logits\": scores}"
      ],
      "metadata": {
        "id": "yrnBlHUwDNZ2"
      },
      "id": "yrnBlHUwDNZ2",
      "execution_count": 44,
      "outputs": []
    },
    {
      "cell_type": "code",
      "source": [
        "rank1_svd_runner_small_impicit = SparseRunner(model=Rank_one_SvdModel(built_in_svd_runner_small_impicit.model,\n",
        "                                                                      built_in_svd_runner_small_minus1_impicit.model), batch_size=512, device=device)\n",
        "rank1_svd_runner_small_explicit = SparseRunner(model=Rank_one_SvdModel(built_in_svd_runner_small_explicit.model,\n",
        "                                                                      built_in_svd_runner_small_minus1_explicit.model), batch_size=512, device=device)"
      ],
      "metadata": {
        "id": "xVw1PqsZDNcm"
      },
      "id": "xVw1PqsZDNcm",
      "execution_count": 45,
      "outputs": []
    },
    {
      "cell_type": "code",
      "source": [
        "rank1_svd_runner_small_impicit.model.true_svd[1].shape"
      ],
      "metadata": {
        "id": "qJkK0bTvDNfa",
        "colab": {
          "base_uri": "https://localhost:8080/"
        },
        "outputId": "3fb5bbed-ad49-423d-a17e-fcb4a29acc44"
      },
      "id": "qJkK0bTvDNfa",
      "execution_count": 46,
      "outputs": [
        {
          "output_type": "execute_result",
          "data": {
            "text/plain": [
              "(4272,)"
            ]
          },
          "metadata": {},
          "execution_count": 46
        }
      ]
    },
    {
      "cell_type": "code",
      "source": [
        "rank1_svd_runner_small_impicit.model.svd_on_minus1_users[1].shape"
      ],
      "metadata": {
        "id": "THXy3INPDNiT",
        "colab": {
          "base_uri": "https://localhost:8080/"
        },
        "outputId": "1fe4139a-7b6b-4402-f9e5-77b9723c8039"
      },
      "id": "THXy3INPDNiT",
      "execution_count": 47,
      "outputs": [
        {
          "output_type": "execute_result",
          "data": {
            "text/plain": [
              "(4271,)"
            ]
          },
          "metadata": {},
          "execution_count": 47
        }
      ]
    },
    {
      "cell_type": "code",
      "source": [],
      "metadata": {
        "id": "hgVUgxJxDNlP"
      },
      "id": "hgVUgxJxDNlP",
      "execution_count": null,
      "outputs": []
    },
    {
      "cell_type": "code",
      "source": [],
      "metadata": {
        "id": "PTJuASlEDNn-"
      },
      "id": "PTJuASlEDNn-",
      "execution_count": null,
      "outputs": []
    },
    {
      "cell_type": "code",
      "source": [],
      "metadata": {
        "id": "not_o2RqDNqd"
      },
      "id": "not_o2RqDNqd",
      "execution_count": null,
      "outputs": []
    },
    {
      "cell_type": "markdown",
      "id": "dd4bb7af-a0d7-4320-bb5b-2784f8c89aa0",
      "metadata": {
        "id": "dd4bb7af-a0d7-4320-bb5b-2784f8c89aa0"
      },
      "source": [
        "## 5. Evaluation\n",
        "\n",
        "$target_{sort}$ — таргет, сортированный в соответствии с логитами модели по убыванию.\n",
        "\n",
        "Так как мы всё делаем через animus, сделаем второй callback, чтобы красиво визуализировать метрики моделей."
      ]
    },
    {
      "cell_type": "code",
      "execution_count": null,
      "id": "8c053209-51c0-4caf-b4dd-dcc8d57cca67",
      "metadata": {
        "id": "8c053209-51c0-4caf-b4dd-dcc8d57cca67"
      },
      "outputs": [],
      "source": [
        "class MetricCallback(ICallback):\n",
        "    def __init__(self, func: Callable, topk: list[int], input_key: str) -> None:\n",
        "        self._name = func.__name__\n",
        "        self._func = func\n",
        "        self._topk = topk\n",
        "        self._input_key = input_key\n",
        "        self._total_sum = {k: 0 for k in self._topk}\n",
        "        self._num_batches = 0\n",
        "\n",
        "    def _get_metric(self) -> dict[str, float]:\n",
        "        return {\n",
        "            f\"{self._name}@{k}\": metric_sum / self._num_batches\n",
        "            for k, metric_sum in self._total_sum.items()\n",
        "        }\n",
        "\n",
        "    def on_dataset_start(self, exp: IExperiment) -> None:\n",
        "        self._total_sum = {k: 0 for k in self._topk}\n",
        "        self._num_batches = 0\n",
        "\n",
        "    def on_batch_end(self, exp: IExperiment) -> None:\n",
        "        for k in self._topk:\n",
        "            self._total_sum[k] += self._func(\n",
        "                exp.batch_output[self._input_key], exp.batch_target, topk=k\n",
        "            ).item()\n",
        "        self._num_batches += 1\n",
        "        exp.batch_metrics.update(self._get_metric())\n",
        "\n",
        "    def on_dataset_end(self, exp: IExperiment) -> None:\n",
        "        exp.dataset_metrics.update(self._get_metric())"
      ]
    },
    {
      "cell_type": "code",
      "execution_count": null,
      "id": "d33c5594-20ec-450c-9fa1-e674d8fa8bfa",
      "metadata": {
        "id": "d33c5594-20ec-450c-9fa1-e674d8fa8bfa"
      },
      "outputs": [],
      "source": [
        "class LoggerCallback(ICallback):\n",
        "    def on_dataset_end(self, exp: IExperiment) -> None:\n",
        "        \"\"\"Run callbacks on dataset end.\"\"\"\n",
        "        print(f\"{exp.dataset_key.capitalize()} metrics:\")\n",
        "        max_length = max(len(x) for x in exp.dataset_metrics)\n",
        "        # Sort by length to make it prettier\n",
        "        for metric in sorted(exp.dataset_metrics, key=self._sort_func):\n",
        "            metric_value = exp.dataset_metrics.get(metric)\n",
        "            if isinstance(metric_value, (float, int)):\n",
        "                print(f\"{metric.ljust(max_length)} | {metric_value:.4f}\")\n",
        "\n",
        "    @staticmethod\n",
        "    def _sort_func(x: str) -> Tuple[int, str, int]:\n",
        "        if \"@\" in x:\n",
        "            metric_key, topk = x.split(\"@\")\n",
        "            return (len(metric_key), metric_key, int(topk))\n",
        "        return (len(x), x, 0)"
      ]
    },
    {
      "cell_type": "code",
      "execution_count": null,
      "id": "ac654b68-ae10-4d97-9b1e-4b6f41d865c6",
      "metadata": {
        "id": "ac654b68-ae10-4d97-9b1e-4b6f41d865c6"
      },
      "outputs": [],
      "source": [
        "class PrepareTargetResult(NamedTuple):\n",
        "    values: torch.Tensor\n",
        "    indices: torch.Tensor\n",
        "\n",
        "\n",
        "def validate_metric_inputs(output: torch.Tensor, target: torch.Tensor) -> None:\n",
        "    if output.size() != target.size():\n",
        "        raise IndexError(\n",
        "            \"Unequal sizes for output and target: \"\n",
        "            f\"output - {output.size()}, target - {target.size()}.\"\n",
        "        )\n",
        "    if not (target.eq(0) | target.eq(1)).all():\n",
        "        raise ValueError(\n",
        "            \"Target contains values outside of 0 and 1.\" f\"\\nTarget:\\n{target}\"\n",
        "        )\n",
        "\n",
        "\n",
        "def prepare_target(\n",
        "    output: torch.Tensor, target: torch.Tensor, return_indices: bool = False\n",
        ") -> Union[torch.Tensor, PrepareTargetResult]:\n",
        "    validate_metric_inputs(output, target)\n",
        "    # Define order by sorted output scores.\n",
        "    indices = output.argsort(dim=-1, descending=True)\n",
        "    sorted_target = torch.gather(target, index=indices, dim=-1)\n",
        "    return (\n",
        "        PrepareTargetResult(sorted_target, indices) if return_indices else sorted_target\n",
        "    )\n",
        "\n",
        "\n",
        "def nan_to_num(tensor: torch.Tensor, nan: float = 0.0) -> torch.Tensor:\n",
        "    return torch.where(\n",
        "        torch.isnan(tensor) | torch.isinf(tensor),\n",
        "        torch.full_like(tensor, fill_value=nan),\n",
        "        tensor,\n",
        "    )"
      ]
    },
    {
      "cell_type": "code",
      "execution_count": null,
      "id": "7c369037-0686-4e4f-96f7-324c16133d3a",
      "metadata": {
        "id": "7c369037-0686-4e4f-96f7-324c16133d3a"
      },
      "outputs": [],
      "source": [
        "output, target = (\n",
        "    torch.randn(size=(10, 13)),\n",
        "    torch.randint(low=0, high=2, size=(10, 13)).float(),\n",
        ")"
      ]
    },
    {
      "cell_type": "markdown",
      "id": "f6dcf517-e8df-4957-92d2-c29e948116cd",
      "metadata": {
        "id": "f6dcf517-e8df-4957-92d2-c29e948116cd"
      },
      "source": [
        "### 5.1 Precision\n",
        "\n",
        "$$\n",
        "p@k = \\frac{\\sum_{i=1}^{k}target_{sort}[i]}{k}\n",
        "$$"
      ]
    },
    {
      "cell_type": "code",
      "execution_count": null,
      "id": "dc7a35ba-cabc-4071-9b84-93e21903d0b4",
      "metadata": {
        "id": "dc7a35ba-cabc-4071-9b84-93e21903d0b4"
      },
      "outputs": [],
      "source": [
        "def precision(output: torch.Tensor, target: torch.Tensor, topk: int) -> torch.Tensor:\n",
        "    topk = min(output.size(-1), topk)\n",
        "    # target_sorted_by_output ~ (users, topk)\n",
        "    target_sorted_by_output = prepare_target(output, target)[:, :topk]\n",
        "    # precision_score ~ (users)\n",
        "    precision_score = target_sorted_by_output.sum(dim=-1) / topk\n",
        "    return precision_score.mean()"
      ]
    },
    {
      "cell_type": "code",
      "execution_count": null,
      "id": "eaebfb1f-9b44-4161-b38f-f70343a018e4",
      "metadata": {
        "colab": {
          "base_uri": "https://localhost:8080/"
        },
        "id": "eaebfb1f-9b44-4161-b38f-f70343a018e4",
        "outputId": "040ced55-e53f-45b3-9de5-e7cb7dbce44a"
      },
      "outputs": [
        {
          "data": {
            "text/plain": [
              "tensor(0.4667)"
            ]
          },
          "execution_count": 42,
          "metadata": {},
          "output_type": "execute_result"
        }
      ],
      "source": [
        "precision(output, target, topk=3)"
      ]
    },
    {
      "cell_type": "markdown",
      "id": "78531082-a94d-4347-a6ac-4b21f1effaf3",
      "metadata": {
        "id": "78531082-a94d-4347-a6ac-4b21f1effaf3"
      },
      "source": [
        "### 5.2 Recall\n",
        "\n",
        "$$\n",
        "r@k = \\frac{\\sum_{i=1}^{k}target_{sort}[i]}{\\sum target}\n",
        "$$"
      ]
    },
    {
      "cell_type": "code",
      "execution_count": null,
      "id": "bc1d6167-344f-4041-9c97-d29eeb232f9e",
      "metadata": {
        "id": "bc1d6167-344f-4041-9c97-d29eeb232f9e"
      },
      "outputs": [],
      "source": [
        "def recall(output: torch.Tensor, target: torch.Tensor, topk: int) -> torch.Tensor:\n",
        "    topk = min(output.shape[-1], topk)\n",
        "    # target_sorted_by_output ~ (users, topk)\n",
        "    target_sorted_by_output = prepare_target(output, target)[:, :topk]\n",
        "    # recall_score ~ (users)\n",
        "    recall_score = nan_to_num(target_sorted_by_output.sum(dim=-1) / target.sum(dim=-1))\n",
        "    return recall_score.mean()"
      ]
    },
    {
      "cell_type": "code",
      "execution_count": null,
      "id": "4804ee24-b4c5-46e2-8c1e-a08a48cba535",
      "metadata": {
        "colab": {
          "base_uri": "https://localhost:8080/"
        },
        "id": "4804ee24-b4c5-46e2-8c1e-a08a48cba535",
        "outputId": "4bb4fcc0-4f85-4229-dd4c-33583b354c80"
      },
      "outputs": [
        {
          "data": {
            "text/plain": [
              "tensor(0.2017)"
            ]
          },
          "execution_count": 44,
          "metadata": {},
          "output_type": "execute_result"
        }
      ],
      "source": [
        "recall(output, target, topk=3)"
      ]
    },
    {
      "cell_type": "markdown",
      "id": "78cffedd-d538-4876-a7af-d569de374a76",
      "metadata": {
        "id": "78cffedd-d538-4876-a7af-d569de374a76"
      },
      "source": [
        "### 5.3 Mean (Normalized) Average Precision\n",
        "\n",
        "$ap@k = \\frac{1}{\\sum_{i=1}^k{target_{sort}[i]}} \\sum_{i=1}^k target_{sort}[i] \\cdot p@i$\n",
        "```python\n",
        "map@k = reduce(ap@k, \"users->\", reduction=\"mean\")\n",
        "```"
      ]
    },
    {
      "cell_type": "code",
      "execution_count": null,
      "id": "c4327a51-0231-4780-9292-a6001b941765",
      "metadata": {
        "id": "c4327a51-0231-4780-9292-a6001b941765"
      },
      "outputs": [],
      "source": [
        "def mnap(\n",
        "    output: torch.Tensor, target: torch.Tensor, topk: int, normalized: bool = True\n",
        ") -> torch.Tensor:\n",
        "    topk = min(output.size(-1), topk)\n",
        "    # target_sorted_by_output ~ (users, topk)\n",
        "    target_sorted_by_output = prepare_target(output, target)[:, :topk]\n",
        "    # target_cumsum ~ (users, topk)\n",
        "    target_cumsum = target_sorted_by_output.cumsum(dim=-1)\n",
        "    # topk_tensor ~ (topk)\n",
        "    topk_tensor = torch.arange(0, topk, dtype=torch.long, device=output.device)\n",
        "    # precisions ~ (users, topk)\n",
        "    precisions = target_cumsum / (topk_tensor + 1.0)\n",
        "    # relevant_precisions ~ (users, topk)\n",
        "    relevant_precisions = precisions * target_sorted_by_output\n",
        "    # Add  normalization if needed\n",
        "    denominator = (\n",
        "        target.sum(dim=-1).clamp(max=topk)\n",
        "        if normalized\n",
        "        else target_sorted_by_output.sum(dim=-1)\n",
        "    )\n",
        "    # ap_score ~ (users)\n",
        "    ap_score = nan_to_num(relevant_precisions.sum(dim=-1) / denominator)\n",
        "    return ap_score.mean()"
      ]
    },
    {
      "cell_type": "code",
      "execution_count": null,
      "id": "b46f2fd9-7d29-465c-904d-1789e9a9855f",
      "metadata": {
        "colab": {
          "base_uri": "https://localhost:8080/"
        },
        "id": "b46f2fd9-7d29-465c-904d-1789e9a9855f",
        "outputId": "ae7d8bfc-b3e4-441f-e471-202d45a64585"
      },
      "outputs": [
        {
          "data": {
            "text/plain": [
              "tensor(0.3556)"
            ]
          },
          "execution_count": 46,
          "metadata": {},
          "output_type": "execute_result"
        }
      ],
      "source": [
        "mnap(output, target, topk=3)"
      ]
    },
    {
      "cell_type": "markdown",
      "id": "1e3d382e",
      "metadata": {
        "id": "1e3d382e"
      },
      "source": [
        "### 5.4 Normalized Discounted Cumulative Gain\n",
        "\n",
        "- Cumulative Gain (CG): $CG@k = \\sum_{i=1}^k target_{sort}[i]$\n",
        "- Discounted Cumulative Gain (DCG): $DCG@k = \\sum_{i=1}^k \\frac{2^{target_{sort}[i]} - 1}{\\log(i + 1)}$\n",
        "- Normalized Discounted Cumulative Gain (nDCG): $nDCG@k = \\frac{DCG@k}{idealDCG@k}$"
      ]
    },
    {
      "cell_type": "code",
      "execution_count": null,
      "id": "3e513c99-38c5-45c5-8c71-cc8ce7fe0f4b",
      "metadata": {
        "id": "3e513c99-38c5-45c5-8c71-cc8ce7fe0f4b"
      },
      "outputs": [],
      "source": [
        "def dcg(tensor: torch.Tensor) -> torch.Tensor:\n",
        "    gains = (2**tensor) - 1\n",
        "    return gains / torch.log2(\n",
        "        torch.arange(0, tensor.size(-1), dtype=torch.float, device=tensor.device) + 2.0\n",
        "    )\n",
        "\n",
        "\n",
        "def ndcg(output: torch.Tensor, target: torch.Tensor, topk: int) -> torch.Tensor:\n",
        "    topk = min(output.size(-1), topk)\n",
        "    # target_sorted_by_output ~ (users, items)\n",
        "    target_sorted_by_output = prepare_target(output, target)\n",
        "    ideal_target = prepare_target(target, target)\n",
        "    # ideal_dcg ~ (users, topk)\n",
        "    ideal_dcg = dcg(ideal_target)[:, :topk]\n",
        "    # prediction_dcg ~ (users, topk)\n",
        "    prediction_dcg = dcg(target_sorted_by_output)[:, :topk]\n",
        "    # ideal_dcg_cumsum ~ (users)\n",
        "    ideal_dcg_score = ideal_dcg.sum(dim=-1)\n",
        "    # prediction_dcg_cumsum ~ (users)\n",
        "    prediction_dcg_score = prediction_dcg.sum(dim=-1)\n",
        "    # ndcg_score ~ (users, items)\n",
        "    ndcg_score = nan_to_num(prediction_dcg_score / ideal_dcg_score)\n",
        "    # ndcg_score[ideal_dcg_score.eq(0)] = 0.0\n",
        "    return ndcg_score.mean()"
      ]
    },
    {
      "cell_type": "code",
      "execution_count": null,
      "id": "6c95e737-7853-4c7d-bcb4-1e2999ed3ec6",
      "metadata": {
        "colab": {
          "base_uri": "https://localhost:8080/"
        },
        "id": "6c95e737-7853-4c7d-bcb4-1e2999ed3ec6",
        "outputId": "38231d10-868f-4634-b6c6-53e53aeb0a3e"
      },
      "outputs": [
        {
          "data": {
            "text/plain": [
              "tensor(0.4531)"
            ]
          },
          "execution_count": 48,
          "metadata": {},
          "output_type": "execute_result"
        }
      ],
      "source": [
        "ndcg(output, target, topk=3)"
      ]
    },
    {
      "cell_type": "markdown",
      "id": "a7b5c7d2-9d3f-49e2-91da-8a7c7879adde",
      "metadata": {
        "id": "a7b5c7d2-9d3f-49e2-91da-8a7c7879adde"
      },
      "source": [
        "#### Top Popular"
      ]
    },
    {
      "cell_type": "code",
      "execution_count": null,
      "id": "1ea63804-2499-4212-b5c7-2c87466ae9e8",
      "metadata": {
        "colab": {
          "base_uri": "https://localhost:8080/"
        },
        "id": "1ea63804-2499-4212-b5c7-2c87466ae9e8",
        "outputId": "8ac7a619-bba6-4e12-b4b8-6eabde7f3b13"
      },
      "outputs": [
        {
          "name": "stderr",
          "output_type": "stream",
          "text": [
            "Iterating train: 100%|█████████████████████████████| 82/82 [02:19<00:00,  1.71s/it]\n"
          ]
        },
        {
          "name": "stdout",
          "output_type": "stream",
          "text": [
            "Train metrics:\n",
            "mnap@1       | 0.4153\n",
            "mnap@3       | 0.3329\n",
            "mnap@10      | 0.2149\n",
            "ndcg@1       | 0.4153\n",
            "ndcg@3       | 0.3985\n",
            "ndcg@10      | 0.3295\n",
            "recall@1     | 0.0155\n",
            "recall@3     | 0.0429\n",
            "recall@10    | 0.0957\n",
            "precision@1  | 0.4153\n",
            "precision@3  | 0.3918\n",
            "precision@10 | 0.2948\n"
          ]
        },
        {
          "name": "stderr",
          "output_type": "stream",
          "text": [
            "Iterating valid: 100%|███████████████████████████████| 5/5 [00:09<00:00,  1.93s/it]"
          ]
        },
        {
          "name": "stdout",
          "output_type": "stream",
          "text": [
            "Valid metrics:\n",
            "mnap@1       | 0.1644\n",
            "mnap@3       | 0.1105\n",
            "mnap@10      | 0.0736\n",
            "ndcg@1       | 0.1644\n",
            "ndcg@3       | 0.1403\n",
            "ndcg@10      | 0.1244\n",
            "recall@1     | 0.0179\n",
            "recall@3     | 0.0396\n",
            "recall@10    | 0.0783\n",
            "precision@1  | 0.1644\n",
            "precision@3  | 0.1270\n",
            "precision@10 | 0.0916\n"
          ]
        },
        {
          "name": "stderr",
          "output_type": "stream",
          "text": [
            "\n"
          ]
        }
      ],
      "source": [
        "runner = SparseRunner(\n",
        "    model=TopPopularModel(),\n",
        "    batch_size=512,\n",
        "    callbacks={\n",
        "        \"precision\": MetricCallback(precision, input_key=\"logits\", topk=(1, 3, 10)),\n",
        "        \"recall\": MetricCallback(recall, input_key=\"logits\", topk=(1, 3, 10)),\n",
        "        \"ndcg\": MetricCallback(ndcg, input_key=\"logits\", topk=(1, 3, 10)),\n",
        "        \"map\": MetricCallback(mnap, input_key=\"logits\", topk=(1, 3, 10)),\n",
        "        \"logger\": LoggerCallback(),\n",
        "    },\n",
        "    target_threshold=3.0,\n",
        "    device=device,\n",
        ")\n",
        "runner.run(explicit_datasets)"
      ]
    },
    {
      "cell_type": "code",
      "execution_count": null,
      "id": "586f03f3-d77b-46af-abea-14fe62425708",
      "metadata": {
        "colab": {
          "base_uri": "https://localhost:8080/"
        },
        "id": "586f03f3-d77b-46af-abea-14fe62425708",
        "outputId": "bdee437b-c8dc-4978-8020-79c80117f03f"
      },
      "outputs": [
        {
          "name": "stderr",
          "output_type": "stream",
          "text": [
            "Iterating train: 100%|█████████████████████████████| 80/80 [01:36<00:00,  1.21s/it]\n"
          ]
        },
        {
          "name": "stdout",
          "output_type": "stream",
          "text": [
            "Train metrics:\n",
            "mnap@1       | 0.4243\n",
            "mnap@3       | 0.3400\n",
            "mnap@10      | 0.2214\n",
            "ndcg@1       | 0.4243\n",
            "ndcg@3       | 0.4069\n",
            "ndcg@10      | 0.3361\n",
            "recall@1     | 0.0153\n",
            "recall@3     | 0.0427\n",
            "recall@10    | 0.0958\n",
            "precision@1  | 0.4243\n",
            "precision@3  | 0.4005\n",
            "precision@10 | 0.3017\n"
          ]
        },
        {
          "name": "stderr",
          "output_type": "stream",
          "text": [
            "Iterating valid: 100%|███████████████████████████████| 5/5 [00:07<00:00,  1.42s/it]"
          ]
        },
        {
          "name": "stdout",
          "output_type": "stream",
          "text": [
            "Valid metrics:\n",
            "mnap@1       | 0.1407\n",
            "mnap@3       | 0.0960\n",
            "mnap@10      | 0.0660\n",
            "ndcg@1       | 0.1407\n",
            "ndcg@3       | 0.1228\n",
            "ndcg@10      | 0.1133\n",
            "recall@1     | 0.0151\n",
            "recall@3     | 0.0337\n",
            "recall@10    | 0.0737\n",
            "precision@1  | 0.1407\n",
            "precision@3  | 0.1125\n",
            "precision@10 | 0.0854\n"
          ]
        },
        {
          "name": "stderr",
          "output_type": "stream",
          "text": [
            "\n"
          ]
        }
      ],
      "source": [
        "runner = SparseRunner(\n",
        "    model=TopPopularModel(),\n",
        "    batch_size=512,\n",
        "    callbacks={\n",
        "        \"precision\": MetricCallback(precision, input_key=\"logits\", topk=(1, 3, 10)),\n",
        "        \"recall\": MetricCallback(recall, input_key=\"logits\", topk=(1, 3, 10)),\n",
        "        \"ndcg\": MetricCallback(ndcg, input_key=\"logits\", topk=(1, 3, 10)),\n",
        "        \"map\": MetricCallback(mnap, input_key=\"logits\", topk=(1, 3, 10)),\n",
        "        \"logger\": LoggerCallback(),\n",
        "    },\n",
        "    device=device,\n",
        ")\n",
        "runner.run(implicit_datasets)"
      ]
    },
    {
      "cell_type": "markdown",
      "id": "86a6c1c2-ea4b-4f75-8ddb-7089fa9a9d11",
      "metadata": {
        "id": "86a6c1c2-ea4b-4f75-8ddb-7089fa9a9d11"
      },
      "source": [
        "#### SVD"
      ]
    },
    {
      "cell_type": "code",
      "execution_count": null,
      "id": "54f39327-9274-4ff1-a177-8f0fa4507088",
      "metadata": {
        "colab": {
          "base_uri": "https://localhost:8080/"
        },
        "id": "54f39327-9274-4ff1-a177-8f0fa4507088",
        "outputId": "3fe719b4-0265-428b-9693-22daf29dbcfb"
      },
      "outputs": [
        {
          "name": "stderr",
          "output_type": "stream",
          "text": [
            "Iterating train: 100%|█████████████████████████████| 82/82 [03:01<00:00,  2.22s/it]\n"
          ]
        },
        {
          "name": "stdout",
          "output_type": "stream",
          "text": [
            "Train metrics:\n",
            "mnap@1       | 0.9412\n",
            "mnap@3       | 0.8383\n",
            "mnap@10      | 0.6661\n",
            "ndcg@1       | 0.9412\n",
            "ndcg@3       | 0.8760\n",
            "ndcg@10      | 0.7674\n",
            "recall@1     | 0.0371\n",
            "recall@3     | 0.0901\n",
            "recall@10    | 0.2037\n",
            "precision@1  | 0.9412\n",
            "precision@3  | 0.8568\n",
            "precision@10 | 0.7066\n"
          ]
        },
        {
          "name": "stderr",
          "output_type": "stream",
          "text": [
            "Iterating valid: 100%|███████████████████████████████| 5/5 [00:10<00:00,  2.04s/it]"
          ]
        },
        {
          "name": "stdout",
          "output_type": "stream",
          "text": [
            "Valid metrics:\n",
            "mnap@1       | 0.2407\n",
            "mnap@3       | 0.1675\n",
            "mnap@10      | 0.1156\n",
            "ndcg@1       | 0.2407\n",
            "ndcg@3       | 0.2108\n",
            "ndcg@10      | 0.1919\n",
            "recall@1     | 0.0199\n",
            "recall@3     | 0.0433\n",
            "recall@10    | 0.1006\n",
            "precision@1  | 0.2407\n",
            "precision@3  | 0.1979\n",
            "precision@10 | 0.1559\n"
          ]
        },
        {
          "name": "stderr",
          "output_type": "stream",
          "text": [
            "\n"
          ]
        }
      ],
      "source": [
        "runner = SparseRunner(\n",
        "    model=SvdModel(factors=32),\n",
        "    batch_size=512,\n",
        "    callbacks={\n",
        "        \"precision\": MetricCallback(precision, input_key=\"logits\", topk=(1, 3, 10)),\n",
        "        \"recall\": MetricCallback(recall, input_key=\"logits\", topk=(1, 3, 10)),\n",
        "        \"ndcg\": MetricCallback(ndcg, input_key=\"logits\", topk=(1, 3, 10)),\n",
        "        \"map\": MetricCallback(mnap, input_key=\"logits\", topk=(1, 3, 10)),\n",
        "        \"logger\": LoggerCallback(),\n",
        "    },\n",
        "    device=device,\n",
        ")\n",
        "runner.run(explicit_datasets)"
      ]
    },
    {
      "cell_type": "code",
      "execution_count": null,
      "id": "dd4d7596-6e6c-45ef-b995-ee3c5a5196ed",
      "metadata": {
        "colab": {
          "base_uri": "https://localhost:8080/"
        },
        "id": "dd4d7596-6e6c-45ef-b995-ee3c5a5196ed",
        "outputId": "98b1359b-3ce4-4984-c3af-df64bf5b14c1"
      },
      "outputs": [
        {
          "name": "stderr",
          "output_type": "stream",
          "text": [
            "Iterating train: 100%|█████████████████████████████| 80/80 [02:58<00:00,  2.23s/it]\n"
          ]
        },
        {
          "name": "stdout",
          "output_type": "stream",
          "text": [
            "Train metrics:\n",
            "mnap@1       | 0.9450\n",
            "mnap@3       | 0.8334\n",
            "mnap@10      | 0.6396\n",
            "ndcg@1       | 0.9450\n",
            "ndcg@3       | 0.8716\n",
            "ndcg@10      | 0.7470\n",
            "recall@1     | 0.0573\n",
            "recall@3     | 0.1359\n",
            "recall@10    | 0.2765\n",
            "precision@1  | 0.9450\n",
            "precision@3  | 0.8495\n",
            "precision@10 | 0.6550\n"
          ]
        },
        {
          "name": "stderr",
          "output_type": "stream",
          "text": [
            "Iterating valid: 100%|███████████████████████████████| 5/5 [00:09<00:00,  1.97s/it]"
          ]
        },
        {
          "name": "stdout",
          "output_type": "stream",
          "text": [
            "Valid metrics:\n",
            "mnap@1       | 0.1417\n",
            "mnap@3       | 0.1003\n",
            "mnap@10      | 0.0706\n",
            "ndcg@1       | 0.1417\n",
            "ndcg@3       | 0.1330\n",
            "ndcg@10      | 0.1300\n",
            "recall@1     | 0.0140\n",
            "recall@3     | 0.0355\n",
            "recall@10    | 0.0912\n",
            "precision@1  | 0.1417\n",
            "precision@3  | 0.1264\n",
            "precision@10 | 0.1012\n"
          ]
        },
        {
          "name": "stderr",
          "output_type": "stream",
          "text": [
            "\n"
          ]
        }
      ],
      "source": [
        "runner = SparseRunner(\n",
        "    model=SvdModel(factors=32),\n",
        "    batch_size=512,\n",
        "    callbacks={\n",
        "        \"precision\": MetricCallback(precision, input_key=\"logits\", topk=(1, 3, 10)),\n",
        "        \"recall\": MetricCallback(recall, input_key=\"logits\", topk=(1, 3, 10)),\n",
        "        \"ndcg\": MetricCallback(ndcg, input_key=\"logits\", topk=(1, 3, 10)),\n",
        "        \"map\": MetricCallback(mnap, input_key=\"logits\", topk=(1, 3, 10)),\n",
        "        \"logger\": LoggerCallback(),\n",
        "    },\n",
        "    device=device,\n",
        ")\n",
        "runner.run(implicit_datasets)"
      ]
    }
  ],
  "metadata": {
    "accelerator": "GPU",
    "colab": {
      "provenance": []
    },
    "gpuClass": "standard",
    "kernelspec": {
      "display_name": "Python 3 (ipykernel)",
      "language": "python",
      "name": "python3"
    },
    "language_info": {
      "codemirror_mode": {
        "name": "ipython",
        "version": 3
      },
      "file_extension": ".py",
      "mimetype": "text/x-python",
      "name": "python",
      "nbconvert_exporter": "python",
      "pygments_lexer": "ipython3",
      "version": "3.10.10"
    },
    "vscode": {
      "interpreter": {
        "hash": "c67d7bf21513af7965fc177235d47b067af53473a91c971089237c6aa21091ef"
      }
    }
  },
  "nbformat": 4,
  "nbformat_minor": 5
}