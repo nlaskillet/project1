{
  "cells": [
    {
      "cell_type": "markdown",
      "id": "c7af04bc",
      "metadata": {
        "id": "c7af04bc"
      },
      "source": [
        "# SVD в рекомендательных системах\n",
        "\n",
        "# Rank One алгоритм при добавлении нового пользователя/айтема"
      ]
    },
    {
      "cell_type": "code",
      "execution_count": 1,
      "id": "_7UJzb7JY0OG",
      "metadata": {
        "ExecuteTime": {
          "end_time": "2023-04-19T12:28:39.153730Z",
          "start_time": "2023-04-19T12:28:39.057747Z"
        },
        "colab": {
          "base_uri": "https://localhost:8080/"
        },
        "id": "_7UJzb7JY0OG",
        "outputId": "f9acb8ff-f5ab-4dec-f06c-509d198bf361"
      },
      "outputs": [
        {
          "output_type": "stream",
          "name": "stdout",
          "text": [
            "Collecting animus\n",
            "  Downloading animus-0.0.2-py2.py3-none-any.whl (14 kB)\n",
            "Installing collected packages: animus\n",
            "Successfully installed animus-0.0.2\n"
          ]
        }
      ],
      "source": [
        "!pip install animus"
      ]
    },
    {
      "cell_type": "code",
      "execution_count": 2,
      "id": "f17f03f3-e355-46cf-84c0-13af9796d297",
      "metadata": {
        "ExecuteTime": {
          "end_time": "2023-04-19T13:28:36.394744Z",
          "start_time": "2023-04-19T13:28:35.905330Z"
        },
        "id": "f17f03f3-e355-46cf-84c0-13af9796d297"
      },
      "outputs": [],
      "source": [
        "from abc import ABC, abstractmethod\n",
        "from collections import defaultdict\n",
        "from dataclasses import dataclass, field\n",
        "from pprint import pprint\n",
        "from typing import Any, Callable, Iterable, NamedTuple, Set, Tuple, Union\n",
        "\n",
        "import matplotlib.pyplot as plt\n",
        "import numpy as np\n",
        "import pandas as pd\n",
        "import scipy.sparse as sps\n",
        "import seaborn as sns\n",
        "import torch\n",
        "from animus import ICallback, IExperiment\n",
        "from torch.utils.data import DataLoader, Dataset\n",
        "from tqdm import tqdm\n",
        "\n",
        "sns.set(rc={\"figure.figsize\": (15, 5)})"
      ]
    },
    {
      "cell_type": "code",
      "execution_count": 3,
      "id": "85559d91",
      "metadata": {
        "ExecuteTime": {
          "end_time": "2023-04-19T13:28:37.239109Z",
          "start_time": "2023-04-19T13:28:37.221403Z"
        },
        "id": "85559d91"
      },
      "outputs": [],
      "source": [
        "import multiprocessing\n",
        "import os\n",
        "\n",
        "os.environ[\"OMP_NUM_THREADS\"] = \"1\"\n",
        "multiprocessing.set_start_method(\"fork\")"
      ]
    },
    {
      "cell_type": "markdown",
      "id": "a77a14e7-4c22-4073-84cb-06607e73e413",
      "metadata": {
        "id": "a77a14e7-4c22-4073-84cb-06607e73e413"
      },
      "source": [
        "## 1. Скачиваем данные\n",
        "\n",
        "Взяли датасет MovieLens 10M. Это один из самых известных датасетов для исследования рекомендательных моделей. Достаточно много данных и в открытом доступе. Идеально для экспериментов\n",
        "\n",
        "Признаки:\n",
        "- `user` - пользователь сервиса\n",
        "- `item` - id фильмов на сервисе\n",
        "- рейтинг `user` для `item`. Рейтинг — explicit величина, которая принимает значения от 0 до 5\n",
        "- метадата для фильмов"
      ]
    },
    {
      "cell_type": "code",
      "execution_count": 4,
      "id": "4ee473ef-a62f-41a9-9b5d-fcb38de953f0",
      "metadata": {
        "ExecuteTime": {
          "end_time": "2023-04-19T13:28:39.411888Z",
          "start_time": "2023-04-19T13:28:39.401091Z"
        },
        "colab": {
          "base_uri": "https://localhost:8080/"
        },
        "id": "4ee473ef-a62f-41a9-9b5d-fcb38de953f0",
        "outputId": "d217e76e-f7f1-430e-d9fc-6b557be0e3cc"
      },
      "outputs": [
        {
          "output_type": "stream",
          "name": "stdout",
          "text": [
            "--2023-11-06 17:15:05--  https://files.grouplens.org/datasets/movielens/ml-10m.zip\n",
            "Resolving files.grouplens.org (files.grouplens.org)... 128.101.65.152\n",
            "Connecting to files.grouplens.org (files.grouplens.org)|128.101.65.152|:443... connected.\n",
            "HTTP request sent, awaiting response... 200 OK\n",
            "Length: 65566137 (63M) [application/zip]\n",
            "Saving to: ‘ml-10m.zip’\n",
            "\n",
            "ml-10m.zip          100%[===================>]  62.53M  37.9MB/s    in 1.7s    \n",
            "\n",
            "2023-11-06 17:15:08 (37.9 MB/s) - ‘ml-10m.zip’ saved [65566137/65566137]\n",
            "\n",
            "Archive:  ml-10m.zip\n",
            "   creating: data/ml-10M100K/\n",
            "  inflating: data/ml-10M100K/allbut.pl  \n",
            "  inflating: data/ml-10M100K/movies.dat  \n",
            "  inflating: data/ml-10M100K/ratings.dat  \n",
            "  inflating: data/ml-10M100K/README.html  \n",
            "  inflating: data/ml-10M100K/split_ratings.sh  \n",
            "  inflating: data/ml-10M100K/tags.dat  \n"
          ]
        }
      ],
      "source": [
        "!wget https://files.grouplens.org/datasets/movielens/ml-10m.zip\n",
        "!unzip -uo ml-10m.zip -d data\n",
        "# Приведем к формату csv ratings\n",
        "!awk 'BEGIN { print \"user,item,values,timestamp\" } { gsub(/::/, \",\", $0); print $0 }' data/ml-10M100K/ratings.dat > data/ml-10M100K/ratings.csv\n",
        "# Приведем к формату csv movies\n",
        "!awk 'BEGIN { print \"item,title,genres\" } { gsub(/::/, \",\", $0); print $0 }' data/ml-10M100K/movies.dat > data/ml-10M100K/movies.csv"
      ]
    },
    {
      "cell_type": "markdown",
      "id": "8155de5c-b223-426b-9c45-23559363a949",
      "metadata": {
        "id": "8155de5c-b223-426b-9c45-23559363a949"
      },
      "source": [
        "## 2. Смотрим на данные"
      ]
    },
    {
      "cell_type": "code",
      "execution_count": 5,
      "id": "740b68db-9281-4aca-be02-4cd2c107f302",
      "metadata": {
        "ExecuteTime": {
          "end_time": "2023-04-19T13:28:43.647570Z",
          "start_time": "2023-04-19T13:28:42.002304Z"
        },
        "colab": {
          "base_uri": "https://localhost:8080/",
          "height": 175
        },
        "id": "740b68db-9281-4aca-be02-4cd2c107f302",
        "outputId": "ca5ede07-8f5b-43f8-c227-a713de3bf9d6"
      },
      "outputs": [
        {
          "output_type": "execute_result",
          "data": {
            "text/plain": [
              "                             0                    1                    2  \\\n",
              "user                         1                    1                    1   \n",
              "item                       122                  185                  231   \n",
              "values                     5.0                  5.0                  5.0   \n",
              "timestamp  1996-08-02 11:24:06  1996-08-02 10:58:45  1996-08-02 10:56:32   \n",
              "\n",
              "                             3                    4  \n",
              "user                         1                    1  \n",
              "item                       292                  316  \n",
              "values                     5.0                  5.0  \n",
              "timestamp  1996-08-02 10:57:01  1996-08-02 10:56:32  "
            ],
            "text/html": [
              "\n",
              "  <div id=\"df-3644f2d7-9d92-4005-b5c3-9a4b44cb07b6\" class=\"colab-df-container\">\n",
              "    <div>\n",
              "<style scoped>\n",
              "    .dataframe tbody tr th:only-of-type {\n",
              "        vertical-align: middle;\n",
              "    }\n",
              "\n",
              "    .dataframe tbody tr th {\n",
              "        vertical-align: top;\n",
              "    }\n",
              "\n",
              "    .dataframe thead th {\n",
              "        text-align: right;\n",
              "    }\n",
              "</style>\n",
              "<table border=\"1\" class=\"dataframe\">\n",
              "  <thead>\n",
              "    <tr style=\"text-align: right;\">\n",
              "      <th></th>\n",
              "      <th>0</th>\n",
              "      <th>1</th>\n",
              "      <th>2</th>\n",
              "      <th>3</th>\n",
              "      <th>4</th>\n",
              "    </tr>\n",
              "  </thead>\n",
              "  <tbody>\n",
              "    <tr>\n",
              "      <th>user</th>\n",
              "      <td>1</td>\n",
              "      <td>1</td>\n",
              "      <td>1</td>\n",
              "      <td>1</td>\n",
              "      <td>1</td>\n",
              "    </tr>\n",
              "    <tr>\n",
              "      <th>item</th>\n",
              "      <td>122</td>\n",
              "      <td>185</td>\n",
              "      <td>231</td>\n",
              "      <td>292</td>\n",
              "      <td>316</td>\n",
              "    </tr>\n",
              "    <tr>\n",
              "      <th>values</th>\n",
              "      <td>5.0</td>\n",
              "      <td>5.0</td>\n",
              "      <td>5.0</td>\n",
              "      <td>5.0</td>\n",
              "      <td>5.0</td>\n",
              "    </tr>\n",
              "    <tr>\n",
              "      <th>timestamp</th>\n",
              "      <td>1996-08-02 11:24:06</td>\n",
              "      <td>1996-08-02 10:58:45</td>\n",
              "      <td>1996-08-02 10:56:32</td>\n",
              "      <td>1996-08-02 10:57:01</td>\n",
              "      <td>1996-08-02 10:56:32</td>\n",
              "    </tr>\n",
              "  </tbody>\n",
              "</table>\n",
              "</div>\n",
              "    <div class=\"colab-df-buttons\">\n",
              "\n",
              "  <div class=\"colab-df-container\">\n",
              "    <button class=\"colab-df-convert\" onclick=\"convertToInteractive('df-3644f2d7-9d92-4005-b5c3-9a4b44cb07b6')\"\n",
              "            title=\"Convert this dataframe to an interactive table.\"\n",
              "            style=\"display:none;\">\n",
              "\n",
              "  <svg xmlns=\"http://www.w3.org/2000/svg\" height=\"24px\" viewBox=\"0 -960 960 960\">\n",
              "    <path d=\"M120-120v-720h720v720H120Zm60-500h600v-160H180v160Zm220 220h160v-160H400v160Zm0 220h160v-160H400v160ZM180-400h160v-160H180v160Zm440 0h160v-160H620v160ZM180-180h160v-160H180v160Zm440 0h160v-160H620v160Z\"/>\n",
              "  </svg>\n",
              "    </button>\n",
              "\n",
              "  <style>\n",
              "    .colab-df-container {\n",
              "      display:flex;\n",
              "      gap: 12px;\n",
              "    }\n",
              "\n",
              "    .colab-df-convert {\n",
              "      background-color: #E8F0FE;\n",
              "      border: none;\n",
              "      border-radius: 50%;\n",
              "      cursor: pointer;\n",
              "      display: none;\n",
              "      fill: #1967D2;\n",
              "      height: 32px;\n",
              "      padding: 0 0 0 0;\n",
              "      width: 32px;\n",
              "    }\n",
              "\n",
              "    .colab-df-convert:hover {\n",
              "      background-color: #E2EBFA;\n",
              "      box-shadow: 0px 1px 2px rgba(60, 64, 67, 0.3), 0px 1px 3px 1px rgba(60, 64, 67, 0.15);\n",
              "      fill: #174EA6;\n",
              "    }\n",
              "\n",
              "    .colab-df-buttons div {\n",
              "      margin-bottom: 4px;\n",
              "    }\n",
              "\n",
              "    [theme=dark] .colab-df-convert {\n",
              "      background-color: #3B4455;\n",
              "      fill: #D2E3FC;\n",
              "    }\n",
              "\n",
              "    [theme=dark] .colab-df-convert:hover {\n",
              "      background-color: #434B5C;\n",
              "      box-shadow: 0px 1px 3px 1px rgba(0, 0, 0, 0.15);\n",
              "      filter: drop-shadow(0px 1px 2px rgba(0, 0, 0, 0.3));\n",
              "      fill: #FFFFFF;\n",
              "    }\n",
              "  </style>\n",
              "\n",
              "    <script>\n",
              "      const buttonEl =\n",
              "        document.querySelector('#df-3644f2d7-9d92-4005-b5c3-9a4b44cb07b6 button.colab-df-convert');\n",
              "      buttonEl.style.display =\n",
              "        google.colab.kernel.accessAllowed ? 'block' : 'none';\n",
              "\n",
              "      async function convertToInteractive(key) {\n",
              "        const element = document.querySelector('#df-3644f2d7-9d92-4005-b5c3-9a4b44cb07b6');\n",
              "        const dataTable =\n",
              "          await google.colab.kernel.invokeFunction('convertToInteractive',\n",
              "                                                    [key], {});\n",
              "        if (!dataTable) return;\n",
              "\n",
              "        const docLinkHtml = 'Like what you see? Visit the ' +\n",
              "          '<a target=\"_blank\" href=https://colab.research.google.com/notebooks/data_table.ipynb>data table notebook</a>'\n",
              "          + ' to learn more about interactive tables.';\n",
              "        element.innerHTML = '';\n",
              "        dataTable['output_type'] = 'display_data';\n",
              "        await google.colab.output.renderOutput(dataTable, element);\n",
              "        const docLink = document.createElement('div');\n",
              "        docLink.innerHTML = docLinkHtml;\n",
              "        element.appendChild(docLink);\n",
              "      }\n",
              "    </script>\n",
              "  </div>\n",
              "\n",
              "\n",
              "<div id=\"df-05a06d04-933d-4c39-b2a8-1506e684fe46\">\n",
              "  <button class=\"colab-df-quickchart\" onclick=\"quickchart('df-05a06d04-933d-4c39-b2a8-1506e684fe46')\"\n",
              "            title=\"Suggest charts.\"\n",
              "            style=\"display:none;\">\n",
              "\n",
              "<svg xmlns=\"http://www.w3.org/2000/svg\" height=\"24px\"viewBox=\"0 0 24 24\"\n",
              "     width=\"24px\">\n",
              "    <g>\n",
              "        <path d=\"M19 3H5c-1.1 0-2 .9-2 2v14c0 1.1.9 2 2 2h14c1.1 0 2-.9 2-2V5c0-1.1-.9-2-2-2zM9 17H7v-7h2v7zm4 0h-2V7h2v10zm4 0h-2v-4h2v4z\"/>\n",
              "    </g>\n",
              "</svg>\n",
              "  </button>\n",
              "\n",
              "<style>\n",
              "  .colab-df-quickchart {\n",
              "      --bg-color: #E8F0FE;\n",
              "      --fill-color: #1967D2;\n",
              "      --hover-bg-color: #E2EBFA;\n",
              "      --hover-fill-color: #174EA6;\n",
              "      --disabled-fill-color: #AAA;\n",
              "      --disabled-bg-color: #DDD;\n",
              "  }\n",
              "\n",
              "  [theme=dark] .colab-df-quickchart {\n",
              "      --bg-color: #3B4455;\n",
              "      --fill-color: #D2E3FC;\n",
              "      --hover-bg-color: #434B5C;\n",
              "      --hover-fill-color: #FFFFFF;\n",
              "      --disabled-bg-color: #3B4455;\n",
              "      --disabled-fill-color: #666;\n",
              "  }\n",
              "\n",
              "  .colab-df-quickchart {\n",
              "    background-color: var(--bg-color);\n",
              "    border: none;\n",
              "    border-radius: 50%;\n",
              "    cursor: pointer;\n",
              "    display: none;\n",
              "    fill: var(--fill-color);\n",
              "    height: 32px;\n",
              "    padding: 0;\n",
              "    width: 32px;\n",
              "  }\n",
              "\n",
              "  .colab-df-quickchart:hover {\n",
              "    background-color: var(--hover-bg-color);\n",
              "    box-shadow: 0 1px 2px rgba(60, 64, 67, 0.3), 0 1px 3px 1px rgba(60, 64, 67, 0.15);\n",
              "    fill: var(--button-hover-fill-color);\n",
              "  }\n",
              "\n",
              "  .colab-df-quickchart-complete:disabled,\n",
              "  .colab-df-quickchart-complete:disabled:hover {\n",
              "    background-color: var(--disabled-bg-color);\n",
              "    fill: var(--disabled-fill-color);\n",
              "    box-shadow: none;\n",
              "  }\n",
              "\n",
              "  .colab-df-spinner {\n",
              "    border: 2px solid var(--fill-color);\n",
              "    border-color: transparent;\n",
              "    border-bottom-color: var(--fill-color);\n",
              "    animation:\n",
              "      spin 1s steps(1) infinite;\n",
              "  }\n",
              "\n",
              "  @keyframes spin {\n",
              "    0% {\n",
              "      border-color: transparent;\n",
              "      border-bottom-color: var(--fill-color);\n",
              "      border-left-color: var(--fill-color);\n",
              "    }\n",
              "    20% {\n",
              "      border-color: transparent;\n",
              "      border-left-color: var(--fill-color);\n",
              "      border-top-color: var(--fill-color);\n",
              "    }\n",
              "    30% {\n",
              "      border-color: transparent;\n",
              "      border-left-color: var(--fill-color);\n",
              "      border-top-color: var(--fill-color);\n",
              "      border-right-color: var(--fill-color);\n",
              "    }\n",
              "    40% {\n",
              "      border-color: transparent;\n",
              "      border-right-color: var(--fill-color);\n",
              "      border-top-color: var(--fill-color);\n",
              "    }\n",
              "    60% {\n",
              "      border-color: transparent;\n",
              "      border-right-color: var(--fill-color);\n",
              "    }\n",
              "    80% {\n",
              "      border-color: transparent;\n",
              "      border-right-color: var(--fill-color);\n",
              "      border-bottom-color: var(--fill-color);\n",
              "    }\n",
              "    90% {\n",
              "      border-color: transparent;\n",
              "      border-bottom-color: var(--fill-color);\n",
              "    }\n",
              "  }\n",
              "</style>\n",
              "\n",
              "  <script>\n",
              "    async function quickchart(key) {\n",
              "      const quickchartButtonEl =\n",
              "        document.querySelector('#' + key + ' button');\n",
              "      quickchartButtonEl.disabled = true;  // To prevent multiple clicks.\n",
              "      quickchartButtonEl.classList.add('colab-df-spinner');\n",
              "      try {\n",
              "        const charts = await google.colab.kernel.invokeFunction(\n",
              "            'suggestCharts', [key], {});\n",
              "      } catch (error) {\n",
              "        console.error('Error during call to suggestCharts:', error);\n",
              "      }\n",
              "      quickchartButtonEl.classList.remove('colab-df-spinner');\n",
              "      quickchartButtonEl.classList.add('colab-df-quickchart-complete');\n",
              "    }\n",
              "    (() => {\n",
              "      let quickchartButtonEl =\n",
              "        document.querySelector('#df-05a06d04-933d-4c39-b2a8-1506e684fe46 button');\n",
              "      quickchartButtonEl.style.display =\n",
              "        google.colab.kernel.accessAllowed ? 'block' : 'none';\n",
              "    })();\n",
              "  </script>\n",
              "</div>\n",
              "    </div>\n",
              "  </div>\n"
            ]
          },
          "metadata": {},
          "execution_count": 5
        }
      ],
      "source": [
        "ratings = pd.read_csv(\"data/ml-10M100K/ratings.csv\")\n",
        "ratings[\"timestamp\"] = pd.to_datetime(ratings[\"timestamp\"], unit=\"s\")\n",
        "ratings.head().T"
      ]
    },
    {
      "cell_type": "code",
      "execution_count": 6,
      "id": "4e54139d-e01f-431d-aba1-cff584d6eec5",
      "metadata": {
        "ExecuteTime": {
          "end_time": "2023-04-19T13:28:43.713222Z",
          "start_time": "2023-04-19T13:28:43.627500Z"
        },
        "colab": {
          "base_uri": "https://localhost:8080/"
        },
        "id": "4e54139d-e01f-431d-aba1-cff584d6eec5",
        "outputId": "457c3dc3-5197-4e06-e020-728c38fdf50e"
      },
      "outputs": [
        {
          "output_type": "execute_result",
          "data": {
            "text/plain": [
              "((10000054, 4), (69878,), (10677,))"
            ]
          },
          "metadata": {},
          "execution_count": 6
        }
      ],
      "source": [
        "ratings.shape, ratings.user.unique().shape, ratings.item.unique().shape"
      ]
    },
    {
      "cell_type": "markdown",
      "id": "bd865448-14a1-4329-a363-3c26b64ba23e",
      "metadata": {
        "id": "bd865448-14a1-4329-a363-3c26b64ba23e"
      },
      "source": [
        "### 2.1 Посмотрим на распределение рейтингов в данных"
      ]
    },
    {
      "cell_type": "code",
      "execution_count": null,
      "id": "48a3402c-30f4-41a1-a9c7-7dbd21372a83",
      "metadata": {
        "ExecuteTime": {
          "end_time": "2023-04-19T13:28:46.791765Z",
          "start_time": "2023-04-19T13:28:43.687043Z"
        },
        "colab": {
          "base_uri": "https://localhost:8080/",
          "height": 489
        },
        "id": "48a3402c-30f4-41a1-a9c7-7dbd21372a83",
        "outputId": "66d63f80-85c7-432a-ff93-19cb69f47826"
      },
      "outputs": [
        {
          "output_type": "display_data",
          "data": {
            "text/plain": [
              "<Figure size 1500x500 with 1 Axes>"
            ],
            "image/png": "[encoded data removed]"
          },
          "metadata": {}
        }
      ],
      "source": [
        "sns.histplot(data=ratings[\"values\"], binwidth=1)\n",
        "plt.show()"
      ]
    },
    {
      "cell_type": "markdown",
      "id": "6e36ee08-7fe8-409c-a7ca-942b27da24ae",
      "metadata": {
        "id": "6e36ee08-7fe8-409c-a7ca-942b27da24ae"
      },
      "source": [
        "### 2.2 Построим Rating Distribution\n",
        "\n",
        "Rating Distribution -- график, который показывает отношение количества рейтингов к количеству юзеров. Он отлично подходит, чтобы визуализировать popularity-skew в данных. По оси y располагаем количество рейтингов, выраженное в процентах от общего количества. По оси x — айтемы сортированные в порядке убывания по количеству рейтингов на них. Ну и также ставим для них в качестве id — процент."
      ]
    },
    {
      "cell_type": "code",
      "execution_count": 7,
      "id": "908cf3a2-01ab-47e3-9751-042289a1bf73",
      "metadata": {
        "ExecuteTime": {
          "end_time": "2023-04-19T13:28:46.795702Z",
          "start_time": "2023-04-19T13:28:46.793889Z"
        },
        "id": "908cf3a2-01ab-47e3-9751-042289a1bf73"
      },
      "outputs": [],
      "source": [
        "def rating_distribution(column: str) -> None:\n",
        "    # Compute\n",
        "    ratings_dist = ratings[column].value_counts(normalize=True).reset_index()\n",
        "    ratings_dist.columns = [column, \"num_ratings_percent\"]\n",
        "    step = 1 / (ratings_dist.shape[0] - 1)\n",
        "    ratings_dist[f\"{column}_percent\"] = np.arange(0, 1 + step, step) * 100\n",
        "    ratings_dist[\"num_ratings_percent\"] = (\n",
        "        np.cumsum(ratings_dist[\"num_ratings_percent\"]) * 100\n",
        "    )\n",
        "    # Plot\n",
        "    fig, ax = plt.subplots()\n",
        "    sns.lineplot(\n",
        "        data=ratings_dist, x=f\"{column}_percent\", y=\"num_ratings_percent\", ax=ax\n",
        "    )\n",
        "    ax.set_xlim(0, 100)\n",
        "    ax.set_xticks(range(0, 101, 2))\n",
        "    ax.set_title(\"Rating Distribution\")\n",
        "    plt.show()"
      ]
    },
    {
      "cell_type": "markdown",
      "id": "2104808b-8e24-4911-9ce0-2be5db53133e",
      "metadata": {
        "id": "2104808b-8e24-4911-9ce0-2be5db53133e"
      },
      "source": [
        "Для `item`:"
      ]
    },
    {
      "cell_type": "code",
      "execution_count": null,
      "id": "8ed144cb-9750-467d-bdda-5f1570671737",
      "metadata": {
        "ExecuteTime": {
          "end_time": "2023-04-19T13:28:47.078388Z",
          "start_time": "2023-04-19T13:28:46.795464Z"
        },
        "colab": {
          "base_uri": "https://localhost:8080/",
          "height": 496
        },
        "id": "8ed144cb-9750-467d-bdda-5f1570671737",
        "outputId": "bba2cf8c-44c3-493a-d808-858097a8a88d"
      },
      "outputs": [
        {
          "output_type": "display_data",
          "data": {
            "text/plain": [
              "<Figure size 1500x500 with 1 Axes>"
            ],
            "image/png": "[encoded data removed]"
          },
          "metadata": {}
        }
      ],
      "source": [
        "rating_distribution(column=\"item\")"
      ]
    },
    {
      "cell_type": "markdown",
      "source": [
        "То есть, например, 80% рейтингов было выставлено всего 16-ти процентам фильмов"
      ],
      "metadata": {
        "id": "6xEIurHFkOIo"
      },
      "id": "6xEIurHFkOIo"
    },
    {
      "cell_type": "markdown",
      "id": "931dd198-7134-4921-ae8b-91f924cc250c",
      "metadata": {
        "id": "931dd198-7134-4921-ae8b-91f924cc250c"
      },
      "source": [
        "Для `user`:"
      ]
    },
    {
      "cell_type": "code",
      "execution_count": null,
      "id": "38695887-6fc6-446f-a462-4dda862192f4",
      "metadata": {
        "ExecuteTime": {
          "end_time": "2023-04-19T13:28:47.417795Z",
          "start_time": "2023-04-19T13:28:47.123370Z"
        },
        "colab": {
          "base_uri": "https://localhost:8080/",
          "height": 496
        },
        "id": "38695887-6fc6-446f-a462-4dda862192f4",
        "outputId": "c07c9125-5c1c-4e75-a943-7b20dd779d9a"
      },
      "outputs": [
        {
          "output_type": "display_data",
          "data": {
            "text/plain": [
              "<Figure size 1500x500 with 1 Axes>"
            ],
            "image/png": "[encoded data removed]"
          },
          "metadata": {}
        }
      ],
      "source": [
        "rating_distribution(column=\"user\")"
      ]
    },
    {
      "cell_type": "markdown",
      "source": [
        "60% рейтингов высталено 18-ю процентами пользователей (просто объяснения что значит, что точка принадлежит графику)"
      ],
      "metadata": {
        "id": "aUcSxe32kZDb"
      },
      "id": "aUcSxe32kZDb"
    },
    {
      "cell_type": "markdown",
      "id": "ce74c09d-09aa-47d0-9e1c-e3cbe0d8a7cf",
      "metadata": {
        "id": "ce74c09d-09aa-47d0-9e1c-e3cbe0d8a7cf"
      },
      "source": [
        "## 3. Preprocessing\n",
        "\n",
        "- **valid_items**\n",
        "    - получим элементы, которые встречаются реже чем threshold. Полезно, чтобы исключить супер популярные айтемы и активных юзеров.\n",
        "- **filter_ratings**\n",
        "    - оставим только рейтинги выше `min_rating` (полезно если хотим сделать implicit датасет)\n",
        "    - оставим users и items, которые встречаются не реже `min_user_count`, `min_item_count` соответственно."
      ]
    },
    {
      "cell_type": "code",
      "execution_count": 8,
      "id": "5f8aaa41-d1e3-4e63-b556-fef272af0bc6",
      "metadata": {
        "ExecuteTime": {
          "end_time": "2023-04-19T13:28:47.422230Z",
          "start_time": "2023-04-19T13:28:47.420359Z"
        },
        "id": "5f8aaa41-d1e3-4e63-b556-fef272af0bc6"
      },
      "outputs": [],
      "source": [
        "from typing import Union\n",
        "\n",
        "\n",
        "class CleanData:\n",
        "  def __init__(self,\n",
        "               data: pd.DataFrame):\n",
        "    self.data = data\n",
        "\n",
        "\n",
        "  def valid_elements(self,\n",
        "                     column: str,\n",
        "                     threshold: float = 0.2\n",
        "                    ) -> Set[int]:\n",
        "      \"\"\"\n",
        "      Method remover top unique values of input column\n",
        "        column: column which we want to clean from unvalid data\n",
        "        treshold: which percent of top walues we wanna remove\n",
        "      \"\"\"\n",
        "      rating_dist = self.data[column].value_counts().reset_index()\n",
        "      cut_off = round(threshold * rating_dist.shape[0]) + 1\n",
        "      return set(rating_dist.index[cut_off:])\n",
        "\n",
        "\n",
        "  def get_count(self,\n",
        "                column: str\n",
        "              ) -> pd.DataFrame:\n",
        "      \"\"\"\n",
        "        column: which column to gruoup by\n",
        "      \"\"\"\n",
        "      grouped_by_column = self.data.groupby(column, as_index=False)\n",
        "      return grouped_by_column.size()\n",
        "\n",
        "\n",
        "  def _filter_ratings(self,\n",
        "                     data: pd.DataFrame,\n",
        "                     min_rating: float = 3.0,\n",
        "                     min_user_count: int = 3,\n",
        "                     min_item_count: int = 3,\n",
        "                   ) -> pd.DataFrame:\n",
        "      \"\"\"\n",
        "      Method cut unnecessary (outbreak) data, like low marks and inactive users\n",
        "        min_rating: all marks with lower rating would not be taken in accout\n",
        "        min_user_count: min number of users that had marked an element\n",
        "        min_item_count: min number of elements marked by user\n",
        "      \"\"\"\n",
        "      if min_rating is not None:\n",
        "          data = data.loc[data[\"values\"] > min_rating]\n",
        "\n",
        "      if min_item_count > 0:\n",
        "          itemcount = self.get_count(column=\"item\")\n",
        "          data = data.loc[\n",
        "              data[\"item\"].isin(itemcount.item[itemcount[\"size\"] >= min_item_count])\n",
        "        ]\n",
        "      if min_user_count > 0:\n",
        "          usercount = self.get_count(column=\"user\")\n",
        "          data = data.loc[\n",
        "              data[\"user\"].isin(usercount.user[usercount[\"size\"] >= min_user_count])\n",
        "          ]\n",
        "      return data\n",
        "\n",
        "\n",
        "  def filter_ratings(self,\n",
        "                     min_rating: float = 3.0,\n",
        "                     min_user_count: int = 3,\n",
        "                     min_item_count: int = 3,\n",
        "                     remove_top_items: Union[bool, float] = True,\n",
        "                  ) -> pd.DataFrame:\n",
        "      \"\"\"\n",
        "        min_rating: all marks with lower rating would not be taken in accout\n",
        "        min_user_count: min number of users that had marked an element\n",
        "        min_item_count: min number of elements marked by user\n",
        "        remove_top_items: percent of top items which we wanna to remove\n",
        "      \"\"\"\n",
        "      data = self.data.copy()\n",
        "\n",
        "      if float(remove_top_items) > 0:\n",
        "          if type(remove_top_items) == float:\n",
        "            valid_items = self.valid_elements(column=\"item\", threshold=remove_top_items)\n",
        "            print('tops')\n",
        "          else:\n",
        "            valid_items = self.valid_elements(column=\"item\")\n",
        "          data = data.loc[data[\"item\"].isin(valid_items)]\n",
        "\n",
        "      while True:\n",
        "          cur_num_rows = data.shape[0]\n",
        "          data = self._filter_ratings(data, min_rating, min_user_count, min_item_count)\n",
        "          new_num_rows = data.shape[0]\n",
        "          if cur_num_rows == new_num_rows:\n",
        "              break\n",
        "      return data"
      ]
    },
    {
      "cell_type": "code",
      "execution_count": 9,
      "id": "c931d330-c3f4-4814-8989-6559122eaa2b",
      "metadata": {
        "ExecuteTime": {
          "end_time": "2023-04-19T13:28:48.394654Z",
          "start_time": "2023-04-19T13:28:47.472872Z"
        },
        "colab": {
          "base_uri": "https://localhost:8080/"
        },
        "id": "c931d330-c3f4-4814-8989-6559122eaa2b",
        "outputId": "c80f3758-5400-472a-be95-6a8c4e8b424d",
        "tags": []
      },
      "outputs": [
        {
          "output_type": "stream",
          "name": "stdout",
          "text": [
            "Before: (10000054, 4); After: (2338552, 4)\n",
            "Before: (10000054, 4); After: (3998461, 4)\n"
          ]
        }
      ],
      "source": [
        "cleaner = CleanData(ratings)\n",
        "\n",
        "\n",
        "implicit_filtered_ratings = cleaner.filter_ratings().reset_index(drop=True)\n",
        "print(f\"Before: {ratings.shape}; After: {implicit_filtered_ratings.shape}\")\n",
        "\n",
        "explicit_filtered_ratings = cleaner.filter_ratings(min_rating=None).reset_index(drop=True)\n",
        "print(f\"Before: {ratings.shape}; After: {explicit_filtered_ratings.shape}\")"
      ]
    },
    {
      "cell_type": "markdown",
      "id": "6a0119c0-d35e-46ac-a5e4-0b202a317e45",
      "metadata": {
        "id": "6a0119c0-d35e-46ac-a5e4-0b202a317e45"
      },
      "source": [
        "### Encoder для данных\n",
        "\n",
        "Мы, когда чистили датасет удалили часть юзеров и часть айтемов, теперь хотим опять сделать нормальную нумерацию (была же сквозная, а мы из нее часть элементов выбили)"
      ]
    },
    {
      "cell_type": "code",
      "execution_count": 10,
      "id": "f68b368a-7630-4c71-9dea-627aedb08109",
      "metadata": {
        "ExecuteTime": {
          "end_time": "2023-04-19T13:28:51.219218Z",
          "start_time": "2023-04-19T13:28:48.400437Z"
        },
        "id": "f68b368a-7630-4c71-9dea-627aedb08109"
      },
      "outputs": [],
      "source": [
        "from sklearn.preprocessing import LabelEncoder\n",
        "\n",
        "for col in ['user', 'item']:\n",
        "  encoder = LabelEncoder()\n",
        "\n",
        "  explicit_filtered_ratings[col] = encoder.fit_transform(explicit_filtered_ratings[col])\n",
        "  implicit_filtered_ratings[col] = encoder.transform(implicit_filtered_ratings[col])"
      ]
    },
    {
      "cell_type": "code",
      "source": [
        "implicit_filtered_ratings"
      ],
      "metadata": {
        "colab": {
          "base_uri": "https://localhost:8080/",
          "height": 423
        },
        "id": "Do_Xl4btEar6",
        "outputId": "90238cb6-b9a5-4dc0-c2a3-355e120b65aa"
      },
      "id": "Do_Xl4btEar6",
      "execution_count": null,
      "outputs": [
        {
          "output_type": "execute_result",
          "data": {
            "text/plain": [
              "          user  item  values           timestamp\n",
              "0            0  1260     4.0 2006-11-30 11:19:50\n",
              "1            0  1529     4.5 2006-01-01 00:38:35\n",
              "2            0  2373     4.0 2006-11-30 11:18:46\n",
              "3            0  2515     4.0 2006-01-01 00:38:44\n",
              "4            0  2829     4.5 2005-12-03 00:53:20\n",
              "...        ...   ...     ...                 ...\n",
              "2338547  47536  1652     4.0 2000-11-15 13:37:47\n",
              "2338548  47536  1655     4.0 2000-11-15 13:33:54\n",
              "2338549  47536  1656     4.0 2000-11-15 13:26:26\n",
              "2338550  47536  2894     4.0 2000-11-15 13:24:52\n",
              "2338551  47537   158     5.0 1998-12-02 05:52:48\n",
              "\n",
              "[2338552 rows x 4 columns]"
            ],
            "text/html": [
              "\n",
              "  <div id=\"df-2d985238-16fd-498d-b53c-7d69d0176fb6\" class=\"colab-df-container\">\n",
              "    <div>\n",
              "<style scoped>\n",
              "    .dataframe tbody tr th:only-of-type {\n",
              "        vertical-align: middle;\n",
              "    }\n",
              "\n",
              "    .dataframe tbody tr th {\n",
              "        vertical-align: top;\n",
              "    }\n",
              "\n",
              "    .dataframe thead th {\n",
              "        text-align: right;\n",
              "    }\n",
              "</style>\n",
              "<table border=\"1\" class=\"dataframe\">\n",
              "  <thead>\n",
              "    <tr style=\"text-align: right;\">\n",
              "      <th></th>\n",
              "      <th>user</th>\n",
              "      <th>item</th>\n",
              "      <th>values</th>\n",
              "      <th>timestamp</th>\n",
              "    </tr>\n",
              "  </thead>\n",
              "  <tbody>\n",
              "    <tr>\n",
              "      <th>0</th>\n",
              "      <td>0</td>\n",
              "      <td>1260</td>\n",
              "      <td>4.0</td>\n",
              "      <td>2006-11-30 11:19:50</td>\n",
              "    </tr>\n",
              "    <tr>\n",
              "      <th>1</th>\n",
              "      <td>0</td>\n",
              "      <td>1529</td>\n",
              "      <td>4.5</td>\n",
              "      <td>2006-01-01 00:38:35</td>\n",
              "    </tr>\n",
              "    <tr>\n",
              "      <th>2</th>\n",
              "      <td>0</td>\n",
              "      <td>2373</td>\n",
              "      <td>4.0</td>\n",
              "      <td>2006-11-30 11:18:46</td>\n",
              "    </tr>\n",
              "    <tr>\n",
              "      <th>3</th>\n",
              "      <td>0</td>\n",
              "      <td>2515</td>\n",
              "      <td>4.0</td>\n",
              "      <td>2006-01-01 00:38:44</td>\n",
              "    </tr>\n",
              "    <tr>\n",
              "      <th>4</th>\n",
              "      <td>0</td>\n",
              "      <td>2829</td>\n",
              "      <td>4.5</td>\n",
              "      <td>2005-12-03 00:53:20</td>\n",
              "    </tr>\n",
              "    <tr>\n",
              "      <th>...</th>\n",
              "      <td>...</td>\n",
              "      <td>...</td>\n",
              "      <td>...</td>\n",
              "      <td>...</td>\n",
              "    </tr>\n",
              "    <tr>\n",
              "      <th>2338547</th>\n",
              "      <td>47536</td>\n",
              "      <td>1652</td>\n",
              "      <td>4.0</td>\n",
              "      <td>2000-11-15 13:37:47</td>\n",
              "    </tr>\n",
              "    <tr>\n",
              "      <th>2338548</th>\n",
              "      <td>47536</td>\n",
              "      <td>1655</td>\n",
              "      <td>4.0</td>\n",
              "      <td>2000-11-15 13:33:54</td>\n",
              "    </tr>\n",
              "    <tr>\n",
              "      <th>2338549</th>\n",
              "      <td>47536</td>\n",
              "      <td>1656</td>\n",
              "      <td>4.0</td>\n",
              "      <td>2000-11-15 13:26:26</td>\n",
              "    </tr>\n",
              "    <tr>\n",
              "      <th>2338550</th>\n",
              "      <td>47536</td>\n",
              "      <td>2894</td>\n",
              "      <td>4.0</td>\n",
              "      <td>2000-11-15 13:24:52</td>\n",
              "    </tr>\n",
              "    <tr>\n",
              "      <th>2338551</th>\n",
              "      <td>47537</td>\n",
              "      <td>158</td>\n",
              "      <td>5.0</td>\n",
              "      <td>1998-12-02 05:52:48</td>\n",
              "    </tr>\n",
              "  </tbody>\n",
              "</table>\n",
              "<p>2338552 rows × 4 columns</p>\n",
              "</div>\n",
              "    <div class=\"colab-df-buttons\">\n",
              "\n",
              "  <div class=\"colab-df-container\">\n",
              "    <button class=\"colab-df-convert\" onclick=\"convertToInteractive('df-2d985238-16fd-498d-b53c-7d69d0176fb6')\"\n",
              "            title=\"Convert this dataframe to an interactive table.\"\n",
              "            style=\"display:none;\">\n",
              "\n",
              "  <svg xmlns=\"http://www.w3.org/2000/svg\" height=\"24px\" viewBox=\"0 -960 960 960\">\n",
              "    <path d=\"M120-120v-720h720v720H120Zm60-500h600v-160H180v160Zm220 220h160v-160H400v160Zm0 220h160v-160H400v160ZM180-400h160v-160H180v160Zm440 0h160v-160H620v160ZM180-180h160v-160H180v160Zm440 0h160v-160H620v160Z\"/>\n",
              "  </svg>\n",
              "    </button>\n",
              "\n",
              "  <style>\n",
              "    .colab-df-container {\n",
              "      display:flex;\n",
              "      gap: 12px;\n",
              "    }\n",
              "\n",
              "    .colab-df-convert {\n",
              "      background-color: #E8F0FE;\n",
              "      border: none;\n",
              "      border-radius: 50%;\n",
              "      cursor: pointer;\n",
              "      display: none;\n",
              "      fill: #1967D2;\n",
              "      height: 32px;\n",
              "      padding: 0 0 0 0;\n",
              "      width: 32px;\n",
              "    }\n",
              "\n",
              "    .colab-df-convert:hover {\n",
              "      background-color: #E2EBFA;\n",
              "      box-shadow: 0px 1px 2px rgba(60, 64, 67, 0.3), 0px 1px 3px 1px rgba(60, 64, 67, 0.15);\n",
              "      fill: #174EA6;\n",
              "    }\n",
              "\n",
              "    .colab-df-buttons div {\n",
              "      margin-bottom: 4px;\n",
              "    }\n",
              "\n",
              "    [theme=dark] .colab-df-convert {\n",
              "      background-color: #3B4455;\n",
              "      fill: #D2E3FC;\n",
              "    }\n",
              "\n",
              "    [theme=dark] .colab-df-convert:hover {\n",
              "      background-color: #434B5C;\n",
              "      box-shadow: 0px 1px 3px 1px rgba(0, 0, 0, 0.15);\n",
              "      filter: drop-shadow(0px 1px 2px rgba(0, 0, 0, 0.3));\n",
              "      fill: #FFFFFF;\n",
              "    }\n",
              "  </style>\n",
              "\n",
              "    <script>\n",
              "      const buttonEl =\n",
              "        document.querySelector('#df-2d985238-16fd-498d-b53c-7d69d0176fb6 button.colab-df-convert');\n",
              "      buttonEl.style.display =\n",
              "        google.colab.kernel.accessAllowed ? 'block' : 'none';\n",
              "\n",
              "      async function convertToInteractive(key) {\n",
              "        const element = document.querySelector('#df-2d985238-16fd-498d-b53c-7d69d0176fb6');\n",
              "        const dataTable =\n",
              "          await google.colab.kernel.invokeFunction('convertToInteractive',\n",
              "                                                    [key], {});\n",
              "        if (!dataTable) return;\n",
              "\n",
              "        const docLinkHtml = 'Like what you see? Visit the ' +\n",
              "          '<a target=\"_blank\" href=https://colab.research.google.com/notebooks/data_table.ipynb>data table notebook</a>'\n",
              "          + ' to learn more about interactive tables.';\n",
              "        element.innerHTML = '';\n",
              "        dataTable['output_type'] = 'display_data';\n",
              "        await google.colab.output.renderOutput(dataTable, element);\n",
              "        const docLink = document.createElement('div');\n",
              "        docLink.innerHTML = docLinkHtml;\n",
              "        element.appendChild(docLink);\n",
              "      }\n",
              "    </script>\n",
              "  </div>\n",
              "\n",
              "\n",
              "<div id=\"df-d371d7f6-5f6b-4b45-aa5d-a6dbb5de5bc0\">\n",
              "  <button class=\"colab-df-quickchart\" onclick=\"quickchart('df-d371d7f6-5f6b-4b45-aa5d-a6dbb5de5bc0')\"\n",
              "            title=\"Suggest charts.\"\n",
              "            style=\"display:none;\">\n",
              "\n",
              "<svg xmlns=\"http://www.w3.org/2000/svg\" height=\"24px\"viewBox=\"0 0 24 24\"\n",
              "     width=\"24px\">\n",
              "    <g>\n",
              "        <path d=\"M19 3H5c-1.1 0-2 .9-2 2v14c0 1.1.9 2 2 2h14c1.1 0 2-.9 2-2V5c0-1.1-.9-2-2-2zM9 17H7v-7h2v7zm4 0h-2V7h2v10zm4 0h-2v-4h2v4z\"/>\n",
              "    </g>\n",
              "</svg>\n",
              "  </button>\n",
              "\n",
              "<style>\n",
              "  .colab-df-quickchart {\n",
              "      --bg-color: #E8F0FE;\n",
              "      --fill-color: #1967D2;\n",
              "      --hover-bg-color: #E2EBFA;\n",
              "      --hover-fill-color: #174EA6;\n",
              "      --disabled-fill-color: #AAA;\n",
              "      --disabled-bg-color: #DDD;\n",
              "  }\n",
              "\n",
              "  [theme=dark] .colab-df-quickchart {\n",
              "      --bg-color: #3B4455;\n",
              "      --fill-color: #D2E3FC;\n",
              "      --hover-bg-color: #434B5C;\n",
              "      --hover-fill-color: #FFFFFF;\n",
              "      --disabled-bg-color: #3B4455;\n",
              "      --disabled-fill-color: #666;\n",
              "  }\n",
              "\n",
              "  .colab-df-quickchart {\n",
              "    background-color: var(--bg-color);\n",
              "    border: none;\n",
              "    border-radius: 50%;\n",
              "    cursor: pointer;\n",
              "    display: none;\n",
              "    fill: var(--fill-color);\n",
              "    height: 32px;\n",
              "    padding: 0;\n",
              "    width: 32px;\n",
              "  }\n",
              "\n",
              "  .colab-df-quickchart:hover {\n",
              "    background-color: var(--hover-bg-color);\n",
              "    box-shadow: 0 1px 2px rgba(60, 64, 67, 0.3), 0 1px 3px 1px rgba(60, 64, 67, 0.15);\n",
              "    fill: var(--button-hover-fill-color);\n",
              "  }\n",
              "\n",
              "  .colab-df-quickchart-complete:disabled,\n",
              "  .colab-df-quickchart-complete:disabled:hover {\n",
              "    background-color: var(--disabled-bg-color);\n",
              "    fill: var(--disabled-fill-color);\n",
              "    box-shadow: none;\n",
              "  }\n",
              "\n",
              "  .colab-df-spinner {\n",
              "    border: 2px solid var(--fill-color);\n",
              "    border-color: transparent;\n",
              "    border-bottom-color: var(--fill-color);\n",
              "    animation:\n",
              "      spin 1s steps(1) infinite;\n",
              "  }\n",
              "\n",
              "  @keyframes spin {\n",
              "    0% {\n",
              "      border-color: transparent;\n",
              "      border-bottom-color: var(--fill-color);\n",
              "      border-left-color: var(--fill-color);\n",
              "    }\n",
              "    20% {\n",
              "      border-color: transparent;\n",
              "      border-left-color: var(--fill-color);\n",
              "      border-top-color: var(--fill-color);\n",
              "    }\n",
              "    30% {\n",
              "      border-color: transparent;\n",
              "      border-left-color: var(--fill-color);\n",
              "      border-top-color: var(--fill-color);\n",
              "      border-right-color: var(--fill-color);\n",
              "    }\n",
              "    40% {\n",
              "      border-color: transparent;\n",
              "      border-right-color: var(--fill-color);\n",
              "      border-top-color: var(--fill-color);\n",
              "    }\n",
              "    60% {\n",
              "      border-color: transparent;\n",
              "      border-right-color: var(--fill-color);\n",
              "    }\n",
              "    80% {\n",
              "      border-color: transparent;\n",
              "      border-right-color: var(--fill-color);\n",
              "      border-bottom-color: var(--fill-color);\n",
              "    }\n",
              "    90% {\n",
              "      border-color: transparent;\n",
              "      border-bottom-color: var(--fill-color);\n",
              "    }\n",
              "  }\n",
              "</style>\n",
              "\n",
              "  <script>\n",
              "    async function quickchart(key) {\n",
              "      const quickchartButtonEl =\n",
              "        document.querySelector('#' + key + ' button');\n",
              "      quickchartButtonEl.disabled = true;  // To prevent multiple clicks.\n",
              "      quickchartButtonEl.classList.add('colab-df-spinner');\n",
              "      try {\n",
              "        const charts = await google.colab.kernel.invokeFunction(\n",
              "            'suggestCharts', [key], {});\n",
              "      } catch (error) {\n",
              "        console.error('Error during call to suggestCharts:', error);\n",
              "      }\n",
              "      quickchartButtonEl.classList.remove('colab-df-spinner');\n",
              "      quickchartButtonEl.classList.add('colab-df-quickchart-complete');\n",
              "    }\n",
              "    (() => {\n",
              "      let quickchartButtonEl =\n",
              "        document.querySelector('#df-d371d7f6-5f6b-4b45-aa5d-a6dbb5de5bc0 button');\n",
              "      quickchartButtonEl.style.display =\n",
              "        google.colab.kernel.accessAllowed ? 'block' : 'none';\n",
              "    })();\n",
              "  </script>\n",
              "</div>\n",
              "    </div>\n",
              "  </div>\n"
            ]
          },
          "metadata": {},
          "execution_count": 88
        }
      ]
    },
    {
      "cell_type": "markdown",
      "id": "b844841f-52a8-4064-a452-4f1f21a3f0ac",
      "metadata": {
        "id": "b844841f-52a8-4064-a452-4f1f21a3f0ac"
      },
      "source": [
        "### 3.3 Split\n",
        "\n",
        "Тестовая выборка - out of time, иначе говоря, берем последний год из базы как тестовую выборку, а на остальном будем обучаться. Обычно такая же ситуация и в реальности: у нас есть какая-то история, а мы хотим предсказать что в будущем пользователь захочет посмотреть и порекомендовать ему это"
      ]
    },
    {
      "cell_type": "markdown",
      "source": [
        "Также для нашей задачи выкинем одного и двух пользователей из исходного датасета. То есть у нас будет три датасета: со всеми пользователями, без одного и без двух. Это нужно для проверки скорости работы прямого пересчета SVD при добавление одного-двух пользователей и скорости работы алгоритма, который пересчитывает SVD по-умному, основываясь на разложении, которое было для $(n-1)$-ого пользователя. Выкидывать будем последних пользователей, что encoding не поехал"
      ],
      "metadata": {
        "id": "DN-scmFklMnm"
      },
      "id": "DN-scmFklMnm"
    },
    {
      "cell_type": "code",
      "source": [
        "def remove_users(dataset: pd.DataFrame,\n",
        "                 n: int = 2\n",
        "                ) -> pd.DataFrame:\n",
        "  \"\"\"\n",
        "  Method to remove users from dataset to test adding them to existing svd\n",
        "    dataset: out dataset from which we wanna remove users\n",
        "    n: number of users we wanna remove\n",
        "  \"\"\"\n",
        "  to_remove = dataset['user'].sort_values().unique()[-n:]\n",
        "  main_dataset = dataset[~dataset['user'].isin(to_remove)]\n",
        "  removed_users = dataset[dataset['user'].isin(to_remove)]\n",
        "\n",
        "  return [main_dataset, removed_users]"
      ],
      "metadata": {
        "id": "O7bgf4gLElXy"
      },
      "id": "O7bgf4gLElXy",
      "execution_count": 11,
      "outputs": []
    },
    {
      "cell_type": "code",
      "source": [
        "def remove_items(dataset: pd.DataFrame,\n",
        "                 n: int = 1\n",
        "                ) -> pd.DataFrame:\n",
        "  \"\"\"\n",
        "  Method to remove items from dataset to test adding them to existing svd\n",
        "    dataset: out dataset from which we wanna remove items\n",
        "    n: number of items we wanna remove\n",
        "  \"\"\"\n",
        "  to_remove = dataset['item'].sort_values().unique()[-n:]\n",
        "  main_dataset = dataset[~dataset['item'].isin(to_remove)]\n",
        "  removed_items = dataset[dataset['item'].isin(to_remove)]\n",
        "\n",
        "  return [main_dataset, removed_items]\n"
      ],
      "metadata": {
        "id": "-g2h8WkgQLTG"
      },
      "id": "-g2h8WkgQLTG",
      "execution_count": 12,
      "outputs": []
    },
    {
      "cell_type": "code",
      "source": [
        "explicit_filtered_remove2, explicit_removed2_dataset = remove_users(explicit_filtered_ratings)\n",
        "implicit_filtered_remove2, implicit_removed2_dataset = remove_users(implicit_filtered_ratings)"
      ],
      "metadata": {
        "id": "xqBQkL9aXsu2"
      },
      "id": "xqBQkL9aXsu2",
      "execution_count": 13,
      "outputs": []
    },
    {
      "cell_type": "code",
      "source": [
        "explicit_filtered_remove2"
      ],
      "metadata": {
        "colab": {
          "base_uri": "https://localhost:8080/",
          "height": 423
        },
        "id": "0H0OS3mZmQhs",
        "outputId": "3d3a9bf0-876a-497b-b052-7225c6320bc4"
      },
      "id": "0H0OS3mZmQhs",
      "execution_count": null,
      "outputs": [
        {
          "output_type": "execute_result",
          "data": {
            "text/plain": [
              "          user  item  values           timestamp\n",
              "0            0  1260     4.0 2006-11-30 11:19:50\n",
              "1            0  1529     4.5 2006-01-01 00:38:35\n",
              "2            0  2373     4.0 2006-11-30 11:18:46\n",
              "3            0  2515     4.0 2006-01-01 00:38:44\n",
              "4            0  2829     4.5 2005-12-03 00:53:20\n",
              "...        ...   ...     ...                 ...\n",
              "3998392  47535  5112     3.5 2005-03-23 02:37:08\n",
              "3998393  47535  5741     2.5 2005-03-23 02:36:05\n",
              "3998394  47535  5780     3.0 2005-03-23 02:40:01\n",
              "3998395  47535  5806     4.5 2005-03-23 02:33:02\n",
              "3998396  47535  5819     3.0 2005-03-23 02:46:51\n",
              "\n",
              "[3998397 rows x 4 columns]"
            ],
            "text/html": [
              "\n",
              "  <div id=\"df-cd241281-6d04-491a-9ced-80e7b7964054\" class=\"colab-df-container\">\n",
              "    <div>\n",
              "<style scoped>\n",
              "    .dataframe tbody tr th:only-of-type {\n",
              "        vertical-align: middle;\n",
              "    }\n",
              "\n",
              "    .dataframe tbody tr th {\n",
              "        vertical-align: top;\n",
              "    }\n",
              "\n",
              "    .dataframe thead th {\n",
              "        text-align: right;\n",
              "    }\n",
              "</style>\n",
              "<table border=\"1\" class=\"dataframe\">\n",
              "  <thead>\n",
              "    <tr style=\"text-align: right;\">\n",
              "      <th></th>\n",
              "      <th>user</th>\n",
              "      <th>item</th>\n",
              "      <th>values</th>\n",
              "      <th>timestamp</th>\n",
              "    </tr>\n",
              "  </thead>\n",
              "  <tbody>\n",
              "    <tr>\n",
              "      <th>0</th>\n",
              "      <td>0</td>\n",
              "      <td>1260</td>\n",
              "      <td>4.0</td>\n",
              "      <td>2006-11-30 11:19:50</td>\n",
              "    </tr>\n",
              "    <tr>\n",
              "      <th>1</th>\n",
              "      <td>0</td>\n",
              "      <td>1529</td>\n",
              "      <td>4.5</td>\n",
              "      <td>2006-01-01 00:38:35</td>\n",
              "    </tr>\n",
              "    <tr>\n",
              "      <th>2</th>\n",
              "      <td>0</td>\n",
              "      <td>2373</td>\n",
              "      <td>4.0</td>\n",
              "      <td>2006-11-30 11:18:46</td>\n",
              "    </tr>\n",
              "    <tr>\n",
              "      <th>3</th>\n",
              "      <td>0</td>\n",
              "      <td>2515</td>\n",
              "      <td>4.0</td>\n",
              "      <td>2006-01-01 00:38:44</td>\n",
              "    </tr>\n",
              "    <tr>\n",
              "      <th>4</th>\n",
              "      <td>0</td>\n",
              "      <td>2829</td>\n",
              "      <td>4.5</td>\n",
              "      <td>2005-12-03 00:53:20</td>\n",
              "    </tr>\n",
              "    <tr>\n",
              "      <th>...</th>\n",
              "      <td>...</td>\n",
              "      <td>...</td>\n",
              "      <td>...</td>\n",
              "      <td>...</td>\n",
              "    </tr>\n",
              "    <tr>\n",
              "      <th>3998392</th>\n",
              "      <td>47535</td>\n",
              "      <td>5112</td>\n",
              "      <td>3.5</td>\n",
              "      <td>2005-03-23 02:37:08</td>\n",
              "    </tr>\n",
              "    <tr>\n",
              "      <th>3998393</th>\n",
              "      <td>47535</td>\n",
              "      <td>5741</td>\n",
              "      <td>2.5</td>\n",
              "      <td>2005-03-23 02:36:05</td>\n",
              "    </tr>\n",
              "    <tr>\n",
              "      <th>3998394</th>\n",
              "      <td>47535</td>\n",
              "      <td>5780</td>\n",
              "      <td>3.0</td>\n",
              "      <td>2005-03-23 02:40:01</td>\n",
              "    </tr>\n",
              "    <tr>\n",
              "      <th>3998395</th>\n",
              "      <td>47535</td>\n",
              "      <td>5806</td>\n",
              "      <td>4.5</td>\n",
              "      <td>2005-03-23 02:33:02</td>\n",
              "    </tr>\n",
              "    <tr>\n",
              "      <th>3998396</th>\n",
              "      <td>47535</td>\n",
              "      <td>5819</td>\n",
              "      <td>3.0</td>\n",
              "      <td>2005-03-23 02:46:51</td>\n",
              "    </tr>\n",
              "  </tbody>\n",
              "</table>\n",
              "<p>3998397 rows × 4 columns</p>\n",
              "</div>\n",
              "    <div class=\"colab-df-buttons\">\n",
              "\n",
              "  <div class=\"colab-df-container\">\n",
              "    <button class=\"colab-df-convert\" onclick=\"convertToInteractive('df-cd241281-6d04-491a-9ced-80e7b7964054')\"\n",
              "            title=\"Convert this dataframe to an interactive table.\"\n",
              "            style=\"display:none;\">\n",
              "\n",
              "  <svg xmlns=\"http://www.w3.org/2000/svg\" height=\"24px\" viewBox=\"0 -960 960 960\">\n",
              "    <path d=\"M120-120v-720h720v720H120Zm60-500h600v-160H180v160Zm220 220h160v-160H400v160Zm0 220h160v-160H400v160ZM180-400h160v-160H180v160Zm440 0h160v-160H620v160ZM180-180h160v-160H180v160Zm440 0h160v-160H620v160Z\"/>\n",
              "  </svg>\n",
              "    </button>\n",
              "\n",
              "  <style>\n",
              "    .colab-df-container {\n",
              "      display:flex;\n",
              "      gap: 12px;\n",
              "    }\n",
              "\n",
              "    .colab-df-convert {\n",
              "      background-color: #E8F0FE;\n",
              "      border: none;\n",
              "      border-radius: 50%;\n",
              "      cursor: pointer;\n",
              "      display: none;\n",
              "      fill: #1967D2;\n",
              "      height: 32px;\n",
              "      padding: 0 0 0 0;\n",
              "      width: 32px;\n",
              "    }\n",
              "\n",
              "    .colab-df-convert:hover {\n",
              "      background-color: #E2EBFA;\n",
              "      box-shadow: 0px 1px 2px rgba(60, 64, 67, 0.3), 0px 1px 3px 1px rgba(60, 64, 67, 0.15);\n",
              "      fill: #174EA6;\n",
              "    }\n",
              "\n",
              "    .colab-df-buttons div {\n",
              "      margin-bottom: 4px;\n",
              "    }\n",
              "\n",
              "    [theme=dark] .colab-df-convert {\n",
              "      background-color: #3B4455;\n",
              "      fill: #D2E3FC;\n",
              "    }\n",
              "\n",
              "    [theme=dark] .colab-df-convert:hover {\n",
              "      background-color: #434B5C;\n",
              "      box-shadow: 0px 1px 3px 1px rgba(0, 0, 0, 0.15);\n",
              "      filter: drop-shadow(0px 1px 2px rgba(0, 0, 0, 0.3));\n",
              "      fill: #FFFFFF;\n",
              "    }\n",
              "  </style>\n",
              "\n",
              "    <script>\n",
              "      const buttonEl =\n",
              "        document.querySelector('#df-cd241281-6d04-491a-9ced-80e7b7964054 button.colab-df-convert');\n",
              "      buttonEl.style.display =\n",
              "        google.colab.kernel.accessAllowed ? 'block' : 'none';\n",
              "\n",
              "      async function convertToInteractive(key) {\n",
              "        const element = document.querySelector('#df-cd241281-6d04-491a-9ced-80e7b7964054');\n",
              "        const dataTable =\n",
              "          await google.colab.kernel.invokeFunction('convertToInteractive',\n",
              "                                                    [key], {});\n",
              "        if (!dataTable) return;\n",
              "\n",
              "        const docLinkHtml = 'Like what you see? Visit the ' +\n",
              "          '<a target=\"_blank\" href=https://colab.research.google.com/notebooks/data_table.ipynb>data table notebook</a>'\n",
              "          + ' to learn more about interactive tables.';\n",
              "        element.innerHTML = '';\n",
              "        dataTable['output_type'] = 'display_data';\n",
              "        await google.colab.output.renderOutput(dataTable, element);\n",
              "        const docLink = document.createElement('div');\n",
              "        docLink.innerHTML = docLinkHtml;\n",
              "        element.appendChild(docLink);\n",
              "      }\n",
              "    </script>\n",
              "  </div>\n",
              "\n",
              "\n",
              "<div id=\"df-6479f24f-bfc0-43c1-83b8-414daa2ba804\">\n",
              "  <button class=\"colab-df-quickchart\" onclick=\"quickchart('df-6479f24f-bfc0-43c1-83b8-414daa2ba804')\"\n",
              "            title=\"Suggest charts.\"\n",
              "            style=\"display:none;\">\n",
              "\n",
              "<svg xmlns=\"http://www.w3.org/2000/svg\" height=\"24px\"viewBox=\"0 0 24 24\"\n",
              "     width=\"24px\">\n",
              "    <g>\n",
              "        <path d=\"M19 3H5c-1.1 0-2 .9-2 2v14c0 1.1.9 2 2 2h14c1.1 0 2-.9 2-2V5c0-1.1-.9-2-2-2zM9 17H7v-7h2v7zm4 0h-2V7h2v10zm4 0h-2v-4h2v4z\"/>\n",
              "    </g>\n",
              "</svg>\n",
              "  </button>\n",
              "\n",
              "<style>\n",
              "  .colab-df-quickchart {\n",
              "      --bg-color: #E8F0FE;\n",
              "      --fill-color: #1967D2;\n",
              "      --hover-bg-color: #E2EBFA;\n",
              "      --hover-fill-color: #174EA6;\n",
              "      --disabled-fill-color: #AAA;\n",
              "      --disabled-bg-color: #DDD;\n",
              "  }\n",
              "\n",
              "  [theme=dark] .colab-df-quickchart {\n",
              "      --bg-color: #3B4455;\n",
              "      --fill-color: #D2E3FC;\n",
              "      --hover-bg-color: #434B5C;\n",
              "      --hover-fill-color: #FFFFFF;\n",
              "      --disabled-bg-color: #3B4455;\n",
              "      --disabled-fill-color: #666;\n",
              "  }\n",
              "\n",
              "  .colab-df-quickchart {\n",
              "    background-color: var(--bg-color);\n",
              "    border: none;\n",
              "    border-radius: 50%;\n",
              "    cursor: pointer;\n",
              "    display: none;\n",
              "    fill: var(--fill-color);\n",
              "    height: 32px;\n",
              "    padding: 0;\n",
              "    width: 32px;\n",
              "  }\n",
              "\n",
              "  .colab-df-quickchart:hover {\n",
              "    background-color: var(--hover-bg-color);\n",
              "    box-shadow: 0 1px 2px rgba(60, 64, 67, 0.3), 0 1px 3px 1px rgba(60, 64, 67, 0.15);\n",
              "    fill: var(--button-hover-fill-color);\n",
              "  }\n",
              "\n",
              "  .colab-df-quickchart-complete:disabled,\n",
              "  .colab-df-quickchart-complete:disabled:hover {\n",
              "    background-color: var(--disabled-bg-color);\n",
              "    fill: var(--disabled-fill-color);\n",
              "    box-shadow: none;\n",
              "  }\n",
              "\n",
              "  .colab-df-spinner {\n",
              "    border: 2px solid var(--fill-color);\n",
              "    border-color: transparent;\n",
              "    border-bottom-color: var(--fill-color);\n",
              "    animation:\n",
              "      spin 1s steps(1) infinite;\n",
              "  }\n",
              "\n",
              "  @keyframes spin {\n",
              "    0% {\n",
              "      border-color: transparent;\n",
              "      border-bottom-color: var(--fill-color);\n",
              "      border-left-color: var(--fill-color);\n",
              "    }\n",
              "    20% {\n",
              "      border-color: transparent;\n",
              "      border-left-color: var(--fill-color);\n",
              "      border-top-color: var(--fill-color);\n",
              "    }\n",
              "    30% {\n",
              "      border-color: transparent;\n",
              "      border-left-color: var(--fill-color);\n",
              "      border-top-color: var(--fill-color);\n",
              "      border-right-color: var(--fill-color);\n",
              "    }\n",
              "    40% {\n",
              "      border-color: transparent;\n",
              "      border-right-color: var(--fill-color);\n",
              "      border-top-color: var(--fill-color);\n",
              "    }\n",
              "    60% {\n",
              "      border-color: transparent;\n",
              "      border-right-color: var(--fill-color);\n",
              "    }\n",
              "    80% {\n",
              "      border-color: transparent;\n",
              "      border-right-color: var(--fill-color);\n",
              "      border-bottom-color: var(--fill-color);\n",
              "    }\n",
              "    90% {\n",
              "      border-color: transparent;\n",
              "      border-bottom-color: var(--fill-color);\n",
              "    }\n",
              "  }\n",
              "</style>\n",
              "\n",
              "  <script>\n",
              "    async function quickchart(key) {\n",
              "      const quickchartButtonEl =\n",
              "        document.querySelector('#' + key + ' button');\n",
              "      quickchartButtonEl.disabled = true;  // To prevent multiple clicks.\n",
              "      quickchartButtonEl.classList.add('colab-df-spinner');\n",
              "      try {\n",
              "        const charts = await google.colab.kernel.invokeFunction(\n",
              "            'suggestCharts', [key], {});\n",
              "      } catch (error) {\n",
              "        console.error('Error during call to suggestCharts:', error);\n",
              "      }\n",
              "      quickchartButtonEl.classList.remove('colab-df-spinner');\n",
              "      quickchartButtonEl.classList.add('colab-df-quickchart-complete');\n",
              "    }\n",
              "    (() => {\n",
              "      let quickchartButtonEl =\n",
              "        document.querySelector('#df-6479f24f-bfc0-43c1-83b8-414daa2ba804 button');\n",
              "      quickchartButtonEl.style.display =\n",
              "        google.colab.kernel.accessAllowed ? 'block' : 'none';\n",
              "    })();\n",
              "  </script>\n",
              "</div>\n",
              "    </div>\n",
              "  </div>\n"
            ]
          },
          "metadata": {},
          "execution_count": 13
        }
      ]
    },
    {
      "cell_type": "code",
      "source": [
        "explicit_removed2_dataset"
      ],
      "metadata": {
        "colab": {
          "base_uri": "https://localhost:8080/",
          "height": 424
        },
        "id": "FpzRhnPRmS_x",
        "outputId": "2eb61638-7ac9-4050-84e3-b3fa220f14e0"
      },
      "id": "FpzRhnPRmS_x",
      "execution_count": null,
      "outputs": [
        {
          "output_type": "execute_result",
          "data": {
            "text/plain": [
              "          user  item  values           timestamp\n",
              "3998397  47536    11     3.0 2000-11-15 13:20:35\n",
              "3998398  47536    31     1.0 2000-11-16 13:53:37\n",
              "3998399  47536   200     4.0 2000-11-15 13:20:50\n",
              "3998400  47536   210     3.0 2000-11-15 13:28:54\n",
              "3998401  47536   233     4.0 2000-11-15 13:20:35\n",
              "...        ...   ...     ...                 ...\n",
              "3998456  47536  1656     4.0 2000-11-15 13:26:26\n",
              "3998457  47536  2894     4.0 2000-11-15 13:24:52\n",
              "3998458  47537   158     5.0 1998-12-02 05:52:48\n",
              "3998459  47537   202     2.0 1998-12-02 05:53:36\n",
              "3998460  47537   248     2.0 1998-12-02 05:56:13\n",
              "\n",
              "[64 rows x 4 columns]"
            ],
            "text/html": [
              "\n",
              "  <div id=\"df-365d6251-07e8-4e0c-8b6f-39763a9ed7f9\" class=\"colab-df-container\">\n",
              "    <div>\n",
              "<style scoped>\n",
              "    .dataframe tbody tr th:only-of-type {\n",
              "        vertical-align: middle;\n",
              "    }\n",
              "\n",
              "    .dataframe tbody tr th {\n",
              "        vertical-align: top;\n",
              "    }\n",
              "\n",
              "    .dataframe thead th {\n",
              "        text-align: right;\n",
              "    }\n",
              "</style>\n",
              "<table border=\"1\" class=\"dataframe\">\n",
              "  <thead>\n",
              "    <tr style=\"text-align: right;\">\n",
              "      <th></th>\n",
              "      <th>user</th>\n",
              "      <th>item</th>\n",
              "      <th>values</th>\n",
              "      <th>timestamp</th>\n",
              "    </tr>\n",
              "  </thead>\n",
              "  <tbody>\n",
              "    <tr>\n",
              "      <th>3998397</th>\n",
              "      <td>47536</td>\n",
              "      <td>11</td>\n",
              "      <td>3.0</td>\n",
              "      <td>2000-11-15 13:20:35</td>\n",
              "    </tr>\n",
              "    <tr>\n",
              "      <th>3998398</th>\n",
              "      <td>47536</td>\n",
              "      <td>31</td>\n",
              "      <td>1.0</td>\n",
              "      <td>2000-11-16 13:53:37</td>\n",
              "    </tr>\n",
              "    <tr>\n",
              "      <th>3998399</th>\n",
              "      <td>47536</td>\n",
              "      <td>200</td>\n",
              "      <td>4.0</td>\n",
              "      <td>2000-11-15 13:20:50</td>\n",
              "    </tr>\n",
              "    <tr>\n",
              "      <th>3998400</th>\n",
              "      <td>47536</td>\n",
              "      <td>210</td>\n",
              "      <td>3.0</td>\n",
              "      <td>2000-11-15 13:28:54</td>\n",
              "    </tr>\n",
              "    <tr>\n",
              "      <th>3998401</th>\n",
              "      <td>47536</td>\n",
              "      <td>233</td>\n",
              "      <td>4.0</td>\n",
              "      <td>2000-11-15 13:20:35</td>\n",
              "    </tr>\n",
              "    <tr>\n",
              "      <th>...</th>\n",
              "      <td>...</td>\n",
              "      <td>...</td>\n",
              "      <td>...</td>\n",
              "      <td>...</td>\n",
              "    </tr>\n",
              "    <tr>\n",
              "      <th>3998456</th>\n",
              "      <td>47536</td>\n",
              "      <td>1656</td>\n",
              "      <td>4.0</td>\n",
              "      <td>2000-11-15 13:26:26</td>\n",
              "    </tr>\n",
              "    <tr>\n",
              "      <th>3998457</th>\n",
              "      <td>47536</td>\n",
              "      <td>2894</td>\n",
              "      <td>4.0</td>\n",
              "      <td>2000-11-15 13:24:52</td>\n",
              "    </tr>\n",
              "    <tr>\n",
              "      <th>3998458</th>\n",
              "      <td>47537</td>\n",
              "      <td>158</td>\n",
              "      <td>5.0</td>\n",
              "      <td>1998-12-02 05:52:48</td>\n",
              "    </tr>\n",
              "    <tr>\n",
              "      <th>3998459</th>\n",
              "      <td>47537</td>\n",
              "      <td>202</td>\n",
              "      <td>2.0</td>\n",
              "      <td>1998-12-02 05:53:36</td>\n",
              "    </tr>\n",
              "    <tr>\n",
              "      <th>3998460</th>\n",
              "      <td>47537</td>\n",
              "      <td>248</td>\n",
              "      <td>2.0</td>\n",
              "      <td>1998-12-02 05:56:13</td>\n",
              "    </tr>\n",
              "  </tbody>\n",
              "</table>\n",
              "<p>64 rows × 4 columns</p>\n",
              "</div>\n",
              "    <div class=\"colab-df-buttons\">\n",
              "\n",
              "  <div class=\"colab-df-container\">\n",
              "    <button class=\"colab-df-convert\" onclick=\"convertToInteractive('df-365d6251-07e8-4e0c-8b6f-39763a9ed7f9')\"\n",
              "            title=\"Convert this dataframe to an interactive table.\"\n",
              "            style=\"display:none;\">\n",
              "\n",
              "  <svg xmlns=\"http://www.w3.org/2000/svg\" height=\"24px\" viewBox=\"0 -960 960 960\">\n",
              "    <path d=\"M120-120v-720h720v720H120Zm60-500h600v-160H180v160Zm220 220h160v-160H400v160Zm0 220h160v-160H400v160ZM180-400h160v-160H180v160Zm440 0h160v-160H620v160ZM180-180h160v-160H180v160Zm440 0h160v-160H620v160Z\"/>\n",
              "  </svg>\n",
              "    </button>\n",
              "\n",
              "  <style>\n",
              "    .colab-df-container {\n",
              "      display:flex;\n",
              "      gap: 12px;\n",
              "    }\n",
              "\n",
              "    .colab-df-convert {\n",
              "      background-color: #E8F0FE;\n",
              "      border: none;\n",
              "      border-radius: 50%;\n",
              "      cursor: pointer;\n",
              "      display: none;\n",
              "      fill: #1967D2;\n",
              "      height: 32px;\n",
              "      padding: 0 0 0 0;\n",
              "      width: 32px;\n",
              "    }\n",
              "\n",
              "    .colab-df-convert:hover {\n",
              "      background-color: #E2EBFA;\n",
              "      box-shadow: 0px 1px 2px rgba(60, 64, 67, 0.3), 0px 1px 3px 1px rgba(60, 64, 67, 0.15);\n",
              "      fill: #174EA6;\n",
              "    }\n",
              "\n",
              "    .colab-df-buttons div {\n",
              "      margin-bottom: 4px;\n",
              "    }\n",
              "\n",
              "    [theme=dark] .colab-df-convert {\n",
              "      background-color: #3B4455;\n",
              "      fill: #D2E3FC;\n",
              "    }\n",
              "\n",
              "    [theme=dark] .colab-df-convert:hover {\n",
              "      background-color: #434B5C;\n",
              "      box-shadow: 0px 1px 3px 1px rgba(0, 0, 0, 0.15);\n",
              "      filter: drop-shadow(0px 1px 2px rgba(0, 0, 0, 0.3));\n",
              "      fill: #FFFFFF;\n",
              "    }\n",
              "  </style>\n",
              "\n",
              "    <script>\n",
              "      const buttonEl =\n",
              "        document.querySelector('#df-365d6251-07e8-4e0c-8b6f-39763a9ed7f9 button.colab-df-convert');\n",
              "      buttonEl.style.display =\n",
              "        google.colab.kernel.accessAllowed ? 'block' : 'none';\n",
              "\n",
              "      async function convertToInteractive(key) {\n",
              "        const element = document.querySelector('#df-365d6251-07e8-4e0c-8b6f-39763a9ed7f9');\n",
              "        const dataTable =\n",
              "          await google.colab.kernel.invokeFunction('convertToInteractive',\n",
              "                                                    [key], {});\n",
              "        if (!dataTable) return;\n",
              "\n",
              "        const docLinkHtml = 'Like what you see? Visit the ' +\n",
              "          '<a target=\"_blank\" href=https://colab.research.google.com/notebooks/data_table.ipynb>data table notebook</a>'\n",
              "          + ' to learn more about interactive tables.';\n",
              "        element.innerHTML = '';\n",
              "        dataTable['output_type'] = 'display_data';\n",
              "        await google.colab.output.renderOutput(dataTable, element);\n",
              "        const docLink = document.createElement('div');\n",
              "        docLink.innerHTML = docLinkHtml;\n",
              "        element.appendChild(docLink);\n",
              "      }\n",
              "    </script>\n",
              "  </div>\n",
              "\n",
              "\n",
              "<div id=\"df-9999605f-8d1c-4fe0-b8ae-9f8b1aac4155\">\n",
              "  <button class=\"colab-df-quickchart\" onclick=\"quickchart('df-9999605f-8d1c-4fe0-b8ae-9f8b1aac4155')\"\n",
              "            title=\"Suggest charts.\"\n",
              "            style=\"display:none;\">\n",
              "\n",
              "<svg xmlns=\"http://www.w3.org/2000/svg\" height=\"24px\"viewBox=\"0 0 24 24\"\n",
              "     width=\"24px\">\n",
              "    <g>\n",
              "        <path d=\"M19 3H5c-1.1 0-2 .9-2 2v14c0 1.1.9 2 2 2h14c1.1 0 2-.9 2-2V5c0-1.1-.9-2-2-2zM9 17H7v-7h2v7zm4 0h-2V7h2v10zm4 0h-2v-4h2v4z\"/>\n",
              "    </g>\n",
              "</svg>\n",
              "  </button>\n",
              "\n",
              "<style>\n",
              "  .colab-df-quickchart {\n",
              "      --bg-color: #E8F0FE;\n",
              "      --fill-color: #1967D2;\n",
              "      --hover-bg-color: #E2EBFA;\n",
              "      --hover-fill-color: #174EA6;\n",
              "      --disabled-fill-color: #AAA;\n",
              "      --disabled-bg-color: #DDD;\n",
              "  }\n",
              "\n",
              "  [theme=dark] .colab-df-quickchart {\n",
              "      --bg-color: #3B4455;\n",
              "      --fill-color: #D2E3FC;\n",
              "      --hover-bg-color: #434B5C;\n",
              "      --hover-fill-color: #FFFFFF;\n",
              "      --disabled-bg-color: #3B4455;\n",
              "      --disabled-fill-color: #666;\n",
              "  }\n",
              "\n",
              "  .colab-df-quickchart {\n",
              "    background-color: var(--bg-color);\n",
              "    border: none;\n",
              "    border-radius: 50%;\n",
              "    cursor: pointer;\n",
              "    display: none;\n",
              "    fill: var(--fill-color);\n",
              "    height: 32px;\n",
              "    padding: 0;\n",
              "    width: 32px;\n",
              "  }\n",
              "\n",
              "  .colab-df-quickchart:hover {\n",
              "    background-color: var(--hover-bg-color);\n",
              "    box-shadow: 0 1px 2px rgba(60, 64, 67, 0.3), 0 1px 3px 1px rgba(60, 64, 67, 0.15);\n",
              "    fill: var(--button-hover-fill-color);\n",
              "  }\n",
              "\n",
              "  .colab-df-quickchart-complete:disabled,\n",
              "  .colab-df-quickchart-complete:disabled:hover {\n",
              "    background-color: var(--disabled-bg-color);\n",
              "    fill: var(--disabled-fill-color);\n",
              "    box-shadow: none;\n",
              "  }\n",
              "\n",
              "  .colab-df-spinner {\n",
              "    border: 2px solid var(--fill-color);\n",
              "    border-color: transparent;\n",
              "    border-bottom-color: var(--fill-color);\n",
              "    animation:\n",
              "      spin 1s steps(1) infinite;\n",
              "  }\n",
              "\n",
              "  @keyframes spin {\n",
              "    0% {\n",
              "      border-color: transparent;\n",
              "      border-bottom-color: var(--fill-color);\n",
              "      border-left-color: var(--fill-color);\n",
              "    }\n",
              "    20% {\n",
              "      border-color: transparent;\n",
              "      border-left-color: var(--fill-color);\n",
              "      border-top-color: var(--fill-color);\n",
              "    }\n",
              "    30% {\n",
              "      border-color: transparent;\n",
              "      border-left-color: var(--fill-color);\n",
              "      border-top-color: var(--fill-color);\n",
              "      border-right-color: var(--fill-color);\n",
              "    }\n",
              "    40% {\n",
              "      border-color: transparent;\n",
              "      border-right-color: var(--fill-color);\n",
              "      border-top-color: var(--fill-color);\n",
              "    }\n",
              "    60% {\n",
              "      border-color: transparent;\n",
              "      border-right-color: var(--fill-color);\n",
              "    }\n",
              "    80% {\n",
              "      border-color: transparent;\n",
              "      border-right-color: var(--fill-color);\n",
              "      border-bottom-color: var(--fill-color);\n",
              "    }\n",
              "    90% {\n",
              "      border-color: transparent;\n",
              "      border-bottom-color: var(--fill-color);\n",
              "    }\n",
              "  }\n",
              "</style>\n",
              "\n",
              "  <script>\n",
              "    async function quickchart(key) {\n",
              "      const quickchartButtonEl =\n",
              "        document.querySelector('#' + key + ' button');\n",
              "      quickchartButtonEl.disabled = true;  // To prevent multiple clicks.\n",
              "      quickchartButtonEl.classList.add('colab-df-spinner');\n",
              "      try {\n",
              "        const charts = await google.colab.kernel.invokeFunction(\n",
              "            'suggestCharts', [key], {});\n",
              "      } catch (error) {\n",
              "        console.error('Error during call to suggestCharts:', error);\n",
              "      }\n",
              "      quickchartButtonEl.classList.remove('colab-df-spinner');\n",
              "      quickchartButtonEl.classList.add('colab-df-quickchart-complete');\n",
              "    }\n",
              "    (() => {\n",
              "      let quickchartButtonEl =\n",
              "        document.querySelector('#df-9999605f-8d1c-4fe0-b8ae-9f8b1aac4155 button');\n",
              "      quickchartButtonEl.style.display =\n",
              "        google.colab.kernel.accessAllowed ? 'block' : 'none';\n",
              "    })();\n",
              "  </script>\n",
              "</div>\n",
              "    </div>\n",
              "  </div>\n"
            ]
          },
          "metadata": {},
          "execution_count": 18
        }
      ]
    },
    {
      "cell_type": "code",
      "source": [
        "explicit_filtered_ratings"
      ],
      "metadata": {
        "colab": {
          "base_uri": "https://localhost:8080/",
          "height": 424
        },
        "id": "XZ51hQGHmVp8",
        "outputId": "51b74b4d-cf81-4116-dfc5-fcecf8fc1588"
      },
      "id": "XZ51hQGHmVp8",
      "execution_count": null,
      "outputs": [
        {
          "output_type": "execute_result",
          "data": {
            "text/plain": [
              "          user  item  values           timestamp\n",
              "0            0  1260     4.0 2006-11-30 11:19:50\n",
              "1            0  1529     4.5 2006-01-01 00:38:35\n",
              "2            0  2373     4.0 2006-11-30 11:18:46\n",
              "3            0  2515     4.0 2006-01-01 00:38:44\n",
              "4            0  2829     4.5 2005-12-03 00:53:20\n",
              "...        ...   ...     ...                 ...\n",
              "3998456  47536  1656     4.0 2000-11-15 13:26:26\n",
              "3998457  47536  2894     4.0 2000-11-15 13:24:52\n",
              "3998458  47537   158     5.0 1998-12-02 05:52:48\n",
              "3998459  47537   202     2.0 1998-12-02 05:53:36\n",
              "3998460  47537   248     2.0 1998-12-02 05:56:13\n",
              "\n",
              "[3998461 rows x 4 columns]"
            ],
            "text/html": [
              "\n",
              "  <div id=\"df-924ec815-611f-48f8-a02c-a5fb3fe4b0b0\" class=\"colab-df-container\">\n",
              "    <div>\n",
              "<style scoped>\n",
              "    .dataframe tbody tr th:only-of-type {\n",
              "        vertical-align: middle;\n",
              "    }\n",
              "\n",
              "    .dataframe tbody tr th {\n",
              "        vertical-align: top;\n",
              "    }\n",
              "\n",
              "    .dataframe thead th {\n",
              "        text-align: right;\n",
              "    }\n",
              "</style>\n",
              "<table border=\"1\" class=\"dataframe\">\n",
              "  <thead>\n",
              "    <tr style=\"text-align: right;\">\n",
              "      <th></th>\n",
              "      <th>user</th>\n",
              "      <th>item</th>\n",
              "      <th>values</th>\n",
              "      <th>timestamp</th>\n",
              "    </tr>\n",
              "  </thead>\n",
              "  <tbody>\n",
              "    <tr>\n",
              "      <th>0</th>\n",
              "      <td>0</td>\n",
              "      <td>1260</td>\n",
              "      <td>4.0</td>\n",
              "      <td>2006-11-30 11:19:50</td>\n",
              "    </tr>\n",
              "    <tr>\n",
              "      <th>1</th>\n",
              "      <td>0</td>\n",
              "      <td>1529</td>\n",
              "      <td>4.5</td>\n",
              "      <td>2006-01-01 00:38:35</td>\n",
              "    </tr>\n",
              "    <tr>\n",
              "      <th>2</th>\n",
              "      <td>0</td>\n",
              "      <td>2373</td>\n",
              "      <td>4.0</td>\n",
              "      <td>2006-11-30 11:18:46</td>\n",
              "    </tr>\n",
              "    <tr>\n",
              "      <th>3</th>\n",
              "      <td>0</td>\n",
              "      <td>2515</td>\n",
              "      <td>4.0</td>\n",
              "      <td>2006-01-01 00:38:44</td>\n",
              "    </tr>\n",
              "    <tr>\n",
              "      <th>4</th>\n",
              "      <td>0</td>\n",
              "      <td>2829</td>\n",
              "      <td>4.5</td>\n",
              "      <td>2005-12-03 00:53:20</td>\n",
              "    </tr>\n",
              "    <tr>\n",
              "      <th>...</th>\n",
              "      <td>...</td>\n",
              "      <td>...</td>\n",
              "      <td>...</td>\n",
              "      <td>...</td>\n",
              "    </tr>\n",
              "    <tr>\n",
              "      <th>3998456</th>\n",
              "      <td>47536</td>\n",
              "      <td>1656</td>\n",
              "      <td>4.0</td>\n",
              "      <td>2000-11-15 13:26:26</td>\n",
              "    </tr>\n",
              "    <tr>\n",
              "      <th>3998457</th>\n",
              "      <td>47536</td>\n",
              "      <td>2894</td>\n",
              "      <td>4.0</td>\n",
              "      <td>2000-11-15 13:24:52</td>\n",
              "    </tr>\n",
              "    <tr>\n",
              "      <th>3998458</th>\n",
              "      <td>47537</td>\n",
              "      <td>158</td>\n",
              "      <td>5.0</td>\n",
              "      <td>1998-12-02 05:52:48</td>\n",
              "    </tr>\n",
              "    <tr>\n",
              "      <th>3998459</th>\n",
              "      <td>47537</td>\n",
              "      <td>202</td>\n",
              "      <td>2.0</td>\n",
              "      <td>1998-12-02 05:53:36</td>\n",
              "    </tr>\n",
              "    <tr>\n",
              "      <th>3998460</th>\n",
              "      <td>47537</td>\n",
              "      <td>248</td>\n",
              "      <td>2.0</td>\n",
              "      <td>1998-12-02 05:56:13</td>\n",
              "    </tr>\n",
              "  </tbody>\n",
              "</table>\n",
              "<p>3998461 rows × 4 columns</p>\n",
              "</div>\n",
              "    <div class=\"colab-df-buttons\">\n",
              "\n",
              "  <div class=\"colab-df-container\">\n",
              "    <button class=\"colab-df-convert\" onclick=\"convertToInteractive('df-924ec815-611f-48f8-a02c-a5fb3fe4b0b0')\"\n",
              "            title=\"Convert this dataframe to an interactive table.\"\n",
              "            style=\"display:none;\">\n",
              "\n",
              "  <svg xmlns=\"http://www.w3.org/2000/svg\" height=\"24px\" viewBox=\"0 -960 960 960\">\n",
              "    <path d=\"M120-120v-720h720v720H120Zm60-500h600v-160H180v160Zm220 220h160v-160H400v160Zm0 220h160v-160H400v160ZM180-400h160v-160H180v160Zm440 0h160v-160H620v160ZM180-180h160v-160H180v160Zm440 0h160v-160H620v160Z\"/>\n",
              "  </svg>\n",
              "    </button>\n",
              "\n",
              "  <style>\n",
              "    .colab-df-container {\n",
              "      display:flex;\n",
              "      gap: 12px;\n",
              "    }\n",
              "\n",
              "    .colab-df-convert {\n",
              "      background-color: #E8F0FE;\n",
              "      border: none;\n",
              "      border-radius: 50%;\n",
              "      cursor: pointer;\n",
              "      display: none;\n",
              "      fill: #1967D2;\n",
              "      height: 32px;\n",
              "      padding: 0 0 0 0;\n",
              "      width: 32px;\n",
              "    }\n",
              "\n",
              "    .colab-df-convert:hover {\n",
              "      background-color: #E2EBFA;\n",
              "      box-shadow: 0px 1px 2px rgba(60, 64, 67, 0.3), 0px 1px 3px 1px rgba(60, 64, 67, 0.15);\n",
              "      fill: #174EA6;\n",
              "    }\n",
              "\n",
              "    .colab-df-buttons div {\n",
              "      margin-bottom: 4px;\n",
              "    }\n",
              "\n",
              "    [theme=dark] .colab-df-convert {\n",
              "      background-color: #3B4455;\n",
              "      fill: #D2E3FC;\n",
              "    }\n",
              "\n",
              "    [theme=dark] .colab-df-convert:hover {\n",
              "      background-color: #434B5C;\n",
              "      box-shadow: 0px 1px 3px 1px rgba(0, 0, 0, 0.15);\n",
              "      filter: drop-shadow(0px 1px 2px rgba(0, 0, 0, 0.3));\n",
              "      fill: #FFFFFF;\n",
              "    }\n",
              "  </style>\n",
              "\n",
              "    <script>\n",
              "      const buttonEl =\n",
              "        document.querySelector('#df-924ec815-611f-48f8-a02c-a5fb3fe4b0b0 button.colab-df-convert');\n",
              "      buttonEl.style.display =\n",
              "        google.colab.kernel.accessAllowed ? 'block' : 'none';\n",
              "\n",
              "      async function convertToInteractive(key) {\n",
              "        const element = document.querySelector('#df-924ec815-611f-48f8-a02c-a5fb3fe4b0b0');\n",
              "        const dataTable =\n",
              "          await google.colab.kernel.invokeFunction('convertToInteractive',\n",
              "                                                    [key], {});\n",
              "        if (!dataTable) return;\n",
              "\n",
              "        const docLinkHtml = 'Like what you see? Visit the ' +\n",
              "          '<a target=\"_blank\" href=https://colab.research.google.com/notebooks/data_table.ipynb>data table notebook</a>'\n",
              "          + ' to learn more about interactive tables.';\n",
              "        element.innerHTML = '';\n",
              "        dataTable['output_type'] = 'display_data';\n",
              "        await google.colab.output.renderOutput(dataTable, element);\n",
              "        const docLink = document.createElement('div');\n",
              "        docLink.innerHTML = docLinkHtml;\n",
              "        element.appendChild(docLink);\n",
              "      }\n",
              "    </script>\n",
              "  </div>\n",
              "\n",
              "\n",
              "<div id=\"df-1002a238-dcf9-4bab-916d-bfed6f5411b5\">\n",
              "  <button class=\"colab-df-quickchart\" onclick=\"quickchart('df-1002a238-dcf9-4bab-916d-bfed6f5411b5')\"\n",
              "            title=\"Suggest charts.\"\n",
              "            style=\"display:none;\">\n",
              "\n",
              "<svg xmlns=\"http://www.w3.org/2000/svg\" height=\"24px\"viewBox=\"0 0 24 24\"\n",
              "     width=\"24px\">\n",
              "    <g>\n",
              "        <path d=\"M19 3H5c-1.1 0-2 .9-2 2v14c0 1.1.9 2 2 2h14c1.1 0 2-.9 2-2V5c0-1.1-.9-2-2-2zM9 17H7v-7h2v7zm4 0h-2V7h2v10zm4 0h-2v-4h2v4z\"/>\n",
              "    </g>\n",
              "</svg>\n",
              "  </button>\n",
              "\n",
              "<style>\n",
              "  .colab-df-quickchart {\n",
              "      --bg-color: #E8F0FE;\n",
              "      --fill-color: #1967D2;\n",
              "      --hover-bg-color: #E2EBFA;\n",
              "      --hover-fill-color: #174EA6;\n",
              "      --disabled-fill-color: #AAA;\n",
              "      --disabled-bg-color: #DDD;\n",
              "  }\n",
              "\n",
              "  [theme=dark] .colab-df-quickchart {\n",
              "      --bg-color: #3B4455;\n",
              "      --fill-color: #D2E3FC;\n",
              "      --hover-bg-color: #434B5C;\n",
              "      --hover-fill-color: #FFFFFF;\n",
              "      --disabled-bg-color: #3B4455;\n",
              "      --disabled-fill-color: #666;\n",
              "  }\n",
              "\n",
              "  .colab-df-quickchart {\n",
              "    background-color: var(--bg-color);\n",
              "    border: none;\n",
              "    border-radius: 50%;\n",
              "    cursor: pointer;\n",
              "    display: none;\n",
              "    fill: var(--fill-color);\n",
              "    height: 32px;\n",
              "    padding: 0;\n",
              "    width: 32px;\n",
              "  }\n",
              "\n",
              "  .colab-df-quickchart:hover {\n",
              "    background-color: var(--hover-bg-color);\n",
              "    box-shadow: 0 1px 2px rgba(60, 64, 67, 0.3), 0 1px 3px 1px rgba(60, 64, 67, 0.15);\n",
              "    fill: var(--button-hover-fill-color);\n",
              "  }\n",
              "\n",
              "  .colab-df-quickchart-complete:disabled,\n",
              "  .colab-df-quickchart-complete:disabled:hover {\n",
              "    background-color: var(--disabled-bg-color);\n",
              "    fill: var(--disabled-fill-color);\n",
              "    box-shadow: none;\n",
              "  }\n",
              "\n",
              "  .colab-df-spinner {\n",
              "    border: 2px solid var(--fill-color);\n",
              "    border-color: transparent;\n",
              "    border-bottom-color: var(--fill-color);\n",
              "    animation:\n",
              "      spin 1s steps(1) infinite;\n",
              "  }\n",
              "\n",
              "  @keyframes spin {\n",
              "    0% {\n",
              "      border-color: transparent;\n",
              "      border-bottom-color: var(--fill-color);\n",
              "      border-left-color: var(--fill-color);\n",
              "    }\n",
              "    20% {\n",
              "      border-color: transparent;\n",
              "      border-left-color: var(--fill-color);\n",
              "      border-top-color: var(--fill-color);\n",
              "    }\n",
              "    30% {\n",
              "      border-color: transparent;\n",
              "      border-left-color: var(--fill-color);\n",
              "      border-top-color: var(--fill-color);\n",
              "      border-right-color: var(--fill-color);\n",
              "    }\n",
              "    40% {\n",
              "      border-color: transparent;\n",
              "      border-right-color: var(--fill-color);\n",
              "      border-top-color: var(--fill-color);\n",
              "    }\n",
              "    60% {\n",
              "      border-color: transparent;\n",
              "      border-right-color: var(--fill-color);\n",
              "    }\n",
              "    80% {\n",
              "      border-color: transparent;\n",
              "      border-right-color: var(--fill-color);\n",
              "      border-bottom-color: var(--fill-color);\n",
              "    }\n",
              "    90% {\n",
              "      border-color: transparent;\n",
              "      border-bottom-color: var(--fill-color);\n",
              "    }\n",
              "  }\n",
              "</style>\n",
              "\n",
              "  <script>\n",
              "    async function quickchart(key) {\n",
              "      const quickchartButtonEl =\n",
              "        document.querySelector('#' + key + ' button');\n",
              "      quickchartButtonEl.disabled = true;  // To prevent multiple clicks.\n",
              "      quickchartButtonEl.classList.add('colab-df-spinner');\n",
              "      try {\n",
              "        const charts = await google.colab.kernel.invokeFunction(\n",
              "            'suggestCharts', [key], {});\n",
              "      } catch (error) {\n",
              "        console.error('Error during call to suggestCharts:', error);\n",
              "      }\n",
              "      quickchartButtonEl.classList.remove('colab-df-spinner');\n",
              "      quickchartButtonEl.classList.add('colab-df-quickchart-complete');\n",
              "    }\n",
              "    (() => {\n",
              "      let quickchartButtonEl =\n",
              "        document.querySelector('#df-1002a238-dcf9-4bab-916d-bfed6f5411b5 button');\n",
              "      quickchartButtonEl.style.display =\n",
              "        google.colab.kernel.accessAllowed ? 'block' : 'none';\n",
              "    })();\n",
              "  </script>\n",
              "</div>\n",
              "    </div>\n",
              "  </div>\n"
            ]
          },
          "metadata": {},
          "execution_count": 19
        }
      ]
    },
    {
      "cell_type": "code",
      "source": [
        "explicit_filtered_remove1, explicit_removed1_dataset = remove_users(explicit_filtered_ratings, n=1)\n",
        "implicit_filtered_remove1, implicit_removed1_dataset = remove_users(implicit_filtered_ratings, n=1)"
      ],
      "metadata": {
        "id": "Q0e_Fb_smfyo"
      },
      "id": "Q0e_Fb_smfyo",
      "execution_count": 14,
      "outputs": []
    },
    {
      "cell_type": "code",
      "execution_count": 15,
      "id": "ccbcc599-a063-425f-9070-017e3bb298b4",
      "metadata": {
        "ExecuteTime": {
          "end_time": "2023-04-19T13:28:51.376849Z",
          "start_time": "2023-04-19T13:28:51.220964Z"
        },
        "id": "ccbcc599-a063-425f-9070-017e3bb298b4",
        "tags": []
      },
      "outputs": [],
      "source": [
        "ts_split = {\n",
        "    \"implicit\": implicit_filtered_ratings[\"timestamp\"].max()\n",
        "    - pd.Timedelta(365, \"days\"),\n",
        "    \"explicit\": explicit_filtered_ratings[\"timestamp\"].max()\n",
        "    - pd.Timedelta(365, \"days\"),\n",
        "}\n",
        "datasets_full = {}\n",
        "for key, dataset in (\n",
        "    (\"implicit\", implicit_filtered_ratings),\n",
        "    (\"explicit\", explicit_filtered_ratings),\n",
        "):\n",
        "    datasets_full[key] = {\n",
        "        \"train\": dataset.loc[dataset[\"timestamp\"] <= ts_split[key]],\n",
        "        \"valid\": dataset.loc[dataset[\"timestamp\"] > ts_split[key]],\n",
        "    }\n",
        "    datasets_full[key][\"valid\"] = datasets_full[key][\"valid\"].loc[\n",
        "        datasets_full[key][\"valid\"].user.isin(datasets_full[key][\"train\"].user.unique())\n",
        "    ]"
      ]
    },
    {
      "cell_type": "code",
      "source": [
        "ts_split = {\n",
        "    \"implicit\": implicit_filtered_remove1[\"timestamp\"].max()\n",
        "    - pd.Timedelta(365, \"days\"),\n",
        "    \"explicit\": explicit_filtered_remove1[\"timestamp\"].max()\n",
        "    - pd.Timedelta(365, \"days\"),\n",
        "}\n",
        "datasets_minus1 = {}\n",
        "for key, dataset in (\n",
        "    (\"implicit\", implicit_filtered_remove1),\n",
        "    (\"explicit\", explicit_filtered_remove1),\n",
        "):\n",
        "    datasets_minus1[key] = {\n",
        "        \"train\": dataset.loc[dataset[\"timestamp\"] <= ts_split[key]],\n",
        "        \"valid\": dataset.loc[dataset[\"timestamp\"] > ts_split[key]],\n",
        "    }\n",
        "    datasets_minus1[key][\"valid\"] = datasets_minus1[key][\"valid\"].loc[\n",
        "        datasets_minus1[key][\"valid\"].user.isin(datasets_minus1[key][\"train\"].user.unique())\n",
        "    ]"
      ],
      "metadata": {
        "id": "i87d1tu2FTXO"
      },
      "id": "i87d1tu2FTXO",
      "execution_count": 16,
      "outputs": []
    },
    {
      "cell_type": "code",
      "source": [
        "ts_split = {\n",
        "    \"implicit\": implicit_filtered_remove2[\"timestamp\"].max()\n",
        "    - pd.Timedelta(365, \"days\"),\n",
        "    \"explicit\": explicit_filtered_remove2[\"timestamp\"].max()\n",
        "    - pd.Timedelta(365, \"days\"),\n",
        "}\n",
        "datasets_minus2 = {}\n",
        "for key, dataset in (\n",
        "    (\"implicit\", implicit_filtered_remove2),\n",
        "    (\"explicit\", explicit_filtered_remove2),\n",
        "):\n",
        "    datasets_minus2[key] = {\n",
        "        \"train\": dataset.loc[dataset[\"timestamp\"] <= ts_split[key]],\n",
        "        \"valid\": dataset.loc[dataset[\"timestamp\"] > ts_split[key]],\n",
        "    }\n",
        "    datasets_minus2[key][\"valid\"] = datasets_minus2[key][\"valid\"].loc[\n",
        "        datasets_minus2[key][\"valid\"].user.isin(datasets_minus2[key][\"train\"].user.unique())\n",
        "    ]"
      ],
      "metadata": {
        "id": "r7xNLC_9nE48"
      },
      "id": "r7xNLC_9nE48",
      "execution_count": 17,
      "outputs": []
    },
    {
      "cell_type": "code",
      "source": [
        "datasets_minus1"
      ],
      "metadata": {
        "colab": {
          "base_uri": "https://localhost:8080/"
        },
        "id": "bA32S3yNnqnb",
        "outputId": "5f89b55e-8f26-4a9a-c80e-0cc766eab16b"
      },
      "id": "bA32S3yNnqnb",
      "execution_count": null,
      "outputs": [
        {
          "output_type": "execute_result",
          "data": {
            "text/plain": [
              "{'implicit': {'train':           user  item  values           timestamp\n",
              "  0            0  1260     4.0 2006-11-30 11:19:50\n",
              "  1            0  1529     4.5 2006-01-01 00:38:35\n",
              "  2            0  2373     4.0 2006-11-30 11:18:46\n",
              "  3            0  2515     4.0 2006-01-01 00:38:44\n",
              "  4            0  2829     4.5 2005-12-03 00:53:20\n",
              "  ...        ...   ...     ...                 ...\n",
              "  2338546  47536  1633     4.0 2000-11-15 13:41:22\n",
              "  2338547  47536  1652     4.0 2000-11-15 13:37:47\n",
              "  2338548  47536  1655     4.0 2000-11-15 13:33:54\n",
              "  2338549  47536  1656     4.0 2000-11-15 13:26:26\n",
              "  2338550  47536  2894     4.0 2000-11-15 13:24:52\n",
              "  \n",
              "  [2128722 rows x 4 columns],\n",
              "  'valid':           user  item  values           timestamp\n",
              "  889         20  1412     4.5 2008-04-20 05:35:35\n",
              "  925         20  3178     4.0 2008-04-20 05:33:46\n",
              "  1714        42  1286     4.0 2008-06-19 23:47:17\n",
              "  1715        42  1528     5.0 2008-06-19 23:57:50\n",
              "  1718        42  2807     5.0 2008-06-19 23:48:56\n",
              "  ...        ...   ...     ...                 ...\n",
              "  2336639  47500  6091     4.5 2008-06-06 19:33:58\n",
              "  2336640  47500  6096     3.5 2008-11-18 14:43:01\n",
              "  2336645  47500  6142     4.0 2008-11-18 14:43:14\n",
              "  2337453  47517  2197     5.0 2008-10-10 07:56:25\n",
              "  2337464  47517  5025     4.0 2008-10-10 07:56:42\n",
              "  \n",
              "  [34365 rows x 4 columns]},\n",
              " 'explicit': {'train':           user  item  values           timestamp\n",
              "  0            0  1260     4.0 2006-11-30 11:19:50\n",
              "  1            0  1529     4.5 2006-01-01 00:38:35\n",
              "  2            0  2373     4.0 2006-11-30 11:18:46\n",
              "  3            0  2515     4.0 2006-01-01 00:38:44\n",
              "  4            0  2829     4.5 2005-12-03 00:53:20\n",
              "  ...        ...   ...     ...                 ...\n",
              "  3998453  47536  1633     4.0 2000-11-15 13:41:22\n",
              "  3998454  47536  1652     4.0 2000-11-15 13:37:47\n",
              "  3998455  47536  1655     4.0 2000-11-15 13:33:54\n",
              "  3998456  47536  1656     4.0 2000-11-15 13:26:26\n",
              "  3998457  47536  2894     4.0 2000-11-15 13:24:52\n",
              "  \n",
              "  [3679912 rows x 4 columns],\n",
              "  'valid':           user  item  values           timestamp\n",
              "  1742        20  1412     4.5 2008-04-20 05:35:35\n",
              "  1784        20  3178     4.0 2008-04-20 05:33:46\n",
              "  1798        20  4080     3.0 2008-04-20 05:43:01\n",
              "  2944        42   266     0.5 2008-06-20 07:50:36\n",
              "  2945        42   267     0.5 2008-06-20 07:50:39\n",
              "  ...        ...   ...     ...                 ...\n",
              "  3995216  47500  6091     4.5 2008-06-06 19:33:58\n",
              "  3995218  47500  6096     3.5 2008-11-18 14:43:01\n",
              "  3995225  47500  6142     4.0 2008-11-18 14:43:14\n",
              "  3996556  47517  2197     5.0 2008-10-10 07:56:25\n",
              "  3996567  47517  5025     4.0 2008-10-10 07:56:42\n",
              "  \n",
              "  [56288 rows x 4 columns]}}"
            ]
          },
          "metadata": {},
          "execution_count": 24
        }
      ]
    },
    {
      "cell_type": "code",
      "source": [
        "I = 0"
      ],
      "metadata": {
        "id": "NXxlsQE-bJ72"
      },
      "id": "NXxlsQE-bJ72",
      "execution_count": 18,
      "outputs": []
    },
    {
      "cell_type": "code",
      "execution_count": 19,
      "id": "eacef218-c4b3-43cc-9963-39f0190da68c",
      "metadata": {
        "ExecuteTime": {
          "end_time": "2023-04-19T13:28:51.379519Z",
          "start_time": "2023-04-19T13:28:51.377670Z"
        },
        "id": "eacef218-c4b3-43cc-9963-39f0190da68c"
      },
      "outputs": [],
      "source": [
        "def make_sparse(dataset: pd.DataFrame,\n",
        "                binary: bool = False,\n",
        "              ) -> sps.csr_matrix:\n",
        "    \"\"\"\n",
        "    Method for creating matrix, that will have item and user unique labels as axises and will be filled by scores (that user gived to item)\n",
        "      dataset: our dataset\n",
        "      binary: flag if we want to put just 1 instead of scores\n",
        "    \"\"\"\n",
        "    shape = (explicit_filtered_ratings['user'].nunique(), explicit_filtered_ratings['item'].nunique() - I)\n",
        "    values = dataset[\"values\"].to_numpy()\n",
        "    values = np.ones_like(values) if binary else values\n",
        "    row = np.array(dataset[\"user\"].to_numpy())\n",
        "    column = np.array(dataset[\"item\"].to_numpy())\n",
        "    return sps.csr_matrix(\n",
        "                          (values, (row, column)),\n",
        "                          shape=shape\n",
        "                          )\n",
        "\n",
        "\n",
        "def build_sparse_datasets(train: pd.DataFrame,\n",
        "                          valid: pd.DataFrame,\n",
        "                          binary: bool = True,\n",
        "                        ) -> dict[str, dict[str, sps.csr_matrix]]:\n",
        "    \"\"\"\n",
        "    Wrapper for make_sparse method\n",
        "    \"\"\"\n",
        "    train_sparse = make_sparse(train, binary=binary)\n",
        "    valid_sparse = make_sparse(valid, binary=binary)\n",
        "    train_mask, valid_mask = (\n",
        "        train_sparse.getnnz(axis=-1) > 0,\n",
        "        valid_sparse.getnnz(axis=-1) > 0,\n",
        "    )\n",
        "    return {\n",
        "        \"train\": {\n",
        "            \"source\": train_sparse[train_mask],\n",
        "            \"target\": train_sparse[train_mask],\n",
        "        },\n",
        "        \"valid\": {\n",
        "            \"source\": valid_sparse[valid_mask],\n",
        "            \"target\": valid_sparse[valid_mask],\n",
        "        },\n",
        "    }"
      ]
    },
    {
      "cell_type": "code",
      "execution_count": 20,
      "id": "dc7fafd3-485a-4c21-9c49-6b9c3694c102",
      "metadata": {
        "ExecuteTime": {
          "end_time": "2023-04-19T13:28:51.985570Z",
          "start_time": "2023-04-19T13:28:51.755488Z"
        },
        "colab": {
          "base_uri": "https://localhost:8080/"
        },
        "id": "dc7fafd3-485a-4c21-9c49-6b9c3694c102",
        "outputId": "ea54ccf0-786a-4e33-f266-8681c88b1e45"
      },
      "outputs": [
        {
          "output_type": "stream",
          "name": "stdout",
          "text": [
            "Explicit\n",
            "{'train': {'source': <43239x6196 sparse matrix of type '<class 'numpy.float64'>'\n",
            "\twith 3679915 stored elements in Compressed Sparse Row format>,\n",
            "           'target': <43239x6196 sparse matrix of type '<class 'numpy.float64'>'\n",
            "\twith 3679915 stored elements in Compressed Sparse Row format>},\n",
            " 'valid': {'source': <2369x6196 sparse matrix of type '<class 'numpy.float64'>'\n",
            "\twith 56288 stored elements in Compressed Sparse Row format>,\n",
            "           'target': <2369x6196 sparse matrix of type '<class 'numpy.float64'>'\n",
            "\twith 56288 stored elements in Compressed Sparse Row format>}}\n",
            "Implicit\n",
            "{'train': {'source': <42583x6196 sparse matrix of type '<class 'numpy.float64'>'\n",
            "\twith 2128723 stored elements in Compressed Sparse Row format>,\n",
            "           'target': <42583x6196 sparse matrix of type '<class 'numpy.float64'>'\n",
            "\twith 2128723 stored elements in Compressed Sparse Row format>},\n",
            " 'valid': {'source': <2261x6196 sparse matrix of type '<class 'numpy.float64'>'\n",
            "\twith 34365 stored elements in Compressed Sparse Row format>,\n",
            "           'target': <2261x6196 sparse matrix of type '<class 'numpy.float64'>'\n",
            "\twith 34365 stored elements in Compressed Sparse Row format>}}\n"
          ]
        }
      ],
      "source": [
        "explicit_full_datasets = build_sparse_datasets(\n",
        "    **datasets_full[\"explicit\"], binary=False\n",
        ")\n",
        "implicit_full_datasets = build_sparse_datasets(\n",
        "    **datasets_full[\"implicit\"], binary=True\n",
        ")\n",
        "print(\"Explicit\")\n",
        "pprint(explicit_full_datasets)\n",
        "print(\"Implicit\")\n",
        "pprint(implicit_full_datasets)"
      ]
    },
    {
      "cell_type": "code",
      "source": [
        "explicit_minus1_datasets = build_sparse_datasets(\n",
        "    **datasets_minus1[\"explicit\"], binary=False\n",
        ")\n",
        "implicit_minus1_datasets = build_sparse_datasets(\n",
        "    **datasets_minus1[\"implicit\"], binary=True\n",
        ")\n",
        "print(\"Explicit\")\n",
        "pprint(explicit_minus1_datasets)\n",
        "print(\"Implicit\")\n",
        "pprint(implicit_minus1_datasets)"
      ],
      "metadata": {
        "colab": {
          "base_uri": "https://localhost:8080/"
        },
        "id": "HFonxPW0n_vm",
        "outputId": "65b41d07-7e27-4dab-e311-90ca5cdeb655"
      },
      "id": "HFonxPW0n_vm",
      "execution_count": 21,
      "outputs": [
        {
          "output_type": "stream",
          "name": "stdout",
          "text": [
            "Explicit\n",
            "{'train': {'source': <43238x6196 sparse matrix of type '<class 'numpy.float64'>'\n",
            "\twith 3679912 stored elements in Compressed Sparse Row format>,\n",
            "           'target': <43238x6196 sparse matrix of type '<class 'numpy.float64'>'\n",
            "\twith 3679912 stored elements in Compressed Sparse Row format>},\n",
            " 'valid': {'source': <2369x6196 sparse matrix of type '<class 'numpy.float64'>'\n",
            "\twith 56288 stored elements in Compressed Sparse Row format>,\n",
            "           'target': <2369x6196 sparse matrix of type '<class 'numpy.float64'>'\n",
            "\twith 56288 stored elements in Compressed Sparse Row format>}}\n",
            "Implicit\n",
            "{'train': {'source': <42582x6196 sparse matrix of type '<class 'numpy.float64'>'\n",
            "\twith 2128722 stored elements in Compressed Sparse Row format>,\n",
            "           'target': <42582x6196 sparse matrix of type '<class 'numpy.float64'>'\n",
            "\twith 2128722 stored elements in Compressed Sparse Row format>},\n",
            " 'valid': {'source': <2261x6196 sparse matrix of type '<class 'numpy.float64'>'\n",
            "\twith 34365 stored elements in Compressed Sparse Row format>,\n",
            "           'target': <2261x6196 sparse matrix of type '<class 'numpy.float64'>'\n",
            "\twith 34365 stored elements in Compressed Sparse Row format>}}\n"
          ]
        }
      ]
    },
    {
      "cell_type": "code",
      "source": [
        "explicit_minus2_datasets = build_sparse_datasets(\n",
        "    **datasets_minus2[\"explicit\"], binary=False\n",
        ")\n",
        "implicit_minus2_datasets = build_sparse_datasets(\n",
        "    **datasets_minus2[\"implicit\"], binary=True\n",
        ")\n",
        "print(\"Explicit\")\n",
        "pprint(explicit_minus2_datasets)\n",
        "print(\"Implicit\")\n",
        "pprint(implicit_minus2_datasets)"
      ],
      "metadata": {
        "colab": {
          "base_uri": "https://localhost:8080/"
        },
        "id": "Sn2dpPPNn_yy",
        "outputId": "cdb5fbe3-e047-4840-a8ce-a6d1ea06fbd6"
      },
      "id": "Sn2dpPPNn_yy",
      "execution_count": 22,
      "outputs": [
        {
          "output_type": "stream",
          "name": "stdout",
          "text": [
            "Explicit\n",
            "{'train': {'source': <43237x6196 sparse matrix of type '<class 'numpy.float64'>'\n",
            "\twith 3679851 stored elements in Compressed Sparse Row format>,\n",
            "           'target': <43237x6196 sparse matrix of type '<class 'numpy.float64'>'\n",
            "\twith 3679851 stored elements in Compressed Sparse Row format>},\n",
            " 'valid': {'source': <2369x6196 sparse matrix of type '<class 'numpy.float64'>'\n",
            "\twith 56288 stored elements in Compressed Sparse Row format>,\n",
            "           'target': <2369x6196 sparse matrix of type '<class 'numpy.float64'>'\n",
            "\twith 56288 stored elements in Compressed Sparse Row format>}}\n",
            "Implicit\n",
            "{'train': {'source': <42581x6196 sparse matrix of type '<class 'numpy.float64'>'\n",
            "\twith 2128685 stored elements in Compressed Sparse Row format>,\n",
            "           'target': <42581x6196 sparse matrix of type '<class 'numpy.float64'>'\n",
            "\twith 2128685 stored elements in Compressed Sparse Row format>},\n",
            " 'valid': {'source': <2261x6196 sparse matrix of type '<class 'numpy.float64'>'\n",
            "\twith 34365 stored elements in Compressed Sparse Row format>,\n",
            "           'target': <2261x6196 sparse matrix of type '<class 'numpy.float64'>'\n",
            "\twith 34365 stored elements in Compressed Sparse Row format>}}\n"
          ]
        }
      ]
    },
    {
      "cell_type": "markdown",
      "id": "156ec922-f440-4c87-95de-414ac9d7b205",
      "metadata": {
        "id": "156ec922-f440-4c87-95de-414ac9d7b205"
      },
      "source": [
        "### 3.4 Готовим лоадеры для данных\n",
        "\n",
        "Сложим все аккуратно по батчам для удобства дальнейшего обучения"
      ]
    },
    {
      "cell_type": "code",
      "execution_count": 23,
      "id": "1f349885-bd34-46f8-b0d9-3d628b20f3eb",
      "metadata": {
        "ExecuteTime": {
          "end_time": "2023-04-19T13:28:53.140085Z",
          "start_time": "2023-04-19T13:28:53.127008Z"
        },
        "id": "1f349885-bd34-46f8-b0d9-3d628b20f3eb"
      },
      "outputs": [],
      "source": [
        "class MovieLensDataset(Dataset):\n",
        "    def __init__(self, source: sps.csc_matrix, target: sps.csr_matrix = None) -> None:\n",
        "        self._source = source\n",
        "        self._target = target\n",
        "\n",
        "    def __len__(self):\n",
        "        return self._source.shape[0]\n",
        "\n",
        "    def __getitem__(self, idx: int) -> dict[str, np.ndarray]:\n",
        "        item = {\"source\": self._source[idx]}\n",
        "        if self._target is not None:\n",
        "            item[\"target\"] = self._target[idx]\n",
        "        return item"
      ]
    },
    {
      "cell_type": "code",
      "execution_count": 24,
      "id": "dc506a39-3880-4080-b2b8-3fdfb47d6b13",
      "metadata": {
        "ExecuteTime": {
          "end_time": "2023-04-19T13:28:53.387822Z",
          "start_time": "2023-04-19T13:28:53.371999Z"
        },
        "id": "dc506a39-3880-4080-b2b8-3fdfb47d6b13"
      },
      "outputs": [],
      "source": [
        "class MovieLensCollator:\n",
        "    def __call__(\n",
        "        self, instances: Iterable[dict[str, sps.csr_matrix]]\n",
        "    ) -> dict[str, torch.Tensor]:\n",
        "        batch = self._make_batch(instances)\n",
        "        for key, tensor in batch.items():\n",
        "            batch[key] = (\n",
        "                self._to_sparse(tensor).to_dense().float()\n",
        "                if isinstance(tensor[0], sps.csr_matrix)\n",
        "                else torch.Tensor(tensor)\n",
        "            )\n",
        "        return dict(batch)\n",
        "\n",
        "    @staticmethod\n",
        "    def _make_batch(\n",
        "        instances: Iterable[dict[str, sps.csr_matrix]]\n",
        "    ) -> dict[str, list[sps.csr_matrix]]:\n",
        "        tensor_dict = defaultdict(list)\n",
        "        for instance in instances:\n",
        "            for field, tensor in instance.items():\n",
        "                tensor_dict[field].append(tensor)\n",
        "        return tensor_dict\n",
        "\n",
        "    @staticmethod\n",
        "    def _to_sparse(tensor: list[sps.csr_matrix]) -> torch.sparse.Tensor:\n",
        "        tensor = sps.vstack(tensor)\n",
        "        values = torch.from_numpy(tensor.data)\n",
        "        indices = torch.from_numpy(np.vstack(tensor.nonzero())).long()\n",
        "        sparse_tensor = torch.sparse.FloatTensor(indices, values, tensor.shape)\n",
        "        return sparse_tensor"
      ]
    },
    {
      "cell_type": "markdown",
      "id": "64c5bcc0-56b1-4f30-b949-5c63e14928f4",
      "metadata": {
        "id": "64c5bcc0-56b1-4f30-b949-5c63e14928f4"
      },
      "source": [
        "## 4. Наши методы\n",
        "\n",
        "###  Sparse Model и Runner\n",
        "\n",
        "#### Sparse Model\n",
        "\n",
        "Сделаем базовый класс, он зафиксирует тот факт, что модель состоит из 2 функций:\n",
        "- Обучение — `.fit()`. Каждая модель обучается только на `train.source` части из датасетов.\n",
        "- Инфер — `.predict_proba()`. Делаем инфер на батче данных из `(train|valid).source` и сравниваем с ответами в `(train|valid).target`, если добавили callback с метриками. Ответ каждой модели — словарь. Мы решили остановиться на dict только с одним ключом **logits**.\n",
        "\n",
        "И еще тот факт, что у нас данные на cpu храниться будут\n",
        "\n",
        "И да ещё один важный момент. У каждой модели есть параметр `remove_seen`. С помощью него из предсказний модели, можно убрать айтемы, которые юзер видел во время обучения. В итоге мы всегда будем рекомендовать только что-то новое для клиентов.\n",
        "\n",
        "#### Runner\n",
        "\n",
        "Runner решает только одну задачу — прогон модели на данных. `fit` делаем на всех данных, а `predict_proba` батчевым образом, чтобы сэкономить на памяти."
      ]
    },
    {
      "cell_type": "code",
      "source": [
        "import numpy as np\n",
        "import scipy.linalg as la"
      ],
      "metadata": {
        "id": "SQa3nFTshwMy"
      },
      "id": "SQa3nFTshwMy",
      "execution_count": 25,
      "outputs": []
    },
    {
      "cell_type": "code",
      "execution_count": 26,
      "id": "7d7a0d14",
      "metadata": {
        "ExecuteTime": {
          "end_time": "2023-04-19T13:28:54.523715Z",
          "start_time": "2023-04-19T13:28:54.503102Z"
        },
        "id": "7d7a0d14"
      },
      "outputs": [],
      "source": [
        "device = torch.device(\"cuda:0\") if torch.cuda.is_available() else torch.device(\"cpu\")"
      ]
    },
    {
      "cell_type": "code",
      "execution_count": 27,
      "id": "3eb7070c-b9ac-40e9-830a-0b5b1864d39e",
      "metadata": {
        "ExecuteTime": {
          "end_time": "2023-04-19T13:28:54.806711Z",
          "start_time": "2023-04-19T13:28:54.798990Z"
        },
        "id": "3eb7070c-b9ac-40e9-830a-0b5b1864d39e"
      },
      "outputs": [],
      "source": [
        "class SparseModel(ABC):\n",
        "    def __init__(self, remove_seen: bool = True) -> None:\n",
        "        self.remove_seen = remove_seen\n",
        "        self.device = torch.device(\"cpu\")\n",
        "\n",
        "    @abstractmethod\n",
        "    def fit(self, data: sps.csr_matrix) -> None:\n",
        "        pass\n",
        "\n",
        "    @abstractmethod\n",
        "    def predict_proba(self, batch: dict[str, Any]) -> dict[str, torch.Tensor]:\n",
        "        pass\n",
        "\n",
        "    def to(self, device: torch.device) -> \"SparseModel\":\n",
        "        self.device = device\n",
        "        return self"
      ]
    },
    {
      "cell_type": "code",
      "execution_count": 28,
      "id": "5de63b45-44cf-4e9c-920d-7dadf4429e7e",
      "metadata": {
        "ExecuteTime": {
          "end_time": "2023-04-19T13:28:54.996756Z",
          "start_time": "2023-04-19T13:28:54.991823Z"
        },
        "id": "5de63b45-44cf-4e9c-920d-7dadf4429e7e"
      },
      "outputs": [],
      "source": [
        "class SparseRunner(IExperiment):\n",
        "    def __init__(\n",
        "                self,\n",
        "                model: SparseModel,\n",
        "                seed: int = 13,\n",
        "                batch_size: int = 32,\n",
        "                device: torch.device = torch.device(\"cpu\"),\n",
        "                callbacks: dict[str, ICallback] = None,\n",
        "                target_threshold: float = 0.0,\n",
        "              ) -> None:\n",
        "        super().__init__()\n",
        "        self.seed = seed\n",
        "        self.model = model.to(device)\n",
        "        self.device = device\n",
        "        self.callbacks = callbacks or defaultdict(None)\n",
        "        self._batch_size = batch_size\n",
        "        self._target_threshold = target_threshold\n",
        "        # Extra variables\n",
        "        self.batch_output: dict[str, torch.Tensor] = None\n",
        "        self.batch_target: torch.Tensor = None\n",
        "\n",
        "    def run_dataset(self) -> None:\n",
        "        if self.is_train_dataset:\n",
        "            self.model.fit(self.dataset[\"source\"])\n",
        "        self.dataset = tqdm(\n",
        "            DataLoader(\n",
        "                MovieLensDataset(**self.dataset),\n",
        "                collate_fn=MovieLensCollator(),\n",
        "                batch_size=self._batch_size,\n",
        "                shuffle=True,\n",
        "                num_workers=1,\n",
        "                pin_memory=True,\n",
        "            ),\n",
        "            desc=f\"Iterating {self.dataset_key}\",\n",
        "        )\n",
        "        # Remove seen items only for validation\n",
        "        self.model.remove_seen = not self.is_train_dataset\n",
        "        super().run_dataset()\n",
        "\n",
        "    def run_batch(self) -> None:\n",
        "        self.batch = {k: v.to(self.device) for k, v in self.batch.items()}\n",
        "        self.batch_target = self.batch[\"target\"].gt(self._target_threshold).float()\n",
        "        self.batch_output = self.model.predict_proba(self.batch)\n",
        "\n",
        "    def run(self, datasets: dict[str, dict[str, sps.csr_matrix]]) -> None:\n",
        "        self.datasets = datasets\n",
        "        super().run()"
      ]
    },
    {
      "cell_type": "code",
      "execution_count": 29,
      "id": "jHIVi_z3eAqH",
      "metadata": {
        "ExecuteTime": {
          "end_time": "2023-04-19T13:28:55.403516Z",
          "start_time": "2023-04-19T13:28:55.397718Z"
        },
        "id": "jHIVi_z3eAqH"
      },
      "outputs": [],
      "source": [
        "dataset_example_train = MovieLensDataset(**implicit_full_datasets[\"train\"])"
      ]
    },
    {
      "cell_type": "code",
      "execution_count": 30,
      "id": "HaUzLvjgdRnU",
      "metadata": {
        "ExecuteTime": {
          "end_time": "2023-04-19T13:28:55.844282Z",
          "start_time": "2023-04-19T13:28:55.838277Z"
        },
        "id": "HaUzLvjgdRnU"
      },
      "outputs": [],
      "source": [
        "loader_example = DataLoader(\n",
        "    dataset_example_train,\n",
        "    collate_fn=MovieLensCollator(),\n",
        "    batch_size=32,\n",
        "    shuffle=True,\n",
        "    num_workers=1,\n",
        "    pin_memory=True,\n",
        ")"
      ]
    },
    {
      "cell_type": "markdown",
      "id": "cb83ee00-4865-439e-8ed6-be358e82f1d1",
      "metadata": {
        "id": "cb83ee00-4865-439e-8ed6-be358e82f1d1"
      },
      "source": [
        "### 4.1 Baseline\n",
        "\n",
        "Модель TopPopular. Получаем список самых популярных айтемов по суммированию рейтингов и рекомендуем всем эти вот самые популярные айтемы (тут не будет никакой разницы между explicit и implicit)"
      ]
    },
    {
      "cell_type": "code",
      "execution_count": 31,
      "id": "c02456c9-1e80-469f-8d8c-4825395497b9",
      "metadata": {
        "ExecuteTime": {
          "end_time": "2023-04-19T13:29:03.095092Z",
          "start_time": "2023-04-19T13:29:03.073466Z"
        },
        "id": "c02456c9-1e80-469f-8d8c-4825395497b9"
      },
      "outputs": [],
      "source": [
        "class TopPopularModel(SparseModel):\n",
        "    def __init__(self,\n",
        "                 remove_seen: bool = True\n",
        "                ) -> None:\n",
        "        super().__init__(remove_seen=remove_seen)\n",
        "        self._stats = {}\n",
        "\n",
        "    def fit(self,\n",
        "            data: sps.csr_matrix\n",
        "          ) -> None:\n",
        "        self._logits = (\n",
        "          torch.from_numpy(np.array(data.sum(axis=0), dtype=np.float32))\n",
        "          .view(-1)\n",
        "          .to(self.device)\n",
        "        )\n",
        "        self._stats[\"item_freq\"] = self._logits\n",
        "\n",
        "    def predict_proba(self,\n",
        "                      batch: dict[str, Any]\n",
        "                    ) -> dict[str, torch.Tensor]:\n",
        "        scores = self._logits.repeat(batch[\"source\"].size(0), 1)\n",
        "        if self.remove_seen:\n",
        "            scores[batch[\"source\"].gt(0)] = -1e13\n",
        "        return {\"logits\": scores}"
      ]
    },
    {
      "cell_type": "code",
      "execution_count": null,
      "id": "5260ab5d-1b24-4ce1-a136-6b2b2b7e328e",
      "metadata": {
        "ExecuteTime": {
          "start_time": "2023-04-19T13:29:03.359154Z"
        },
        "colab": {
          "base_uri": "https://localhost:8080/"
        },
        "id": "5260ab5d-1b24-4ce1-a136-6b2b2b7e328e",
        "is_executing": true,
        "outputId": "9a9c4c7b-eb8f-423b-ee08-f2113e0ce444"
      },
      "outputs": [
        {
          "output_type": "stream",
          "name": "stdout",
          "text": [
            "Implicit\n"
          ]
        },
        {
          "output_type": "stream",
          "name": "stderr",
          "text": [
            "\rIterating train:   0%|          | 0/1331 [00:00<?, ?it/s]<ipython-input-30-5dbb9ea315af>:29: UserWarning: torch.sparse.SparseTensor(indices, values, shape, *, device=) is deprecated.  Please use torch.sparse_coo_tensor(indices, values, shape, dtype=, device=). (Triggered internally at ../torch/csrc/utils/tensor_new.cpp:605.)\n",
            "  sparse_tensor = torch.sparse.FloatTensor(indices, values, tensor.shape)\n",
            "Iterating train: 100%|██████████| 1331/1331 [00:16<00:00, 79.68it/s]\n",
            "Iterating valid:   0%|          | 0/71 [00:00<?, ?it/s]<ipython-input-30-5dbb9ea315af>:29: UserWarning: torch.sparse.SparseTensor(indices, values, shape, *, device=) is deprecated.  Please use torch.sparse_coo_tensor(indices, values, shape, dtype=, device=). (Triggered internally at ../torch/csrc/utils/tensor_new.cpp:605.)\n",
            "  sparse_tensor = torch.sparse.FloatTensor(indices, values, tensor.shape)\n",
            "Iterating valid: 100%|██████████| 71/71 [00:00<00:00, 73.86it/s]\n"
          ]
        },
        {
          "output_type": "stream",
          "name": "stdout",
          "text": [
            "Explicit\n"
          ]
        },
        {
          "output_type": "stream",
          "name": "stderr",
          "text": [
            "\rIterating train:   0%|          | 0/1352 [00:00<?, ?it/s]<ipython-input-30-5dbb9ea315af>:29: UserWarning: torch.sparse.SparseTensor(indices, values, shape, *, device=) is deprecated.  Please use torch.sparse_coo_tensor(indices, values, shape, dtype=, device=). (Triggered internally at ../torch/csrc/utils/tensor_new.cpp:605.)\n",
            "  sparse_tensor = torch.sparse.FloatTensor(indices, values, tensor.shape)\n",
            "Iterating train: 100%|██████████| 1352/1352 [00:17<00:00, 79.11it/s]\n",
            "Iterating valid:   0%|          | 0/75 [00:00<?, ?it/s]<ipython-input-30-5dbb9ea315af>:29: UserWarning: torch.sparse.SparseTensor(indices, values, shape, *, device=) is deprecated.  Please use torch.sparse_coo_tensor(indices, values, shape, dtype=, device=). (Triggered internally at ../torch/csrc/utils/tensor_new.cpp:605.)\n",
            "  sparse_tensor = torch.sparse.FloatTensor(indices, values, tensor.shape)\n",
            "Iterating valid: 100%|██████████| 75/75 [00:00<00:00, 76.38it/s]\n"
          ]
        }
      ],
      "source": [
        "top_popular_full = SparseRunner(model=TopPopularModel(), device=device)\n",
        "\n",
        "print(\"Implicit\")\n",
        "top_popular_full.run(implicit_full_datasets)\n",
        "print(\"Explicit\")\n",
        "top_popular_full.run(explicit_full_datasets)"
      ]
    },
    {
      "cell_type": "code",
      "source": [
        "top_popular_minus1 = SparseRunner(model=TopPopularModel(), device=device)\n",
        "\n",
        "print(\"Implicit\")\n",
        "top_popular_minus1.run(implicit_minus1_datasets)\n",
        "print(\"Explicit\")\n",
        "top_popular_minus1.run(explicit_minus1_datasets)"
      ],
      "metadata": {
        "colab": {
          "base_uri": "https://localhost:8080/"
        },
        "id": "-Dc98goDqIM4",
        "outputId": "3183953c-f4a7-44b7-ab88-a13fba01bbf5"
      },
      "id": "-Dc98goDqIM4",
      "execution_count": null,
      "outputs": [
        {
          "output_type": "stream",
          "name": "stdout",
          "text": [
            "Implicit\n"
          ]
        },
        {
          "output_type": "stream",
          "name": "stderr",
          "text": [
            "\rIterating train:   0%|          | 0/1331 [00:00<?, ?it/s]<ipython-input-30-5dbb9ea315af>:29: UserWarning: torch.sparse.SparseTensor(indices, values, shape, *, device=) is deprecated.  Please use torch.sparse_coo_tensor(indices, values, shape, dtype=, device=). (Triggered internally at ../torch/csrc/utils/tensor_new.cpp:605.)\n",
            "  sparse_tensor = torch.sparse.FloatTensor(indices, values, tensor.shape)\n",
            "Iterating train: 100%|██████████| 1331/1331 [00:17<00:00, 77.38it/s]\n",
            "Iterating valid:   0%|          | 0/71 [00:00<?, ?it/s]<ipython-input-30-5dbb9ea315af>:29: UserWarning: torch.sparse.SparseTensor(indices, values, shape, *, device=) is deprecated.  Please use torch.sparse_coo_tensor(indices, values, shape, dtype=, device=). (Triggered internally at ../torch/csrc/utils/tensor_new.cpp:605.)\n",
            "  sparse_tensor = torch.sparse.FloatTensor(indices, values, tensor.shape)\n",
            "Iterating valid: 100%|██████████| 71/71 [00:00<00:00, 76.25it/s]\n"
          ]
        },
        {
          "output_type": "stream",
          "name": "stdout",
          "text": [
            "Explicit\n"
          ]
        },
        {
          "output_type": "stream",
          "name": "stderr",
          "text": [
            "\rIterating train:   0%|          | 0/1352 [00:00<?, ?it/s]<ipython-input-30-5dbb9ea315af>:29: UserWarning: torch.sparse.SparseTensor(indices, values, shape, *, device=) is deprecated.  Please use torch.sparse_coo_tensor(indices, values, shape, dtype=, device=). (Triggered internally at ../torch/csrc/utils/tensor_new.cpp:605.)\n",
            "  sparse_tensor = torch.sparse.FloatTensor(indices, values, tensor.shape)\n",
            "Iterating train: 100%|██████████| 1352/1352 [00:16<00:00, 80.43it/s]\n",
            "Iterating valid:   0%|          | 0/75 [00:00<?, ?it/s]<ipython-input-30-5dbb9ea315af>:29: UserWarning: torch.sparse.SparseTensor(indices, values, shape, *, device=) is deprecated.  Please use torch.sparse_coo_tensor(indices, values, shape, dtype=, device=). (Triggered internally at ../torch/csrc/utils/tensor_new.cpp:605.)\n",
            "  sparse_tensor = torch.sparse.FloatTensor(indices, values, tensor.shape)\n",
            "Iterating valid: 100%|██████████| 75/75 [00:01<00:00, 70.04it/s]\n"
          ]
        }
      ]
    },
    {
      "cell_type": "code",
      "source": [
        "top_popular_minus2 = SparseRunner(model=TopPopularModel(), device=device)\n",
        "\n",
        "print(\"Implicit\")\n",
        "top_popular_minus2.run(implicit_minus2_datasets)\n",
        "print(\"Explicit\")\n",
        "top_popular_minus2.run(explicit_minus2_datasets)"
      ],
      "metadata": {
        "colab": {
          "base_uri": "https://localhost:8080/"
        },
        "id": "_rVFl4_0qJdV",
        "outputId": "7905d777-75d5-4d3b-af25-44a054922f9e"
      },
      "id": "_rVFl4_0qJdV",
      "execution_count": null,
      "outputs": [
        {
          "output_type": "stream",
          "name": "stdout",
          "text": [
            "Implicit\n"
          ]
        },
        {
          "output_type": "stream",
          "name": "stderr",
          "text": [
            "\rIterating train:   0%|          | 0/1331 [00:00<?, ?it/s]<ipython-input-30-5dbb9ea315af>:29: UserWarning: torch.sparse.SparseTensor(indices, values, shape, *, device=) is deprecated.  Please use torch.sparse_coo_tensor(indices, values, shape, dtype=, device=). (Triggered internally at ../torch/csrc/utils/tensor_new.cpp:605.)\n",
            "  sparse_tensor = torch.sparse.FloatTensor(indices, values, tensor.shape)\n",
            "Iterating train: 100%|██████████| 1331/1331 [00:17<00:00, 75.60it/s]\n",
            "Iterating valid:   0%|          | 0/71 [00:00<?, ?it/s]<ipython-input-30-5dbb9ea315af>:29: UserWarning: torch.sparse.SparseTensor(indices, values, shape, *, device=) is deprecated.  Please use torch.sparse_coo_tensor(indices, values, shape, dtype=, device=). (Triggered internally at ../torch/csrc/utils/tensor_new.cpp:605.)\n",
            "  sparse_tensor = torch.sparse.FloatTensor(indices, values, tensor.shape)\n",
            "Iterating valid: 100%|██████████| 71/71 [00:00<00:00, 73.75it/s]\n"
          ]
        },
        {
          "output_type": "stream",
          "name": "stdout",
          "text": [
            "Explicit\n"
          ]
        },
        {
          "output_type": "stream",
          "name": "stderr",
          "text": [
            "\rIterating train:   0%|          | 0/1352 [00:00<?, ?it/s]<ipython-input-30-5dbb9ea315af>:29: UserWarning: torch.sparse.SparseTensor(indices, values, shape, *, device=) is deprecated.  Please use torch.sparse_coo_tensor(indices, values, shape, dtype=, device=). (Triggered internally at ../torch/csrc/utils/tensor_new.cpp:605.)\n",
            "  sparse_tensor = torch.sparse.FloatTensor(indices, values, tensor.shape)\n",
            "Iterating train: 100%|██████████| 1352/1352 [00:16<00:00, 80.23it/s]\n",
            "Iterating valid:   0%|          | 0/75 [00:00<?, ?it/s]<ipython-input-30-5dbb9ea315af>:29: UserWarning: torch.sparse.SparseTensor(indices, values, shape, *, device=) is deprecated.  Please use torch.sparse_coo_tensor(indices, values, shape, dtype=, device=). (Triggered internally at ../torch/csrc/utils/tensor_new.cpp:605.)\n",
            "  sparse_tensor = torch.sparse.FloatTensor(indices, values, tensor.shape)\n",
            "Iterating valid: 100%|██████████| 75/75 [00:00<00:00, 76.54it/s]\n"
          ]
        }
      ]
    },
    {
      "cell_type": "markdown",
      "id": "e0713e69-8a9a-4ab8-9952-82db6a96db60",
      "metadata": {
        "id": "e0713e69-8a9a-4ab8-9952-82db6a96db60"
      },
      "source": [
        "### 4.2 Built-in SVD\n",
        "\n",
        "В `predict_proba` мы воспользуемся ортогональностью матриц $U \\sim R^{\\text{(num users) x (factors)}}$ и $V \\sim R^{\\text{(num items) x (factors)}}$. Благодаря этому инфер можно записать вот так: $\\hat{r}_u = r_u \\cdot V \\cdot V^T$\n",
        "\n",
        "Пользуемся встроенным методом разложения SVD, т.к. по скорости он значительно лучше, чем прописанный вручную. Если будет время, можно будет и вручную прописать. Тут полезно замерить время работы"
      ]
    },
    {
      "cell_type": "markdown",
      "source": [
        "На такой большой матрице SVD считается жутко долго, даже если передавать в scipy sparse матрицу, поэтому на всем датасете будем считать неполное SVD (128 главных компонент). Потом возьмем в трейн матрицу поменьше, чтобы посчитать полное SVD"
      ],
      "metadata": {
        "id": "1MrwnH_Iwl2m"
      },
      "id": "1MrwnH_Iwl2m"
    },
    {
      "cell_type": "code",
      "source": [
        "import time"
      ],
      "metadata": {
        "id": "5jjoHmtXq0W5"
      },
      "id": "5jjoHmtXq0W5",
      "execution_count": 32,
      "outputs": []
    },
    {
      "cell_type": "code",
      "execution_count": 33,
      "id": "bb5e411a-5fd3-466f-b4c9-b13ca992bf2a",
      "metadata": {
        "id": "bb5e411a-5fd3-466f-b4c9-b13ca992bf2a"
      },
      "outputs": [],
      "source": [
        "class Built_in_SvdModel(SparseModel):\n",
        "    \"\"\"\n",
        "    factors: ~number of singular values that we compute\n",
        "    remove_seen: flag if we want to remove items that user saw while training (make only new recommendations)\n",
        "    \"\"\"\n",
        "    def __init__(self,\n",
        "                 factors: int,\n",
        "                 remove_seen: bool = True\n",
        "                ) -> None:\n",
        "        super().__init__(remove_seen=remove_seen)\n",
        "        self._factors = factors\n",
        "        self.factors = {}\n",
        "        self.svd = None\n",
        "\n",
        "\n",
        "    def fit(self,\n",
        "            data: sps.csr_matrix\n",
        "          ) -> None:\n",
        "        print(data.shape)\n",
        "        start_time = time.time()\n",
        "        u, sigma, vt = sps.linalg.svds(data, k=self._factors)\n",
        "        print(u.shape, sigma.shape, vt.shape)\n",
        "        end_time = time.time()\n",
        "        self.computation_time = end_time - start_time\n",
        "        print(\"--- %s seconds svd computation---\" % (end_time - start_time))\n",
        "\n",
        "        self.svd = [u, sigma, vt]\n",
        "\n",
        "        self.factors = {\n",
        "            \"user\": torch.from_numpy(u.copy()).float().to(self.device),\n",
        "            \"item\": torch.einsum(\n",
        "                \"fi->if\", torch.from_numpy(vt).float().to(self.device)\n",
        "            ),\n",
        "        }\n",
        "\n",
        "\n",
        "    def predict_proba(self,\n",
        "                      batch: dict[str, Any]\n",
        "                    ) -> dict[str, torch.Tensor]:\n",
        "        scores = torch.einsum(\n",
        "            \"ui,if,jf->uj\", batch[\"source\"], self.factors[\"item\"], self.factors[\"item\"]\n",
        "        )\n",
        "        if self.remove_seen:\n",
        "            scores[batch[\"source\"].gt(0)] = -1e13\n",
        "        return {\"logits\": scores}"
      ]
    },
    {
      "cell_type": "code",
      "execution_count": null,
      "id": "0283f8b5-9a47-4c77-8f58-a03d545fc650",
      "metadata": {
        "colab": {
          "base_uri": "https://localhost:8080/"
        },
        "id": "0283f8b5-9a47-4c77-8f58-a03d545fc650",
        "outputId": "5d13b2a9-31f0-462b-95bf-433459b3273c"
      },
      "outputs": [
        {
          "output_type": "stream",
          "name": "stdout",
          "text": [
            "Implicit\n",
            "--- 5.880376100540161 seconds svd computation---\n"
          ]
        },
        {
          "output_type": "stream",
          "name": "stderr",
          "text": [
            "\rIterating train:   0%|          | 0/84 [00:00<?, ?it/s]<ipython-input-18-5dbb9ea315af>:29: UserWarning: torch.sparse.SparseTensor(indices, values, shape, *, device=) is deprecated.  Please use torch.sparse_coo_tensor(indices, values, shape, dtype=, device=). (Triggered internally at ../torch/csrc/utils/tensor_new.cpp:605.)\n",
            "  sparse_tensor = torch.sparse.FloatTensor(indices, values, tensor.shape)\n",
            "Iterating train: 100%|██████████| 84/84 [00:16<00:00,  5.25it/s]\n",
            "Iterating valid:   0%|          | 0/5 [00:00<?, ?it/s]<ipython-input-18-5dbb9ea315af>:29: UserWarning: torch.sparse.SparseTensor(indices, values, shape, *, device=) is deprecated.  Please use torch.sparse_coo_tensor(indices, values, shape, dtype=, device=). (Triggered internally at ../torch/csrc/utils/tensor_new.cpp:605.)\n",
            "  sparse_tensor = torch.sparse.FloatTensor(indices, values, tensor.shape)\n",
            "Iterating valid: 100%|██████████| 5/5 [00:00<00:00,  7.07it/s]\n"
          ]
        },
        {
          "output_type": "stream",
          "name": "stdout",
          "text": [
            "Explicit\n",
            "--- 8.967791318893433 seconds svd computation---\n"
          ]
        },
        {
          "output_type": "stream",
          "name": "stderr",
          "text": [
            "\rIterating train:   0%|          | 0/85 [00:00<?, ?it/s]<ipython-input-18-5dbb9ea315af>:29: UserWarning: torch.sparse.SparseTensor(indices, values, shape, *, device=) is deprecated.  Please use torch.sparse_coo_tensor(indices, values, shape, dtype=, device=). (Triggered internally at ../torch/csrc/utils/tensor_new.cpp:605.)\n",
            "  sparse_tensor = torch.sparse.FloatTensor(indices, values, tensor.shape)\n",
            "Iterating train: 100%|██████████| 85/85 [00:14<00:00,  5.98it/s]\n",
            "Iterating valid:   0%|          | 0/5 [00:00<?, ?it/s]<ipython-input-18-5dbb9ea315af>:29: UserWarning: torch.sparse.SparseTensor(indices, values, shape, *, device=) is deprecated.  Please use torch.sparse_coo_tensor(indices, values, shape, dtype=, device=). (Triggered internally at ../torch/csrc/utils/tensor_new.cpp:605.)\n",
            "  sparse_tensor = torch.sparse.FloatTensor(indices, values, tensor.shape)\n",
            "Iterating valid: 100%|██████████| 5/5 [00:00<00:00,  6.64it/s]\n"
          ]
        }
      ],
      "source": [
        "built_in_svd_runner_full = SparseRunner(model=Built_in_SvdModel(factors = 128), batch_size=512, device=device)\n",
        "\n",
        "print(\"Implicit\")\n",
        "built_in_svd_runner_full.run(implicit_full_datasets)\n",
        "print(\"Explicit\")\n",
        "built_in_svd_runner_full.run(explicit_full_datasets)"
      ]
    },
    {
      "cell_type": "code",
      "source": [
        "built_in_svd_runner_minus1 = SparseRunner(model=Built_in_SvdModel(factors = 128), batch_size=512, device=device)\n",
        "\n",
        "print(\"Implicit\")\n",
        "built_in_svd_runner_minus1.run(implicit_minus1_datasets)\n",
        "print(\"Explicit\")\n",
        "built_in_svd_runner_minus1.run(explicit_minus1_datasets)"
      ],
      "metadata": {
        "colab": {
          "base_uri": "https://localhost:8080/"
        },
        "id": "0txZZ8THxSaH",
        "outputId": "e39afdc8-3f88-4a5c-a943-af006d4f2a98"
      },
      "id": "0txZZ8THxSaH",
      "execution_count": null,
      "outputs": [
        {
          "output_type": "stream",
          "name": "stdout",
          "text": [
            "Implicit\n",
            "--- 6.376446485519409 seconds svd computation---\n"
          ]
        },
        {
          "output_type": "stream",
          "name": "stderr",
          "text": [
            "\rIterating train:   0%|          | 0/84 [00:00<?, ?it/s]<ipython-input-30-5dbb9ea315af>:29: UserWarning: torch.sparse.SparseTensor(indices, values, shape, *, device=) is deprecated.  Please use torch.sparse_coo_tensor(indices, values, shape, dtype=, device=). (Triggered internally at ../torch/csrc/utils/tensor_new.cpp:605.)\n",
            "  sparse_tensor = torch.sparse.FloatTensor(indices, values, tensor.shape)\n",
            "Iterating train: 100%|██████████| 84/84 [00:13<00:00,  6.38it/s]\n",
            "Iterating valid:   0%|          | 0/5 [00:00<?, ?it/s]<ipython-input-30-5dbb9ea315af>:29: UserWarning: torch.sparse.SparseTensor(indices, values, shape, *, device=) is deprecated.  Please use torch.sparse_coo_tensor(indices, values, shape, dtype=, device=). (Triggered internally at ../torch/csrc/utils/tensor_new.cpp:605.)\n",
            "  sparse_tensor = torch.sparse.FloatTensor(indices, values, tensor.shape)\n",
            "Iterating valid: 100%|██████████| 5/5 [00:00<00:00,  6.57it/s]\n"
          ]
        },
        {
          "output_type": "stream",
          "name": "stdout",
          "text": [
            "Explicit\n",
            "--- 9.0573570728302 seconds svd computation---\n"
          ]
        },
        {
          "output_type": "stream",
          "name": "stderr",
          "text": [
            "\rIterating train:   0%|          | 0/85 [00:00<?, ?it/s]<ipython-input-30-5dbb9ea315af>:29: UserWarning: torch.sparse.SparseTensor(indices, values, shape, *, device=) is deprecated.  Please use torch.sparse_coo_tensor(indices, values, shape, dtype=, device=). (Triggered internally at ../torch/csrc/utils/tensor_new.cpp:605.)\n",
            "  sparse_tensor = torch.sparse.FloatTensor(indices, values, tensor.shape)\n",
            "Iterating train: 100%|██████████| 85/85 [00:13<00:00,  6.27it/s]\n",
            "Iterating valid:   0%|          | 0/5 [00:00<?, ?it/s]<ipython-input-30-5dbb9ea315af>:29: UserWarning: torch.sparse.SparseTensor(indices, values, shape, *, device=) is deprecated.  Please use torch.sparse_coo_tensor(indices, values, shape, dtype=, device=). (Triggered internally at ../torch/csrc/utils/tensor_new.cpp:605.)\n",
            "  sparse_tensor = torch.sparse.FloatTensor(indices, values, tensor.shape)\n",
            "Iterating valid: 100%|██████████| 5/5 [00:00<00:00,  6.17it/s]\n"
          ]
        }
      ]
    },
    {
      "cell_type": "code",
      "source": [
        "built_in_svd_runner_minus2 = SparseRunner(model=Built_in_SvdModel(factors = 128), batch_size=512, device=device)\n",
        "\n",
        "print(\"Implicit\")\n",
        "built_in_svd_runner_minus2.run(implicit_minus2_datasets)\n",
        "print(\"Explicit\")\n",
        "built_in_svd_runner_minus2.run(explicit_minus2_datasets)"
      ],
      "metadata": {
        "colab": {
          "base_uri": "https://localhost:8080/"
        },
        "id": "dZnlZSF-xScv",
        "outputId": "3224d12e-307f-42ac-8ad9-3d3bdcc35940"
      },
      "id": "dZnlZSF-xScv",
      "execution_count": null,
      "outputs": [
        {
          "output_type": "stream",
          "name": "stdout",
          "text": [
            "Implicit\n",
            "--- 5.362397909164429 seconds svd computation---\n"
          ]
        },
        {
          "output_type": "stream",
          "name": "stderr",
          "text": [
            "\rIterating train:   0%|          | 0/84 [00:00<?, ?it/s]<ipython-input-30-5dbb9ea315af>:29: UserWarning: torch.sparse.SparseTensor(indices, values, shape, *, device=) is deprecated.  Please use torch.sparse_coo_tensor(indices, values, shape, dtype=, device=). (Triggered internally at ../torch/csrc/utils/tensor_new.cpp:605.)\n",
            "  sparse_tensor = torch.sparse.FloatTensor(indices, values, tensor.shape)\n",
            "Iterating train: 100%|██████████| 84/84 [00:13<00:00,  6.32it/s]\n",
            "Iterating valid:   0%|          | 0/5 [00:00<?, ?it/s]<ipython-input-30-5dbb9ea315af>:29: UserWarning: torch.sparse.SparseTensor(indices, values, shape, *, device=) is deprecated.  Please use torch.sparse_coo_tensor(indices, values, shape, dtype=, device=). (Triggered internally at ../torch/csrc/utils/tensor_new.cpp:605.)\n",
            "  sparse_tensor = torch.sparse.FloatTensor(indices, values, tensor.shape)\n",
            "Iterating valid: 100%|██████████| 5/5 [00:01<00:00,  4.88it/s]\n"
          ]
        },
        {
          "output_type": "stream",
          "name": "stdout",
          "text": [
            "Explicit\n",
            "--- 8.110839366912842 seconds svd computation---\n"
          ]
        },
        {
          "output_type": "stream",
          "name": "stderr",
          "text": [
            "\rIterating train:   0%|          | 0/85 [00:00<?, ?it/s]<ipython-input-30-5dbb9ea315af>:29: UserWarning: torch.sparse.SparseTensor(indices, values, shape, *, device=) is deprecated.  Please use torch.sparse_coo_tensor(indices, values, shape, dtype=, device=). (Triggered internally at ../torch/csrc/utils/tensor_new.cpp:605.)\n",
            "  sparse_tensor = torch.sparse.FloatTensor(indices, values, tensor.shape)\n",
            "Iterating train: 100%|██████████| 85/85 [00:13<00:00,  6.25it/s]\n",
            "Iterating valid:   0%|          | 0/5 [00:00<?, ?it/s]<ipython-input-30-5dbb9ea315af>:29: UserWarning: torch.sparse.SparseTensor(indices, values, shape, *, device=) is deprecated.  Please use torch.sparse_coo_tensor(indices, values, shape, dtype=, device=). (Triggered internally at ../torch/csrc/utils/tensor_new.cpp:605.)\n",
            "  sparse_tensor = torch.sparse.FloatTensor(indices, values, tensor.shape)\n",
            "Iterating valid: 100%|██████████| 5/5 [00:00<00:00,  6.24it/s]\n"
          ]
        }
      ]
    },
    {
      "cell_type": "code",
      "source": [
        "built_in_svd_runner_minus2.model.svd[0].shape"
      ],
      "metadata": {
        "colab": {
          "base_uri": "https://localhost:8080/"
        },
        "id": "SXr8C5b3xznU",
        "outputId": "3e5fb148-324c-447d-9096-15c94656ab2e"
      },
      "id": "SXr8C5b3xznU",
      "execution_count": null,
      "outputs": [
        {
          "output_type": "execute_result",
          "data": {
            "text/plain": [
              "(43237, 128)"
            ]
          },
          "metadata": {},
          "execution_count": 45
        }
      ]
    },
    {
      "cell_type": "markdown",
      "source": [
        "Берем датасет поменьше - оставим 5000 пользователей (чтобы полное SVD посчитать)"
      ],
      "metadata": {
        "id": "yTsJ69SRyRqh"
      },
      "id": "yTsJ69SRyRqh"
    },
    {
      "cell_type": "code",
      "source": [
        "explicit_small, explicit_small_removed = remove_users(explicit_filtered_ratings, n = 42537)\n",
        "implicit_small, implicit_small_removed = remove_users(implicit_filtered_ratings, n = 42537)"
      ],
      "metadata": {
        "id": "ZK4PjsRTyWtl"
      },
      "id": "ZK4PjsRTyWtl",
      "execution_count": 34,
      "outputs": []
    },
    {
      "cell_type": "code",
      "source": [
        "explicit_small"
      ],
      "metadata": {
        "colab": {
          "base_uri": "https://localhost:8080/",
          "height": 424
        },
        "id": "WAccDD-vyWvs",
        "outputId": "42189e95-8f48-42fd-a597-5a6bf4f32a15"
      },
      "id": "WAccDD-vyWvs",
      "execution_count": null,
      "outputs": [
        {
          "output_type": "execute_result",
          "data": {
            "text/plain": [
              "        user  item  values           timestamp\n",
              "0          0  1260     4.0 2006-11-30 11:19:50\n",
              "1          0  1529     4.5 2006-01-01 00:38:35\n",
              "2          0  2373     4.0 2006-11-30 11:18:46\n",
              "3          0  2515     4.0 2006-01-01 00:38:44\n",
              "4          0  2829     4.5 2005-12-03 00:53:20\n",
              "...      ...   ...     ...                 ...\n",
              "394692  5000  3614     4.5 2006-12-01 10:23:08\n",
              "394693  5000  4172     0.5 2006-12-01 11:02:05\n",
              "394694  5000  4724     0.5 2006-12-01 11:02:04\n",
              "394695  5000  4940     4.0 2006-12-01 11:01:03\n",
              "394696  5000  5540     3.0 2006-12-01 10:25:12\n",
              "\n",
              "[394697 rows x 4 columns]"
            ],
            "text/html": [
              "\n",
              "  <div id=\"df-af33a936-0784-4a16-bc8d-09901651dffb\" class=\"colab-df-container\">\n",
              "    <div>\n",
              "<style scoped>\n",
              "    .dataframe tbody tr th:only-of-type {\n",
              "        vertical-align: middle;\n",
              "    }\n",
              "\n",
              "    .dataframe tbody tr th {\n",
              "        vertical-align: top;\n",
              "    }\n",
              "\n",
              "    .dataframe thead th {\n",
              "        text-align: right;\n",
              "    }\n",
              "</style>\n",
              "<table border=\"1\" class=\"dataframe\">\n",
              "  <thead>\n",
              "    <tr style=\"text-align: right;\">\n",
              "      <th></th>\n",
              "      <th>user</th>\n",
              "      <th>item</th>\n",
              "      <th>values</th>\n",
              "      <th>timestamp</th>\n",
              "    </tr>\n",
              "  </thead>\n",
              "  <tbody>\n",
              "    <tr>\n",
              "      <th>0</th>\n",
              "      <td>0</td>\n",
              "      <td>1260</td>\n",
              "      <td>4.0</td>\n",
              "      <td>2006-11-30 11:19:50</td>\n",
              "    </tr>\n",
              "    <tr>\n",
              "      <th>1</th>\n",
              "      <td>0</td>\n",
              "      <td>1529</td>\n",
              "      <td>4.5</td>\n",
              "      <td>2006-01-01 00:38:35</td>\n",
              "    </tr>\n",
              "    <tr>\n",
              "      <th>2</th>\n",
              "      <td>0</td>\n",
              "      <td>2373</td>\n",
              "      <td>4.0</td>\n",
              "      <td>2006-11-30 11:18:46</td>\n",
              "    </tr>\n",
              "    <tr>\n",
              "      <th>3</th>\n",
              "      <td>0</td>\n",
              "      <td>2515</td>\n",
              "      <td>4.0</td>\n",
              "      <td>2006-01-01 00:38:44</td>\n",
              "    </tr>\n",
              "    <tr>\n",
              "      <th>4</th>\n",
              "      <td>0</td>\n",
              "      <td>2829</td>\n",
              "      <td>4.5</td>\n",
              "      <td>2005-12-03 00:53:20</td>\n",
              "    </tr>\n",
              "    <tr>\n",
              "      <th>...</th>\n",
              "      <td>...</td>\n",
              "      <td>...</td>\n",
              "      <td>...</td>\n",
              "      <td>...</td>\n",
              "    </tr>\n",
              "    <tr>\n",
              "      <th>394692</th>\n",
              "      <td>5000</td>\n",
              "      <td>3614</td>\n",
              "      <td>4.5</td>\n",
              "      <td>2006-12-01 10:23:08</td>\n",
              "    </tr>\n",
              "    <tr>\n",
              "      <th>394693</th>\n",
              "      <td>5000</td>\n",
              "      <td>4172</td>\n",
              "      <td>0.5</td>\n",
              "      <td>2006-12-01 11:02:05</td>\n",
              "    </tr>\n",
              "    <tr>\n",
              "      <th>394694</th>\n",
              "      <td>5000</td>\n",
              "      <td>4724</td>\n",
              "      <td>0.5</td>\n",
              "      <td>2006-12-01 11:02:04</td>\n",
              "    </tr>\n",
              "    <tr>\n",
              "      <th>394695</th>\n",
              "      <td>5000</td>\n",
              "      <td>4940</td>\n",
              "      <td>4.0</td>\n",
              "      <td>2006-12-01 11:01:03</td>\n",
              "    </tr>\n",
              "    <tr>\n",
              "      <th>394696</th>\n",
              "      <td>5000</td>\n",
              "      <td>5540</td>\n",
              "      <td>3.0</td>\n",
              "      <td>2006-12-01 10:25:12</td>\n",
              "    </tr>\n",
              "  </tbody>\n",
              "</table>\n",
              "<p>394697 rows × 4 columns</p>\n",
              "</div>\n",
              "    <div class=\"colab-df-buttons\">\n",
              "\n",
              "  <div class=\"colab-df-container\">\n",
              "    <button class=\"colab-df-convert\" onclick=\"convertToInteractive('df-af33a936-0784-4a16-bc8d-09901651dffb')\"\n",
              "            title=\"Convert this dataframe to an interactive table.\"\n",
              "            style=\"display:none;\">\n",
              "\n",
              "  <svg xmlns=\"http://www.w3.org/2000/svg\" height=\"24px\" viewBox=\"0 -960 960 960\">\n",
              "    <path d=\"M120-120v-720h720v720H120Zm60-500h600v-160H180v160Zm220 220h160v-160H400v160Zm0 220h160v-160H400v160ZM180-400h160v-160H180v160Zm440 0h160v-160H620v160ZM180-180h160v-160H180v160Zm440 0h160v-160H620v160Z\"/>\n",
              "  </svg>\n",
              "    </button>\n",
              "\n",
              "  <style>\n",
              "    .colab-df-container {\n",
              "      display:flex;\n",
              "      gap: 12px;\n",
              "    }\n",
              "\n",
              "    .colab-df-convert {\n",
              "      background-color: #E8F0FE;\n",
              "      border: none;\n",
              "      border-radius: 50%;\n",
              "      cursor: pointer;\n",
              "      display: none;\n",
              "      fill: #1967D2;\n",
              "      height: 32px;\n",
              "      padding: 0 0 0 0;\n",
              "      width: 32px;\n",
              "    }\n",
              "\n",
              "    .colab-df-convert:hover {\n",
              "      background-color: #E2EBFA;\n",
              "      box-shadow: 0px 1px 2px rgba(60, 64, 67, 0.3), 0px 1px 3px 1px rgba(60, 64, 67, 0.15);\n",
              "      fill: #174EA6;\n",
              "    }\n",
              "\n",
              "    .colab-df-buttons div {\n",
              "      margin-bottom: 4px;\n",
              "    }\n",
              "\n",
              "    [theme=dark] .colab-df-convert {\n",
              "      background-color: #3B4455;\n",
              "      fill: #D2E3FC;\n",
              "    }\n",
              "\n",
              "    [theme=dark] .colab-df-convert:hover {\n",
              "      background-color: #434B5C;\n",
              "      box-shadow: 0px 1px 3px 1px rgba(0, 0, 0, 0.15);\n",
              "      filter: drop-shadow(0px 1px 2px rgba(0, 0, 0, 0.3));\n",
              "      fill: #FFFFFF;\n",
              "    }\n",
              "  </style>\n",
              "\n",
              "    <script>\n",
              "      const buttonEl =\n",
              "        document.querySelector('#df-af33a936-0784-4a16-bc8d-09901651dffb button.colab-df-convert');\n",
              "      buttonEl.style.display =\n",
              "        google.colab.kernel.accessAllowed ? 'block' : 'none';\n",
              "\n",
              "      async function convertToInteractive(key) {\n",
              "        const element = document.querySelector('#df-af33a936-0784-4a16-bc8d-09901651dffb');\n",
              "        const dataTable =\n",
              "          await google.colab.kernel.invokeFunction('convertToInteractive',\n",
              "                                                    [key], {});\n",
              "        if (!dataTable) return;\n",
              "\n",
              "        const docLinkHtml = 'Like what you see? Visit the ' +\n",
              "          '<a target=\"_blank\" href=https://colab.research.google.com/notebooks/data_table.ipynb>data table notebook</a>'\n",
              "          + ' to learn more about interactive tables.';\n",
              "        element.innerHTML = '';\n",
              "        dataTable['output_type'] = 'display_data';\n",
              "        await google.colab.output.renderOutput(dataTable, element);\n",
              "        const docLink = document.createElement('div');\n",
              "        docLink.innerHTML = docLinkHtml;\n",
              "        element.appendChild(docLink);\n",
              "      }\n",
              "    </script>\n",
              "  </div>\n",
              "\n",
              "\n",
              "<div id=\"df-ca5da2ef-3e1a-48f7-9584-ccb6ea4d5d27\">\n",
              "  <button class=\"colab-df-quickchart\" onclick=\"quickchart('df-ca5da2ef-3e1a-48f7-9584-ccb6ea4d5d27')\"\n",
              "            title=\"Suggest charts.\"\n",
              "            style=\"display:none;\">\n",
              "\n",
              "<svg xmlns=\"http://www.w3.org/2000/svg\" height=\"24px\"viewBox=\"0 0 24 24\"\n",
              "     width=\"24px\">\n",
              "    <g>\n",
              "        <path d=\"M19 3H5c-1.1 0-2 .9-2 2v14c0 1.1.9 2 2 2h14c1.1 0 2-.9 2-2V5c0-1.1-.9-2-2-2zM9 17H7v-7h2v7zm4 0h-2V7h2v10zm4 0h-2v-4h2v4z\"/>\n",
              "    </g>\n",
              "</svg>\n",
              "  </button>\n",
              "\n",
              "<style>\n",
              "  .colab-df-quickchart {\n",
              "      --bg-color: #E8F0FE;\n",
              "      --fill-color: #1967D2;\n",
              "      --hover-bg-color: #E2EBFA;\n",
              "      --hover-fill-color: #174EA6;\n",
              "      --disabled-fill-color: #AAA;\n",
              "      --disabled-bg-color: #DDD;\n",
              "  }\n",
              "\n",
              "  [theme=dark] .colab-df-quickchart {\n",
              "      --bg-color: #3B4455;\n",
              "      --fill-color: #D2E3FC;\n",
              "      --hover-bg-color: #434B5C;\n",
              "      --hover-fill-color: #FFFFFF;\n",
              "      --disabled-bg-color: #3B4455;\n",
              "      --disabled-fill-color: #666;\n",
              "  }\n",
              "\n",
              "  .colab-df-quickchart {\n",
              "    background-color: var(--bg-color);\n",
              "    border: none;\n",
              "    border-radius: 50%;\n",
              "    cursor: pointer;\n",
              "    display: none;\n",
              "    fill: var(--fill-color);\n",
              "    height: 32px;\n",
              "    padding: 0;\n",
              "    width: 32px;\n",
              "  }\n",
              "\n",
              "  .colab-df-quickchart:hover {\n",
              "    background-color: var(--hover-bg-color);\n",
              "    box-shadow: 0 1px 2px rgba(60, 64, 67, 0.3), 0 1px 3px 1px rgba(60, 64, 67, 0.15);\n",
              "    fill: var(--button-hover-fill-color);\n",
              "  }\n",
              "\n",
              "  .colab-df-quickchart-complete:disabled,\n",
              "  .colab-df-quickchart-complete:disabled:hover {\n",
              "    background-color: var(--disabled-bg-color);\n",
              "    fill: var(--disabled-fill-color);\n",
              "    box-shadow: none;\n",
              "  }\n",
              "\n",
              "  .colab-df-spinner {\n",
              "    border: 2px solid var(--fill-color);\n",
              "    border-color: transparent;\n",
              "    border-bottom-color: var(--fill-color);\n",
              "    animation:\n",
              "      spin 1s steps(1) infinite;\n",
              "  }\n",
              "\n",
              "  @keyframes spin {\n",
              "    0% {\n",
              "      border-color: transparent;\n",
              "      border-bottom-color: var(--fill-color);\n",
              "      border-left-color: var(--fill-color);\n",
              "    }\n",
              "    20% {\n",
              "      border-color: transparent;\n",
              "      border-left-color: var(--fill-color);\n",
              "      border-top-color: var(--fill-color);\n",
              "    }\n",
              "    30% {\n",
              "      border-color: transparent;\n",
              "      border-left-color: var(--fill-color);\n",
              "      border-top-color: var(--fill-color);\n",
              "      border-right-color: var(--fill-color);\n",
              "    }\n",
              "    40% {\n",
              "      border-color: transparent;\n",
              "      border-right-color: var(--fill-color);\n",
              "      border-top-color: var(--fill-color);\n",
              "    }\n",
              "    60% {\n",
              "      border-color: transparent;\n",
              "      border-right-color: var(--fill-color);\n",
              "    }\n",
              "    80% {\n",
              "      border-color: transparent;\n",
              "      border-right-color: var(--fill-color);\n",
              "      border-bottom-color: var(--fill-color);\n",
              "    }\n",
              "    90% {\n",
              "      border-color: transparent;\n",
              "      border-bottom-color: var(--fill-color);\n",
              "    }\n",
              "  }\n",
              "</style>\n",
              "\n",
              "  <script>\n",
              "    async function quickchart(key) {\n",
              "      const quickchartButtonEl =\n",
              "        document.querySelector('#' + key + ' button');\n",
              "      quickchartButtonEl.disabled = true;  // To prevent multiple clicks.\n",
              "      quickchartButtonEl.classList.add('colab-df-spinner');\n",
              "      try {\n",
              "        const charts = await google.colab.kernel.invokeFunction(\n",
              "            'suggestCharts', [key], {});\n",
              "      } catch (error) {\n",
              "        console.error('Error during call to suggestCharts:', error);\n",
              "      }\n",
              "      quickchartButtonEl.classList.remove('colab-df-spinner');\n",
              "      quickchartButtonEl.classList.add('colab-df-quickchart-complete');\n",
              "    }\n",
              "    (() => {\n",
              "      let quickchartButtonEl =\n",
              "        document.querySelector('#df-ca5da2ef-3e1a-48f7-9584-ccb6ea4d5d27 button');\n",
              "      quickchartButtonEl.style.display =\n",
              "        google.colab.kernel.accessAllowed ? 'block' : 'none';\n",
              "    })();\n",
              "  </script>\n",
              "</div>\n",
              "    </div>\n",
              "  </div>\n"
            ]
          },
          "metadata": {},
          "execution_count": 47
        }
      ]
    },
    {
      "cell_type": "markdown",
      "source": [
        "С этим датасетом надо проделать то же, что мы делали выше. Только SVD полное посчитать через np.linalg.svd"
      ],
      "metadata": {
        "id": "mrtvQigM59XN"
      },
      "id": "mrtvQigM59XN"
    },
    {
      "cell_type": "code",
      "source": [
        "explicit_small_remove2, explicit_small_removed2 = remove_users(explicit_small)\n",
        "implicit_small_remove2, implicit_small_removed2 = remove_users(implicit_small)\n",
        "\n",
        "explicit_small_remove1, explicit_small_removed1= remove_users(explicit_small, n=1)\n",
        "implicit_small_remove1, implicit_small_removed1 = remove_users(implicit_small, n=1)"
      ],
      "metadata": {
        "id": "RsqraD78tlii"
      },
      "id": "RsqraD78tlii",
      "execution_count": 35,
      "outputs": []
    },
    {
      "cell_type": "code",
      "source": [
        "ts_split = {\n",
        "    \"implicit\": implicit_small[\"timestamp\"].max()\n",
        "    - pd.Timedelta(165, \"days\"),\n",
        "    \"explicit\": explicit_small[\"timestamp\"].max()\n",
        "    - pd.Timedelta(165, \"days\"),\n",
        "}\n",
        "datasets_small = {}\n",
        "for key, dataset in (\n",
        "    (\"implicit\", implicit_small),\n",
        "    (\"explicit\", explicit_small),\n",
        "):\n",
        "    datasets_small[key] = {\n",
        "        \"train\": dataset.loc[dataset[\"timestamp\"] <= ts_split[key]],\n",
        "        \"valid\": dataset.loc[dataset[\"timestamp\"] > ts_split[key]],\n",
        "    }\n",
        "    datasets_small[key][\"valid\"] = datasets_small[key][\"valid\"].loc[\n",
        "        datasets_small[key][\"valid\"].user.isin(datasets_small[key][\"train\"].user.unique())\n",
        "    ]\n",
        "\n",
        "ts_split = {\n",
        "    \"implicit\": implicit_small_remove2[\"timestamp\"].max()\n",
        "    - pd.Timedelta(165, \"days\"),\n",
        "    \"explicit\": explicit_small_remove2[\"timestamp\"].max()\n",
        "    - pd.Timedelta(165, \"days\"),\n",
        "}\n",
        "datasets_small_minus2 = {}\n",
        "for key, dataset in (\n",
        "    (\"implicit\", implicit_small_remove2),\n",
        "    (\"explicit\", explicit_small_remove2),\n",
        "):\n",
        "    datasets_small_minus2[key] = {\n",
        "        \"train\": dataset.loc[dataset[\"timestamp\"] <= ts_split[key]],\n",
        "        \"valid\": dataset.loc[dataset[\"timestamp\"] > ts_split[key]],\n",
        "    }\n",
        "    datasets_small_minus2[key][\"valid\"] = datasets_small_minus2[key][\"valid\"].loc[\n",
        "        datasets_small_minus2[key][\"valid\"].user.isin(datasets_small_minus2[key][\"train\"].user.unique())\n",
        "    ]\n",
        "\n",
        "ts_split = {\n",
        "    \"implicit\": implicit_small_remove1[\"timestamp\"].max()\n",
        "    - pd.Timedelta(165, \"days\"),\n",
        "    \"explicit\": explicit_small_remove1[\"timestamp\"].max()\n",
        "    - pd.Timedelta(165, \"days\"),\n",
        "}\n",
        "datasets_small_minus1 = {}\n",
        "for key, dataset in (\n",
        "    (\"implicit\", implicit_small_remove1),\n",
        "    (\"explicit\", explicit_small_remove1),\n",
        "):\n",
        "    datasets_small_minus1[key] = {\n",
        "        \"train\": dataset.loc[dataset[\"timestamp\"] <= ts_split[key]],\n",
        "        \"valid\": dataset.loc[dataset[\"timestamp\"] > ts_split[key]],\n",
        "    }\n",
        "    datasets_small_minus1[key][\"valid\"] = datasets_small_minus1[key][\"valid\"].loc[\n",
        "        datasets_small_minus1[key][\"valid\"].user.isin(datasets_small_minus1[key][\"train\"].user.unique())\n",
        "    ]"
      ],
      "metadata": {
        "id": "2Fy9bhLatlm9"
      },
      "id": "2Fy9bhLatlm9",
      "execution_count": 36,
      "outputs": []
    },
    {
      "cell_type": "code",
      "source": [
        "explicit_small_datasets = build_sparse_datasets(\n",
        "    **datasets_small[\"explicit\"], binary=False\n",
        ")\n",
        "implicit_small_datasets = build_sparse_datasets(\n",
        "    **datasets_small[\"implicit\"], binary=True\n",
        ")\n",
        "\n",
        "explicit_small_datasets_minus2 = build_sparse_datasets(\n",
        "    **datasets_small_minus2[\"explicit\"], binary=False\n",
        ")\n",
        "implicit_small_datasets_minus2 = build_sparse_datasets(\n",
        "    **datasets_small_minus2[\"implicit\"], binary=True\n",
        ")\n",
        "\n",
        "explicit_small_datasets_minus1 = build_sparse_datasets(\n",
        "    **datasets_small_minus1[\"explicit\"], binary=False\n",
        ")\n",
        "implicit_small_datasets_minus1 = build_sparse_datasets(\n",
        "    **datasets_small_minus1[\"implicit\"], binary=True\n",
        ")"
      ],
      "metadata": {
        "id": "dSPQ38zvtlsA"
      },
      "id": "dSPQ38zvtlsA",
      "execution_count": 37,
      "outputs": []
    },
    {
      "cell_type": "code",
      "source": [
        "import warnings\n",
        "warnings.filterwarnings('ignore')"
      ],
      "metadata": {
        "id": "3UjDFkdrtlwR"
      },
      "id": "3UjDFkdrtlwR",
      "execution_count": 38,
      "outputs": []
    },
    {
      "cell_type": "code",
      "source": [
        "noise = np.random.uniform(0, 0.1, (48000, 7000))"
      ],
      "metadata": {
        "id": "ZPF1ra2Id_o4"
      },
      "id": "ZPF1ra2Id_o4",
      "execution_count": 39,
      "outputs": []
    },
    {
      "cell_type": "code",
      "source": [
        "class Built_in_SvdModel(SparseModel):\n",
        "    \"\"\"\n",
        "    remove_seen: flag if we want to remove items that user saw while training (make only new recommendations)\n",
        "    \"\"\"\n",
        "    def __init__(self,\n",
        "                 remove_seen: bool = True\n",
        "                ) -> None:\n",
        "        super().__init__(remove_seen=remove_seen)\n",
        "        self.factors = {}\n",
        "        self.svd = None\n",
        "\n",
        "\n",
        "    def fit(self,\n",
        "            data: sps.csr_matrix\n",
        "          ) -> None:\n",
        "        start_time = time.time()\n",
        "        A = data.todense()\n",
        "        u, sigma, vt = la.svd(A + noise[:A.shape[0], :A.shape[1]], full_matrices=False)\n",
        "        end_time = time.time()\n",
        "        self.computation_time = end_time - start_time\n",
        "        print(\"--- %s seconds svd computation---\" % (end_time - start_time))\n",
        "\n",
        "        self.svd = [vt.T, sigma.T, u.T] # сохраняем для транспонированной\n",
        "\n",
        "        self.factors = {\n",
        "            \"user\": torch.from_numpy(u.copy()).float().to(self.device),\n",
        "            \"item\": torch.einsum(\n",
        "                \"fi->if\", torch.from_numpy(vt).float().to(self.device)\n",
        "            ),\n",
        "        }\n",
        "\n",
        "\n",
        "    def predict_proba(self,\n",
        "                      batch: dict[str, Any]\n",
        "                    ) -> dict[str, torch.Tensor]:\n",
        "        scores = torch.einsum(\n",
        "            \"ui,if,jf->uj\", batch[\"source\"], self.factors[\"item\"], self.factors[\"item\"]\n",
        "        )\n",
        "        if self.remove_seen:\n",
        "            scores[batch[\"source\"].gt(0)] = -1e13\n",
        "        return {\"logits\": scores}"
      ],
      "metadata": {
        "id": "Ki-Ls7bxtl12"
      },
      "id": "Ki-Ls7bxtl12",
      "execution_count": 40,
      "outputs": []
    },
    {
      "cell_type": "code",
      "source": [
        "built_in_svd_runner_small_impicit = SparseRunner(model=Built_in_SvdModel(), batch_size=512, device=device)\n",
        "built_in_svd_runner_small_explicit = SparseRunner(model=Built_in_SvdModel(), batch_size=512, device=device)\n",
        "\n",
        "print(\"Implicit\")\n",
        "built_in_svd_runner_small_impicit.run(implicit_small_datasets)\n",
        "print(\"Explicit\")\n",
        "built_in_svd_runner_small_explicit.run(explicit_small_datasets)"
      ],
      "metadata": {
        "colab": {
          "base_uri": "https://localhost:8080/"
        },
        "id": "0QkEGn8ctl5o",
        "outputId": "ab19476d-b41f-4162-923a-0173e7c67342"
      },
      "id": "0QkEGn8ctl5o",
      "execution_count": null,
      "outputs": [
        {
          "output_type": "stream",
          "name": "stdout",
          "text": [
            "Implicit\n",
            "--- 86.21878957748413 seconds svd computation---\n"
          ]
        },
        {
          "output_type": "stream",
          "name": "stderr",
          "text": [
            "Iterating train: 100%|██████████| 9/9 [00:01<00:00,  5.92it/s]\n",
            "Iterating valid: 100%|██████████| 1/1 [00:00<00:00,  4.73it/s]\n"
          ]
        },
        {
          "output_type": "stream",
          "name": "stdout",
          "text": [
            "Explicit\n",
            "--- 108.44053936004639 seconds svd computation---\n"
          ]
        },
        {
          "output_type": "stream",
          "name": "stderr",
          "text": [
            "Iterating train: 100%|██████████| 10/10 [00:01<00:00,  6.22it/s]\n",
            "Iterating valid: 100%|██████████| 1/1 [00:00<00:00,  5.93it/s]\n"
          ]
        }
      ]
    },
    {
      "cell_type": "code",
      "source": [
        "built_in_svd_runner_small_minus2_impicit = SparseRunner(model=Built_in_SvdModel(), batch_size=512, device=device)\n",
        "built_in_svd_runner_small_minus2_explicit = SparseRunner(model=Built_in_SvdModel(), batch_size=512, device=device)\n",
        "\n",
        "print(\"Implicit\")\n",
        "built_in_svd_runner_small_minus2_impicit.run(implicit_small_datasets_minus2)\n",
        "print(\"Explicit\")\n",
        "built_in_svd_runner_small_minus2_explicit.run(explicit_small_datasets_minus2)"
      ],
      "metadata": {
        "colab": {
          "base_uri": "https://localhost:8080/"
        },
        "id": "WaR4e7ujtl9J",
        "outputId": "b9a09a65-deec-41f9-bd3c-5c758cd86452"
      },
      "id": "WaR4e7ujtl9J",
      "execution_count": null,
      "outputs": [
        {
          "output_type": "stream",
          "name": "stdout",
          "text": [
            "Implicit\n",
            "--- 88.54703283309937 seconds svd computation---\n"
          ]
        },
        {
          "output_type": "stream",
          "name": "stderr",
          "text": [
            "Iterating train: 100%|██████████| 9/9 [00:01<00:00,  6.50it/s]\n",
            "Iterating valid: 100%|██████████| 1/1 [00:00<00:00,  5.83it/s]\n"
          ]
        },
        {
          "output_type": "stream",
          "name": "stdout",
          "text": [
            "Explicit\n",
            "--- 110.48113179206848 seconds svd computation---\n"
          ]
        },
        {
          "output_type": "stream",
          "name": "stderr",
          "text": [
            "Iterating train: 100%|██████████| 10/10 [00:01<00:00,  6.07it/s]\n",
            "Iterating valid: 100%|██████████| 1/1 [00:00<00:00,  4.28it/s]\n"
          ]
        }
      ]
    },
    {
      "cell_type": "code",
      "source": [
        "built_in_svd_runner_small_minus1_impicit = SparseRunner(model=Built_in_SvdModel(), batch_size=512, device=device)\n",
        "built_in_svd_runner_small_minus1_explicit = SparseRunner(model=Built_in_SvdModel(), batch_size=512, device=device)\n",
        "\n",
        "print(\"Implicit\")\n",
        "built_in_svd_runner_small_minus1_impicit.run(implicit_small_datasets_minus1)\n",
        "print(\"Explicit\")\n",
        "built_in_svd_runner_small_minus1_explicit.run(explicit_small_datasets_minus1)"
      ],
      "metadata": {
        "colab": {
          "base_uri": "https://localhost:8080/"
        },
        "id": "Wi-KOqBV1oKa",
        "outputId": "5c570675-d102-4998-b2c6-5a4b871320c1"
      },
      "id": "Wi-KOqBV1oKa",
      "execution_count": null,
      "outputs": [
        {
          "output_type": "stream",
          "name": "stdout",
          "text": [
            "Implicit\n",
            "--- 90.33847284317017 seconds svd computation---\n"
          ]
        },
        {
          "output_type": "stream",
          "name": "stderr",
          "text": [
            "Iterating train: 100%|██████████| 9/9 [00:01<00:00,  6.41it/s]\n",
            "Iterating valid: 100%|██████████| 1/1 [00:00<00:00,  5.44it/s]\n"
          ]
        },
        {
          "output_type": "stream",
          "name": "stdout",
          "text": [
            "Explicit\n",
            "--- 112.40744638442993 seconds svd computation---\n"
          ]
        },
        {
          "output_type": "stream",
          "name": "stderr",
          "text": [
            "Iterating train: 100%|██████████| 10/10 [00:01<00:00,  6.17it/s]\n",
            "Iterating valid: 100%|██████████| 1/1 [00:00<00:00,  5.06it/s]\n"
          ]
        }
      ]
    },
    {
      "cell_type": "markdown",
      "source": [
        "### 4.3 Rank-one SVD Model\n",
        "\n",
        "runner.model - тут будет лежать обученная базовая модель, где уже посчитался svd (runner.model.svd). Нужно вот весь runner.model взять, подать в свой класс, а затем уже реализовывать добавление пользователя/айтема\n",
        "\n"
      ],
      "metadata": {
        "id": "WWUDrTfKDPG_"
      },
      "id": "WWUDrTfKDPG_"
    },
    {
      "cell_type": "code",
      "source": [
        "import numpy as np\n",
        "import scipy as sp\n",
        "import time\n",
        "from copy import copy"
      ],
      "metadata": {
        "id": "p28Vbg3MVndu"
      },
      "id": "p28Vbg3MVndu",
      "execution_count": 41,
      "outputs": []
    },
    {
      "cell_type": "code",
      "source": [
        "rounding_ndigits = 14 # Число знаков для сигм. Используется для сравнения с нулями и сравнения сигм\n",
        "epsilon1 = 10**(-rounding_ndigits) # Для нахождения нулей"
      ],
      "metadata": {
        "id": "Q-Kn9pWhaM0y"
      },
      "id": "Q-Kn9pWhaM0y",
      "execution_count": 42,
      "outputs": []
    },
    {
      "cell_type": "markdown",
      "source": [
        "Определим функции для обновления SVD разложения при добавлении пользователя или айтема (строки или столбца)"
      ],
      "metadata": {
        "id": "GyeT2ViETae-"
      },
      "id": "GyeT2ViETae-"
    },
    {
      "cell_type": "code",
      "source": [
        "def arrays_merge(a1, a2, decreasing=True, func=None):\n",
        "    \"\"\"\n",
        "    Объединяет два отсортированных массива в один отсортированный массив.\n",
        "\n",
        "    Inputs:\n",
        "        a1 (list): Первый массив.\n",
        "        a2 (list): Второй массив.\n",
        "        decreasing (bool): Если True, выходной массив будет отсортирован по убыванию.\n",
        "        func (callable, optional): Функция, которая применяется к элементам массива для сравнения.\n",
        "\n",
        "    Returns:\n",
        "        tuple: Кортеж, содержащий перестановку индексов и объединенный отсортированный массив.\n",
        "    \"\"\"\n",
        "    # Если функция не предоставлена, используется тождественная функция.\n",
        "    identity = lambda x: x\n",
        "    key_func = func if func is not None else identity\n",
        "\n",
        "    a1 = sorted(a1, key=key_func, reverse=decreasing)\n",
        "    a2 = sorted(a2, key=key_func, reverse=decreasing)\n",
        "\n",
        "    # Объединяем массивы\n",
        "    combined = np.concatenate((a1, a2))\n",
        "    # Вычисляем ключи для сортировки\n",
        "    keys = np.array([key_func(x) for x in combined])\n",
        "\n",
        "    # Определяем порядок сортировки (по возрастанию или по убыванию)\n",
        "    if decreasing:\n",
        "        sort_order = np.argsort(-keys)\n",
        "    else:\n",
        "        sort_order = np.argsort(keys)\n",
        "\n",
        "    # Применяем перестановку для сортировки\n",
        "    sorted_combined = combined[sort_order]\n",
        "\n",
        "    # Корректируем индексы для второго массива\n",
        "    perm = sort_order.copy()\n",
        "    len_a1 = len(a1)\n",
        "    perm[perm >= len_a1] -= len_a1\n",
        "\n",
        "    return perm.tolist(), sorted_combined.tolist()\n",
        "\n",
        "def find_roots(sigmas, m_vec):\n",
        "    \"\"\"\n",
        "    Находит корни уравнения дополненной матрицы сингулярных значений\n",
        "\n",
        "    Inputs:\n",
        "        sigmas - матрица сингулярных значений размера (n*n), расположенные на диагонали.\n",
        "\n",
        "        m_vec - дополнительный столбцовый вектор, который присоединяется справа к матрице Сигма.\n",
        "                Должен быть размера (m*1)\n",
        "    Returns:\n",
        "        корни из собсвтенных значений в обратном порядке\n",
        "    \"\"\"\n",
        "\n",
        "    # Создаем матрицу M, используя внешние произведения\n",
        "    M = np.diag(sigmas**2) + np.outer(m_vec, m_vec)\n",
        "\n",
        "    # Находим собственные значения матрицы M, которые являются квадратами искомых сингулярных значений\n",
        "    sm = sp.linalg.eigh(M, eigvals_only=True, overwrite_a=True, check_finite=False)\n",
        "\n",
        "    # Возвращаем корни из собственных значений в обратном порядке\n",
        "    return np.sqrt(sm[::-1])\n",
        "\n",
        "def SVD_upd_diag_equal_sigmas( sigmas, m_vec , new_col):\n",
        "    \"\"\"\n",
        "    Это внутренняя функция, которая вызывается функцией SVD_upd_diag. Она анализирует\n",
        "    наличие одинаковых сигм в наборе сигм и, если они есть, возвращает\n",
        "    соответствующее унитарное преобразование, которое разделяет уникальные и равные\n",
        "    сигмы. Это необходимо, потому что метод в SVD_upd_diag работает только для\n",
        "    уникальных сигм. Также обнаруживает нули в векторе m_vec и выполняет соответствующую\n",
        "    перестановку, если обнаружены эти нули. Когда добавляется новый столбец,\n",
        "    исходная матрица квадратная, и обязательно должно выполняться условие sigma[-1] = 0 и\n",
        "    m_vec[-1] != 0. Когда добавляется новая строка, исходная матрица не квадратная,\n",
        "    и сигмы произвольны.\n",
        "\n",
        "    Inputs:\n",
        "        sigmas - сингулярные значения квадратной матрицы\n",
        "        m_vec - дополнительный столбец, добавленный к квадратной диагональной матрице сингулярных\n",
        "                векторов.\n",
        "        new_col - указывает, какая задача решается. True, если изначально решалась\n",
        "                  проблема добавления нового столбца, False, если добавляется новая строка.\n",
        "    Returns:\n",
        "        is_equal_sigmas - логическое значение, которое True, если есть одинаковые сигмы,\n",
        "                          иначе False.\n",
        "        uniq_length - количество уникальных сигм.\n",
        "        U - унитарное преобразование, которое преобразует\n",
        "            исходную матрицу (S + mm*) в форму,\n",
        "            где одинаковые сигмы расположены в конце диагонали новой матрицы.\n",
        "    \"\"\"\n",
        "\n",
        "    orig_sigma_len = len(sigmas)\n",
        "    U = None\n",
        "    z_col = m_vec.copy()\n",
        "\n",
        "    # Временная замена последнего элемента, чтобы избежать обработки, если есть другие нулевые сингулярные значения\n",
        "    if new_col:\n",
        "        sigmas[-1] = -1\n",
        "\n",
        "    # Индексированные сигмы и нулевые индексы\n",
        "    zero_inds = np.where(np.abs(m_vec) < epsilon1)[0]\n",
        "    nonzero_inds = np.where(np.abs(m_vec) >= epsilon1)[0]\n",
        "\n",
        "    # Перестановка согласно нулям в m_vec\n",
        "    indexed_sigmas = np.array(list(enumerate(sigmas)))[nonzero_inds].tolist()\n",
        "    z_col = np.hstack((m_vec[nonzero_inds], m_vec[zero_inds]))\n",
        "\n",
        "    # Установка флага активности U\n",
        "    U_active = zero_inds.size > 0\n",
        "    num_nonzero = len(nonzero_inds)\n",
        "\n",
        "    # Получаем уникальные значения и их первые индексы\n",
        "    unique_vals, unique_indices = np.unique(sigmas, return_index=True)\n",
        "    unique_inds_list = unique_indices.tolist()\n",
        "\n",
        "    # Создаем список списков индексов для повторяющихся значений\n",
        "    equal_inds_list = [list(np.where(sigmas == val)[0]) for val in unique_vals if len(np.where(sigmas == val)[0]) > 1]\n",
        "\n",
        "\n",
        "    equal_sigmas = False  # Индикатор наличия равных сигм\n",
        "    if len(equal_inds_list) > 0:  # есть равные сингулярные значения и нам нужно выполнить унитарное преобразование\n",
        "        U_active = True\n",
        "        equal_sigmas = True  # Индикатор наличия равных сигм\n",
        "        U = np.eye(orig_sigma_len)  # унитарная матрица, которая является комбинацией вращений Гивенса\n",
        "\n",
        "        permute_indices = []  # индексы для перестановки в конце матрицы S и m_vec\n",
        "                              # в m_vec эти индексы должны быть с нулевыми значениями.\n",
        "\n",
        "        for ll in equal_inds_list:\n",
        "            U_part = None\n",
        "\n",
        "            m = m_vec[ll[0]]\n",
        "            for i in range(1, len(ll)):\n",
        "                U_tmp = np.eye(len(ll))\n",
        "\n",
        "                permute_indices.append(ll[i])\n",
        "\n",
        "                a = m; b = m_vec[ll[i]]\n",
        "                m = np.sqrt(a**2 + b**2)\n",
        "                alpha = a/m; beta = b/m\n",
        "\n",
        "                U_tmp[0, 0] = alpha; U_tmp[0, i] = beta\n",
        "                U_tmp[i, 0] = -beta; U_tmp[i, i] = alpha\n",
        "\n",
        "                if U_part is None:\n",
        "                    U_part = U_tmp.copy()\n",
        "                else:\n",
        "                    U_part = np.dot(U_tmp, U_part)\n",
        "\n",
        "            U[np.array(ll, ndmin=2).T, np.array(ll, ndmin=2)] = U_part\n",
        "\n",
        "        extra_indices = list(permute_indices) + list(zero_inds)  # добавляем к списку permute_indices элементы из zero_inds\n",
        "\n",
        "    else:\n",
        "        permute_indices = []  # пустой список индексов для перестановки, если равные сигмы отсутствуют\n",
        "\n",
        "    unique_num = len(unique_inds_list)  # Количество уникальных индексов\n",
        "    equal_num = len(permute_indices)  # Количество индексов, которые нужно переставить\n",
        "    assert (orig_sigma_len == unique_num + equal_num + (orig_sigma_len - num_nonzero)), \"Длина индексов равных и/или уникальных значений неверна\"\n",
        "\n",
        "    extra_indices = list(permute_indices) + list(zero_inds)  # дополнительные индексы - это те индексы, которые нужно переставить, плюс индексы нулевых элементов\n",
        "\n",
        "    if extra_indices:\n",
        "        # Создание списка перестановок напрямую через индексы\n",
        "        if permute_indices and zero_inds:  # если оба списка не пусты\n",
        "            permute_sigmas = sigmas[permute_indices]\n",
        "            zero_sigmas = sigmas[zero_inds]\n",
        "\n",
        "            perm, _ = arrays_merge(permute_sigmas, zero_sigmas)\n",
        "            permutation_list = unique_inds_list + [extra_indices[i] for i in perm]\n",
        "        else:  # только один из списков непустой\n",
        "            permutation_list = unique_inds_list + extra_indices\n",
        "\n",
        "        # Используем NumPy для создания матрицы перестановок\n",
        "        P = np.eye(orig_sigma_len)[:, permutation_list]\n",
        "\n",
        "        U = np.dot(P, U) if equal_sigmas else P  # Обновление U только если есть равные сигмы\n",
        "        z_col = np.dot(U, m_vec)  # Обновление z_col\n",
        "\n",
        "    else:\n",
        "        # Если нет дополнительных индексов, U и z_col остаются неизменными\n",
        "        U = None\n",
        "        z_col = None\n",
        "\n",
        "    if new_col:  # если было временное изменение последнего элемента sigmas\n",
        "        sigmas[-1] = 0.0\n",
        "\n",
        "\n",
        "    return U_active, unique_num, U, z_col\n",
        "\n",
        "def SVD_upd_diag(sigmas, m_vec, new_col=True):\n",
        "    \"\"\"\n",
        "    Обновление SVD для диагональной матрицы с добавлением колонки или строки.\n",
        "\n",
        "    Данная функция используется для обновления SVD диагональной матрицы при\n",
        "    добавлении новой колонки или строки, что может привести к изменению\n",
        "    ранга исходной матрицы. Функция обрабатывает два случая: когда новый\n",
        "    столбец заменяет нулевой столбец диагональной матрицы (new_col=True)\n",
        "    и когда новый столбец просто добавляется к матрице (new_col=False).\n",
        "\n",
        "    Inputs:\n",
        "        sigmas (ndarray): Упорядоченные сингулярные значения диагональной матрицы.\n",
        "        m_vec (ndarray): Дополнительная колонка, добавляемая к матрице сингулярных чисел.\n",
        "        new_col (bool): Флаг, указывающий на добавление нового столбца (True) или строки (False).\n",
        "        method (int): Числовой метод для нахождения корней секулярного уравнения.\n",
        "\n",
        "    Returns:\n",
        "        U (ndarray): Обновленные левые сингулярные векторы.\n",
        "        new_sigmas (ndarray): Обновленные сингулярные значения.\n",
        "        V (ndarray): Обновленные правые сингулярные векторы.\n",
        "\n",
        "    \"\"\"\n",
        "\n",
        "    orig_sigmas_length = sigmas.shape[0]\n",
        "    equal_sigmas, uniq_sig_num, U_eq, m_vec_transformed = SVD_upd_diag_equal_sigmas(sigmas, m_vec, new_col)\n",
        "\n",
        "    if equal_sigmas:  # Есть одинаковые сингулярные числа\n",
        "        old_sigmas = sigmas\n",
        "        old_mvec = m_vec\n",
        "\n",
        "        # Переформировать sigmas, используя преобразование U_eq\n",
        "        sigma_diag = np.diag(sigmas)\n",
        "        transformed = np.dot(U_eq, np.dot(sigma_diag, U_eq.T))\n",
        "        sigmas = np.diag(transformed)\n",
        "\n",
        "        # Разделить sigmas на новые и дополнительные сингулярные числа\n",
        "        extra_sigmas = sigmas[uniq_sig_num:]\n",
        "        sigmas = sigmas[:uniq_sig_num]\n",
        "\n",
        "        # Преобразовать m_vec для соответствия измененным sigmas\n",
        "        m_vec = m_vec_transformed[:uniq_sig_num]\n",
        "\n",
        "\n",
        "    if (len(sigmas) == 1):\n",
        "        # Если в массиве sigmas всего одно сингулярное значение,\n",
        "        # вычисляем новое сингулярное значение для обновлённой матрицы.\n",
        "        new_sigmas = np.array((np.sqrt(sigmas[0]**2 + m_vec[0]**2),))\n",
        "        new_size = 1  # Размер обновлённого массива сингулярных значений равен 1.\n",
        "    else:\n",
        "        # Ищем корни уравнения, которое необходимо для обновления SVD.\n",
        "        ret = find_roots(sigmas, m_vec)\n",
        "        new_sigmas = ret  # Новые сингулярные значения после обновления.\n",
        "\n",
        "        # Проверяем, необходимо ли установить последнее сингулярное значение в ноль.\n",
        "        # Это может быть нужно, если последние сингулярные значения меньше порога epsilon1,\n",
        "        # и если добавляется новый столбец, а не строка.\n",
        "        if new_col and ((sigmas[-1] < epsilon1) and (sigmas[-2] < epsilon1)):\n",
        "            new_sigmas[-1] = 0  # Устанавливаем последнее значение в ноль.\n",
        "\n",
        "    new_size = len(new_sigmas)  # Обновлённый размер массива сингулярных значений.\n",
        "\n",
        "    U = np.empty((new_size, new_size))\n",
        "\n",
        "    # Инициализация матрицы V в зависимости от того, добавляем ли мы новый столбец или строку.\n",
        "    if new_col:\n",
        "        V = np.empty((new_size, new_size))\n",
        "    else:\n",
        "        V = np.empty((new_size + 1, new_size))\n",
        "\n",
        "    for i in range(len(new_sigmas)):\n",
        "        # Ненормализованный левый сингулярный вектор.\n",
        "        tmp1 = m_vec / ((sigmas - new_sigmas[i]) * (sigmas + new_sigmas[i]))\n",
        "        if np.any(np.isinf(tmp1)):\n",
        "            if new_sigmas[i] < epsilon1:  # Если новое сингулярное значение равно нулю.\n",
        "                tmp1[np.isinf(tmp1)] = 0\n",
        "            else:\n",
        "                # Если значение бесконечности появляется не из-за нулевого сингулярного числа, это нестандартная ситуация.\n",
        "                nonzero_inds = np.nonzero(np.isinf(tmp1))[0]\n",
        "                if len(nonzero_inds) == 1:\n",
        "                    # Подгоняем вектор так, чтобы скалярное произведение tmp1 и m_vec равнялось -1.\n",
        "                    tmp1[nonzero_inds] = 0\n",
        "                    tmp1[nonzero_inds] = (-1 - np.dot(tmp1, m_vec)) / m_vec[nonzero_inds]\n",
        "                else:\n",
        "                    # Это необработанный случай, который требует дополнительного анализа.\n",
        "                    raise ValueError(\"Необработанный случай 1\")\n",
        "\n",
        "        # Нормализуем вектор tmp1 и используем его как столбец матрицы U.\n",
        "        nrm = np.linalg.norm(tmp1, ord=2)\n",
        "        U[:, i] = tmp1 / nrm\n",
        "\n",
        "        # Ненормализованный правый сингулярный вектор.\n",
        "        tmp2 = tmp1 * sigmas\n",
        "\n",
        "        if new_col:\n",
        "            tmp2[-1] = -1\n",
        "            nrm = np.linalg.norm(tmp2, ord=2)\n",
        "            V[:, i] = tmp2 / nrm\n",
        "        else:\n",
        "            V[:-1, i] = tmp2\n",
        "            V[-1, i] = -1\n",
        "            nrm = np.linalg.norm(V[:, i], ord=2)\n",
        "            V[:, i] = V[:, i] / nrm\n",
        "\n",
        "    if equal_sigmas:\n",
        "        extra_sigma_size = orig_sigmas_length - uniq_sig_num\n",
        "        eye = np.eye(extra_sigma_size)  # Единичная матрица подходящего размера\n",
        "        U_eq = U_eq.T  # Транспонирование матрицы для умножения\n",
        "\n",
        "        # Обновление матрицы U путем блочно-диагонального сложения\n",
        "        U = np.dot(U_eq, sp.linalg.block_diag(U, eye))\n",
        "\n",
        "        # Обновление матрицы V в зависимости от добавления нового столбца или строки\n",
        "        if new_col:\n",
        "            V = np.dot(U_eq, sp.linalg.block_diag(V, eye))\n",
        "        else:\n",
        "            # Расширение матрицы V и добавление строки и столбца для перестановок\n",
        "            V = sp.linalg.block_diag(V, eye)\n",
        "            P1 = np.eye(orig_sigmas_length, orig_sigmas_length + 1)\n",
        "            P1 = np.insert(P1, uniq_sig_num, np.zeros(orig_sigmas_length + 1), axis=0)\n",
        "            P1[-1, uniq_sig_num] = 1.0  # Установка единицы для перестановки\n",
        "            # Расширение U_eq для умножения\n",
        "            U_eq = np.hstack((U_eq, np.zeros((U_eq.shape[0], 1))))\n",
        "            U_eq = np.vstack((U_eq, np.zeros((1, U_eq.shape[1]))))\n",
        "            U_eq[-1, -1] = 1.0  # Установка единицы для корректного блочного умножения\n",
        "            V = np.dot(U_eq, np.dot(P1.T, V))\n",
        "\n",
        "        # Объединение и сортировка сингулярных значений\n",
        "        perm, new_sigmas = arrays_merge(new_sigmas, extra_sigmas)\n",
        "        new_sigmas = np.array(new_sigmas)\n",
        "        U = U[:, perm]  # Перестановка столбцов в матрице U\n",
        "        V = V[:, perm]  # Перестановка столбцов в матрице V\n",
        "\n",
        "    return U, new_sigmas, V\n",
        "\n",
        "def update_SVD(U, S, Vh, a_col, a_col_col=True):\n",
        "    \"\"\"\n",
        "    Обновление сингулярного разложения (SVD) матрицы A при добавлении нового столбца или строки.\n",
        "\n",
        "    Функция обновляет SVD-разложение матрицы A, когда добавляется новый столбец (a_col).\n",
        "    Если a_col - это новая строка, то a_col_col должен быть False. Для корректной работы\n",
        "    функции размерность A должна быть такова, что m >= n, иначе будет сгенерирована ошибка.\n",
        "\n",
        "    Inputs:\n",
        "        U, S, Vh - тонкое SVD матрицы A.\n",
        "        a_col - вектор нового столбца или строки A.\n",
        "        a_col_col - флаг, указывающий, является ли a_col столбцом (True) или строкой (False).\n",
        "\n",
        "    Returns:\n",
        "        U, new_sigmas, Vh - обновленное SVD разложение матрицы [A, a_col].\n",
        "    \"\"\"\n",
        "\n",
        "    # Проверки для обеспечения корректности размерностей\n",
        "    if a_col_col and (U.shape[0] != a_col.size):\n",
        "        raise ValueError(\"Размер столбца матрицы и нового столбца не совпадают.\")\n",
        "\n",
        "    if a_col_col and (U.shape[0] == Vh.shape[1]):\n",
        "        raise ValueError(\"Невозможно добавить столбец к квадратной матрице.\")\n",
        "\n",
        "    # Определение эпсилон для проверки увеличения ранга\n",
        "    zero_epsilon = np.finfo(np.float64).eps * np.sqrt(U.shape[0]) * Vh.shape[1] * sp.linalg.norm(a_col, ord=2) * 2\n",
        "\n",
        "    # Нормализация формы входного столбца/строки\n",
        "    a_col.shape = (a_col.shape[0],) if (len(a_col.shape) == 1) else (max(a_col.shape),)\n",
        "\n",
        "    if a_col_col:  # Добавление нового столбца\n",
        "        m_vec = np.dot(U.T, a_col)\n",
        "        new_u = a_col - np.dot(U, m_vec)\n",
        "        mu = sp.linalg.norm(new_u, ord=2)\n",
        "\n",
        "        old_size = Vh.shape[1]  # Original number of columns in Vh\n",
        "\n",
        "        # Добавляем новый столбец с нулями справа от Vh\n",
        "        Vh = np.hstack((Vh, np.zeros((Vh.shape[0], 1))))\n",
        "\n",
        "        # Создаем новую строку, которая состоит из нулей, кроме единицы в последней позиции.\n",
        "        # Новая строка должна иметь длину, равную новому количеству столбцов в Vh.\n",
        "        new_row = np.zeros((1, old_size + 1))\n",
        "        new_row[0, -1] = 1.0  # Устанавливаем последний элемент равным одному\n",
        "\n",
        "        # Добавляем новую строку внизу Vh\n",
        "        Vh = np.vstack((Vh, new_row))\n",
        "\n",
        "        if np.abs(mu) < zero_epsilon:\n",
        "            U1, new_sigmas, V1 = SVD_upd_diag(S, m_vec, add_new_col=False)\n",
        "            new_sigmas = np.concatenate((new_sigmas, [0.0]))\n",
        "            U1 = np.hstack((U1, np.zeros((U1.shape[0], 1))))\n",
        "            V1 = np.hstack((V1, np.zeros((V1.shape[0], 1))))\n",
        "        else:\n",
        "            U = np.hstack((U, new_u[:, np.newaxis] / mu))\n",
        "            S = np.concatenate((S, [0.0]))\n",
        "            m_vec = np.concatenate((m_vec, [mu]))\n",
        "            U1, new_sigmas, V1 = SVD_upd_diag(S, m_vec, new_col=True)\n",
        "\n",
        "        U = np.dot(U, U1)\n",
        "        Vh = np.dot(V1.T, Vh)\n",
        "    else:  # Добавление новой строки\n",
        "        m_vec = np.dot(Vh, a_col)\n",
        "        # Добавление новой нулевой строки\n",
        "        new_row = np.zeros((1, U.shape[1]))\n",
        "        U = np.vstack((U, new_row))\n",
        "\n",
        "\n",
        "        if sp.linalg.norm(m_vec, ord=2) >= zero_epsilon:\n",
        "            new_column = np.zeros((U.shape[0], 1))\n",
        "            # Установим последний элемент колонки равным 1\n",
        "            new_column[-1, 0] = 1.0\n",
        "\n",
        "            # Стакаем\n",
        "            U = np.hstack((U, new_column))\n",
        "            V1, new_sigmas, U1 = SVD_upd_diag(S, m_vec, new_col=False)\n",
        "            U = np.dot(U, U1)\n",
        "            Vh = np.dot(V1.T, Vh)\n",
        "\n",
        "    return U, new_sigmas, Vh"
      ],
      "metadata": {
        "id": "lr6SX1xndwup"
      },
      "id": "lr6SX1xndwup",
      "execution_count": 43,
      "outputs": []
    },
    {
      "cell_type": "code",
      "source": [
        "class Rank_one_SvdModel(SparseModel):\n",
        "    \"\"\"\n",
        "    remove_seen: flag if we want to remove items that user saw while training (make only new recommendations)\n",
        "    \"\"\"\n",
        "    def __init__(self,\n",
        "                #  trained_model,\n",
        "                 trained_model_on_minus1,\n",
        "                 add_col=True\n",
        "                ) -> None:\n",
        "        super().__init__(remove_seen=trained_model_on_minus1.remove_seen)\n",
        "        # self.trained_model = trained_model\n",
        "        self.trained_model_on_minus1 = trained_model_on_minus1\n",
        "        # self.true_svd = trained_model.svd\n",
        "        self.svd_on_minus1_users = trained_model_on_minus1.svd\n",
        "        self.add_col = add_col\n",
        "\n",
        "\n",
        "    def fit(self,\n",
        "            data: sps.csr_matrix,\n",
        "          ) -> None:\n",
        "        \"\"\"\n",
        "          data - обычная матрица, нужно подать в fit одного кандидата (new_user) и, собственно, прописать алгоритм метода.\n",
        "          Дальше, главное, вывести явно матрицы u vt и не удалять строку с self.factors, потому что эти матрицы туда грузятся,\n",
        "          и затем используются для предикта\n",
        "        \"\"\"\n",
        "\n",
        "        U, S, Vh = self.svd_on_minus1_users[0], self.svd_on_minus1_users[1], self.svd_on_minus1_users[2]\n",
        "        A = np.array(data.todense()) + noise[:data.todense().shape[0], :data.todense().shape[1]]\n",
        "        new_col_or_row = A[-1, :] if self.add_col else A[:, -1]\n",
        "        start_time = time.time()\n",
        "        # print(U.shape, S.shape, Vh.shape, new_col_or_row.shape)\n",
        "        U_updated, S_updated, Vh_updated = update_SVD(U, S, Vh, new_col_or_row, a_col_col=self.add_col)\n",
        "        end_time = time.time()\n",
        "        self.svd = [U_updated, S_updated, Vh_updated]\n",
        "        self.computation_time = end_time - start_time\n",
        "        print(\"--- %s seconds svd computation---\" % (end_time - start_time))\n",
        "\n",
        "        reconstruction = U_updated @ np.diag(S_updated) @ Vh_updated\n",
        "        difference = A.T - reconstruction\n",
        "        frobenius_norm = np.linalg.norm(difference, 'fro')\n",
        "        self.frobenius_norm = frobenius_norm\n",
        "        # print(f'The Frobenius norm : {frobenius_norm}')\n",
        "\n",
        "        self.factors = {\n",
        "            \"user\": torch.from_numpy(Vh_updated.copy().T).float().to(self.device),\n",
        "            \"item\": torch.einsum(\n",
        "                \"fi->if\", torch.from_numpy(U_updated.T).float().to(self.device)\n",
        "            ),\n",
        "        }\n",
        "\n",
        "\n",
        "    def predict_proba(self,\n",
        "                      batch: dict[str, Any]\n",
        "                    ) -> dict[str, torch.Tensor]:\n",
        "        scores = torch.einsum(\n",
        "            \"ui,if,jf->uj\", batch[\"source\"], self.factors[\"item\"], self.factors[\"item\"]\n",
        "        )\n",
        "        if self.remove_seen:\n",
        "            scores[batch[\"source\"].gt(0)] = -1e13\n",
        "        return {\"logits\": scores}"
      ],
      "metadata": {
        "id": "yrnBlHUwDNZ2"
      },
      "id": "yrnBlHUwDNZ2",
      "execution_count": 44,
      "outputs": []
    },
    {
      "cell_type": "code",
      "source": [],
      "metadata": {
        "id": "KUBimt0TPlhG"
      },
      "id": "KUBimt0TPlhG",
      "execution_count": null,
      "outputs": []
    },
    {
      "cell_type": "markdown",
      "source": [
        "### Technical metrics"
      ],
      "metadata": {
        "id": "r8Bg9k-pPn7Y"
      },
      "id": "r8Bg9k-pPn7Y"
    },
    {
      "cell_type": "code",
      "source": [
        "error = []\n",
        "reconstr = []\n",
        "true_mat = []\n",
        "\n",
        "explic_minus5, explic_removed_minus5 = remove_users(explicit_filtered_ratings, n = 47537 - 2000 + 5)\n",
        "ts_split = {\n",
        "    \"explicit\": explic_minus5[\"timestamp\"].max()\n",
        "    - pd.Timedelta(165, \"days\"),\n",
        "}\n",
        "dtsets_minus5 = {}\n",
        "for key, dataset in (\n",
        "    (\"explicit\", explic_minus5),\n",
        "):\n",
        "    dtsets_minus5[key] = {\n",
        "        \"train\": dataset.loc[dataset[\"timestamp\"] <= ts_split[key]],\n",
        "        \"valid\": dataset.loc[dataset[\"timestamp\"] > ts_split[key]],\n",
        "    }\n",
        "    dtsets_minus5[key][\"valid\"] = dtsets_minus5[key][\"valid\"].loc[\n",
        "        dtsets_minus5[key][\"valid\"].user.isin(dtsets_minus5[key][\"train\"].user.unique())\n",
        "    ]\n",
        "\n",
        "explici_minus5 = build_sparse_datasets(\n",
        "  **dtsets_minus5[\"explicit\"], binary=False\n",
        ")\n",
        "\n",
        "runner_ = SparseRunner(model=Built_in_SvdModel(), batch_size=512, device=device)\n",
        "print('Built-in on minus 5 users')\n",
        "runner_.run(explici_minus5)\n",
        "modl = runner_.model\n",
        "\n",
        "for u in range(1, 6):\n",
        "  users = 2000\n",
        "  explic, explic_removed = remove_users(explicit_filtered_ratings, n = 47537 - users + 5 - u)\n",
        "  ts_split = {\n",
        "      \"explicit\": explic[\"timestamp\"].max()\n",
        "      - pd.Timedelta(165, \"days\"),\n",
        "  }\n",
        "  dtsets = {}\n",
        "  for key, dataset in (\n",
        "      (\"explicit\", explic),\n",
        "  ):\n",
        "      dtsets[key] = {\n",
        "          \"train\": dataset.loc[dataset[\"timestamp\"] <= ts_split[key]],\n",
        "          \"valid\": dataset.loc[dataset[\"timestamp\"] > ts_split[key]],\n",
        "      }\n",
        "      dtsets[key][\"valid\"] = dtsets[key][\"valid\"].loc[\n",
        "          dtsets[key][\"valid\"].user.isin(dtsets[key][\"train\"].user.unique())\n",
        "      ]\n",
        "\n",
        "  explici = build_sparse_datasets(\n",
        "    **dtsets[\"explicit\"], binary=False\n",
        "  )\n",
        "\n",
        "\n",
        "  runner = SparseRunner(model=Rank_one_SvdModel(modl, add_col = True), batch_size=512, device=device)\n",
        "  print('Updating SVD')\n",
        "  runner.run(explici)\n",
        "  U_updated, S_updated, Vh_updated = runner.model.svd\n",
        "  reconstr.append(U_updated @ np.diag(S_updated) @ Vh_updated)\n",
        "  modl = runner.model\n",
        "\n",
        "  runner = SparseRunner(model=Built_in_SvdModel(), batch_size=512, device=device)\n",
        "  print('Recomputing SVD')\n",
        "  runner.run(explici)\n",
        "  U, S, Vh = runner.model.svd\n",
        "  true_mat.append(U @ np.diag(S) @ Vh)\n",
        "\n",
        "  difference = true_mat[u - 1] - reconstr[u - 1]\n",
        "  frobenius_norm = np.linalg.norm(difference, 'fro')\n",
        "  print('Error:' + str(frobenius_norm))\n",
        "  error.append(frobenius_norm)"
      ],
      "metadata": {
        "colab": {
          "base_uri": "https://localhost:8080/"
        },
        "id": "uh5QrLpi1Bzn",
        "outputId": "7e180ac2-690d-4d9a-ff8c-5870a96b61bf"
      },
      "id": "uh5QrLpi1Bzn",
      "execution_count": null,
      "outputs": [
        {
          "output_type": "stream",
          "name": "stdout",
          "text": [
            "Built-in on minus 5 users\n",
            "--- 21.151379346847534 seconds svd computation---\n"
          ]
        },
        {
          "output_type": "stream",
          "name": "stderr",
          "text": [
            "Iterating train: 100%|██████████| 4/4 [00:02<00:00,  1.58it/s]\n",
            "Iterating valid: 100%|██████████| 1/1 [00:00<00:00,  3.67it/s]\n"
          ]
        },
        {
          "output_type": "stream",
          "name": "stdout",
          "text": [
            "Updating SVD\n",
            "--- 4.145099639892578 seconds svd computation---\n"
          ]
        },
        {
          "output_type": "stream",
          "name": "stderr",
          "text": [
            "Iterating train: 100%|██████████| 4/4 [00:02<00:00,  1.62it/s]\n",
            "Iterating valid: 100%|██████████| 1/1 [00:00<00:00,  3.98it/s]\n"
          ]
        },
        {
          "output_type": "stream",
          "name": "stdout",
          "text": [
            "Recomputing SVD\n",
            "--- 20.935723066329956 seconds svd computation---\n"
          ]
        },
        {
          "output_type": "stream",
          "name": "stderr",
          "text": [
            "Iterating train: 100%|██████████| 4/4 [00:03<00:00,  1.18it/s]\n",
            "Iterating valid: 100%|██████████| 1/1 [00:00<00:00,  3.77it/s]\n"
          ]
        },
        {
          "output_type": "stream",
          "name": "stdout",
          "text": [
            "Error:4.6072149207676294e-08\n",
            "Updating SVD\n",
            "--- 4.592479705810547 seconds svd computation---\n"
          ]
        },
        {
          "output_type": "stream",
          "name": "stderr",
          "text": [
            "Iterating train: 100%|██████████| 4/4 [00:02<00:00,  1.59it/s]\n",
            "Iterating valid: 100%|██████████| 1/1 [00:00<00:00,  3.78it/s]\n"
          ]
        },
        {
          "output_type": "stream",
          "name": "stdout",
          "text": [
            "Recomputing SVD\n",
            "--- 20.525906324386597 seconds svd computation---\n"
          ]
        },
        {
          "output_type": "stream",
          "name": "stderr",
          "text": [
            "Iterating train: 100%|██████████| 4/4 [00:02<00:00,  1.55it/s]\n",
            "Iterating valid: 100%|██████████| 1/1 [00:00<00:00,  3.75it/s]\n"
          ]
        },
        {
          "output_type": "stream",
          "name": "stdout",
          "text": [
            "Error:1.2584543234064988e-06\n",
            "Updating SVD\n",
            "--- 4.072738170623779 seconds svd computation---\n"
          ]
        },
        {
          "output_type": "stream",
          "name": "stderr",
          "text": [
            "Iterating train: 100%|██████████| 4/4 [00:03<00:00,  1.26it/s]\n",
            "Iterating valid: 100%|██████████| 1/1 [00:00<00:00,  2.58it/s]\n"
          ]
        },
        {
          "output_type": "stream",
          "name": "stdout",
          "text": [
            "Recomputing SVD\n",
            "--- 18.6367666721344 seconds svd computation---\n"
          ]
        },
        {
          "output_type": "stream",
          "name": "stderr",
          "text": [
            "Iterating train: 100%|██████████| 4/4 [00:02<00:00,  1.46it/s]\n",
            "Iterating valid: 100%|██████████| 1/1 [00:00<00:00,  2.43it/s]\n"
          ]
        },
        {
          "output_type": "stream",
          "name": "stdout",
          "text": [
            "Error:1.26110455299598e-06\n",
            "Updating SVD\n",
            "--- 3.7283213138580322 seconds svd computation---\n"
          ]
        },
        {
          "output_type": "stream",
          "name": "stderr",
          "text": [
            "Iterating train: 100%|██████████| 4/4 [00:03<00:00,  1.04it/s]\n",
            "Iterating valid: 100%|██████████| 1/1 [00:00<00:00,  3.42it/s]\n"
          ]
        },
        {
          "output_type": "stream",
          "name": "stdout",
          "text": [
            "Recomputing SVD\n",
            "--- 20.347014665603638 seconds svd computation---\n"
          ]
        },
        {
          "output_type": "stream",
          "name": "stderr",
          "text": [
            "Iterating train: 100%|██████████| 4/4 [00:03<00:00,  1.14it/s]\n",
            "Iterating valid: 100%|██████████| 1/1 [00:00<00:00,  3.49it/s]\n"
          ]
        },
        {
          "output_type": "stream",
          "name": "stdout",
          "text": [
            "Error:1.2609778740192292e-06\n",
            "Updating SVD\n",
            "--- 3.8185813426971436 seconds svd computation---\n"
          ]
        },
        {
          "output_type": "stream",
          "name": "stderr",
          "text": [
            "Iterating train: 100%|██████████| 4/4 [00:02<00:00,  1.53it/s]\n",
            "Iterating valid: 100%|██████████| 1/1 [00:00<00:00,  3.57it/s]\n"
          ]
        },
        {
          "output_type": "stream",
          "name": "stdout",
          "text": [
            "Recomputing SVD\n",
            "--- 20.261322736740112 seconds svd computation---\n"
          ]
        },
        {
          "output_type": "stream",
          "name": "stderr",
          "text": [
            "Iterating train: 100%|██████████| 4/4 [00:02<00:00,  1.58it/s]\n",
            "Iterating valid: 100%|██████████| 1/1 [00:00<00:00,  3.72it/s]\n"
          ]
        },
        {
          "output_type": "stream",
          "name": "stdout",
          "text": [
            "Error:1.2649171077144129e-06\n"
          ]
        }
      ]
    },
    {
      "cell_type": "code",
      "source": [
        "error"
      ],
      "metadata": {
        "colab": {
          "base_uri": "https://localhost:8080/"
        },
        "id": "m7A8WnUojGnR",
        "outputId": "b83c94be-0ae4-477d-d922-a7a64b939f9c"
      },
      "id": "m7A8WnUojGnR",
      "execution_count": null,
      "outputs": [
        {
          "output_type": "execute_result",
          "data": {
            "text/plain": [
              "[1.5567979848711211e-07,\n",
              " 1.6936534200429143e-06,\n",
              " 1.9188172925183628e-06,\n",
              " 1.9220501235934815e-06,\n",
              " 1.9390488989578762e-06]"
            ]
          },
          "metadata": {},
          "execution_count": 104
        }
      ]
    },
    {
      "cell_type": "code",
      "source": [
        "fig, ax = plt.subplots(figsize=(5,6))\n",
        "plt.title('Зависимость Фробениусовой нормы от числа добавленных пользователей')\n",
        "plt.xlabel('number of added users')\n",
        "plt.ylabel('Frobenius norm')\n",
        "plt.plot([1, 2, 3, 4, 5], error, ':o', label='F-norm')\n",
        "plt.legend()\n",
        "plt.show()"
      ],
      "metadata": {
        "colab": {
          "base_uri": "https://localhost:8080/",
          "height": 589
        },
        "id": "leRq0Dr2i-lT",
        "outputId": "ea53a688-ea71-484f-e335-a2bd5fa17d24"
      },
      "id": "leRq0Dr2i-lT",
      "execution_count": null,
      "outputs": [
        {
          "output_type": "display_data",
          "data": {
            "text/plain": [
              "<Figure size 500x600 with 1 Axes>"
            ],
            "image/png": "[encoded data removed]"
          },
          "metadata": {}
        }
      ]
    },
    {
      "cell_type": "code",
      "source": [
        "times = {'svd': [], 'updated': []}\n",
        "norm = []\n",
        "for u in range(1, 6): # [0.5, 1, 1.5, 2, 2.5, 3, 3.5, 4, 4.5, 5]\n",
        "  users = int(1000 * u)\n",
        "  explic, explic_removed = remove_users(explicit_filtered_ratings, n = 47537 - users)\n",
        "  ts_split = {\n",
        "      \"explicit\": explic[\"timestamp\"].max()\n",
        "      - pd.Timedelta(165, \"days\"),\n",
        "  }\n",
        "  dtsets = {}\n",
        "  for key, dataset in (\n",
        "      (\"explicit\", explic),\n",
        "  ):\n",
        "      dtsets[key] = {\n",
        "          \"train\": dataset.loc[dataset[\"timestamp\"] <= ts_split[key]],\n",
        "          \"valid\": dataset.loc[dataset[\"timestamp\"] > ts_split[key]],\n",
        "      }\n",
        "      dtsets[key][\"valid\"] = dtsets[key][\"valid\"].loc[\n",
        "          dtsets[key][\"valid\"].user.isin(dtsets[key][\"train\"].user.unique())\n",
        "      ]\n",
        "\n",
        "  explici = build_sparse_datasets(\n",
        "    **dtsets[\"explicit\"], binary=False\n",
        "  )\n",
        "\n",
        "  explic_minus1, explic_removed_minus1 = remove_users(explicit_filtered_ratings, n = 47537 - users + 1)\n",
        "  ts_split = {\n",
        "      \"explicit\": explic_minus1[\"timestamp\"].max()\n",
        "      - pd.Timedelta(165, \"days\"),\n",
        "  }\n",
        "  dtsets_minus1 = {}\n",
        "  for key, dataset in (\n",
        "      (\"explicit\", explic_minus1),\n",
        "  ):\n",
        "      dtsets_minus1[key] = {\n",
        "          \"train\": dataset.loc[dataset[\"timestamp\"] <= ts_split[key]],\n",
        "          \"valid\": dataset.loc[dataset[\"timestamp\"] > ts_split[key]],\n",
        "      }\n",
        "      dtsets_minus1[key][\"valid\"] = dtsets_minus1[key][\"valid\"].loc[\n",
        "          dtsets_minus1[key][\"valid\"].user.isin(dtsets_minus1[key][\"train\"].user.unique())\n",
        "      ]\n",
        "\n",
        "  explici_minus1 = build_sparse_datasets(\n",
        "    **dtsets_minus1[\"explicit\"], binary=False\n",
        "  )\n",
        "\n",
        "  runner_ = SparseRunner(model=Built_in_SvdModel(), batch_size=512, device=device)\n",
        "  print('Built-in on minus 1 users')\n",
        "  runner_.run(explici_minus1)\n",
        "  times['svd'].append(runner_.model.computation_time)\n",
        "  runner = SparseRunner(model=Rank_one_SvdModel(runner_.model, add_col = True), batch_size=512, device=device)\n",
        "  print('Updating SVD')\n",
        "  runner.run(explici)\n",
        "  times['updated'].append(runner.model.computation_time)\n",
        "  norm.append(runner.model.frobenius_norm)"
      ],
      "metadata": {
        "colab": {
          "base_uri": "https://localhost:8080/"
        },
        "id": "OWpaBtweSP8Y",
        "outputId": "84f91739-7fd6-4f45-84e0-69c12c4f7bb6"
      },
      "id": "OWpaBtweSP8Y",
      "execution_count": null,
      "outputs": [
        {
          "metadata": {
            "tags": null
          },
          "name": "stdout",
          "output_type": "stream",
          "text": [
            "Built-in on minus 1 users\n",
            "--- 5.6439759731292725 seconds svd computation---\n"
          ]
        },
        {
          "metadata": {
            "tags": null
          },
          "name": "stderr",
          "output_type": "stream",
          "text": [
            "Iterating train: 100%|██████████| 2/2 [00:01<00:00,  1.93it/s]\n",
            "Iterating valid: 100%|██████████| 1/1 [00:00<00:00,  5.30it/s]\n"
          ]
        },
        {
          "metadata": {
            "tags": null
          },
          "name": "stdout",
          "output_type": "stream",
          "text": [
            "Updating SVD\n",
            "--- 0.8736283779144287 seconds svd computation---\n"
          ]
        },
        {
          "metadata": {
            "tags": null
          },
          "name": "stderr",
          "output_type": "stream",
          "text": [
            "Iterating train: 100%|██████████| 2/2 [00:00<00:00,  2.07it/s]\n",
            "Iterating valid: 100%|██████████| 1/1 [00:00<00:00,  5.66it/s]\n"
          ]
        },
        {
          "metadata": {
            "tags": null
          },
          "name": "stdout",
          "output_type": "stream",
          "text": [
            "Built-in on minus 1 users\n",
            "--- 19.62837290763855 seconds svd computation---\n"
          ]
        },
        {
          "metadata": {
            "tags": null
          },
          "name": "stderr",
          "output_type": "stream",
          "text": [
            "Iterating train: 100%|██████████| 4/4 [00:03<00:00,  1.24it/s]\n",
            "Iterating valid: 100%|██████████| 1/1 [00:00<00:00,  3.41it/s]\n"
          ]
        },
        {
          "metadata": {
            "tags": null
          },
          "name": "stdout",
          "output_type": "stream",
          "text": [
            "Updating SVD\n",
            "--- 3.811082601547241 seconds svd computation---\n"
          ]
        },
        {
          "metadata": {
            "tags": null
          },
          "name": "stderr",
          "output_type": "stream",
          "text": [
            "Iterating train: 100%|██████████| 4/4 [00:03<00:00,  1.03it/s]\n",
            "Iterating valid: 100%|██████████| 1/1 [00:00<00:00,  2.52it/s]\n"
          ]
        },
        {
          "metadata": {
            "tags": null
          },
          "name": "stdout",
          "output_type": "stream",
          "text": [
            "Built-in on minus 1 users\n",
            "--- 56.62812829017639 seconds svd computation---\n"
          ]
        },
        {
          "metadata": {
            "tags": null
          },
          "name": "stderr",
          "output_type": "stream",
          "text": [
            "Iterating train: 100%|██████████| 6/6 [00:05<00:00,  1.16it/s]\n",
            "Iterating valid: 100%|██████████| 1/1 [00:00<00:00,  1.84it/s]\n"
          ]
        },
        {
          "metadata": {
            "tags": null
          },
          "name": "stdout",
          "output_type": "stream",
          "text": [
            "Updating SVD\n",
            "--- 14.589052438735962 seconds svd computation---\n"
          ]
        },
        {
          "metadata": {
            "tags": null
          },
          "name": "stderr",
          "output_type": "stream",
          "text": [
            "Iterating train: 100%|██████████| 6/6 [00:06<00:00,  1.08s/it]\n",
            "Iterating valid: 100%|██████████| 1/1 [00:00<00:00,  1.77it/s]\n"
          ]
        },
        {
          "output_type": "stream",
          "name": "stdout",
          "text": [
            "Built-in on minus 1 users\n",
            "--- 130.95230436325073 seconds svd computation---\n"
          ]
        },
        {
          "output_type": "stream",
          "name": "stderr",
          "text": [
            "Iterating train: 100%|██████████| 8/8 [00:09<00:00,  1.15s/it]\n",
            "Iterating valid: 100%|██████████| 1/1 [00:00<00:00,  1.53it/s]\n"
          ]
        },
        {
          "output_type": "stream",
          "name": "stdout",
          "text": [
            "Updating SVD\n",
            "--- 25.801615715026855 seconds svd computation---\n"
          ]
        },
        {
          "output_type": "stream",
          "name": "stderr",
          "text": [
            "Iterating train: 100%|██████████| 8/8 [00:09<00:00,  1.17s/it]\n",
            "Iterating valid: 100%|██████████| 1/1 [00:00<00:00,  1.57it/s]\n"
          ]
        },
        {
          "output_type": "stream",
          "name": "stdout",
          "text": [
            "Built-in on minus 1 users\n",
            "--- 181.0248658657074 seconds svd computation---\n"
          ]
        },
        {
          "output_type": "stream",
          "name": "stderr",
          "text": [
            "Iterating train: 100%|██████████| 10/10 [00:12<00:00,  1.27s/it]\n",
            "Iterating valid: 100%|██████████| 1/1 [00:00<00:00,  1.20it/s]\n"
          ]
        },
        {
          "output_type": "stream",
          "name": "stdout",
          "text": [
            "Updating SVD\n",
            "--- 48.2712824344635 seconds svd computation---\n"
          ]
        },
        {
          "output_type": "stream",
          "name": "stderr",
          "text": [
            "Iterating train: 100%|██████████| 10/10 [00:13<00:00,  1.32s/it]\n",
            "Iterating valid: 100%|██████████| 1/1 [00:00<00:00,  1.23it/s]\n"
          ]
        }
      ]
    },
    {
      "cell_type": "code",
      "source": [
        "times"
      ],
      "metadata": {
        "colab": {
          "base_uri": "https://localhost:8080/"
        },
        "id": "DhOL7LsBr0-z",
        "outputId": "f50d6654-2685-4c86-a006-216a26f5ba81"
      },
      "id": "DhOL7LsBr0-z",
      "execution_count": null,
      "outputs": [
        {
          "output_type": "execute_result",
          "data": {
            "text/plain": [
              "{'svd': [5.6439759731292725,\n",
              "  19.62837290763855,\n",
              "  56.62812829017639,\n",
              "  130.95230436325073,\n",
              "  181.0248658657074],\n",
              " 'updated': [0.8736283779144287,\n",
              "  3.811082601547241,\n",
              "  14.589052438735962,\n",
              "  25.801615715026855,\n",
              "  48.2712824344635]}"
            ]
          },
          "metadata": {},
          "execution_count": 45
        }
      ]
    },
    {
      "cell_type": "code",
      "source": [
        "norm"
      ],
      "metadata": {
        "colab": {
          "base_uri": "https://localhost:8080/"
        },
        "id": "oyOqo3xIr5Td",
        "outputId": "dc9be734-9317-40d9-8e34-bcbda649ff61"
      },
      "id": "oyOqo3xIr5Td",
      "execution_count": null,
      "outputs": [
        {
          "output_type": "execute_result",
          "data": {
            "text/plain": [
              "[2.187549234165168e-08,\n",
              " 6.923301709567185e-08,\n",
              " 1.237150138554199e-06,\n",
              " 8.123158258194033e-07,\n",
              " 3.1815001459305554e-07]"
            ]
          },
          "metadata": {},
          "execution_count": 46
        }
      ]
    },
    {
      "cell_type": "code",
      "source": [
        "import matplotlib.pyplot as plt\n",
        "\n",
        "# full_norm = []\n",
        "# for i in range(1, 6):\n",
        "#   full_norm.append(sum(norm[:i]))\n",
        "fig, ax = plt.subplots(figsize=(5,5))\n",
        "plt.title('Зависимость Фробениусовой нормы от исходного числа пользователей')\n",
        "plt.xlabel('number of unique users')\n",
        "plt.ylabel('Frobenius norm')\n",
        "plt.plot([1000, 2000, 3000, 4000, 5000], norm, ':o', label='F-norm')\n",
        "plt.legend()\n",
        "plt.show()"
      ],
      "metadata": {
        "colab": {
          "base_uri": "https://localhost:8080/",
          "height": 512
        },
        "id": "8z4NryeFwiQY",
        "outputId": "1ad534fd-036c-48d7-df4e-ae3b8b78025a"
      },
      "id": "8z4NryeFwiQY",
      "execution_count": null,
      "outputs": [
        {
          "output_type": "display_data",
          "data": {
            "text/plain": [
              "<Figure size 500x500 with 1 Axes>"
            ],
            "image/png": "[encoded data removed]"
          },
          "metadata": {}
        }
      ]
    },
    {
      "cell_type": "code",
      "source": [
        "import matplotlib.pyplot as plt\n",
        "\n",
        "fig, ax = plt.subplots(figsize=(8,5))\n",
        "plt.title('Зависимость времени подсчета алгоритма от исходного числа пользователей')\n",
        "plt.xlabel('number of unique users')\n",
        "plt.ylabel('time of computing (seconds)')\n",
        "plt.plot([1000, 2000, 3000, 4000, 5000], times['updated'], ':o', label='updated')\n",
        "plt.plot([1000, 2000, 3000, 4000, 5000], times['svd'], ':o', label='recompute')\n",
        "plt.legend()\n",
        "plt.show()"
      ],
      "metadata": {
        "colab": {
          "base_uri": "https://localhost:8080/",
          "height": 496
        },
        "id": "QQVGfoX5uLdZ",
        "outputId": "b7fd1f93-c19f-4c8e-84cd-13dfc588984c"
      },
      "id": "QQVGfoX5uLdZ",
      "execution_count": null,
      "outputs": [
        {
          "output_type": "display_data",
          "data": {
            "text/plain": [
              "<Figure size 800x500 with 1 Axes>"
            ],
            "image/png": "[encoded data removed]"
          },
          "metadata": {}
        }
      ]
    },
    {
      "cell_type": "code",
      "source": [],
      "metadata": {
        "id": "MKtxmCAD_GF3"
      },
      "id": "MKtxmCAD_GF3",
      "execution_count": null,
      "outputs": []
    },
    {
      "cell_type": "markdown",
      "source": [
        "Теперь смотрим на технические метрики, если добавлять айтемы"
      ],
      "metadata": {
        "id": "b7sq1qgITyfi"
      },
      "id": "b7sq1qgITyfi"
    },
    {
      "cell_type": "code",
      "source": [
        "explicit_s, explicit_s_removed = remove_users(explicit_filtered_ratings, n = 45537)"
      ],
      "metadata": {
        "id": "1JfhEfj4Uvgf"
      },
      "id": "1JfhEfj4Uvgf",
      "execution_count": null,
      "outputs": []
    },
    {
      "cell_type": "markdown",
      "source": [
        "Прогоняем 5 раз на разном количестве айтемов (убираем 1-5 айтемов). Сильно тут размер матрицы не меняется, поэтому время +- одинаковое. Пересчет тут скорее нужен для дальнейшего усреднения результатов"
      ],
      "metadata": {
        "id": "M_W0WRWyfrFX"
      },
      "id": "M_W0WRWyfrFX"
    },
    {
      "cell_type": "code",
      "source": [
        "times = {'svd': [], 'updated': []}\n",
        "norm = []\n",
        "for i in range(0, 5):\n",
        "  I = 5 - i\n",
        "  explic, explic_removed = remove_items(explicit_s, n = 5 - i)\n",
        "  ts_split = {\n",
        "      \"explicit\": explic[\"timestamp\"].max()\n",
        "      - pd.Timedelta(165, \"days\"),\n",
        "  }\n",
        "  dtsets = {}\n",
        "  for key, dataset in (\n",
        "      (\"explicit\", explic),\n",
        "  ):\n",
        "      dtsets[key] = {\n",
        "          \"train\": dataset.loc[dataset[\"timestamp\"] <= ts_split[key]],\n",
        "          \"valid\": dataset.loc[dataset[\"timestamp\"] > ts_split[key]],\n",
        "      }\n",
        "      dtsets[key][\"valid\"] = dtsets[key][\"valid\"].loc[\n",
        "          dtsets[key][\"valid\"].user.isin(dtsets[key][\"train\"].user.unique())\n",
        "      ]\n",
        "\n",
        "  explici = build_sparse_datasets(\n",
        "    **dtsets[\"explicit\"], binary=False\n",
        "  )\n",
        "\n",
        "  I = 5 - i + 1\n",
        "  explic_minus1, explic_removed_minus1 = remove_items(explicit_s, n = 5 - i + 1)\n",
        "  ts_split = {\n",
        "      \"explicit\": explic_minus1[\"timestamp\"].max()\n",
        "      - pd.Timedelta(165, \"days\"),\n",
        "  }\n",
        "  dtsets_minus1 = {}\n",
        "  for key, dataset in (\n",
        "      (\"explicit\", explic_minus1),\n",
        "  ):\n",
        "      dtsets_minus1[key] = {\n",
        "          \"train\": dataset.loc[dataset[\"timestamp\"] <= ts_split[key]],\n",
        "          \"valid\": dataset.loc[dataset[\"timestamp\"] > ts_split[key]],\n",
        "      }\n",
        "      dtsets_minus1[key][\"valid\"] = dtsets_minus1[key][\"valid\"].loc[\n",
        "          dtsets_minus1[key][\"valid\"].user.isin(dtsets_minus1[key][\"train\"].user.unique())\n",
        "      ]\n",
        "\n",
        "  explici_minus1 = build_sparse_datasets(\n",
        "    **dtsets_minus1[\"explicit\"], binary=False\n",
        "  )\n",
        "\n",
        "  runner_ = SparseRunner(model=Built_in_SvdModel(), batch_size=512, device=device)\n",
        "  print('Built-in on minus 1 users')\n",
        "  runner_.run(explici_minus1)\n",
        "  times['svd'].append(runner_.model.computation_time)\n",
        "  runner = SparseRunner(model=Rank_one_SvdModel(runner_.model, add_col = False), batch_size=512, device=device)\n",
        "  print('Updating SVD')\n",
        "  runner.run(explici)\n",
        "  times['updated'].append(runner.model.computation_time)\n",
        "  norm.append(runner.model.frobenius_norm)"
      ],
      "metadata": {
        "colab": {
          "base_uri": "https://localhost:8080/"
        },
        "id": "yfEY8Kt5ddmk",
        "outputId": "4f28a29b-f3c0-49b2-d1ef-0a6e31fc07b5"
      },
      "id": "yfEY8Kt5ddmk",
      "execution_count": null,
      "outputs": [
        {
          "output_type": "stream",
          "name": "stdout",
          "text": [
            "Built-in on minus 1 users\n",
            "--- 42.68930101394653 seconds svd computation---\n"
          ]
        },
        {
          "output_type": "stream",
          "name": "stderr",
          "text": [
            "Iterating train: 100%|██████████| 4/4 [00:06<00:00,  1.55s/it]\n",
            "Iterating valid: 100%|██████████| 1/1 [00:00<00:00,  1.71it/s]\n"
          ]
        },
        {
          "output_type": "stream",
          "name": "stdout",
          "text": [
            "Updating SVD\n",
            "--- 6.780508518218994 seconds svd computation---\n"
          ]
        },
        {
          "output_type": "stream",
          "name": "stderr",
          "text": [
            "Iterating train: 100%|██████████| 4/4 [00:03<00:00,  1.29it/s]\n",
            "Iterating valid: 100%|██████████| 1/1 [00:00<00:00,  2.46it/s]\n"
          ]
        },
        {
          "output_type": "stream",
          "name": "stdout",
          "text": [
            "Built-in on minus 1 users\n",
            "--- 35.43335318565369 seconds svd computation---\n"
          ]
        },
        {
          "output_type": "stream",
          "name": "stderr",
          "text": [
            "Iterating train: 100%|██████████| 4/4 [00:04<00:00,  1.08s/it]\n",
            "Iterating valid: 100%|██████████| 1/1 [00:00<00:00,  1.28it/s]\n"
          ]
        },
        {
          "output_type": "stream",
          "name": "stdout",
          "text": [
            "Updating SVD\n",
            "--- 9.17720627784729 seconds svd computation---\n"
          ]
        },
        {
          "output_type": "stream",
          "name": "stderr",
          "text": [
            "Iterating train: 100%|██████████| 4/4 [00:03<00:00,  1.16it/s]\n",
            "Iterating valid: 100%|██████████| 1/1 [00:00<00:00,  1.30it/s]\n"
          ]
        },
        {
          "output_type": "stream",
          "name": "stdout",
          "text": [
            "Built-in on minus 1 users\n",
            "--- 35.02480411529541 seconds svd computation---\n"
          ]
        },
        {
          "output_type": "stream",
          "name": "stderr",
          "text": [
            "Iterating train: 100%|██████████| 4/4 [00:06<00:00,  1.53s/it]\n",
            "Iterating valid: 100%|██████████| 1/1 [00:00<00:00,  1.94it/s]\n"
          ]
        },
        {
          "output_type": "stream",
          "name": "stdout",
          "text": [
            "Updating SVD\n",
            "--- 8.262252569198608 seconds svd computation---\n"
          ]
        },
        {
          "output_type": "stream",
          "name": "stderr",
          "text": [
            "Iterating train: 100%|██████████| 4/4 [00:04<00:00,  1.21s/it]\n",
            "Iterating valid: 100%|██████████| 1/1 [00:00<00:00,  1.55it/s]\n"
          ]
        },
        {
          "output_type": "stream",
          "name": "stdout",
          "text": [
            "Built-in on minus 1 users\n",
            "--- 23.722098112106323 seconds svd computation---\n"
          ]
        },
        {
          "output_type": "stream",
          "name": "stderr",
          "text": [
            "Iterating train: 100%|██████████| 4/4 [00:02<00:00,  1.46it/s]\n",
            "Iterating valid: 100%|██████████| 1/1 [00:00<00:00,  1.51it/s]\n"
          ]
        },
        {
          "output_type": "stream",
          "name": "stdout",
          "text": [
            "Updating SVD\n",
            "--- 5.397979021072388 seconds svd computation---\n"
          ]
        },
        {
          "output_type": "stream",
          "name": "stderr",
          "text": [
            "Iterating train: 100%|██████████| 4/4 [00:06<00:00,  1.68s/it]\n",
            "Iterating valid: 100%|██████████| 1/1 [00:00<00:00,  1.88it/s]\n"
          ]
        },
        {
          "output_type": "stream",
          "name": "stdout",
          "text": [
            "Built-in on minus 1 users\n",
            "--- 38.60447096824646 seconds svd computation---\n"
          ]
        },
        {
          "output_type": "stream",
          "name": "stderr",
          "text": [
            "Iterating train: 100%|██████████| 4/4 [00:02<00:00,  1.43it/s]\n",
            "Iterating valid: 100%|██████████| 1/1 [00:00<00:00,  2.79it/s]\n"
          ]
        },
        {
          "output_type": "stream",
          "name": "stdout",
          "text": [
            "Updating SVD\n",
            "--- 4.244108438491821 seconds svd computation---\n"
          ]
        },
        {
          "output_type": "stream",
          "name": "stderr",
          "text": [
            "Iterating train: 100%|██████████| 4/4 [00:02<00:00,  1.47it/s]\n",
            "Iterating valid: 100%|██████████| 1/1 [00:00<00:00,  3.08it/s]\n"
          ]
        }
      ]
    },
    {
      "cell_type": "code",
      "source": [
        "times"
      ],
      "metadata": {
        "colab": {
          "base_uri": "https://localhost:8080/"
        },
        "id": "3qFjXpXTe49j",
        "outputId": "970be93a-221f-4882-8fac-956bca10dd21"
      },
      "id": "3qFjXpXTe49j",
      "execution_count": null,
      "outputs": [
        {
          "output_type": "execute_result",
          "data": {
            "text/plain": [
              "{'svd': [42.68930101394653,\n",
              "  35.43335318565369,\n",
              "  35.02480411529541,\n",
              "  23.722098112106323,\n",
              "  38.60447096824646],\n",
              " 'updated': [6.780508518218994,\n",
              "  9.17720627784729,\n",
              "  8.262252569198608,\n",
              "  5.397979021072388,\n",
              "  4.244108438491821]}"
            ]
          },
          "metadata": {},
          "execution_count": 84
        }
      ]
    },
    {
      "cell_type": "code",
      "source": [
        "import matplotlib.pyplot as plt\n",
        "\n",
        "fig, ax = plt.subplots(figsize=(5,5))\n",
        "\n",
        "methods = ['recompute', 'update']\n",
        "counts = [sum(times['svd']) / 5, sum(times['updated']) / 5]\n",
        "bar_labels = ['recompute', 'update']\n",
        "bar_colors = ['tab:red', 'tab:blue']\n",
        "\n",
        "ax.bar(methods, counts, label=bar_labels, color=bar_colors)\n",
        "\n",
        "ax.set_ylabel('time in seconds')\n",
        "ax.set_title('Усредненное время работы методов для добавления item')\n",
        "ax.legend()\n",
        "plt.show()"
      ],
      "metadata": {
        "colab": {
          "base_uri": "https://localhost:8080/",
          "height": 472
        },
        "id": "CV5YHUx5fY4u",
        "outputId": "4872ccbd-3a80-4763-b188-bd22b1aaea13"
      },
      "id": "CV5YHUx5fY4u",
      "execution_count": null,
      "outputs": [
        {
          "output_type": "display_data",
          "data": {
            "text/plain": [
              "<Figure size 500x500 with 1 Axes>"
            ],
            "image/png": "[encoded data removed]"
          },
          "metadata": {}
        }
      ]
    },
    {
      "cell_type": "code",
      "source": [
        "times = {'svd': [], 'updated': []}\n",
        "norm = []\n",
        "for i in range(0, 5):\n",
        "  I = 2500 - i * 500\n",
        "  explic, explic_removed = remove_items(explicit_s, n = 2500 - i * 500)\n",
        "  ts_split = {\n",
        "      \"explicit\": explic[\"timestamp\"].max()\n",
        "      - pd.Timedelta(165, \"days\"),\n",
        "  }\n",
        "  dtsets = {}\n",
        "  for key, dataset in (\n",
        "      (\"explicit\", explic),\n",
        "  ):\n",
        "      dtsets[key] = {\n",
        "          \"train\": dataset.loc[dataset[\"timestamp\"] <= ts_split[key]],\n",
        "          \"valid\": dataset.loc[dataset[\"timestamp\"] > ts_split[key]],\n",
        "      }\n",
        "      dtsets[key][\"valid\"] = dtsets[key][\"valid\"].loc[\n",
        "          dtsets[key][\"valid\"].user.isin(dtsets[key][\"train\"].user.unique())\n",
        "      ]\n",
        "\n",
        "  explici = build_sparse_datasets(\n",
        "    **dtsets[\"explicit\"], binary=False\n",
        "  )\n",
        "\n",
        "  I = 2500 - i * 500 + 1\n",
        "  explic_minus1, explic_removed_minus1 = remove_items(explicit_s, n = 2500 - i * 500 + 1)\n",
        "  ts_split = {\n",
        "      \"explicit\": explic_minus1[\"timestamp\"].max()\n",
        "      - pd.Timedelta(165, \"days\"),\n",
        "  }\n",
        "  dtsets_minus1 = {}\n",
        "  for key, dataset in (\n",
        "      (\"explicit\", explic_minus1),\n",
        "  ):\n",
        "      dtsets_minus1[key] = {\n",
        "          \"train\": dataset.loc[dataset[\"timestamp\"] <= ts_split[key]],\n",
        "          \"valid\": dataset.loc[dataset[\"timestamp\"] > ts_split[key]],\n",
        "      }\n",
        "      dtsets_minus1[key][\"valid\"] = dtsets_minus1[key][\"valid\"].loc[\n",
        "          dtsets_minus1[key][\"valid\"].user.isin(dtsets_minus1[key][\"train\"].user.unique())\n",
        "      ]\n",
        "\n",
        "  explici_minus1 = build_sparse_datasets(\n",
        "    **dtsets_minus1[\"explicit\"], binary=False\n",
        "  )\n",
        "\n",
        "  runner_ = SparseRunner(model=Built_in_SvdModel(), batch_size=512, device=device)\n",
        "  print('Built-in on minus 1 users')\n",
        "  runner_.run(explici_minus1)\n",
        "  times['svd'].append(runner_.model.computation_time)\n",
        "  runner = SparseRunner(model=Rank_one_SvdModel(runner_.model, add_col = False), batch_size=512, device=device)\n",
        "  print('Updating SVD')\n",
        "  runner.run(explici)\n",
        "  times['updated'].append(runner.model.computation_time)\n",
        "  norm.append(runner.model.frobenius_norm)"
      ],
      "metadata": {
        "colab": {
          "base_uri": "https://localhost:8080/"
        },
        "id": "yAeA3GsJidw9",
        "outputId": "777b3619-ba0d-4afe-add8-935e418e3a49"
      },
      "id": "yAeA3GsJidw9",
      "execution_count": null,
      "outputs": [
        {
          "output_type": "stream",
          "name": "stdout",
          "text": [
            "Built-in on minus 1 users\n",
            "--- 20.628633975982666 seconds svd computation---\n"
          ]
        },
        {
          "output_type": "stream",
          "name": "stderr",
          "text": [
            "Iterating train: 100%|██████████| 4/4 [00:01<00:00,  2.21it/s]\n",
            "Iterating valid: 100%|██████████| 1/1 [00:00<00:00,  4.25it/s]\n"
          ]
        },
        {
          "output_type": "stream",
          "name": "stdout",
          "text": [
            "Updating SVD\n",
            "--- 4.4922935962677 seconds svd computation---\n"
          ]
        },
        {
          "output_type": "stream",
          "name": "stderr",
          "text": [
            "Iterating train: 100%|██████████| 4/4 [00:01<00:00,  2.20it/s]\n",
            "Iterating valid: 100%|██████████| 1/1 [00:00<00:00,  3.80it/s]\n"
          ]
        },
        {
          "output_type": "stream",
          "name": "stdout",
          "text": [
            "Built-in on minus 1 users\n",
            "--- 21.28618550300598 seconds svd computation---\n"
          ]
        },
        {
          "output_type": "stream",
          "name": "stderr",
          "text": [
            "Iterating train: 100%|██████████| 4/4 [00:03<00:00,  1.17it/s]\n",
            "Iterating valid: 100%|██████████| 1/1 [00:00<00:00,  3.72it/s]\n"
          ]
        },
        {
          "output_type": "stream",
          "name": "stdout",
          "text": [
            "Updating SVD\n",
            "--- 3.577878952026367 seconds svd computation---\n"
          ]
        },
        {
          "output_type": "stream",
          "name": "stderr",
          "text": [
            "Iterating train: 100%|██████████| 4/4 [00:03<00:00,  1.30it/s]\n",
            "Iterating valid: 100%|██████████| 1/1 [00:00<00:00,  2.27it/s]\n"
          ]
        },
        {
          "output_type": "stream",
          "name": "stdout",
          "text": [
            "Built-in on minus 1 users\n",
            "--- 17.79463291168213 seconds svd computation---\n"
          ]
        },
        {
          "output_type": "stream",
          "name": "stderr",
          "text": [
            "Iterating train: 100%|██████████| 4/4 [00:02<00:00,  1.78it/s]\n",
            "Iterating valid: 100%|██████████| 1/1 [00:00<00:00,  3.26it/s]\n"
          ]
        },
        {
          "output_type": "stream",
          "name": "stdout",
          "text": [
            "Updating SVD\n",
            "--- 4.327920913696289 seconds svd computation---\n"
          ]
        },
        {
          "output_type": "stream",
          "name": "stderr",
          "text": [
            "Iterating train: 100%|██████████| 4/4 [00:02<00:00,  1.79it/s]\n",
            "Iterating valid: 100%|██████████| 1/1 [00:00<00:00,  3.09it/s]\n"
          ]
        },
        {
          "output_type": "stream",
          "name": "stdout",
          "text": [
            "Built-in on minus 1 users\n",
            "--- 17.976313591003418 seconds svd computation---\n"
          ]
        },
        {
          "output_type": "stream",
          "name": "stderr",
          "text": [
            "Iterating train: 100%|██████████| 4/4 [00:03<00:00,  1.06it/s]\n",
            "Iterating valid: 100%|██████████| 1/1 [00:00<00:00,  2.73it/s]\n"
          ]
        },
        {
          "output_type": "stream",
          "name": "stdout",
          "text": [
            "Updating SVD\n",
            "--- 4.059778928756714 seconds svd computation---\n"
          ]
        },
        {
          "output_type": "stream",
          "name": "stderr",
          "text": [
            "Iterating train: 100%|██████████| 4/4 [00:02<00:00,  1.56it/s]\n",
            "Iterating valid: 100%|██████████| 1/1 [00:00<00:00,  2.16it/s]\n"
          ]
        },
        {
          "output_type": "stream",
          "name": "stdout",
          "text": [
            "Built-in on minus 1 users\n",
            "--- 19.371697664260864 seconds svd computation---\n"
          ]
        },
        {
          "output_type": "stream",
          "name": "stderr",
          "text": [
            "Iterating train: 100%|██████████| 4/4 [00:02<00:00,  1.61it/s]\n",
            "Iterating valid: 100%|██████████| 1/1 [00:00<00:00,  3.00it/s]\n"
          ]
        },
        {
          "output_type": "stream",
          "name": "stdout",
          "text": [
            "Updating SVD\n",
            "--- 5.293236494064331 seconds svd computation---\n"
          ]
        },
        {
          "output_type": "stream",
          "name": "stderr",
          "text": [
            "Iterating train: 100%|██████████| 4/4 [00:02<00:00,  1.56it/s]\n",
            "Iterating valid: 100%|██████████| 1/1 [00:00<00:00,  2.99it/s]\n"
          ]
        }
      ]
    },
    {
      "cell_type": "code",
      "source": [
        "import matplotlib.pyplot as plt\n",
        "\n",
        "fig, ax = plt.subplots(figsize=(8,5))\n",
        "plt.title('Зависимость времени подсчета алгоритма от исходного числа айтемов')\n",
        "plt.xlabel('number of unique items')\n",
        "plt.ylabel('time of computing (seconds)')\n",
        "plt.plot([3700, 4200, 4700, 5200, 5700], times['updated'], ':o', label='updated')\n",
        "plt.plot([3700, 4200, 4700, 5200, 5700], times['svd'], ':o', label='recompute')\n",
        "plt.legend()\n",
        "plt.show()"
      ],
      "metadata": {
        "colab": {
          "base_uri": "https://localhost:8080/",
          "height": 496
        },
        "id": "Y0vr9ssoi39x",
        "outputId": "c92162ac-20e6-4fc9-9280-8097b6584e8f"
      },
      "id": "Y0vr9ssoi39x",
      "execution_count": null,
      "outputs": [
        {
          "output_type": "display_data",
          "data": {
            "text/plain": [
              "<Figure size 800x500 with 1 Axes>"
            ],
            "image/png": "[encoded data removed]"
          },
          "metadata": {}
        }
      ]
    },
    {
      "cell_type": "code",
      "source": [],
      "metadata": {
        "id": "9v-9SkyzP2Zd"
      },
      "id": "9v-9SkyzP2Zd",
      "execution_count": null,
      "outputs": []
    },
    {
      "cell_type": "markdown",
      "source": [
        "### Test of svd updating algorithm\n",
        "\n",
        "Технический раздел. Использовался во время разработки методов"
      ],
      "metadata": {
        "id": "BLWpIalQ9apl"
      },
      "id": "BLWpIalQ9apl"
    },
    {
      "cell_type": "code",
      "source": [
        "def generate_matrix(m, n):\n",
        "    A = np.random.randn(m, n)\n",
        "    return A\n",
        "\n",
        "def add_column_or_row(A, is_column=True):\n",
        "    if is_column:\n",
        "        new_col = np.random.randn(A.shape[0])\n",
        "        return np.c_[A, new_col]\n",
        "    else:\n",
        "        new_row = np.random.randn(A.shape[1])\n",
        "        return np.r_[A, [new_row]]\n",
        "\n",
        "# Main testing function\n",
        "def test_update_svd(m, n, add_col=True):\n",
        "    \"\"\"\n",
        "    Тестируем и сравниваем.\n",
        "    \"\"\"\n",
        "    # СВД для случайной матрицы\n",
        "    A = generate_matrix(m, n)\n",
        "    start_time = time.time()\n",
        "    U, S, Vh = la.svd(A, full_matrices=False)\n",
        "    svd_time = time.time() - start_time\n",
        "\n",
        "    # Добавляем колонку (или строку)\n",
        "    if add_col:\n",
        "        print(\"Была добавлена колонка\")\n",
        "        A_expanded = add_column_or_row(A, is_column=True)\n",
        "    else:\n",
        "        print(\"Была добавлена строка\")\n",
        "        A_expanded = add_column_or_row(A, is_column=False)\n",
        "\n",
        "    # Обновляем СВД модицированным методом\n",
        "    new_col_or_row = A_expanded[:, -1] if add_col else A_expanded[-1, :]\n",
        "    start_time = time.time()\n",
        "    print(U.shape, S.shape, Vh.shape, new_col_or_row.shape)\n",
        "    U_updated, S_updated, Vh_updated = update_SVD(U, S, Vh, new_col_or_row, a_col_col=add_col)\n",
        "    update_time = time.time() - start_time\n",
        "\n",
        "    # Пересчитываем наивным методом\n",
        "    start_time = time.time()\n",
        "    U_recomp, S_recomp, Vh_recomp = la.svd(A_expanded, full_matrices=False)\n",
        "    recompute_time = time.time() - start_time\n",
        "\n",
        "    # Верифицируем результаты\n",
        "    reconstruction = U_updated @ np.diag(S_updated) @ Vh_updated\n",
        "    difference = A_expanded - reconstruction\n",
        "    frobenius_norm = np.linalg.norm(difference, 'fro')\n",
        "\n",
        "    # Тайминги\n",
        "    print(f\"SVD computation time: {svd_time:.6f} seconds\")\n",
        "    print(f\"SVD update time: {update_time:.6f} seconds\")\n",
        "    print(f\"SVD recompute time: {recompute_time:.6f} seconds\")\n",
        "\n",
        "    print(f'The Frobenius norm : {frobenius_norm}')\n",
        "    if update_time < recompute_time:\n",
        "        print(\"Updating SVD is faster than recomputing.\")\n",
        "    else:\n",
        "        print(\"Recomputing SVD is faster than updating.\")\n",
        "    return update_time, recompute_time"
      ],
      "metadata": {
        "id": "nRi0ftyVo4pk"
      },
      "id": "nRi0ftyVo4pk",
      "execution_count": 46,
      "outputs": []
    },
    {
      "cell_type": "code",
      "source": [
        "update_time, recompute_time = test_update_svd(10000, 800, add_col=True)  # Добавление колонки\n",
        "update_time, recompute_time = test_update_svd(10000, 800, add_col=False) # Добавление строки"
      ],
      "metadata": {
        "colab": {
          "base_uri": "https://localhost:8080/"
        },
        "id": "uI7NxCn0Rksn",
        "outputId": "8e475159-1bfd-406a-aaba-0b8fbf922920"
      },
      "id": "uI7NxCn0Rksn",
      "execution_count": null,
      "outputs": [
        {
          "output_type": "stream",
          "name": "stdout",
          "text": [
            "Была добавлена колонка\n",
            "(10000, 800) (800,) (800, 800) (10000,)\n",
            "SVD computation time: 2.746658 seconds\n",
            "SVD update time: 0.828837 seconds\n",
            "SVD recompute time: 3.497359 seconds\n",
            "The Frobenius norm : 1.332841528517169e-07\n",
            "Updating SVD is faster than recomputing.\n",
            "Была добавлена строка\n",
            "(10000, 800) (800,) (800, 800) (800,)\n",
            "SVD computation time: 2.750916 seconds\n",
            "SVD update time: 0.789416 seconds\n",
            "SVD recompute time: 2.766456 seconds\n",
            "The Frobenius norm : 1.3847548481220142e-06\n",
            "Updating SVD is faster than recomputing.\n"
          ]
        }
      ]
    },
    {
      "cell_type": "code",
      "source": [
        "times = {'svd': [], 'updated': []}\n",
        "for num_items in [500, 1500, 2500, 3500, 4500]:\n",
        "  update_time, recompute_time = test_update_svd(5000, num_items, add_col=True)  # Добавление колонки\n",
        "  times['svd'].append(recompute_time)\n",
        "  times['updated'].append(update_time)"
      ],
      "metadata": {
        "id": "PTJuASlEDNn-",
        "colab": {
          "base_uri": "https://localhost:8080/"
        },
        "outputId": "05a2f50b-1363-4274-8b3b-d6b048166448"
      },
      "id": "PTJuASlEDNn-",
      "execution_count": 47,
      "outputs": [
        {
          "output_type": "stream",
          "name": "stdout",
          "text": [
            "Была добавлена колонка\n",
            "(5000, 500) (500,) (500, 500) (5000,)\n",
            "SVD computation time: 0.683853 seconds\n",
            "SVD update time: 0.198480 seconds\n",
            "SVD recompute time: 0.872888 seconds\n",
            "The Frobenius norm : 9.857980735612017e-08\n",
            "Updating SVD is faster than recomputing.\n",
            "Была добавлена колонка\n",
            "(5000, 1500) (1500,) (1500, 1500) (5000,)\n",
            "SVD computation time: 4.803746 seconds\n",
            "SVD update time: 1.413606 seconds\n",
            "SVD recompute time: 4.398730 seconds\n",
            "The Frobenius norm : 1.2224759695553422e-06\n",
            "Updating SVD is faster than recomputing.\n",
            "Была добавлена колонка\n",
            "(5000, 2500) (2500,) (2500, 2500) (5000,)\n",
            "SVD computation time: 16.342351 seconds\n",
            "SVD update time: 4.487896 seconds\n",
            "SVD recompute time: 17.147226 seconds\n",
            "The Frobenius norm : 5.824124206014626e-06\n",
            "Updating SVD is faster than recomputing.\n",
            "Была добавлена колонка\n",
            "(5000, 3500) (3500,) (3500, 3500) (5000,)\n",
            "SVD computation time: 44.382133 seconds\n",
            "SVD update time: 11.430849 seconds\n",
            "SVD recompute time: 45.146305 seconds\n",
            "The Frobenius norm : 1.2012546350861194e-06\n",
            "Updating SVD is faster than recomputing.\n",
            "Была добавлена колонка\n",
            "(5000, 4500) (4500,) (4500, 4500) (5000,)\n",
            "SVD computation time: 72.316916 seconds\n",
            "SVD update time: 23.872103 seconds\n",
            "SVD recompute time: 73.146649 seconds\n",
            "The Frobenius norm : 9.859565247387838e-07\n",
            "Updating SVD is faster than recomputing.\n"
          ]
        }
      ]
    },
    {
      "cell_type": "code",
      "source": [
        "import matplotlib.pyplot as plt\n",
        "\n",
        "fig, ax = plt.subplots(figsize=(8,5))\n",
        "plt.title('Зависимость времени подсчета алгоритма от исходного числа айтемов')\n",
        "plt.xlabel('number of unique items')\n",
        "plt.ylabel('time of computing (seconds)')\n",
        "plt.plot([500, 1500, 2500, 3500, 4500], times['updated'], ':o', label='updated')\n",
        "plt.plot([500, 1500, 2500, 3500, 4500], times['svd'], ':o', label='recompute')\n",
        "plt.legend()\n",
        "plt.show()"
      ],
      "metadata": {
        "colab": {
          "base_uri": "https://localhost:8080/",
          "height": 496
        },
        "id": "dMATumSdpgte",
        "outputId": "81a17d8e-d6c6-4d13-915d-176975137ce4"
      },
      "id": "dMATumSdpgte",
      "execution_count": 48,
      "outputs": [
        {
          "output_type": "display_data",
          "data": {
            "text/plain": [
              "<Figure size 800x500 with 1 Axes>"
            ],
            "image/png": "[encoded data removed]"
          },
          "metadata": {}
        }
      ]
    },
    {
      "cell_type": "markdown",
      "id": "dd4bb7af-a0d7-4320-bb5b-2784f8c89aa0",
      "metadata": {
        "id": "dd4bb7af-a0d7-4320-bb5b-2784f8c89aa0"
      },
      "source": [
        "## 5. Evaluation\n",
        "\n",
        "$target_{sort}$ — таргет, сортированный в соответствии с логитами модели по убыванию.\n",
        "\n",
        "Так как мы всё делаем через animus, сделаем второй callback, чтобы красиво визуализировать метрики моделей."
      ]
    },
    {
      "cell_type": "code",
      "execution_count": null,
      "id": "8c053209-51c0-4caf-b4dd-dcc8d57cca67",
      "metadata": {
        "id": "8c053209-51c0-4caf-b4dd-dcc8d57cca67"
      },
      "outputs": [],
      "source": [
        "class MetricCallback(ICallback):\n",
        "    def __init__(self, func: Callable, topk: list[int], input_key: str) -> None:\n",
        "        self._name = func.__name__\n",
        "        self._func = func\n",
        "        self._topk = topk\n",
        "        self._input_key = input_key\n",
        "        self._total_sum = {k: 0 for k in self._topk}\n",
        "        self._num_batches = 0\n",
        "\n",
        "    def _get_metric(self) -> dict[str, float]:\n",
        "        return {\n",
        "            f\"{self._name}@{k}\": metric_sum / self._num_batches\n",
        "            for k, metric_sum in self._total_sum.items()\n",
        "        }\n",
        "\n",
        "    def on_dataset_start(self, exp: IExperiment) -> None:\n",
        "        self._total_sum = {k: 0 for k in self._topk}\n",
        "        self._num_batches = 0\n",
        "\n",
        "    def on_batch_end(self, exp: IExperiment) -> None:\n",
        "        for k in self._topk:\n",
        "            self._total_sum[k] += self._func(\n",
        "                exp.batch_output[self._input_key], exp.batch_target, topk=k\n",
        "            ).item()\n",
        "        self._num_batches += 1\n",
        "        exp.batch_metrics.update(self._get_metric())\n",
        "\n",
        "    def on_dataset_end(self, exp: IExperiment) -> None:\n",
        "        exp.dataset_metrics.update(self._get_metric())"
      ]
    },
    {
      "cell_type": "code",
      "source": [
        "class LoggerCallback(ICallback):\n",
        "    def on_dataset_end(self, exp: IExperiment) -> None:\n",
        "        \"\"\"Run callbacks on dataset end.\"\"\"\n",
        "        print(f\"{exp.dataset_key.capitalize()} metrics:\")\n",
        "        max_length = max(len(x) for x in exp.dataset_metrics)\n",
        "        # Sort by length to make it prettier\n",
        "        for metric in sorted(exp.dataset_metrics, key=self._sort_func):\n",
        "            metric_value = exp.dataset_metrics.get(metric)\n",
        "            if isinstance(metric_value, (float, int)):\n",
        "                print(f\"{metric.ljust(max_length)} | {metric_value:.4f}\")\n",
        "\n",
        "    @staticmethod\n",
        "    def _sort_func(x: str) -> Tuple[int, str, int]:\n",
        "        if \"@\" in x:\n",
        "            metric_key, topk = x.split(\"@\")\n",
        "            return (len(metric_key), metric_key, int(topk))\n",
        "        return (len(x), x, 0)"
      ],
      "metadata": {
        "id": "fD3bR_vJBePe"
      },
      "id": "fD3bR_vJBePe",
      "execution_count": null,
      "outputs": []
    },
    {
      "cell_type": "code",
      "execution_count": null,
      "id": "ac654b68-ae10-4d97-9b1e-4b6f41d865c6",
      "metadata": {
        "id": "ac654b68-ae10-4d97-9b1e-4b6f41d865c6"
      },
      "outputs": [],
      "source": [
        "class PrepareTargetResult(NamedTuple):\n",
        "    values: torch.Tensor\n",
        "    indices: torch.Tensor\n",
        "\n",
        "\n",
        "def validate_metric_inputs(output: torch.Tensor, target: torch.Tensor) -> None:\n",
        "    if output.size() != target.size():\n",
        "        raise IndexError(\n",
        "            \"Unequal sizes for output and target: \"\n",
        "            f\"output - {output.size()}, target - {target.size()}.\"\n",
        "        )\n",
        "    if not (target.eq(0) | target.eq(1)).all():\n",
        "        raise ValueError(\n",
        "            \"Target contains values outside of 0 and 1.\" f\"\\nTarget:\\n{target}\"\n",
        "        )\n",
        "\n",
        "\n",
        "def prepare_target(\n",
        "    output: torch.Tensor, target: torch.Tensor, return_indices: bool = False\n",
        ") -> Union[torch.Tensor, PrepareTargetResult]:\n",
        "    validate_metric_inputs(output, target)\n",
        "    # Define order by sorted output scores.\n",
        "    indices = output.argsort(dim=-1, descending=True)\n",
        "    sorted_target = torch.gather(target, index=indices, dim=-1)\n",
        "    return (\n",
        "        PrepareTargetResult(sorted_target, indices) if return_indices else sorted_target\n",
        "    )\n",
        "\n",
        "\n",
        "def nan_to_num(tensor: torch.Tensor, nan: float = 0.0) -> torch.Tensor:\n",
        "    return torch.where(\n",
        "        torch.isnan(tensor) | torch.isinf(tensor),\n",
        "        torch.full_like(tensor, fill_value=nan),\n",
        "        tensor,\n",
        "    )"
      ]
    },
    {
      "cell_type": "code",
      "execution_count": null,
      "id": "7c369037-0686-4e4f-96f7-324c16133d3a",
      "metadata": {
        "id": "7c369037-0686-4e4f-96f7-324c16133d3a"
      },
      "outputs": [],
      "source": [
        "output, target = (\n",
        "    torch.randn(size=(10, 13)),\n",
        "    torch.randint(low=0, high=2, size=(10, 13)).float(),\n",
        ")"
      ]
    },
    {
      "cell_type": "markdown",
      "id": "f6dcf517-e8df-4957-92d2-c29e948116cd",
      "metadata": {
        "id": "f6dcf517-e8df-4957-92d2-c29e948116cd"
      },
      "source": [
        "### 5.1 Precision\n",
        "\n",
        "$$\n",
        "p@k = \\frac{\\sum_{i=1}^{k}target_{sort}[i]}{k}\n",
        "$$"
      ]
    },
    {
      "cell_type": "code",
      "execution_count": null,
      "id": "dc7a35ba-cabc-4071-9b84-93e21903d0b4",
      "metadata": {
        "id": "dc7a35ba-cabc-4071-9b84-93e21903d0b4"
      },
      "outputs": [],
      "source": [
        "def precision(output: torch.Tensor, target: torch.Tensor, topk: int) -> torch.Tensor:\n",
        "    topk = min(output.size(-1), topk)\n",
        "    # target_sorted_by_output ~ (users, topk)\n",
        "    target_sorted_by_output = prepare_target(output, target)[:, :topk]\n",
        "    # precision_score ~ (users)\n",
        "    precision_score = target_sorted_by_output.sum(dim=-1) / topk\n",
        "    return precision_score.mean()"
      ]
    },
    {
      "cell_type": "code",
      "execution_count": null,
      "id": "eaebfb1f-9b44-4161-b38f-f70343a018e4",
      "metadata": {
        "colab": {
          "base_uri": "https://localhost:8080/"
        },
        "id": "eaebfb1f-9b44-4161-b38f-f70343a018e4",
        "outputId": "6dd19b1e-70e1-4a36-d89d-6e20df672bea"
      },
      "outputs": [
        {
          "output_type": "execute_result",
          "data": {
            "text/plain": [
              "tensor(0.4667)"
            ]
          },
          "metadata": {},
          "execution_count": 55
        }
      ],
      "source": [
        "precision(output, target, topk=3)"
      ]
    },
    {
      "cell_type": "markdown",
      "id": "78531082-a94d-4347-a6ac-4b21f1effaf3",
      "metadata": {
        "id": "78531082-a94d-4347-a6ac-4b21f1effaf3"
      },
      "source": [
        "### 5.2 Recall\n",
        "\n",
        "$$\n",
        "r@k = \\frac{\\sum_{i=1}^{k}target_{sort}[i]}{\\sum target}\n",
        "$$"
      ]
    },
    {
      "cell_type": "code",
      "execution_count": null,
      "id": "bc1d6167-344f-4041-9c97-d29eeb232f9e",
      "metadata": {
        "id": "bc1d6167-344f-4041-9c97-d29eeb232f9e"
      },
      "outputs": [],
      "source": [
        "def recall(output: torch.Tensor, target: torch.Tensor, topk: int) -> torch.Tensor:\n",
        "    topk = min(output.shape[-1], topk)\n",
        "    # target_sorted_by_output ~ (users, topk)\n",
        "    target_sorted_by_output = prepare_target(output, target)[:, :topk]\n",
        "    # recall_score ~ (users)\n",
        "    recall_score = nan_to_num(target_sorted_by_output.sum(dim=-1) / target.sum(dim=-1))\n",
        "    return recall_score.mean()"
      ]
    },
    {
      "cell_type": "code",
      "execution_count": null,
      "id": "4804ee24-b4c5-46e2-8c1e-a08a48cba535",
      "metadata": {
        "colab": {
          "base_uri": "https://localhost:8080/"
        },
        "id": "4804ee24-b4c5-46e2-8c1e-a08a48cba535",
        "outputId": "69734641-1ae4-4e29-e23a-b8824164983a"
      },
      "outputs": [
        {
          "output_type": "execute_result",
          "data": {
            "text/plain": [
              "tensor(0.2017)"
            ]
          },
          "metadata": {},
          "execution_count": 57
        }
      ],
      "source": [
        "recall(output, target, topk=3)"
      ]
    },
    {
      "cell_type": "markdown",
      "id": "78cffedd-d538-4876-a7af-d569de374a76",
      "metadata": {
        "id": "78cffedd-d538-4876-a7af-d569de374a76"
      },
      "source": [
        "### 5.3 Mean (Normalized) Average Precision\n",
        "\n",
        "$ap@k = \\frac{1}{\\sum_{i=1}^k{target_{sort}[i]}} \\sum_{i=1}^k target_{sort}[i] \\cdot p@i$\n",
        "```python\n",
        "map@k = reduce(ap@k, \"users->\", reduction=\"mean\")\n",
        "```"
      ]
    },
    {
      "cell_type": "code",
      "execution_count": null,
      "id": "c4327a51-0231-4780-9292-a6001b941765",
      "metadata": {
        "id": "c4327a51-0231-4780-9292-a6001b941765"
      },
      "outputs": [],
      "source": [
        "def mnap(\n",
        "    output: torch.Tensor, target: torch.Tensor, topk: int, normalized: bool = True\n",
        ") -> torch.Tensor:\n",
        "    topk = min(output.size(-1), topk)\n",
        "    # target_sorted_by_output ~ (users, topk)\n",
        "    target_sorted_by_output = prepare_target(output, target)[:, :topk]\n",
        "    # target_cumsum ~ (users, topk)\n",
        "    target_cumsum = target_sorted_by_output.cumsum(dim=-1)\n",
        "    # topk_tensor ~ (topk)\n",
        "    topk_tensor = torch.arange(0, topk, dtype=torch.long, device=output.device)\n",
        "    # precisions ~ (users, topk)\n",
        "    precisions = target_cumsum / (topk_tensor + 1.0)\n",
        "    # relevant_precisions ~ (users, topk)\n",
        "    relevant_precisions = precisions * target_sorted_by_output\n",
        "    # Add  normalization if needed\n",
        "    denominator = (\n",
        "        target.sum(dim=-1).clamp(max=topk)\n",
        "        if normalized\n",
        "        else target_sorted_by_output.sum(dim=-1)\n",
        "    )\n",
        "    # ap_score ~ (users)\n",
        "    ap_score = nan_to_num(relevant_precisions.sum(dim=-1) / denominator)\n",
        "    return ap_score.mean()"
      ]
    },
    {
      "cell_type": "code",
      "execution_count": null,
      "id": "b46f2fd9-7d29-465c-904d-1789e9a9855f",
      "metadata": {
        "colab": {
          "base_uri": "https://localhost:8080/"
        },
        "id": "b46f2fd9-7d29-465c-904d-1789e9a9855f",
        "outputId": "a9184a0b-1cd3-4380-f48b-e4877cd7f98a"
      },
      "outputs": [
        {
          "output_type": "execute_result",
          "data": {
            "text/plain": [
              "tensor(0.3556)"
            ]
          },
          "metadata": {},
          "execution_count": 59
        }
      ],
      "source": [
        "mnap(output, target, topk=3)"
      ]
    },
    {
      "cell_type": "markdown",
      "id": "1e3d382e",
      "metadata": {
        "id": "1e3d382e"
      },
      "source": [
        "### 5.4 Normalized Discounted Cumulative Gain\n",
        "\n",
        "- Cumulative Gain (CG): $CG@k = \\sum_{i=1}^k target_{sort}[i]$\n",
        "- Discounted Cumulative Gain (DCG): $DCG@k = \\sum_{i=1}^k \\frac{2^{target_{sort}[i]} - 1}{\\log(i + 1)}$\n",
        "- Normalized Discounted Cumulative Gain (nDCG): $nDCG@k = \\frac{DCG@k}{idealDCG@k}$"
      ]
    },
    {
      "cell_type": "code",
      "execution_count": null,
      "id": "3e513c99-38c5-45c5-8c71-cc8ce7fe0f4b",
      "metadata": {
        "id": "3e513c99-38c5-45c5-8c71-cc8ce7fe0f4b"
      },
      "outputs": [],
      "source": [
        "def dcg(tensor: torch.Tensor) -> torch.Tensor:\n",
        "    gains = (2**tensor) - 1\n",
        "    return gains / torch.log2(\n",
        "        torch.arange(0, tensor.size(-1), dtype=torch.float, device=tensor.device) + 2.0\n",
        "    )\n",
        "\n",
        "\n",
        "def ndcg(output: torch.Tensor, target: torch.Tensor, topk: int) -> torch.Tensor:\n",
        "    topk = min(output.size(-1), topk)\n",
        "    # target_sorted_by_output ~ (users, items)\n",
        "    target_sorted_by_output = prepare_target(output, target)\n",
        "    ideal_target = prepare_target(target, target)\n",
        "    # ideal_dcg ~ (users, topk)\n",
        "    ideal_dcg = dcg(ideal_target)[:, :topk]\n",
        "    # prediction_dcg ~ (users, topk)\n",
        "    prediction_dcg = dcg(target_sorted_by_output)[:, :topk]\n",
        "    # ideal_dcg_cumsum ~ (users)\n",
        "    ideal_dcg_score = ideal_dcg.sum(dim=-1)\n",
        "    # prediction_dcg_cumsum ~ (users)\n",
        "    prediction_dcg_score = prediction_dcg.sum(dim=-1)\n",
        "    # ndcg_score ~ (users, items)\n",
        "    ndcg_score = nan_to_num(prediction_dcg_score / ideal_dcg_score)\n",
        "    # ndcg_score[ideal_dcg_score.eq(0)] = 0.0\n",
        "    return ndcg_score.mean()"
      ]
    },
    {
      "cell_type": "code",
      "execution_count": null,
      "id": "6c95e737-7853-4c7d-bcb4-1e2999ed3ec6",
      "metadata": {
        "colab": {
          "base_uri": "https://localhost:8080/"
        },
        "id": "6c95e737-7853-4c7d-bcb4-1e2999ed3ec6",
        "outputId": "f45bb95b-eec0-494f-8007-7b473741d888"
      },
      "outputs": [
        {
          "output_type": "execute_result",
          "data": {
            "text/plain": [
              "tensor(0.4531)"
            ]
          },
          "metadata": {},
          "execution_count": 61
        }
      ],
      "source": [
        "ndcg(output, target, topk=3)"
      ]
    },
    {
      "cell_type": "markdown",
      "id": "a7b5c7d2-9d3f-49e2-91da-8a7c7879adde",
      "metadata": {
        "id": "a7b5c7d2-9d3f-49e2-91da-8a7c7879adde"
      },
      "source": [
        "#### Compute metrics"
      ]
    },
    {
      "cell_type": "code",
      "execution_count": null,
      "id": "1ea63804-2499-4212-b5c7-2c87466ae9e8",
      "metadata": {
        "colab": {
          "base_uri": "https://localhost:8080/"
        },
        "id": "1ea63804-2499-4212-b5c7-2c87466ae9e8",
        "outputId": "0a5f8cc9-72a8-44af-a3ac-467107136c0c"
      },
      "outputs": [
        {
          "output_type": "stream",
          "name": "stdout",
          "text": [
            "--- 172.18837118148804 seconds svd computation---\n"
          ]
        },
        {
          "output_type": "stream",
          "name": "stderr",
          "text": [
            "Iterating train: 100%|██████████| 10/10 [01:37<00:00,  9.72s/it]\n"
          ]
        },
        {
          "output_type": "stream",
          "name": "stdout",
          "text": [
            "Train metrics:\n",
            "mnap@1       | 0.9841\n",
            "mnap@3       | 0.9841\n",
            "mnap@10      | 0.9841\n",
            "ndcg@1       | 0.9841\n",
            "ndcg@3       | 0.9841\n",
            "ndcg@10      | 0.9841\n",
            "recall@1     | 0.0980\n",
            "recall@3     | 0.2328\n",
            "recall@10    | 0.5118\n",
            "precision@1  | 0.9841\n",
            "precision@3  | 0.9611\n",
            "precision@10 | 0.8720\n"
          ]
        },
        {
          "output_type": "stream",
          "name": "stderr",
          "text": [
            "Iterating valid: 100%|██████████| 1/1 [00:03<00:00,  3.96s/it]\n"
          ]
        },
        {
          "output_type": "stream",
          "name": "stdout",
          "text": [
            "Valid metrics:\n",
            "mnap@1       | 0.0000\n",
            "mnap@3       | 0.0000\n",
            "mnap@10      | 0.0000\n",
            "ndcg@1       | 0.0000\n",
            "ndcg@3       | 0.0000\n",
            "ndcg@10      | 0.0000\n",
            "recall@1     | 0.0000\n",
            "recall@3     | 0.0000\n",
            "recall@10    | 0.0000\n",
            "precision@1  | 0.0000\n",
            "precision@3  | 0.0000\n",
            "precision@10 | 0.0000\n",
            "--- 46.48528599739075 seconds svd computation---\n"
          ]
        },
        {
          "output_type": "stream",
          "name": "stderr",
          "text": [
            "Iterating train: 100%|██████████| 10/10 [01:38<00:00,  9.84s/it]\n"
          ]
        },
        {
          "output_type": "stream",
          "name": "stdout",
          "text": [
            "Train metrics:\n",
            "mnap@1       | 0.9843\n",
            "mnap@3       | 0.9843\n",
            "mnap@10      | 0.9843\n",
            "ndcg@1       | 0.9843\n",
            "ndcg@3       | 0.9843\n",
            "ndcg@10      | 0.9843\n",
            "recall@1     | 0.0981\n",
            "recall@3     | 0.2327\n",
            "recall@10    | 0.5120\n",
            "precision@1  | 0.9843\n",
            "precision@3  | 0.9611\n",
            "precision@10 | 0.8723\n"
          ]
        },
        {
          "output_type": "stream",
          "name": "stderr",
          "text": [
            "Iterating valid: 100%|██████████| 1/1 [00:03<00:00,  3.78s/it]"
          ]
        },
        {
          "output_type": "stream",
          "name": "stdout",
          "text": [
            "Valid metrics:\n",
            "mnap@1       | 0.0000\n",
            "mnap@3       | 0.0000\n",
            "mnap@10      | 0.0000\n",
            "ndcg@1       | 0.0000\n",
            "ndcg@3       | 0.0000\n",
            "ndcg@10      | 0.0000\n",
            "recall@1     | 0.0000\n",
            "recall@3     | 0.0000\n",
            "recall@10    | 0.0000\n",
            "precision@1  | 0.0000\n",
            "precision@3  | 0.0000\n",
            "precision@10 | 0.0000\n"
          ]
        },
        {
          "output_type": "stream",
          "name": "stderr",
          "text": [
            "\n"
          ]
        }
      ],
      "source": [
        "# Будем смотреть на метрики только на train-е, т.к. valid выборка очень маленькая\n",
        "\n",
        "runner_ = SparseRunner(\n",
        "    model=Built_in_SvdModel(),\n",
        "    batch_size=512,\n",
        "    callbacks={\n",
        "        \"precision\": MetricCallback(precision, input_key=\"logits\", topk=(1, 3, 10)),\n",
        "        \"recall\": MetricCallback(recall, input_key=\"logits\", topk=(1, 3, 10)),\n",
        "        \"ndcg\": MetricCallback(ndcg, input_key=\"logits\", topk=(1, 3, 10)),\n",
        "        \"map\": MetricCallback(mnap, input_key=\"logits\", topk=(1, 3, 10)),\n",
        "        \"logger\": LoggerCallback(),\n",
        "    },\n",
        "    target_threshold=3.0,\n",
        "    device=device,\n",
        ")\n",
        "runner_.run(explicit_small_datasets_minus1)\n",
        "\n",
        "runner = SparseRunner(\n",
        "    model=Rank_one_SvdModel(runner_.model),\n",
        "    batch_size=512,\n",
        "    callbacks={\n",
        "        \"precision\": MetricCallback(precision, input_key=\"logits\", topk=(1, 3, 10)),\n",
        "        \"recall\": MetricCallback(recall, input_key=\"logits\", topk=(1, 3, 10)),\n",
        "        \"ndcg\": MetricCallback(ndcg, input_key=\"logits\", topk=(1, 3, 10)),\n",
        "        \"map\": MetricCallback(mnap, input_key=\"logits\", topk=(1, 3, 10)),\n",
        "        \"logger\": LoggerCallback(),\n",
        "    },\n",
        "    target_threshold=3.0,\n",
        "    device=device,\n",
        ")\n",
        "runner.run(explicit_small_datasets)"
      ]
    },
    {
      "cell_type": "code",
      "source": [
        "runner_ = SparseRunner(\n",
        "    model=Built_in_SvdModel(),\n",
        "    batch_size=512,\n",
        "    callbacks={\n",
        "        \"precision\": MetricCallback(precision, input_key=\"logits\", topk=(1, 3, 10)),\n",
        "        \"recall\": MetricCallback(recall, input_key=\"logits\", topk=(1, 3, 10)),\n",
        "        \"ndcg\": MetricCallback(ndcg, input_key=\"logits\", topk=(1, 3, 10)),\n",
        "        \"map\": MetricCallback(mnap, input_key=\"logits\", topk=(1, 3, 10)),\n",
        "        \"logger\": LoggerCallback(),\n",
        "    },\n",
        "    target_threshold=3.0,\n",
        "    device=device,\n",
        ")\n",
        "runner_.run(explicit_small_datasets)"
      ],
      "metadata": {
        "colab": {
          "base_uri": "https://localhost:8080/"
        },
        "id": "TbwKVHD6Yjx9",
        "outputId": "3df6a3fe-7ded-44c5-b1c1-599b3ff2f5b5"
      },
      "id": "TbwKVHD6Yjx9",
      "execution_count": null,
      "outputs": [
        {
          "output_type": "stream",
          "name": "stdout",
          "text": [
            "--- 186.06598281860352 seconds svd computation---\n"
          ]
        },
        {
          "output_type": "stream",
          "name": "stderr",
          "text": [
            "Iterating train: 100%|██████████| 10/10 [01:40<00:00, 10.09s/it]\n"
          ]
        },
        {
          "output_type": "stream",
          "name": "stdout",
          "text": [
            "Train metrics:\n",
            "mnap@1       | 0.9843\n",
            "mnap@3       | 0.9843\n",
            "mnap@10      | 0.9843\n",
            "ndcg@1       | 0.9843\n",
            "ndcg@3       | 0.9843\n",
            "ndcg@10      | 0.9843\n",
            "recall@1     | 0.0981\n",
            "recall@3     | 0.2327\n",
            "recall@10    | 0.5120\n",
            "precision@1  | 0.9843\n",
            "precision@3  | 0.9611\n",
            "precision@10 | 0.8723\n"
          ]
        },
        {
          "output_type": "stream",
          "name": "stderr",
          "text": [
            "Iterating valid: 100%|██████████| 1/1 [00:03<00:00,  3.53s/it]"
          ]
        },
        {
          "output_type": "stream",
          "name": "stdout",
          "text": [
            "Valid metrics:\n",
            "mnap@1       | 0.0000\n",
            "mnap@3       | 0.0000\n",
            "mnap@10      | 0.0000\n",
            "ndcg@1       | 0.0000\n",
            "ndcg@3       | 0.0000\n",
            "ndcg@10      | 0.0000\n",
            "recall@1     | 0.0000\n",
            "recall@3     | 0.0000\n",
            "recall@10    | 0.0000\n",
            "precision@1  | 0.0000\n",
            "precision@3  | 0.0000\n",
            "precision@10 | 0.0000\n"
          ]
        },
        {
          "output_type": "stream",
          "name": "stderr",
          "text": [
            "\n"
          ]
        }
      ]
    },
    {
      "cell_type": "code",
      "source": [
        "runner_ = SparseRunner(\n",
        "    model=TopPopularModel(),\n",
        "    batch_size=512,\n",
        "    callbacks={\n",
        "        \"precision\": MetricCallback(precision, input_key=\"logits\", topk=(1, 3, 10)),\n",
        "        \"recall\": MetricCallback(recall, input_key=\"logits\", topk=(1, 3, 10)),\n",
        "        \"ndcg\": MetricCallback(ndcg, input_key=\"logits\", topk=(1, 3, 10)),\n",
        "        \"map\": MetricCallback(mnap, input_key=\"logits\", topk=(1, 3, 10)),\n",
        "        \"logger\": LoggerCallback(),\n",
        "    },\n",
        "    target_threshold=3.0,\n",
        "    device=device,\n",
        ")\n",
        "runner_.run(explicit_small_datasets)"
      ],
      "metadata": {
        "colab": {
          "base_uri": "https://localhost:8080/"
        },
        "id": "MnvdRDYobWFL",
        "outputId": "38ad0f61-e275-4813-cd0c-02f557769e41"
      },
      "id": "MnvdRDYobWFL",
      "execution_count": null,
      "outputs": [
        {
          "output_type": "stream",
          "name": "stderr",
          "text": [
            "Iterating train: 100%|██████████| 10/10 [00:40<00:00,  4.07s/it]\n"
          ]
        },
        {
          "output_type": "stream",
          "name": "stdout",
          "text": [
            "Train metrics:\n",
            "mnap@1       | 0.3971\n",
            "mnap@3       | 0.3214\n",
            "mnap@10      | 0.2085\n",
            "ndcg@1       | 0.3971\n",
            "ndcg@3       | 0.3842\n",
            "ndcg@10      | 0.3181\n",
            "recall@1     | 0.0150\n",
            "recall@3     | 0.0439\n",
            "recall@10    | 0.0953\n",
            "precision@1  | 0.3971\n",
            "precision@3  | 0.3771\n",
            "precision@10 | 0.2835\n"
          ]
        },
        {
          "output_type": "stream",
          "name": "stderr",
          "text": [
            "Iterating valid: 100%|██████████| 1/1 [00:02<00:00,  2.04s/it]"
          ]
        },
        {
          "output_type": "stream",
          "name": "stdout",
          "text": [
            "Valid metrics:\n",
            "mnap@1       | 0.0000\n",
            "mnap@3       | 0.0000\n",
            "mnap@10      | 0.0000\n",
            "ndcg@1       | 0.0000\n",
            "ndcg@3       | 0.0000\n",
            "ndcg@10      | 0.0000\n",
            "recall@1     | 0.0000\n",
            "recall@3     | 0.0000\n",
            "recall@10    | 0.0000\n",
            "precision@1  | 0.0000\n",
            "precision@3  | 0.0000\n",
            "precision@10 | 0.0000\n"
          ]
        },
        {
          "output_type": "stream",
          "name": "stderr",
          "text": [
            "\n"
          ]
        }
      ]
    },
    {
      "cell_type": "code",
      "source": [
        "# error = []\n",
        "# reconstr = []\n",
        "# true_mat = []\n",
        "\n",
        "explic_minus5, explic_removed_minus5 = remove_users(explicit_filtered_ratings, n = 47537 - 5000 + 5)\n",
        "ts_split = {\n",
        "    \"explicit\": explic_minus5[\"timestamp\"].max()\n",
        "    - pd.Timedelta(165, \"days\"),\n",
        "}\n",
        "dtsets_minus5 = {}\n",
        "for key, dataset in (\n",
        "    (\"explicit\", explic_minus5),\n",
        "):\n",
        "    dtsets_minus5[key] = {\n",
        "        \"train\": dataset.loc[dataset[\"timestamp\"] <= ts_split[key]],\n",
        "        \"valid\": dataset.loc[dataset[\"timestamp\"] > ts_split[key]],\n",
        "    }\n",
        "    dtsets_minus5[key][\"valid\"] = dtsets_minus5[key][\"valid\"].loc[\n",
        "        dtsets_minus5[key][\"valid\"].user.isin(dtsets_minus5[key][\"train\"].user.unique())\n",
        "    ]\n",
        "\n",
        "explici_minus5 = build_sparse_datasets(\n",
        "  **dtsets_minus5[\"explicit\"], binary=False\n",
        ")\n",
        "\n",
        "runner_ = SparseRunner(model=Built_in_SvdModel(), batch_size=512, device=device)\n",
        "print('Built-in on minus 5 users')\n",
        "runner_.run(explici_minus5)\n",
        "modl = runner_.model\n",
        "\n",
        "for u in range(1, 6):\n",
        "  print('u = ', u)\n",
        "  users = 5000\n",
        "  explic, explic_removed = remove_users(explicit_filtered_ratings, n = 47537 - users + 5 - u)\n",
        "  ts_split = {\n",
        "      \"explicit\": explic[\"timestamp\"].max()\n",
        "      - pd.Timedelta(165, \"days\"),\n",
        "  }\n",
        "  dtsets = {}\n",
        "  for key, dataset in (\n",
        "      (\"explicit\", explic),\n",
        "  ):\n",
        "      dtsets[key] = {\n",
        "          \"train\": dataset.loc[dataset[\"timestamp\"] <= ts_split[key]],\n",
        "          \"valid\": dataset.loc[dataset[\"timestamp\"] > ts_split[key]],\n",
        "      }\n",
        "      dtsets[key][\"valid\"] = dtsets[key][\"valid\"].loc[\n",
        "          dtsets[key][\"valid\"].user.isin(dtsets[key][\"train\"].user.unique())\n",
        "      ]\n",
        "\n",
        "  explici = build_sparse_datasets(\n",
        "    **dtsets[\"explicit\"], binary=False\n",
        "  )\n",
        "\n",
        "  runner = SparseRunner(\n",
        "    model=Rank_one_SvdModel(runner_.model),\n",
        "    batch_size=512,\n",
        "    callbacks={\n",
        "        \"precision\": MetricCallback(precision, input_key=\"logits\", topk=(1, 3, 10)),\n",
        "        \"recall\": MetricCallback(recall, input_key=\"logits\", topk=(1, 3, 10)),\n",
        "        \"ndcg\": MetricCallback(ndcg, input_key=\"logits\", topk=(1, 3, 10)),\n",
        "        \"map\": MetricCallback(mnap, input_key=\"logits\", topk=(1, 3, 10)),\n",
        "        \"logger\": LoggerCallback(),\n",
        "    },\n",
        "    target_threshold=3.0,\n",
        "    device=device,\n",
        ")\n",
        "  print('Updating SVD')\n",
        "  runner.run(explici)\n",
        "  U_updated, S_updated, Vh_updated = runner.model.svd\n",
        "  reconstr.append(U_updated @ np.diag(S_updated) @ Vh_updated)\n",
        "  modl = runner.model\n",
        "\n",
        "  runner = SparseRunner(model=Built_in_SvdModel(), batch_size=512, device=device)\n",
        "  runner.run(explici)\n",
        "  print('Recomputing SVD')\n",
        "  runner.run(explici)\n",
        "  U, S, Vh = runner.model.svd\n",
        "  true_mat.append(U @ np.diag(S) @ Vh)\n",
        "\n",
        "  # difference = true_mat[u - 1] - reconstr[u - 1]\n",
        "  # frobenius_norm = np.linalg.norm(difference, 'fro')\n",
        "  # print('Error:' + str(frobenius_norm))\n",
        "  # error.append(frobenius_norm)"
      ],
      "metadata": {
        "colab": {
          "base_uri": "https://localhost:8080/"
        },
        "id": "gAUkWkQJsLmF",
        "outputId": "eca2c371-c74a-44c2-88df-89d3ad2430a4"
      },
      "id": "gAUkWkQJsLmF",
      "execution_count": null,
      "outputs": [
        {
          "output_type": "stream",
          "name": "stdout",
          "text": [
            "Built-in on minus 5 users\n",
            "--- 179.72671723365784 seconds svd computation---\n"
          ]
        },
        {
          "output_type": "stream",
          "name": "stderr",
          "text": [
            "Iterating train: 100%|██████████| 10/10 [00:13<00:00,  1.32s/it]\n",
            "Iterating valid: 100%|██████████| 1/1 [00:00<00:00,  1.20it/s]\n"
          ]
        },
        {
          "output_type": "stream",
          "name": "stdout",
          "text": [
            "u =  1\n",
            "Updating SVD\n",
            "--- 46.365488052368164 seconds svd computation---\n"
          ]
        },
        {
          "output_type": "stream",
          "name": "stderr",
          "text": [
            "Iterating train: 100%|██████████| 10/10 [01:40<00:00, 10.10s/it]\n"
          ]
        },
        {
          "output_type": "stream",
          "name": "stdout",
          "text": [
            "Train metrics:\n",
            "mnap@1       | 0.9843\n",
            "mnap@3       | 0.9843\n",
            "mnap@10      | 0.9843\n",
            "ndcg@1       | 0.9843\n",
            "ndcg@3       | 0.9843\n",
            "ndcg@10      | 0.9843\n",
            "recall@1     | 0.0982\n",
            "recall@3     | 0.2326\n",
            "recall@10    | 0.5115\n",
            "precision@1  | 0.9843\n",
            "precision@3  | 0.9610\n",
            "precision@10 | 0.8725\n"
          ]
        },
        {
          "output_type": "stream",
          "name": "stderr",
          "text": [
            "Iterating valid: 100%|██████████| 1/1 [00:03<00:00,  3.72s/it]\n"
          ]
        },
        {
          "output_type": "stream",
          "name": "stdout",
          "text": [
            "Valid metrics:\n",
            "mnap@1       | 0.0000\n",
            "mnap@3       | 0.0000\n",
            "mnap@10      | 0.0000\n",
            "ndcg@1       | 0.0000\n",
            "ndcg@3       | 0.0000\n",
            "ndcg@10      | 0.0000\n",
            "recall@1     | 0.0000\n",
            "recall@3     | 0.0000\n",
            "recall@10    | 0.0000\n",
            "precision@1  | 0.0000\n",
            "precision@3  | 0.0000\n",
            "precision@10 | 0.0000\n"
          ]
        }
      ]
    },
    {
      "cell_type": "code",
      "source": [],
      "metadata": {
        "id": "ALe2Zn_oBF7E"
      },
      "id": "ALe2Zn_oBF7E",
      "execution_count": null,
      "outputs": []
    }
  ],
  "metadata": {
    "colab": {
      "provenance": [],
      "toc_visible": true
    },
    "kernelspec": {
      "display_name": "Python 3",
      "name": "python3"
    },
    "language_info": {
      "codemirror_mode": {
        "name": "ipython",
        "version": 3
      },
      "file_extension": ".py",
      "mimetype": "text/x-python",
      "name": "python",
      "nbconvert_exporter": "python",
      "pygments_lexer": "ipython3",
      "version": "3.10.10"
    },
    "vscode": {
      "interpreter": {
        "hash": "c67d7bf21513af7965fc177235d47b067af53473a91c971089237c6aa21091ef"
      }
    }
  },
  "nbformat": 4,
  "nbformat_minor": 5
}